{
 "cells": [
  {
   "cell_type": "markdown",
   "metadata": {},
   "source": [
    "## Emissions by Country ETL"
   ]
  },
  {
   "cell_type": "markdown",
   "metadata": {},
   "source": [
    "This dataset provides information on global fossil CO2 emissions by country from 2002-2022. It gives us a better understanding of how much a country contributes to global warming and climate change in general. The first thing we did was extract this dataset from https://www.kaggle.com/datasets/thedevastator/global-fossil-co2-emissions-by-country-2002-2022 which was in csv format. "
   ]
  },
  {
   "cell_type": "code",
   "execution_count": 1,
   "metadata": {},
   "outputs": [],
   "source": [
    "import requests\n",
    "from bs4 import BeautifulSoup\n",
    "import json\n",
    "import pandas as pd\n",
    "import matplotlib.pyplot as plt\n",
    "import seaborn as sns"
   ]
  },
  {
   "cell_type": "code",
   "execution_count": null,
   "metadata": {},
   "outputs": [],
   "source": [
    "from azure.storage.blob import BlobClient\n",
    "\n",
    "from config import account\n",
    "from config import container\n",
    "from config import credential\n",
    "\n",
    "blob = BlobClient(account_url=f\"https://{account}.blob.core.windows.net\",\n",
    "                  container_name=container,\n",
    "                  blob_name=\"GCB2022v27_MtCO2_flat.csv\",\n",
    "                  credential=credential)\n",
    "\n",
    "\n",
    "with open(\"energy.csv\", \"wb\") as f:\n",
    "    data = blob.download_blob()\n",
    "    data.readinto(f)"
   ]
  },
  {
   "cell_type": "code",
   "execution_count": 2,
   "metadata": {},
   "outputs": [],
   "source": [
    "pd.set_option('display.max_columns', None)\n",
    "pd.set_option('display.max_rows', None)"
   ]
  },
  {
   "cell_type": "code",
   "execution_count": 3,
   "metadata": {},
   "outputs": [],
   "source": [
    "emissions = pd.read_csv('GCB2022v27_MtCO2_flat.csv')"
   ]
  },
  {
   "cell_type": "markdown",
   "metadata": {},
   "source": [
    "We imported all the necessary packages to create new data frame structures and make visualizations. We also used the display max for columns and rows to get the full amount of rows and columns. Below we looked at the data frame and noticed a lot of missing values."
   ]
  },
  {
   "cell_type": "code",
   "execution_count": 4,
   "metadata": {
    "scrolled": true
   },
   "outputs": [
    {
     "data": {
      "text/html": [
       "<div>\n",
       "<style scoped>\n",
       "    .dataframe tbody tr th:only-of-type {\n",
       "        vertical-align: middle;\n",
       "    }\n",
       "\n",
       "    .dataframe tbody tr th {\n",
       "        vertical-align: top;\n",
       "    }\n",
       "\n",
       "    .dataframe thead th {\n",
       "        text-align: right;\n",
       "    }\n",
       "</style>\n",
       "<table border=\"1\" class=\"dataframe\">\n",
       "  <thead>\n",
       "    <tr style=\"text-align: right;\">\n",
       "      <th></th>\n",
       "      <th>Country</th>\n",
       "      <th>ISO 3166-1 alpha-3</th>\n",
       "      <th>Year</th>\n",
       "      <th>Total</th>\n",
       "      <th>Coal</th>\n",
       "      <th>Oil</th>\n",
       "      <th>Gas</th>\n",
       "      <th>Cement</th>\n",
       "      <th>Flaring</th>\n",
       "      <th>Other</th>\n",
       "      <th>Per Capita</th>\n",
       "    </tr>\n",
       "  </thead>\n",
       "  <tbody>\n",
       "    <tr>\n",
       "      <th>0</th>\n",
       "      <td>Afghanistan</td>\n",
       "      <td>AFG</td>\n",
       "      <td>1750</td>\n",
       "      <td>0.0</td>\n",
       "      <td>NaN</td>\n",
       "      <td>NaN</td>\n",
       "      <td>NaN</td>\n",
       "      <td>NaN</td>\n",
       "      <td>NaN</td>\n",
       "      <td>NaN</td>\n",
       "      <td>NaN</td>\n",
       "    </tr>\n",
       "    <tr>\n",
       "      <th>1</th>\n",
       "      <td>Afghanistan</td>\n",
       "      <td>AFG</td>\n",
       "      <td>1751</td>\n",
       "      <td>0.0</td>\n",
       "      <td>NaN</td>\n",
       "      <td>NaN</td>\n",
       "      <td>NaN</td>\n",
       "      <td>NaN</td>\n",
       "      <td>NaN</td>\n",
       "      <td>NaN</td>\n",
       "      <td>NaN</td>\n",
       "    </tr>\n",
       "    <tr>\n",
       "      <th>2</th>\n",
       "      <td>Afghanistan</td>\n",
       "      <td>AFG</td>\n",
       "      <td>1752</td>\n",
       "      <td>0.0</td>\n",
       "      <td>NaN</td>\n",
       "      <td>NaN</td>\n",
       "      <td>NaN</td>\n",
       "      <td>NaN</td>\n",
       "      <td>NaN</td>\n",
       "      <td>NaN</td>\n",
       "      <td>NaN</td>\n",
       "    </tr>\n",
       "    <tr>\n",
       "      <th>3</th>\n",
       "      <td>Afghanistan</td>\n",
       "      <td>AFG</td>\n",
       "      <td>1753</td>\n",
       "      <td>0.0</td>\n",
       "      <td>NaN</td>\n",
       "      <td>NaN</td>\n",
       "      <td>NaN</td>\n",
       "      <td>NaN</td>\n",
       "      <td>NaN</td>\n",
       "      <td>NaN</td>\n",
       "      <td>NaN</td>\n",
       "    </tr>\n",
       "    <tr>\n",
       "      <th>4</th>\n",
       "      <td>Afghanistan</td>\n",
       "      <td>AFG</td>\n",
       "      <td>1754</td>\n",
       "      <td>0.0</td>\n",
       "      <td>NaN</td>\n",
       "      <td>NaN</td>\n",
       "      <td>NaN</td>\n",
       "      <td>NaN</td>\n",
       "      <td>NaN</td>\n",
       "      <td>NaN</td>\n",
       "      <td>NaN</td>\n",
       "    </tr>\n",
       "  </tbody>\n",
       "</table>\n",
       "</div>"
      ],
      "text/plain": [
       "       Country ISO 3166-1 alpha-3  Year  Total  Coal  Oil  Gas  Cement  \\\n",
       "0  Afghanistan                AFG  1750    0.0   NaN  NaN  NaN     NaN   \n",
       "1  Afghanistan                AFG  1751    0.0   NaN  NaN  NaN     NaN   \n",
       "2  Afghanistan                AFG  1752    0.0   NaN  NaN  NaN     NaN   \n",
       "3  Afghanistan                AFG  1753    0.0   NaN  NaN  NaN     NaN   \n",
       "4  Afghanistan                AFG  1754    0.0   NaN  NaN  NaN     NaN   \n",
       "\n",
       "   Flaring  Other  Per Capita  \n",
       "0      NaN    NaN         NaN  \n",
       "1      NaN    NaN         NaN  \n",
       "2      NaN    NaN         NaN  \n",
       "3      NaN    NaN         NaN  \n",
       "4      NaN    NaN         NaN  "
      ]
     },
     "execution_count": 4,
     "metadata": {},
     "output_type": "execute_result"
    }
   ],
   "source": [
    "emissions.head()"
   ]
  },
  {
   "cell_type": "markdown",
   "metadata": {},
   "source": [
    "After noticing the missing values, we wanted to see how many columns had missing values. Turns out most of the columns had missing values which we can address later, but our main focus was making sure the iso column had no missing values. The iso column was the abbreviated countries and if not changed it could cause problems later on. "
   ]
  },
  {
   "cell_type": "code",
   "execution_count": 5,
   "metadata": {
    "scrolled": true
   },
   "outputs": [
    {
     "data": {
      "text/plain": [
       "Country               False\n",
       "ISO 3166-1 alpha-3     True\n",
       "Year                  False\n",
       "Total                  True\n",
       "Coal                   True\n",
       "Oil                    True\n",
       "Gas                    True\n",
       "Cement                 True\n",
       "Flaring                True\n",
       "Other                  True\n",
       "Per Capita             True\n",
       "dtype: bool"
      ]
     },
     "execution_count": 5,
     "metadata": {},
     "output_type": "execute_result"
    }
   ],
   "source": [
    "emissions.isna().any()"
   ]
  },
  {
   "cell_type": "markdown",
   "metadata": {},
   "source": [
    "We then looked at the countries with missing values in the iso column and we looked at the unique values in the cell below since the countries are repeated due to the different years. We decided to drop the six unique countries with missing values, then we filled the na values with zero instead of keeping them as nan. It also would not benefit us to drop those columns because a lot of data would be lost."
   ]
  },
  {
   "cell_type": "code",
   "execution_count": 6,
   "metadata": {},
   "outputs": [
    {
     "data": {
      "text/html": [
       "<div>\n",
       "<style scoped>\n",
       "    .dataframe tbody tr th:only-of-type {\n",
       "        vertical-align: middle;\n",
       "    }\n",
       "\n",
       "    .dataframe tbody tr th {\n",
       "        vertical-align: top;\n",
       "    }\n",
       "\n",
       "    .dataframe thead th {\n",
       "        text-align: right;\n",
       "    }\n",
       "</style>\n",
       "<table border=\"1\" class=\"dataframe\">\n",
       "  <thead>\n",
       "    <tr style=\"text-align: right;\">\n",
       "      <th></th>\n",
       "      <th>Country</th>\n",
       "      <th>ISO 3166-1 alpha-3</th>\n",
       "      <th>Year</th>\n",
       "      <th>Total</th>\n",
       "      <th>Coal</th>\n",
       "      <th>Oil</th>\n",
       "      <th>Gas</th>\n",
       "      <th>Cement</th>\n",
       "      <th>Flaring</th>\n",
       "      <th>Other</th>\n",
       "      <th>Per Capita</th>\n",
       "    </tr>\n",
       "  </thead>\n",
       "  <tbody>\n",
       "    <tr>\n",
       "      <th>19312</th>\n",
       "      <td>French Equatorial Africa</td>\n",
       "      <td>NaN</td>\n",
       "      <td>1750</td>\n",
       "      <td>0.0</td>\n",
       "      <td>NaN</td>\n",
       "      <td>NaN</td>\n",
       "      <td>NaN</td>\n",
       "      <td>NaN</td>\n",
       "      <td>NaN</td>\n",
       "      <td>NaN</td>\n",
       "      <td>NaN</td>\n",
       "    </tr>\n",
       "    <tr>\n",
       "      <th>19313</th>\n",
       "      <td>French Equatorial Africa</td>\n",
       "      <td>NaN</td>\n",
       "      <td>1751</td>\n",
       "      <td>0.0</td>\n",
       "      <td>NaN</td>\n",
       "      <td>NaN</td>\n",
       "      <td>NaN</td>\n",
       "      <td>NaN</td>\n",
       "      <td>NaN</td>\n",
       "      <td>NaN</td>\n",
       "      <td>NaN</td>\n",
       "    </tr>\n",
       "    <tr>\n",
       "      <th>19314</th>\n",
       "      <td>French Equatorial Africa</td>\n",
       "      <td>NaN</td>\n",
       "      <td>1752</td>\n",
       "      <td>0.0</td>\n",
       "      <td>NaN</td>\n",
       "      <td>NaN</td>\n",
       "      <td>NaN</td>\n",
       "      <td>NaN</td>\n",
       "      <td>NaN</td>\n",
       "      <td>NaN</td>\n",
       "      <td>NaN</td>\n",
       "    </tr>\n",
       "    <tr>\n",
       "      <th>19315</th>\n",
       "      <td>French Equatorial Africa</td>\n",
       "      <td>NaN</td>\n",
       "      <td>1753</td>\n",
       "      <td>0.0</td>\n",
       "      <td>NaN</td>\n",
       "      <td>NaN</td>\n",
       "      <td>NaN</td>\n",
       "      <td>NaN</td>\n",
       "      <td>NaN</td>\n",
       "      <td>NaN</td>\n",
       "      <td>NaN</td>\n",
       "    </tr>\n",
       "    <tr>\n",
       "      <th>19316</th>\n",
       "      <td>French Equatorial Africa</td>\n",
       "      <td>NaN</td>\n",
       "      <td>1754</td>\n",
       "      <td>0.0</td>\n",
       "      <td>NaN</td>\n",
       "      <td>NaN</td>\n",
       "      <td>NaN</td>\n",
       "      <td>NaN</td>\n",
       "      <td>NaN</td>\n",
       "      <td>NaN</td>\n",
       "      <td>NaN</td>\n",
       "    </tr>\n",
       "  </tbody>\n",
       "</table>\n",
       "</div>"
      ],
      "text/plain": [
       "                        Country ISO 3166-1 alpha-3  Year  Total  Coal  Oil  \\\n",
       "19312  French Equatorial Africa                NaN  1750    0.0   NaN  NaN   \n",
       "19313  French Equatorial Africa                NaN  1751    0.0   NaN  NaN   \n",
       "19314  French Equatorial Africa                NaN  1752    0.0   NaN  NaN   \n",
       "19315  French Equatorial Africa                NaN  1753    0.0   NaN  NaN   \n",
       "19316  French Equatorial Africa                NaN  1754    0.0   NaN  NaN   \n",
       "\n",
       "       Gas  Cement  Flaring  Other  Per Capita  \n",
       "19312  NaN     NaN      NaN    NaN         NaN  \n",
       "19313  NaN     NaN      NaN    NaN         NaN  \n",
       "19314  NaN     NaN      NaN    NaN         NaN  \n",
       "19315  NaN     NaN      NaN    NaN         NaN  \n",
       "19316  NaN     NaN      NaN    NaN         NaN  "
      ]
     },
     "execution_count": 6,
     "metadata": {},
     "output_type": "execute_result"
    }
   ],
   "source": [
    "#check for the countries with missing data\n",
    "emissions[emissions['ISO 3166-1 alpha-3'].isna()== True].head()"
   ]
  },
  {
   "cell_type": "code",
   "execution_count": 7,
   "metadata": {},
   "outputs": [
    {
     "data": {
      "text/plain": [
       "array(['French Equatorial Africa', 'French West Africa',\n",
       "       'Kuwaiti Oil Fires', 'Leeward Islands', 'Pacific Islands (Palau)',\n",
       "       'Ryukyu Islands'], dtype=object)"
      ]
     },
     "execution_count": 7,
     "metadata": {},
     "output_type": "execute_result"
    }
   ],
   "source": [
    "countries = (emissions[emissions['ISO 3166-1 alpha-3'].isna()==True]['Country'].unique())\n",
    "countries "
   ]
  },
  {
   "cell_type": "code",
   "execution_count": 8,
   "metadata": {},
   "outputs": [],
   "source": [
    "emissions = emissions[~emissions['Country'].isin(countries)]"
   ]
  },
  {
   "cell_type": "code",
   "execution_count": 10,
   "metadata": {},
   "outputs": [],
   "source": [
    "emissions.fillna(0, inplace=True)"
   ]
  },
  {
   "cell_type": "code",
   "execution_count": 11,
   "metadata": {},
   "outputs": [
    {
     "data": {
      "text/plain": [
       "Country               0\n",
       "ISO 3166-1 alpha-3    0\n",
       "Year                  0\n",
       "Total                 0\n",
       "Coal                  0\n",
       "Oil                   0\n",
       "Gas                   0\n",
       "Cement                0\n",
       "Flaring               0\n",
       "Other                 0\n",
       "Per Capita            0\n",
       "dtype: int64"
      ]
     },
     "execution_count": 11,
     "metadata": {},
     "output_type": "execute_result"
    }
   ],
   "source": [
    "#looked for missing data again and can see it is severely reduced\n",
    "emissions.isna().sum()"
   ]
  },
  {
   "cell_type": "markdown",
   "metadata": {},
   "source": [
    "For the next few cells below we wanted to see what our new dataframe looked like and what analysis we could get out of it."
   ]
  },
  {
   "cell_type": "code",
   "execution_count": 12,
   "metadata": {},
   "outputs": [
    {
     "data": {
      "text/html": [
       "<div>\n",
       "<style scoped>\n",
       "    .dataframe tbody tr th:only-of-type {\n",
       "        vertical-align: middle;\n",
       "    }\n",
       "\n",
       "    .dataframe tbody tr th {\n",
       "        vertical-align: top;\n",
       "    }\n",
       "\n",
       "    .dataframe thead th {\n",
       "        text-align: right;\n",
       "    }\n",
       "</style>\n",
       "<table border=\"1\" class=\"dataframe\">\n",
       "  <thead>\n",
       "    <tr style=\"text-align: right;\">\n",
       "      <th></th>\n",
       "      <th>Year</th>\n",
       "      <th>Total</th>\n",
       "      <th>Coal</th>\n",
       "      <th>Oil</th>\n",
       "      <th>Gas</th>\n",
       "      <th>Cement</th>\n",
       "      <th>Flaring</th>\n",
       "      <th>Other</th>\n",
       "      <th>Per Capita</th>\n",
       "    </tr>\n",
       "  </thead>\n",
       "  <tbody>\n",
       "    <tr>\n",
       "      <th>count</th>\n",
       "      <td>61472.000000</td>\n",
       "      <td>61472.000000</td>\n",
       "      <td>61472.000000</td>\n",
       "      <td>61472.000000</td>\n",
       "      <td>61472.000000</td>\n",
       "      <td>61472.000000</td>\n",
       "      <td>61472.000000</td>\n",
       "      <td>61472.000000</td>\n",
       "      <td>61472.000000</td>\n",
       "    </tr>\n",
       "    <tr>\n",
       "      <th>mean</th>\n",
       "      <td>1885.500000</td>\n",
       "      <td>56.502866</td>\n",
       "      <td>26.164406</td>\n",
       "      <td>19.691362</td>\n",
       "      <td>8.265806</td>\n",
       "      <td>1.466239</td>\n",
       "      <td>0.599976</td>\n",
       "      <td>0.288607</td>\n",
       "      <td>1.360931</td>\n",
       "    </tr>\n",
       "    <tr>\n",
       "      <th>std</th>\n",
       "      <td>78.519745</td>\n",
       "      <td>834.352507</td>\n",
       "      <td>357.990683</td>\n",
       "      <td>309.641471</td>\n",
       "      <td>147.301985</td>\n",
       "      <td>29.343489</td>\n",
       "      <td>9.936814</td>\n",
       "      <td>6.573200</td>\n",
       "      <td>9.897285</td>\n",
       "    </tr>\n",
       "    <tr>\n",
       "      <th>min</th>\n",
       "      <td>1750.000000</td>\n",
       "      <td>0.000000</td>\n",
       "      <td>0.000000</td>\n",
       "      <td>0.000000</td>\n",
       "      <td>0.000000</td>\n",
       "      <td>0.000000</td>\n",
       "      <td>0.000000</td>\n",
       "      <td>0.000000</td>\n",
       "      <td>0.000000</td>\n",
       "    </tr>\n",
       "    <tr>\n",
       "      <th>25%</th>\n",
       "      <td>1817.750000</td>\n",
       "      <td>0.000000</td>\n",
       "      <td>0.000000</td>\n",
       "      <td>0.000000</td>\n",
       "      <td>0.000000</td>\n",
       "      <td>0.000000</td>\n",
       "      <td>0.000000</td>\n",
       "      <td>0.000000</td>\n",
       "      <td>0.000000</td>\n",
       "    </tr>\n",
       "    <tr>\n",
       "      <th>50%</th>\n",
       "      <td>1885.500000</td>\n",
       "      <td>0.000000</td>\n",
       "      <td>0.000000</td>\n",
       "      <td>0.000000</td>\n",
       "      <td>0.000000</td>\n",
       "      <td>0.000000</td>\n",
       "      <td>0.000000</td>\n",
       "      <td>0.000000</td>\n",
       "      <td>0.000000</td>\n",
       "    </tr>\n",
       "    <tr>\n",
       "      <th>75%</th>\n",
       "      <td>1953.250000</td>\n",
       "      <td>0.626498</td>\n",
       "      <td>0.000000</td>\n",
       "      <td>0.153888</td>\n",
       "      <td>0.000000</td>\n",
       "      <td>0.000000</td>\n",
       "      <td>0.000000</td>\n",
       "      <td>0.000000</td>\n",
       "      <td>0.103928</td>\n",
       "    </tr>\n",
       "    <tr>\n",
       "      <th>max</th>\n",
       "      <td>2021.000000</td>\n",
       "      <td>37123.850352</td>\n",
       "      <td>15051.512770</td>\n",
       "      <td>12345.653374</td>\n",
       "      <td>7921.829472</td>\n",
       "      <td>1672.592372</td>\n",
       "      <td>439.253991</td>\n",
       "      <td>306.638573</td>\n",
       "      <td>834.192642</td>\n",
       "    </tr>\n",
       "  </tbody>\n",
       "</table>\n",
       "</div>"
      ],
      "text/plain": [
       "               Year         Total          Coal           Oil           Gas  \\\n",
       "count  61472.000000  61472.000000  61472.000000  61472.000000  61472.000000   \n",
       "mean    1885.500000     56.502866     26.164406     19.691362      8.265806   \n",
       "std       78.519745    834.352507    357.990683    309.641471    147.301985   \n",
       "min     1750.000000      0.000000      0.000000      0.000000      0.000000   \n",
       "25%     1817.750000      0.000000      0.000000      0.000000      0.000000   \n",
       "50%     1885.500000      0.000000      0.000000      0.000000      0.000000   \n",
       "75%     1953.250000      0.626498      0.000000      0.153888      0.000000   \n",
       "max     2021.000000  37123.850352  15051.512770  12345.653374   7921.829472   \n",
       "\n",
       "             Cement       Flaring         Other    Per Capita  \n",
       "count  61472.000000  61472.000000  61472.000000  61472.000000  \n",
       "mean       1.466239      0.599976      0.288607      1.360931  \n",
       "std       29.343489      9.936814      6.573200      9.897285  \n",
       "min        0.000000      0.000000      0.000000      0.000000  \n",
       "25%        0.000000      0.000000      0.000000      0.000000  \n",
       "50%        0.000000      0.000000      0.000000      0.000000  \n",
       "75%        0.000000      0.000000      0.000000      0.103928  \n",
       "max     1672.592372    439.253991    306.638573    834.192642  "
      ]
     },
     "execution_count": 12,
     "metadata": {},
     "output_type": "execute_result"
    }
   ],
   "source": [
    "emissions.describe()"
   ]
  },
  {
   "cell_type": "code",
   "execution_count": null,
   "metadata": {},
   "outputs": [],
   "source": []
  }
 ],
 "metadata": {
  "kernelspec": {
   "display_name": "Python 3 (ipykernel)",
   "language": "python",
   "name": "python3"
  },
  "language_info": {
   "codemirror_mode": {
    "name": "ipython",
    "version": 3
   },
   "file_extension": ".py",
   "mimetype": "text/x-python",
   "name": "python",
   "nbconvert_exporter": "python",
   "pygments_lexer": "ipython3",
   "version": "3.9.0 (tags/v3.9.0:9cf6752, Oct  5 2020, 15:34:40) [MSC v.1927 64 bit (AMD64)]"
  },
  "vscode": {
   "interpreter": {
    "hash": "3f84a285eeb1cf0d39cdf4b10a2ba0105220014ed7847c46e66da973a645b143"
   }
  }
 },
 "nbformat": 4,
 "nbformat_minor": 2
}
