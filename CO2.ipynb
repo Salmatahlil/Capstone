{
 "cells": [
  {
   "cell_type": "code",
   "execution_count": 1465,
   "metadata": {},
   "outputs": [],
   "source": [
    "import pandas as pd\n",
    "import json\n",
    "import numpy as np\n",
    "import plotly.express as px\n",
    "import matplotlib.pyplot as plt\n",
    "import seaborn as sns"
   ]
  },
  {
   "attachments": {},
   "cell_type": "markdown",
   "metadata": {},
   "source": [
    "## CLEANING DATA"
   ]
  },
  {
   "cell_type": "code",
   "execution_count": 1466,
   "metadata": {},
   "outputs": [],
   "source": [
    "# Load the data into a pandas DataFrame\n",
    "energy = pd.read_csv('CO2/energy.csv')"
   ]
  },
  {
   "cell_type": "code",
   "execution_count": 1467,
   "metadata": {},
   "outputs": [
    {
     "data": {
      "text/html": [
       "<div>\n",
       "<style scoped>\n",
       "    .dataframe tbody tr th:only-of-type {\n",
       "        vertical-align: middle;\n",
       "    }\n",
       "\n",
       "    .dataframe tbody tr th {\n",
       "        vertical-align: top;\n",
       "    }\n",
       "\n",
       "    .dataframe thead th {\n",
       "        text-align: right;\n",
       "    }\n",
       "</style>\n",
       "<table border=\"1\" class=\"dataframe\">\n",
       "  <thead>\n",
       "    <tr style=\"text-align: right;\">\n",
       "      <th></th>\n",
       "      <th>Unnamed: 0</th>\n",
       "      <th>Country</th>\n",
       "      <th>Energy_type</th>\n",
       "      <th>Year</th>\n",
       "      <th>Energy_consumption</th>\n",
       "      <th>Energy_production</th>\n",
       "      <th>GDP</th>\n",
       "      <th>Population</th>\n",
       "      <th>Energy_intensity_per_capita</th>\n",
       "      <th>Energy_intensity_by_GDP</th>\n",
       "      <th>CO2_emission</th>\n",
       "    </tr>\n",
       "  </thead>\n",
       "  <tbody>\n",
       "    <tr>\n",
       "      <th>0</th>\n",
       "      <td>0</td>\n",
       "      <td>World</td>\n",
       "      <td>all_energy_types</td>\n",
       "      <td>1980</td>\n",
       "      <td>292.899790</td>\n",
       "      <td>296.337228</td>\n",
       "      <td>27770.910281</td>\n",
       "      <td>4.298127e+06</td>\n",
       "      <td>68.145921</td>\n",
       "      <td>10.547</td>\n",
       "      <td>4946.627130</td>\n",
       "    </tr>\n",
       "    <tr>\n",
       "      <th>1</th>\n",
       "      <td>1</td>\n",
       "      <td>World</td>\n",
       "      <td>coal</td>\n",
       "      <td>1980</td>\n",
       "      <td>78.656134</td>\n",
       "      <td>80.114194</td>\n",
       "      <td>27770.910281</td>\n",
       "      <td>4.298127e+06</td>\n",
       "      <td>68.145921</td>\n",
       "      <td>10.547</td>\n",
       "      <td>1409.790188</td>\n",
       "    </tr>\n",
       "    <tr>\n",
       "      <th>2</th>\n",
       "      <td>2</td>\n",
       "      <td>World</td>\n",
       "      <td>natural_gas</td>\n",
       "      <td>1980</td>\n",
       "      <td>53.865223</td>\n",
       "      <td>54.761046</td>\n",
       "      <td>27770.910281</td>\n",
       "      <td>4.298127e+06</td>\n",
       "      <td>68.145921</td>\n",
       "      <td>10.547</td>\n",
       "      <td>1081.593377</td>\n",
       "    </tr>\n",
       "    <tr>\n",
       "      <th>3</th>\n",
       "      <td>3</td>\n",
       "      <td>World</td>\n",
       "      <td>petroleum_n_other_liquids</td>\n",
       "      <td>1980</td>\n",
       "      <td>132.064019</td>\n",
       "      <td>133.111109</td>\n",
       "      <td>27770.910281</td>\n",
       "      <td>4.298127e+06</td>\n",
       "      <td>68.145921</td>\n",
       "      <td>10.547</td>\n",
       "      <td>2455.243565</td>\n",
       "    </tr>\n",
       "    <tr>\n",
       "      <th>4</th>\n",
       "      <td>4</td>\n",
       "      <td>World</td>\n",
       "      <td>nuclear</td>\n",
       "      <td>1980</td>\n",
       "      <td>7.575700</td>\n",
       "      <td>7.575700</td>\n",
       "      <td>27770.910281</td>\n",
       "      <td>4.298127e+06</td>\n",
       "      <td>68.145921</td>\n",
       "      <td>10.547</td>\n",
       "      <td>0.000000</td>\n",
       "    </tr>\n",
       "  </tbody>\n",
       "</table>\n",
       "</div>"
      ],
      "text/plain": [
       "   Unnamed: 0 Country                Energy_type  Year  Energy_consumption  \\\n",
       "0           0   World           all_energy_types  1980          292.899790   \n",
       "1           1   World                       coal  1980           78.656134   \n",
       "2           2   World                natural_gas  1980           53.865223   \n",
       "3           3   World  petroleum_n_other_liquids  1980          132.064019   \n",
       "4           4   World                    nuclear  1980            7.575700   \n",
       "\n",
       "   Energy_production           GDP    Population  Energy_intensity_per_capita  \\\n",
       "0         296.337228  27770.910281  4.298127e+06                    68.145921   \n",
       "1          80.114194  27770.910281  4.298127e+06                    68.145921   \n",
       "2          54.761046  27770.910281  4.298127e+06                    68.145921   \n",
       "3         133.111109  27770.910281  4.298127e+06                    68.145921   \n",
       "4           7.575700  27770.910281  4.298127e+06                    68.145921   \n",
       "\n",
       "   Energy_intensity_by_GDP  CO2_emission  \n",
       "0                   10.547   4946.627130  \n",
       "1                   10.547   1409.790188  \n",
       "2                   10.547   1081.593377  \n",
       "3                   10.547   2455.243565  \n",
       "4                   10.547      0.000000  "
      ]
     },
     "execution_count": 1467,
     "metadata": {},
     "output_type": "execute_result"
    }
   ],
   "source": [
    "energy.head()"
   ]
  },
  {
   "cell_type": "code",
   "execution_count": 1468,
   "metadata": {},
   "outputs": [],
   "source": [
    "#Drop column\n",
    "energy = energy.drop('Unnamed: 0', axis=1)"
   ]
  },
  {
   "cell_type": "code",
   "execution_count": 1469,
   "metadata": {},
   "outputs": [
    {
     "name": "stdout",
     "output_type": "stream",
     "text": [
      "<class 'pandas.core.frame.DataFrame'>\n",
      "RangeIndex: 55440 entries, 0 to 55439\n",
      "Data columns (total 10 columns):\n",
      " #   Column                       Non-Null Count  Dtype  \n",
      "---  ------                       --------------  -----  \n",
      " 0   Country                      55440 non-null  object \n",
      " 1   Energy_type                  55440 non-null  object \n",
      " 2   Year                         55440 non-null  int64  \n",
      " 3   Energy_consumption           44287 non-null  float64\n",
      " 4   Energy_production            44289 non-null  float64\n",
      " 5   GDP                          40026 non-null  float64\n",
      " 6   Population                   46014 non-null  float64\n",
      " 7   Energy_intensity_per_capita  50358 non-null  float64\n",
      " 8   Energy_intensity_by_GDP      50358 non-null  float64\n",
      " 9   CO2_emission                 51614 non-null  float64\n",
      "dtypes: float64(7), int64(1), object(2)\n",
      "memory usage: 4.2+ MB\n"
     ]
    }
   ],
   "source": [
    "energy.info()"
   ]
  },
  {
   "cell_type": "code",
   "execution_count": 1470,
   "metadata": {},
   "outputs": [
    {
     "data": {
      "text/html": [
       "<div>\n",
       "<style scoped>\n",
       "    .dataframe tbody tr th:only-of-type {\n",
       "        vertical-align: middle;\n",
       "    }\n",
       "\n",
       "    .dataframe tbody tr th {\n",
       "        vertical-align: top;\n",
       "    }\n",
       "\n",
       "    .dataframe thead th {\n",
       "        text-align: right;\n",
       "    }\n",
       "</style>\n",
       "<table border=\"1\" class=\"dataframe\">\n",
       "  <thead>\n",
       "    <tr style=\"text-align: right;\">\n",
       "      <th></th>\n",
       "      <th>Year</th>\n",
       "      <th>Energy_consumption</th>\n",
       "      <th>Energy_production</th>\n",
       "      <th>GDP</th>\n",
       "      <th>Population</th>\n",
       "      <th>Energy_intensity_per_capita</th>\n",
       "      <th>Energy_intensity_by_GDP</th>\n",
       "      <th>CO2_emission</th>\n",
       "    </tr>\n",
       "  </thead>\n",
       "  <tbody>\n",
       "    <tr>\n",
       "      <th>count</th>\n",
       "      <td>55440.0000</td>\n",
       "      <td>44287.000000</td>\n",
       "      <td>4.428900e+04</td>\n",
       "      <td>40026.000000</td>\n",
       "      <td>4.601400e+04</td>\n",
       "      <td>50358.000000</td>\n",
       "      <td>50358.000000</td>\n",
       "      <td>51614.000000</td>\n",
       "    </tr>\n",
       "    <tr>\n",
       "      <th>mean</th>\n",
       "      <td>1999.5000</td>\n",
       "      <td>1.537811</td>\n",
       "      <td>1.532700e+00</td>\n",
       "      <td>827.144126</td>\n",
       "      <td>6.263020e+04</td>\n",
       "      <td>71.898914</td>\n",
       "      <td>3.695104</td>\n",
       "      <td>78.800082</td>\n",
       "    </tr>\n",
       "    <tr>\n",
       "      <th>std</th>\n",
       "      <td>11.5435</td>\n",
       "      <td>15.456596</td>\n",
       "      <td>1.530356e+01</td>\n",
       "      <td>5981.703144</td>\n",
       "      <td>4.562088e+05</td>\n",
       "      <td>113.728738</td>\n",
       "      <td>4.590735</td>\n",
       "      <td>902.221463</td>\n",
       "    </tr>\n",
       "    <tr>\n",
       "      <th>min</th>\n",
       "      <td>1980.0000</td>\n",
       "      <td>-0.163438</td>\n",
       "      <td>-1.000000e-39</td>\n",
       "      <td>0.124958</td>\n",
       "      <td>1.147100e+01</td>\n",
       "      <td>0.000000</td>\n",
       "      <td>0.000000</td>\n",
       "      <td>-0.005130</td>\n",
       "    </tr>\n",
       "    <tr>\n",
       "      <th>25%</th>\n",
       "      <td>1989.7500</td>\n",
       "      <td>0.000000</td>\n",
       "      <td>0.000000e+00</td>\n",
       "      <td>9.737780</td>\n",
       "      <td>1.141950e+03</td>\n",
       "      <td>3.799939</td>\n",
       "      <td>0.899446</td>\n",
       "      <td>0.000000</td>\n",
       "    </tr>\n",
       "    <tr>\n",
       "      <th>50%</th>\n",
       "      <td>1999.5000</td>\n",
       "      <td>0.018381</td>\n",
       "      <td>5.121971e-04</td>\n",
       "      <td>47.757100</td>\n",
       "      <td>6.157680e+03</td>\n",
       "      <td>29.779260</td>\n",
       "      <td>2.987593</td>\n",
       "      <td>0.000000</td>\n",
       "    </tr>\n",
       "    <tr>\n",
       "      <th>75%</th>\n",
       "      <td>2009.2500</td>\n",
       "      <td>0.209422</td>\n",
       "      <td>1.125410e-01</td>\n",
       "      <td>263.687100</td>\n",
       "      <td>2.004290e+04</td>\n",
       "      <td>95.523627</td>\n",
       "      <td>4.969454</td>\n",
       "      <td>4.318822</td>\n",
       "    </tr>\n",
       "    <tr>\n",
       "      <th>max</th>\n",
       "      <td>2019.0000</td>\n",
       "      <td>601.040490</td>\n",
       "      <td>6.115090e+02</td>\n",
       "      <td>127690.247059</td>\n",
       "      <td>7.714631e+06</td>\n",
       "      <td>1139.320598</td>\n",
       "      <td>166.913605</td>\n",
       "      <td>35584.933498</td>\n",
       "    </tr>\n",
       "  </tbody>\n",
       "</table>\n",
       "</div>"
      ],
      "text/plain": [
       "             Year  Energy_consumption  Energy_production            GDP  \\\n",
       "count  55440.0000        44287.000000       4.428900e+04   40026.000000   \n",
       "mean    1999.5000            1.537811       1.532700e+00     827.144126   \n",
       "std       11.5435           15.456596       1.530356e+01    5981.703144   \n",
       "min     1980.0000           -0.163438      -1.000000e-39       0.124958   \n",
       "25%     1989.7500            0.000000       0.000000e+00       9.737780   \n",
       "50%     1999.5000            0.018381       5.121971e-04      47.757100   \n",
       "75%     2009.2500            0.209422       1.125410e-01     263.687100   \n",
       "max     2019.0000          601.040490       6.115090e+02  127690.247059   \n",
       "\n",
       "         Population  Energy_intensity_per_capita  Energy_intensity_by_GDP  \\\n",
       "count  4.601400e+04                 50358.000000             50358.000000   \n",
       "mean   6.263020e+04                    71.898914                 3.695104   \n",
       "std    4.562088e+05                   113.728738                 4.590735   \n",
       "min    1.147100e+01                     0.000000                 0.000000   \n",
       "25%    1.141950e+03                     3.799939                 0.899446   \n",
       "50%    6.157680e+03                    29.779260                 2.987593   \n",
       "75%    2.004290e+04                    95.523627                 4.969454   \n",
       "max    7.714631e+06                  1139.320598               166.913605   \n",
       "\n",
       "       CO2_emission  \n",
       "count  51614.000000  \n",
       "mean      78.800082  \n",
       "std      902.221463  \n",
       "min       -0.005130  \n",
       "25%        0.000000  \n",
       "50%        0.000000  \n",
       "75%        4.318822  \n",
       "max    35584.933498  "
      ]
     },
     "execution_count": 1470,
     "metadata": {},
     "output_type": "execute_result"
    }
   ],
   "source": [
    "energy.describe()"
   ]
  },
  {
   "cell_type": "code",
   "execution_count": 1471,
   "metadata": {},
   "outputs": [
    {
     "data": {
      "text/plain": [
       "0"
      ]
     },
     "execution_count": 1471,
     "metadata": {},
     "output_type": "execute_result"
    }
   ],
   "source": [
    "#check duplicates\n",
    "energy.duplicated().sum()\n"
   ]
  },
  {
   "cell_type": "code",
   "execution_count": 1472,
   "metadata": {},
   "outputs": [
    {
     "data": {
      "text/plain": [
       "array(['World', 'Afghanistan', 'Albania', 'Algeria', 'American Samoa',\n",
       "       'Angola', 'Antarctica', 'Antigua and Barbuda', 'Argentina',\n",
       "       'Armenia', 'Aruba', 'Australia', 'Austria', 'Azerbaijan',\n",
       "       'Bahrain', 'Bangladesh', 'Barbados', 'Belarus', 'Belgium',\n",
       "       'Belize', 'Benin', 'Bermuda', 'Bhutan', 'Bolivia',\n",
       "       'Bosnia and Herzegovina', 'Botswana', 'Brazil',\n",
       "       'British Virgin Islands', 'Brunei', 'Bulgaria', 'Burkina Faso',\n",
       "       'Burma', 'Burundi', 'Cabo Verde', 'Cambodia', 'Cameroon', 'Canada',\n",
       "       'Cayman Islands', 'Central African Republic', 'Chad', 'Chile',\n",
       "       'China', 'Colombia', 'Comoros', 'Congo-Brazzaville',\n",
       "       'Congo-Kinshasa', 'Cook Islands', 'Costa Rica', 'Croatia', 'Cuba',\n",
       "       'Cyprus', 'Czech Republic', 'Côte d’Ivoire', 'Denmark', 'Djibouti',\n",
       "       'Dominica', 'Dominican Republic', 'Ecuador', 'Egypt',\n",
       "       'El Salvador', 'Equatorial Guinea', 'Eritrea', 'Estonia',\n",
       "       'Eswatini', 'Ethiopia', 'Falkland Islands', 'Faroe Islands',\n",
       "       'Fiji', 'Finland', 'Former Czechoslovakia',\n",
       "       'Former Serbia and Montenegro', 'Former U.S.S.R.',\n",
       "       'Former Yugoslavia', 'France', 'French Guiana', 'French Polynesia',\n",
       "       'Gabon', 'Gambia, The', 'Georgia', 'Germany', 'Germany, East',\n",
       "       'Germany, West', 'Ghana', 'Gibraltar', 'Greece', 'Greenland',\n",
       "       'Grenada', 'Guadeloupe', 'Guam', 'Guatemala', 'Guinea',\n",
       "       'Guinea-Bissau', 'Guyana', 'Haiti', 'Hawaiian Trade Zone',\n",
       "       'Honduras', 'Hong Kong', 'Hungary', 'Iceland', 'India',\n",
       "       'Indonesia', 'Iran', 'Iraq', 'Ireland', 'Israel', 'Italy',\n",
       "       'Jamaica', 'Japan', 'Jordan', 'Kazakhstan', 'Kenya', 'Kiribati',\n",
       "       'Kosovo', 'Kuwait', 'Kyrgyzstan', 'Laos', 'Latvia', 'Lebanon',\n",
       "       'Lesotho', 'Liberia', 'Libya', 'Lithuania', 'Luxembourg', 'Macau',\n",
       "       'Madagascar', 'Malawi', 'Malaysia', 'Maldives', 'Mali', 'Malta',\n",
       "       'Martinique', 'Mauritania', 'Mauritius', 'Mexico', 'Micronesia',\n",
       "       'Moldova', 'Mongolia', 'Montenegro', 'Montserrat', 'Morocco',\n",
       "       'Mozambique', 'Namibia', 'Nauru', 'Nepal', 'Netherlands',\n",
       "       'Netherlands Antilles', 'New Caledonia', 'New Zealand',\n",
       "       'Nicaragua', 'Niger', 'Nigeria', 'Niue', 'North Korea',\n",
       "       'North Macedonia', 'Northern Mariana Islands', 'Norway', 'Oman',\n",
       "       'Pakistan', 'Palestinian Territories', 'Panama',\n",
       "       'Papua New Guinea', 'Paraguay', 'Peru', 'Philippines', 'Poland',\n",
       "       'Portugal', 'Puerto Rico', 'Qatar', 'Reunion', 'Romania', 'Russia',\n",
       "       'Rwanda', 'Saint Helena', 'Saint Kitts and Nevis', 'Saint Lucia',\n",
       "       'Saint Pierre and Miquelon', 'Saint Vincent/Grenadines', 'Samoa',\n",
       "       'Sao Tome and Principe', 'Saudi Arabia', 'Senegal', 'Serbia',\n",
       "       'Seychelles', 'Sierra Leone', 'Singapore', 'Slovakia', 'Slovenia',\n",
       "       'Solomon Islands', 'Somalia', 'South Africa', 'South Korea',\n",
       "       'South Sudan', 'Spain', 'Sri Lanka', 'Sudan', 'Suriname', 'Sweden',\n",
       "       'Switzerland', 'Syria', 'Taiwan', 'Tajikistan', 'Tanzania',\n",
       "       'Thailand', 'The Bahamas', 'Timor-Leste', 'Togo', 'Tonga',\n",
       "       'Trinidad and Tobago', 'Tunisia', 'Turkey', 'Turkmenistan',\n",
       "       'Turks and Caicos Islands', 'Tuvalu', 'U.S. Pacific Islands',\n",
       "       'U.S. Territories', 'U.S. Virgin Islands', 'Uganda', 'Ukraine',\n",
       "       'United Arab Emirates', 'United Kingdom', 'United States',\n",
       "       'Uruguay', 'Uzbekistan', 'Vanuatu', 'Venezuela', 'Vietnam',\n",
       "       'Wake Island', 'Western Sahara', 'Yemen', 'Zambia', 'Zimbabwe'],\n",
       "      dtype=object)"
      ]
     },
     "execution_count": 1472,
     "metadata": {},
     "output_type": "execute_result"
    }
   ],
   "source": [
    "#explore countries\n",
    "energy['Country'].unique()"
   ]
  },
  {
   "cell_type": "code",
   "execution_count": 1473,
   "metadata": {},
   "outputs": [
    {
     "data": {
      "text/html": [
       "<div>\n",
       "<style scoped>\n",
       "    .dataframe tbody tr th:only-of-type {\n",
       "        vertical-align: middle;\n",
       "    }\n",
       "\n",
       "    .dataframe tbody tr th {\n",
       "        vertical-align: top;\n",
       "    }\n",
       "\n",
       "    .dataframe thead th {\n",
       "        text-align: right;\n",
       "    }\n",
       "</style>\n",
       "<table border=\"1\" class=\"dataframe\">\n",
       "  <thead>\n",
       "    <tr style=\"text-align: right;\">\n",
       "      <th></th>\n",
       "      <th>Country</th>\n",
       "      <th>Energy_type</th>\n",
       "      <th>Year</th>\n",
       "      <th>Energy_consumption</th>\n",
       "      <th>Energy_production</th>\n",
       "      <th>GDP</th>\n",
       "      <th>Population</th>\n",
       "      <th>Energy_intensity_per_capita</th>\n",
       "      <th>Energy_intensity_by_GDP</th>\n",
       "      <th>CO2_emission</th>\n",
       "    </tr>\n",
       "  </thead>\n",
       "  <tbody>\n",
       "    <tr>\n",
       "      <th>582</th>\n",
       "      <td>Hungary</td>\n",
       "      <td>all_energy_types</td>\n",
       "      <td>1980</td>\n",
       "      <td>1.168933</td>\n",
       "      <td>0.521931</td>\n",
       "      <td>NaN</td>\n",
       "      <td>10711.540</td>\n",
       "      <td>109.128359</td>\n",
       "      <td>0.000000</td>\n",
       "      <td>NaN</td>\n",
       "    </tr>\n",
       "    <tr>\n",
       "      <th>583</th>\n",
       "      <td>Hungary</td>\n",
       "      <td>coal</td>\n",
       "      <td>1980</td>\n",
       "      <td>0.227510</td>\n",
       "      <td>0.177160</td>\n",
       "      <td>NaN</td>\n",
       "      <td>10711.540</td>\n",
       "      <td>109.128359</td>\n",
       "      <td>0.000000</td>\n",
       "      <td>NaN</td>\n",
       "    </tr>\n",
       "    <tr>\n",
       "      <th>584</th>\n",
       "      <td>Hungary</td>\n",
       "      <td>natural_gas</td>\n",
       "      <td>1980</td>\n",
       "      <td>0.350880</td>\n",
       "      <td>0.224595</td>\n",
       "      <td>NaN</td>\n",
       "      <td>10711.540</td>\n",
       "      <td>109.128359</td>\n",
       "      <td>0.000000</td>\n",
       "      <td>NaN</td>\n",
       "    </tr>\n",
       "    <tr>\n",
       "      <th>585</th>\n",
       "      <td>Hungary</td>\n",
       "      <td>petroleum_n_other_liquids</td>\n",
       "      <td>1980</td>\n",
       "      <td>0.521554</td>\n",
       "      <td>0.119023</td>\n",
       "      <td>NaN</td>\n",
       "      <td>10711.540</td>\n",
       "      <td>109.128359</td>\n",
       "      <td>0.000000</td>\n",
       "      <td>NaN</td>\n",
       "    </tr>\n",
       "    <tr>\n",
       "      <th>586</th>\n",
       "      <td>Hungary</td>\n",
       "      <td>nuclear</td>\n",
       "      <td>1980</td>\n",
       "      <td>0.000000</td>\n",
       "      <td>0.000000</td>\n",
       "      <td>NaN</td>\n",
       "      <td>10711.540</td>\n",
       "      <td>109.128359</td>\n",
       "      <td>0.000000</td>\n",
       "      <td>0.000000</td>\n",
       "    </tr>\n",
       "    <tr>\n",
       "      <th>...</th>\n",
       "      <td>...</td>\n",
       "      <td>...</td>\n",
       "      <td>...</td>\n",
       "      <td>...</td>\n",
       "      <td>...</td>\n",
       "      <td>...</td>\n",
       "      <td>...</td>\n",
       "      <td>...</td>\n",
       "      <td>...</td>\n",
       "      <td>...</td>\n",
       "    </tr>\n",
       "    <tr>\n",
       "      <th>54637</th>\n",
       "      <td>Hungary</td>\n",
       "      <td>coal</td>\n",
       "      <td>2019</td>\n",
       "      <td>0.087017</td>\n",
       "      <td>0.045387</td>\n",
       "      <td>309.9521</td>\n",
       "      <td>9770.737</td>\n",
       "      <td>108.211830</td>\n",
       "      <td>3.411202</td>\n",
       "      <td>9.423677</td>\n",
       "    </tr>\n",
       "    <tr>\n",
       "      <th>54638</th>\n",
       "      <td>Hungary</td>\n",
       "      <td>natural_gas</td>\n",
       "      <td>2019</td>\n",
       "      <td>0.367912</td>\n",
       "      <td>0.058079</td>\n",
       "      <td>309.9521</td>\n",
       "      <td>9770.737</td>\n",
       "      <td>108.211830</td>\n",
       "      <td>3.411202</td>\n",
       "      <td>19.169263</td>\n",
       "    </tr>\n",
       "    <tr>\n",
       "      <th>54639</th>\n",
       "      <td>Hungary</td>\n",
       "      <td>petroleum_n_other_liquids</td>\n",
       "      <td>2019</td>\n",
       "      <td>0.366582</td>\n",
       "      <td>0.048293</td>\n",
       "      <td>309.9521</td>\n",
       "      <td>9770.737</td>\n",
       "      <td>108.211830</td>\n",
       "      <td>3.411202</td>\n",
       "      <td>20.880865</td>\n",
       "    </tr>\n",
       "    <tr>\n",
       "      <th>54640</th>\n",
       "      <td>Hungary</td>\n",
       "      <td>nuclear</td>\n",
       "      <td>2019</td>\n",
       "      <td>0.155150</td>\n",
       "      <td>0.155150</td>\n",
       "      <td>309.9521</td>\n",
       "      <td>9770.737</td>\n",
       "      <td>108.211830</td>\n",
       "      <td>3.411202</td>\n",
       "      <td>0.000000</td>\n",
       "    </tr>\n",
       "    <tr>\n",
       "      <th>54641</th>\n",
       "      <td>Hungary</td>\n",
       "      <td>renewables_n_other</td>\n",
       "      <td>2019</td>\n",
       "      <td>0.080649</td>\n",
       "      <td>0.063699</td>\n",
       "      <td>309.9521</td>\n",
       "      <td>9770.737</td>\n",
       "      <td>108.211830</td>\n",
       "      <td>3.411202</td>\n",
       "      <td>0.000000</td>\n",
       "    </tr>\n",
       "  </tbody>\n",
       "</table>\n",
       "<p>240 rows × 10 columns</p>\n",
       "</div>"
      ],
      "text/plain": [
       "       Country                Energy_type  Year  Energy_consumption  \\\n",
       "582    Hungary           all_energy_types  1980            1.168933   \n",
       "583    Hungary                       coal  1980            0.227510   \n",
       "584    Hungary                natural_gas  1980            0.350880   \n",
       "585    Hungary  petroleum_n_other_liquids  1980            0.521554   \n",
       "586    Hungary                    nuclear  1980            0.000000   \n",
       "...        ...                        ...   ...                 ...   \n",
       "54637  Hungary                       coal  2019            0.087017   \n",
       "54638  Hungary                natural_gas  2019            0.367912   \n",
       "54639  Hungary  petroleum_n_other_liquids  2019            0.366582   \n",
       "54640  Hungary                    nuclear  2019            0.155150   \n",
       "54641  Hungary         renewables_n_other  2019            0.080649   \n",
       "\n",
       "       Energy_production       GDP  Population  Energy_intensity_per_capita  \\\n",
       "582             0.521931       NaN   10711.540                   109.128359   \n",
       "583             0.177160       NaN   10711.540                   109.128359   \n",
       "584             0.224595       NaN   10711.540                   109.128359   \n",
       "585             0.119023       NaN   10711.540                   109.128359   \n",
       "586             0.000000       NaN   10711.540                   109.128359   \n",
       "...                  ...       ...         ...                          ...   \n",
       "54637           0.045387  309.9521    9770.737                   108.211830   \n",
       "54638           0.058079  309.9521    9770.737                   108.211830   \n",
       "54639           0.048293  309.9521    9770.737                   108.211830   \n",
       "54640           0.155150  309.9521    9770.737                   108.211830   \n",
       "54641           0.063699  309.9521    9770.737                   108.211830   \n",
       "\n",
       "       Energy_intensity_by_GDP  CO2_emission  \n",
       "582                   0.000000           NaN  \n",
       "583                   0.000000           NaN  \n",
       "584                   0.000000           NaN  \n",
       "585                   0.000000           NaN  \n",
       "586                   0.000000      0.000000  \n",
       "...                        ...           ...  \n",
       "54637                 3.411202      9.423677  \n",
       "54638                 3.411202     19.169263  \n",
       "54639                 3.411202     20.880865  \n",
       "54640                 3.411202      0.000000  \n",
       "54641                 3.411202      0.000000  \n",
       "\n",
       "[240 rows x 10 columns]"
      ]
     },
     "execution_count": 1473,
     "metadata": {},
     "output_type": "execute_result"
    }
   ],
   "source": [
    "energy[energy['Country'] == 'Former Yugoslavia']\n",
    "energy[energy['Country'] == 'Former U.S.S.R.']\n",
    "energy[energy['Country'] == 'Former Serbia and Montenegro']\n",
    "energy[energy['Country'] == 'Hungary']\n",
    "# energy[energy['Country'] == 'Poland']\n",
    "\n"
   ]
  },
  {
   "cell_type": "code",
   "execution_count": 1474,
   "metadata": {},
   "outputs": [],
   "source": [
    "#Drop Countries that do not exist anymore\n",
    "dropCountry= ['Former Czechoslovakia', 'Former Serbia and Montenegro','Former U.S.S.R.', 'Former Yugoslavia', 'Germany, East',\n",
    "       'Germany, West', 'Hungary', 'Poland']\n",
    "\n",
    "for country in dropCountry:\n",
    "    value = energy[energy['Country']==country].index\n",
    "    energy.drop(labels=value, axis=0, inplace=True)"
   ]
  },
  {
   "cell_type": "code",
   "execution_count": 1475,
   "metadata": {},
   "outputs": [
    {
     "data": {
      "text/html": [
       "<div>\n",
       "<style scoped>\n",
       "    .dataframe tbody tr th:only-of-type {\n",
       "        vertical-align: middle;\n",
       "    }\n",
       "\n",
       "    .dataframe tbody tr th {\n",
       "        vertical-align: top;\n",
       "    }\n",
       "\n",
       "    .dataframe thead th {\n",
       "        text-align: right;\n",
       "    }\n",
       "</style>\n",
       "<table border=\"1\" class=\"dataframe\">\n",
       "  <thead>\n",
       "    <tr style=\"text-align: right;\">\n",
       "      <th></th>\n",
       "      <th>Country</th>\n",
       "      <th>Energy_type</th>\n",
       "      <th>Year</th>\n",
       "      <th>Energy_consumption</th>\n",
       "      <th>Energy_production</th>\n",
       "      <th>GDP</th>\n",
       "      <th>Population</th>\n",
       "      <th>Energy_intensity_per_capita</th>\n",
       "      <th>Energy_intensity_by_GDP</th>\n",
       "      <th>CO2_emission</th>\n",
       "    </tr>\n",
       "  </thead>\n",
       "  <tbody>\n",
       "    <tr>\n",
       "      <th>1146</th>\n",
       "      <td>South Sudan</td>\n",
       "      <td>all_energy_types</td>\n",
       "      <td>1980</td>\n",
       "      <td>NaN</td>\n",
       "      <td>NaN</td>\n",
       "      <td>NaN</td>\n",
       "      <td>NaN</td>\n",
       "      <td>NaN</td>\n",
       "      <td>NaN</td>\n",
       "      <td>NaN</td>\n",
       "    </tr>\n",
       "    <tr>\n",
       "      <th>1147</th>\n",
       "      <td>South Sudan</td>\n",
       "      <td>coal</td>\n",
       "      <td>1980</td>\n",
       "      <td>NaN</td>\n",
       "      <td>NaN</td>\n",
       "      <td>NaN</td>\n",
       "      <td>NaN</td>\n",
       "      <td>NaN</td>\n",
       "      <td>NaN</td>\n",
       "      <td>NaN</td>\n",
       "    </tr>\n",
       "    <tr>\n",
       "      <th>1148</th>\n",
       "      <td>South Sudan</td>\n",
       "      <td>natural_gas</td>\n",
       "      <td>1980</td>\n",
       "      <td>NaN</td>\n",
       "      <td>NaN</td>\n",
       "      <td>NaN</td>\n",
       "      <td>NaN</td>\n",
       "      <td>NaN</td>\n",
       "      <td>NaN</td>\n",
       "      <td>NaN</td>\n",
       "    </tr>\n",
       "    <tr>\n",
       "      <th>1149</th>\n",
       "      <td>South Sudan</td>\n",
       "      <td>petroleum_n_other_liquids</td>\n",
       "      <td>1980</td>\n",
       "      <td>NaN</td>\n",
       "      <td>NaN</td>\n",
       "      <td>NaN</td>\n",
       "      <td>NaN</td>\n",
       "      <td>NaN</td>\n",
       "      <td>NaN</td>\n",
       "      <td>NaN</td>\n",
       "    </tr>\n",
       "    <tr>\n",
       "      <th>1150</th>\n",
       "      <td>South Sudan</td>\n",
       "      <td>nuclear</td>\n",
       "      <td>1980</td>\n",
       "      <td>NaN</td>\n",
       "      <td>NaN</td>\n",
       "      <td>NaN</td>\n",
       "      <td>NaN</td>\n",
       "      <td>NaN</td>\n",
       "      <td>NaN</td>\n",
       "      <td>0.000000</td>\n",
       "    </tr>\n",
       "    <tr>\n",
       "      <th>...</th>\n",
       "      <td>...</td>\n",
       "      <td>...</td>\n",
       "      <td>...</td>\n",
       "      <td>...</td>\n",
       "      <td>...</td>\n",
       "      <td>...</td>\n",
       "      <td>...</td>\n",
       "      <td>...</td>\n",
       "      <td>...</td>\n",
       "      <td>...</td>\n",
       "    </tr>\n",
       "    <tr>\n",
       "      <th>55201</th>\n",
       "      <td>South Sudan</td>\n",
       "      <td>coal</td>\n",
       "      <td>2019</td>\n",
       "      <td>0.000000</td>\n",
       "      <td>0.000000</td>\n",
       "      <td>17.3349</td>\n",
       "      <td>11062.1</td>\n",
       "      <td>2.404033</td>\n",
       "      <td>1.534111</td>\n",
       "      <td>0.000000</td>\n",
       "    </tr>\n",
       "    <tr>\n",
       "      <th>55202</th>\n",
       "      <td>South Sudan</td>\n",
       "      <td>natural_gas</td>\n",
       "      <td>2019</td>\n",
       "      <td>0.000000</td>\n",
       "      <td>0.000000</td>\n",
       "      <td>17.3349</td>\n",
       "      <td>11062.1</td>\n",
       "      <td>2.404033</td>\n",
       "      <td>1.534111</td>\n",
       "      <td>0.000000</td>\n",
       "    </tr>\n",
       "    <tr>\n",
       "      <th>55203</th>\n",
       "      <td>South Sudan</td>\n",
       "      <td>petroleum_n_other_liquids</td>\n",
       "      <td>2019</td>\n",
       "      <td>0.026558</td>\n",
       "      <td>0.291543</td>\n",
       "      <td>17.3349</td>\n",
       "      <td>11062.1</td>\n",
       "      <td>2.404033</td>\n",
       "      <td>1.534111</td>\n",
       "      <td>1.675889</td>\n",
       "    </tr>\n",
       "    <tr>\n",
       "      <th>55204</th>\n",
       "      <td>South Sudan</td>\n",
       "      <td>nuclear</td>\n",
       "      <td>2019</td>\n",
       "      <td>NaN</td>\n",
       "      <td>NaN</td>\n",
       "      <td>17.3349</td>\n",
       "      <td>11062.1</td>\n",
       "      <td>2.404033</td>\n",
       "      <td>1.534111</td>\n",
       "      <td>0.000000</td>\n",
       "    </tr>\n",
       "    <tr>\n",
       "      <th>55205</th>\n",
       "      <td>South Sudan</td>\n",
       "      <td>renewables_n_other</td>\n",
       "      <td>2019</td>\n",
       "      <td>0.000036</td>\n",
       "      <td>0.000036</td>\n",
       "      <td>17.3349</td>\n",
       "      <td>11062.1</td>\n",
       "      <td>2.404033</td>\n",
       "      <td>1.534111</td>\n",
       "      <td>0.000000</td>\n",
       "    </tr>\n",
       "  </tbody>\n",
       "</table>\n",
       "<p>240 rows × 10 columns</p>\n",
       "</div>"
      ],
      "text/plain": [
       "           Country                Energy_type  Year  Energy_consumption  \\\n",
       "1146   South Sudan           all_energy_types  1980                 NaN   \n",
       "1147   South Sudan                       coal  1980                 NaN   \n",
       "1148   South Sudan                natural_gas  1980                 NaN   \n",
       "1149   South Sudan  petroleum_n_other_liquids  1980                 NaN   \n",
       "1150   South Sudan                    nuclear  1980                 NaN   \n",
       "...            ...                        ...   ...                 ...   \n",
       "55201  South Sudan                       coal  2019            0.000000   \n",
       "55202  South Sudan                natural_gas  2019            0.000000   \n",
       "55203  South Sudan  petroleum_n_other_liquids  2019            0.026558   \n",
       "55204  South Sudan                    nuclear  2019                 NaN   \n",
       "55205  South Sudan         renewables_n_other  2019            0.000036   \n",
       "\n",
       "       Energy_production      GDP  Population  Energy_intensity_per_capita  \\\n",
       "1146                 NaN      NaN         NaN                          NaN   \n",
       "1147                 NaN      NaN         NaN                          NaN   \n",
       "1148                 NaN      NaN         NaN                          NaN   \n",
       "1149                 NaN      NaN         NaN                          NaN   \n",
       "1150                 NaN      NaN         NaN                          NaN   \n",
       "...                  ...      ...         ...                          ...   \n",
       "55201           0.000000  17.3349     11062.1                     2.404033   \n",
       "55202           0.000000  17.3349     11062.1                     2.404033   \n",
       "55203           0.291543  17.3349     11062.1                     2.404033   \n",
       "55204                NaN  17.3349     11062.1                     2.404033   \n",
       "55205           0.000036  17.3349     11062.1                     2.404033   \n",
       "\n",
       "       Energy_intensity_by_GDP  CO2_emission  \n",
       "1146                       NaN           NaN  \n",
       "1147                       NaN           NaN  \n",
       "1148                       NaN           NaN  \n",
       "1149                       NaN           NaN  \n",
       "1150                       NaN      0.000000  \n",
       "...                        ...           ...  \n",
       "55201                 1.534111      0.000000  \n",
       "55202                 1.534111      0.000000  \n",
       "55203                 1.534111      1.675889  \n",
       "55204                 1.534111      0.000000  \n",
       "55205                 1.534111      0.000000  \n",
       "\n",
       "[240 rows x 10 columns]"
      ]
     },
     "execution_count": 1475,
     "metadata": {},
     "output_type": "execute_result"
    }
   ],
   "source": [
    "energy[energy['Country'] == 'South Sudan']\n"
   ]
  },
  {
   "cell_type": "code",
   "execution_count": 1476,
   "metadata": {},
   "outputs": [],
   "source": [
    "# Drop rows with 7 or less non NaN values. These are for countries that did not exist during certain years. \n",
    "energy.dropna(thresh=7, axis=0, inplace=True)"
   ]
  },
  {
   "cell_type": "code",
   "execution_count": 1477,
   "metadata": {},
   "outputs": [
    {
     "name": "stdout",
     "output_type": "stream",
     "text": [
      "Country: 0\n",
      "Energy_type: 0\n",
      "Year: 0\n",
      "Energy_consumption: 6292\n",
      "Energy_production: 6291\n",
      "GDP: 10202\n",
      "Population: 4310\n",
      "Energy_intensity_per_capita: 984\n",
      "Energy_intensity_by_GDP: 984\n",
      "CO2_emission: 1217\n"
     ]
    }
   ],
   "source": [
    "#check missing values\n",
    "for item in energy:\n",
    "    print(f'{item}: {energy[item].isnull().sum()}')"
   ]
  },
  {
   "cell_type": "code",
   "execution_count": 1478,
   "metadata": {},
   "outputs": [],
   "source": [
    "# energy.groupby('Year')['CO2_emission'].count()"
   ]
  },
  {
   "cell_type": "code",
   "execution_count": 1479,
   "metadata": {},
   "outputs": [],
   "source": [
    "#We need CO2 emissions, therefore dropped nulls under CO2_emission column. \n",
    "energy.dropna(subset=['CO2_emission'], inplace=True)"
   ]
  },
  {
   "cell_type": "code",
   "execution_count": 1480,
   "metadata": {},
   "outputs": [
    {
     "name": "stderr",
     "output_type": "stream",
     "text": [
      "c:\\Users\\clope\\anaconda3\\lib\\site-packages\\pandas\\core\\frame.py:2963: SettingWithCopyWarning:\n",
      "\n",
      "\n",
      "A value is trying to be set on a copy of a slice from a DataFrame.\n",
      "Try using .loc[row_indexer,col_indexer] = value instead\n",
      "\n",
      "See the caveats in the documentation: https://pandas.pydata.org/pandas-docs/stable/user_guide/indexing.html#returning-a-view-versus-a-copy\n",
      "\n"
     ]
    }
   ],
   "source": [
    "#Split nuclear from the rest of dataset\n",
    "nuclear= energy[energy['Energy_type']== 'nuclear']\n",
    "#Replace NaN to 0\n",
    "nuclear[['Energy_consumption']] = nuclear[['Energy_consumption']].replace(np.nan, 0)\n",
    "nuclear[['Energy_production']] = nuclear[['Energy_production']].replace(np.nan, 0)"
   ]
  },
  {
   "cell_type": "code",
   "execution_count": 1481,
   "metadata": {},
   "outputs": [
    {
     "data": {
      "text/html": [
       "<div>\n",
       "<style scoped>\n",
       "    .dataframe tbody tr th:only-of-type {\n",
       "        vertical-align: middle;\n",
       "    }\n",
       "\n",
       "    .dataframe tbody tr th {\n",
       "        vertical-align: top;\n",
       "    }\n",
       "\n",
       "    .dataframe thead th {\n",
       "        text-align: right;\n",
       "    }\n",
       "</style>\n",
       "<table border=\"1\" class=\"dataframe\">\n",
       "  <thead>\n",
       "    <tr style=\"text-align: right;\">\n",
       "      <th></th>\n",
       "      <th>Country</th>\n",
       "      <th>Energy_type</th>\n",
       "      <th>Year</th>\n",
       "      <th>Energy_consumption</th>\n",
       "      <th>Energy_production</th>\n",
       "      <th>GDP</th>\n",
       "      <th>Population</th>\n",
       "      <th>Energy_intensity_per_capita</th>\n",
       "      <th>Energy_intensity_by_GDP</th>\n",
       "      <th>CO2_emission</th>\n",
       "    </tr>\n",
       "  </thead>\n",
       "  <tbody>\n",
       "    <tr>\n",
       "      <th>4</th>\n",
       "      <td>World</td>\n",
       "      <td>nuclear</td>\n",
       "      <td>1980</td>\n",
       "      <td>7.5757</td>\n",
       "      <td>7.5757</td>\n",
       "      <td>27770.910281</td>\n",
       "      <td>4.298127e+06</td>\n",
       "      <td>68.145921</td>\n",
       "      <td>10.547</td>\n",
       "      <td>0.0</td>\n",
       "    </tr>\n",
       "    <tr>\n",
       "      <th>10</th>\n",
       "      <td>Afghanistan</td>\n",
       "      <td>nuclear</td>\n",
       "      <td>1980</td>\n",
       "      <td>0.0000</td>\n",
       "      <td>0.0000</td>\n",
       "      <td>NaN</td>\n",
       "      <td>1.335650e+04</td>\n",
       "      <td>1.990283</td>\n",
       "      <td>0.000</td>\n",
       "      <td>0.0</td>\n",
       "    </tr>\n",
       "    <tr>\n",
       "      <th>16</th>\n",
       "      <td>Albania</td>\n",
       "      <td>nuclear</td>\n",
       "      <td>1980</td>\n",
       "      <td>0.0000</td>\n",
       "      <td>0.0000</td>\n",
       "      <td>NaN</td>\n",
       "      <td>2.682700e+03</td>\n",
       "      <td>60.752906</td>\n",
       "      <td>0.000</td>\n",
       "      <td>0.0</td>\n",
       "    </tr>\n",
       "    <tr>\n",
       "      <th>22</th>\n",
       "      <td>Algeria</td>\n",
       "      <td>nuclear</td>\n",
       "      <td>1980</td>\n",
       "      <td>0.0000</td>\n",
       "      <td>0.0000</td>\n",
       "      <td>NaN</td>\n",
       "      <td>1.922170e+04</td>\n",
       "      <td>40.615303</td>\n",
       "      <td>0.000</td>\n",
       "      <td>0.0</td>\n",
       "    </tr>\n",
       "    <tr>\n",
       "      <th>28</th>\n",
       "      <td>American Samoa</td>\n",
       "      <td>nuclear</td>\n",
       "      <td>1980</td>\n",
       "      <td>0.0000</td>\n",
       "      <td>0.0000</td>\n",
       "      <td>NaN</td>\n",
       "      <td>3.264600e+01</td>\n",
       "      <td>180.515604</td>\n",
       "      <td>0.000</td>\n",
       "      <td>0.0</td>\n",
       "    </tr>\n",
       "  </tbody>\n",
       "</table>\n",
       "</div>"
      ],
      "text/plain": [
       "           Country Energy_type  Year  Energy_consumption  Energy_production  \\\n",
       "4            World     nuclear  1980              7.5757             7.5757   \n",
       "10     Afghanistan     nuclear  1980              0.0000             0.0000   \n",
       "16         Albania     nuclear  1980              0.0000             0.0000   \n",
       "22         Algeria     nuclear  1980              0.0000             0.0000   \n",
       "28  American Samoa     nuclear  1980              0.0000             0.0000   \n",
       "\n",
       "             GDP    Population  Energy_intensity_per_capita  \\\n",
       "4   27770.910281  4.298127e+06                    68.145921   \n",
       "10           NaN  1.335650e+04                     1.990283   \n",
       "16           NaN  2.682700e+03                    60.752906   \n",
       "22           NaN  1.922170e+04                    40.615303   \n",
       "28           NaN  3.264600e+01                   180.515604   \n",
       "\n",
       "    Energy_intensity_by_GDP  CO2_emission  \n",
       "4                    10.547           0.0  \n",
       "10                    0.000           0.0  \n",
       "16                    0.000           0.0  \n",
       "22                    0.000           0.0  \n",
       "28                    0.000           0.0  "
      ]
     },
     "execution_count": 1481,
     "metadata": {},
     "output_type": "execute_result"
    }
   ],
   "source": [
    "nuclear.head()"
   ]
  },
  {
   "cell_type": "code",
   "execution_count": 1482,
   "metadata": {},
   "outputs": [],
   "source": [
    "\n",
    "#The rest of the main dataset\n",
    "energy2= energy[energy['Energy_type'] != 'nuclear']\n",
    "#Combine the split datasets\n",
    "energy= pd.concat([nuclear, energy2]).sort_index()\n"
   ]
  },
  {
   "cell_type": "code",
   "execution_count": 1483,
   "metadata": {},
   "outputs": [
    {
     "data": {
      "text/html": [
       "<div>\n",
       "<style scoped>\n",
       "    .dataframe tbody tr th:only-of-type {\n",
       "        vertical-align: middle;\n",
       "    }\n",
       "\n",
       "    .dataframe tbody tr th {\n",
       "        vertical-align: top;\n",
       "    }\n",
       "\n",
       "    .dataframe thead th {\n",
       "        text-align: right;\n",
       "    }\n",
       "</style>\n",
       "<table border=\"1\" class=\"dataframe\">\n",
       "  <thead>\n",
       "    <tr style=\"text-align: right;\">\n",
       "      <th></th>\n",
       "      <th>Country</th>\n",
       "      <th>Energy_type</th>\n",
       "      <th>Year</th>\n",
       "      <th>Energy_consumption</th>\n",
       "      <th>Energy_production</th>\n",
       "      <th>GDP</th>\n",
       "      <th>Population</th>\n",
       "      <th>Energy_intensity_per_capita</th>\n",
       "      <th>Energy_intensity_by_GDP</th>\n",
       "      <th>CO2_emission</th>\n",
       "    </tr>\n",
       "  </thead>\n",
       "  <tbody>\n",
       "    <tr>\n",
       "      <th>0</th>\n",
       "      <td>World</td>\n",
       "      <td>all_energy_types</td>\n",
       "      <td>1980</td>\n",
       "      <td>292.899790</td>\n",
       "      <td>296.337228</td>\n",
       "      <td>27770.910281</td>\n",
       "      <td>4.298127e+06</td>\n",
       "      <td>68.145921</td>\n",
       "      <td>10.547000</td>\n",
       "      <td>4946.627130</td>\n",
       "    </tr>\n",
       "    <tr>\n",
       "      <th>1</th>\n",
       "      <td>World</td>\n",
       "      <td>coal</td>\n",
       "      <td>1980</td>\n",
       "      <td>78.656134</td>\n",
       "      <td>80.114194</td>\n",
       "      <td>27770.910281</td>\n",
       "      <td>4.298127e+06</td>\n",
       "      <td>68.145921</td>\n",
       "      <td>10.547000</td>\n",
       "      <td>1409.790188</td>\n",
       "    </tr>\n",
       "    <tr>\n",
       "      <th>2</th>\n",
       "      <td>World</td>\n",
       "      <td>natural_gas</td>\n",
       "      <td>1980</td>\n",
       "      <td>53.865223</td>\n",
       "      <td>54.761046</td>\n",
       "      <td>27770.910281</td>\n",
       "      <td>4.298127e+06</td>\n",
       "      <td>68.145921</td>\n",
       "      <td>10.547000</td>\n",
       "      <td>1081.593377</td>\n",
       "    </tr>\n",
       "    <tr>\n",
       "      <th>3</th>\n",
       "      <td>World</td>\n",
       "      <td>petroleum_n_other_liquids</td>\n",
       "      <td>1980</td>\n",
       "      <td>132.064019</td>\n",
       "      <td>133.111109</td>\n",
       "      <td>27770.910281</td>\n",
       "      <td>4.298127e+06</td>\n",
       "      <td>68.145921</td>\n",
       "      <td>10.547000</td>\n",
       "      <td>2455.243565</td>\n",
       "    </tr>\n",
       "    <tr>\n",
       "      <th>4</th>\n",
       "      <td>World</td>\n",
       "      <td>nuclear</td>\n",
       "      <td>1980</td>\n",
       "      <td>7.575700</td>\n",
       "      <td>7.575700</td>\n",
       "      <td>27770.910281</td>\n",
       "      <td>4.298127e+06</td>\n",
       "      <td>68.145921</td>\n",
       "      <td>10.547000</td>\n",
       "      <td>0.000000</td>\n",
       "    </tr>\n",
       "    <tr>\n",
       "      <th>5</th>\n",
       "      <td>World</td>\n",
       "      <td>renewables_n_other</td>\n",
       "      <td>1980</td>\n",
       "      <td>20.702344</td>\n",
       "      <td>20.775178</td>\n",
       "      <td>27770.910281</td>\n",
       "      <td>4.298127e+06</td>\n",
       "      <td>68.145921</td>\n",
       "      <td>10.547000</td>\n",
       "      <td>0.000000</td>\n",
       "    </tr>\n",
       "    <tr>\n",
       "      <th>10</th>\n",
       "      <td>Afghanistan</td>\n",
       "      <td>nuclear</td>\n",
       "      <td>1980</td>\n",
       "      <td>0.000000</td>\n",
       "      <td>0.000000</td>\n",
       "      <td>NaN</td>\n",
       "      <td>1.335650e+04</td>\n",
       "      <td>1.990283</td>\n",
       "      <td>0.000000</td>\n",
       "      <td>0.000000</td>\n",
       "    </tr>\n",
       "    <tr>\n",
       "      <th>11</th>\n",
       "      <td>Afghanistan</td>\n",
       "      <td>renewables_n_other</td>\n",
       "      <td>1980</td>\n",
       "      <td>0.007386</td>\n",
       "      <td>0.007386</td>\n",
       "      <td>NaN</td>\n",
       "      <td>1.335650e+04</td>\n",
       "      <td>1.990283</td>\n",
       "      <td>0.000000</td>\n",
       "      <td>0.000000</td>\n",
       "    </tr>\n",
       "    <tr>\n",
       "      <th>16</th>\n",
       "      <td>Albania</td>\n",
       "      <td>nuclear</td>\n",
       "      <td>1980</td>\n",
       "      <td>0.000000</td>\n",
       "      <td>0.000000</td>\n",
       "      <td>NaN</td>\n",
       "      <td>2.682700e+03</td>\n",
       "      <td>60.752906</td>\n",
       "      <td>0.000000</td>\n",
       "      <td>0.000000</td>\n",
       "    </tr>\n",
       "    <tr>\n",
       "      <th>17</th>\n",
       "      <td>Albania</td>\n",
       "      <td>renewables_n_other</td>\n",
       "      <td>1980</td>\n",
       "      <td>0.028897</td>\n",
       "      <td>0.030323</td>\n",
       "      <td>NaN</td>\n",
       "      <td>2.682700e+03</td>\n",
       "      <td>60.752906</td>\n",
       "      <td>0.000000</td>\n",
       "      <td>0.000000</td>\n",
       "    </tr>\n",
       "    <tr>\n",
       "      <th>22</th>\n",
       "      <td>Algeria</td>\n",
       "      <td>nuclear</td>\n",
       "      <td>1980</td>\n",
       "      <td>0.000000</td>\n",
       "      <td>0.000000</td>\n",
       "      <td>NaN</td>\n",
       "      <td>1.922170e+04</td>\n",
       "      <td>40.615303</td>\n",
       "      <td>0.000000</td>\n",
       "      <td>0.000000</td>\n",
       "    </tr>\n",
       "    <tr>\n",
       "      <th>23</th>\n",
       "      <td>Algeria</td>\n",
       "      <td>renewables_n_other</td>\n",
       "      <td>1980</td>\n",
       "      <td>0.002607</td>\n",
       "      <td>0.002576</td>\n",
       "      <td>NaN</td>\n",
       "      <td>1.922170e+04</td>\n",
       "      <td>40.615303</td>\n",
       "      <td>0.000000</td>\n",
       "      <td>0.000000</td>\n",
       "    </tr>\n",
       "    <tr>\n",
       "      <th>28</th>\n",
       "      <td>American Samoa</td>\n",
       "      <td>nuclear</td>\n",
       "      <td>1980</td>\n",
       "      <td>0.000000</td>\n",
       "      <td>0.000000</td>\n",
       "      <td>NaN</td>\n",
       "      <td>3.264600e+01</td>\n",
       "      <td>180.515604</td>\n",
       "      <td>0.000000</td>\n",
       "      <td>0.000000</td>\n",
       "    </tr>\n",
       "    <tr>\n",
       "      <th>29</th>\n",
       "      <td>American Samoa</td>\n",
       "      <td>renewables_n_other</td>\n",
       "      <td>1980</td>\n",
       "      <td>0.000000</td>\n",
       "      <td>0.000000</td>\n",
       "      <td>NaN</td>\n",
       "      <td>3.264600e+01</td>\n",
       "      <td>180.515604</td>\n",
       "      <td>0.000000</td>\n",
       "      <td>0.000000</td>\n",
       "    </tr>\n",
       "    <tr>\n",
       "      <th>34</th>\n",
       "      <td>Angola</td>\n",
       "      <td>nuclear</td>\n",
       "      <td>1980</td>\n",
       "      <td>0.000000</td>\n",
       "      <td>0.000000</td>\n",
       "      <td>NaN</td>\n",
       "      <td>8.341290e+03</td>\n",
       "      <td>6.997257</td>\n",
       "      <td>0.000000</td>\n",
       "      <td>0.000000</td>\n",
       "    </tr>\n",
       "    <tr>\n",
       "      <th>35</th>\n",
       "      <td>Angola</td>\n",
       "      <td>renewables_n_other</td>\n",
       "      <td>1980</td>\n",
       "      <td>0.005506</td>\n",
       "      <td>0.005506</td>\n",
       "      <td>NaN</td>\n",
       "      <td>8.341290e+03</td>\n",
       "      <td>6.997257</td>\n",
       "      <td>0.000000</td>\n",
       "      <td>0.000000</td>\n",
       "    </tr>\n",
       "    <tr>\n",
       "      <th>41</th>\n",
       "      <td>Antarctica</td>\n",
       "      <td>renewables_n_other</td>\n",
       "      <td>1980</td>\n",
       "      <td>0.000000</td>\n",
       "      <td>0.000000</td>\n",
       "      <td>NaN</td>\n",
       "      <td>NaN</td>\n",
       "      <td>0.000000</td>\n",
       "      <td>0.000000</td>\n",
       "      <td>0.000000</td>\n",
       "    </tr>\n",
       "    <tr>\n",
       "      <th>47</th>\n",
       "      <td>Antigua and Barbuda</td>\n",
       "      <td>renewables_n_other</td>\n",
       "      <td>1980</td>\n",
       "      <td>0.000000</td>\n",
       "      <td>0.000000</td>\n",
       "      <td>NaN</td>\n",
       "      <td>NaN</td>\n",
       "      <td>0.000000</td>\n",
       "      <td>0.000000</td>\n",
       "      <td>0.000000</td>\n",
       "    </tr>\n",
       "    <tr>\n",
       "      <th>52</th>\n",
       "      <td>Argentina</td>\n",
       "      <td>nuclear</td>\n",
       "      <td>1980</td>\n",
       "      <td>0.025889</td>\n",
       "      <td>0.025889</td>\n",
       "      <td>453.819000</td>\n",
       "      <td>2.795193e+04</td>\n",
       "      <td>61.286935</td>\n",
       "      <td>3.774827</td>\n",
       "      <td>0.000000</td>\n",
       "    </tr>\n",
       "    <tr>\n",
       "      <th>53</th>\n",
       "      <td>Argentina</td>\n",
       "      <td>renewables_n_other</td>\n",
       "      <td>1980</td>\n",
       "      <td>0.182717</td>\n",
       "      <td>0.180886</td>\n",
       "      <td>453.819000</td>\n",
       "      <td>2.795193e+04</td>\n",
       "      <td>61.286935</td>\n",
       "      <td>3.774827</td>\n",
       "      <td>0.000000</td>\n",
       "    </tr>\n",
       "  </tbody>\n",
       "</table>\n",
       "</div>"
      ],
      "text/plain": [
       "                Country                Energy_type  Year  Energy_consumption  \\\n",
       "0                 World           all_energy_types  1980          292.899790   \n",
       "1                 World                       coal  1980           78.656134   \n",
       "2                 World                natural_gas  1980           53.865223   \n",
       "3                 World  petroleum_n_other_liquids  1980          132.064019   \n",
       "4                 World                    nuclear  1980            7.575700   \n",
       "5                 World         renewables_n_other  1980           20.702344   \n",
       "10          Afghanistan                    nuclear  1980            0.000000   \n",
       "11          Afghanistan         renewables_n_other  1980            0.007386   \n",
       "16              Albania                    nuclear  1980            0.000000   \n",
       "17              Albania         renewables_n_other  1980            0.028897   \n",
       "22              Algeria                    nuclear  1980            0.000000   \n",
       "23              Algeria         renewables_n_other  1980            0.002607   \n",
       "28       American Samoa                    nuclear  1980            0.000000   \n",
       "29       American Samoa         renewables_n_other  1980            0.000000   \n",
       "34               Angola                    nuclear  1980            0.000000   \n",
       "35               Angola         renewables_n_other  1980            0.005506   \n",
       "41           Antarctica         renewables_n_other  1980            0.000000   \n",
       "47  Antigua and Barbuda         renewables_n_other  1980            0.000000   \n",
       "52            Argentina                    nuclear  1980            0.025889   \n",
       "53            Argentina         renewables_n_other  1980            0.182717   \n",
       "\n",
       "    Energy_production           GDP    Population  \\\n",
       "0          296.337228  27770.910281  4.298127e+06   \n",
       "1           80.114194  27770.910281  4.298127e+06   \n",
       "2           54.761046  27770.910281  4.298127e+06   \n",
       "3          133.111109  27770.910281  4.298127e+06   \n",
       "4            7.575700  27770.910281  4.298127e+06   \n",
       "5           20.775178  27770.910281  4.298127e+06   \n",
       "10           0.000000           NaN  1.335650e+04   \n",
       "11           0.007386           NaN  1.335650e+04   \n",
       "16           0.000000           NaN  2.682700e+03   \n",
       "17           0.030323           NaN  2.682700e+03   \n",
       "22           0.000000           NaN  1.922170e+04   \n",
       "23           0.002576           NaN  1.922170e+04   \n",
       "28           0.000000           NaN  3.264600e+01   \n",
       "29           0.000000           NaN  3.264600e+01   \n",
       "34           0.000000           NaN  8.341290e+03   \n",
       "35           0.005506           NaN  8.341290e+03   \n",
       "41           0.000000           NaN           NaN   \n",
       "47           0.000000           NaN           NaN   \n",
       "52           0.025889    453.819000  2.795193e+04   \n",
       "53           0.180886    453.819000  2.795193e+04   \n",
       "\n",
       "    Energy_intensity_per_capita  Energy_intensity_by_GDP  CO2_emission  \n",
       "0                     68.145921                10.547000   4946.627130  \n",
       "1                     68.145921                10.547000   1409.790188  \n",
       "2                     68.145921                10.547000   1081.593377  \n",
       "3                     68.145921                10.547000   2455.243565  \n",
       "4                     68.145921                10.547000      0.000000  \n",
       "5                     68.145921                10.547000      0.000000  \n",
       "10                     1.990283                 0.000000      0.000000  \n",
       "11                     1.990283                 0.000000      0.000000  \n",
       "16                    60.752906                 0.000000      0.000000  \n",
       "17                    60.752906                 0.000000      0.000000  \n",
       "22                    40.615303                 0.000000      0.000000  \n",
       "23                    40.615303                 0.000000      0.000000  \n",
       "28                   180.515604                 0.000000      0.000000  \n",
       "29                   180.515604                 0.000000      0.000000  \n",
       "34                     6.997257                 0.000000      0.000000  \n",
       "35                     6.997257                 0.000000      0.000000  \n",
       "41                     0.000000                 0.000000      0.000000  \n",
       "47                     0.000000                 0.000000      0.000000  \n",
       "52                    61.286935                 3.774827      0.000000  \n",
       "53                    61.286935                 3.774827      0.000000  "
      ]
     },
     "execution_count": 1483,
     "metadata": {},
     "output_type": "execute_result"
    }
   ],
   "source": [
    "energy.head(20)"
   ]
  },
  {
   "cell_type": "code",
   "execution_count": 1484,
   "metadata": {},
   "outputs": [
    {
     "data": {
      "text/plain": [
       "World                  240\n",
       "United States          240\n",
       "Senegal                236\n",
       "Ethiopia               236\n",
       "Bahrain                236\n",
       "                      ... \n",
       "Montenegro              80\n",
       "Serbia                  80\n",
       "Kosovo                  68\n",
       "South Sudan             44\n",
       "Hawaiian Trade Zone     31\n",
       "Name: Country, Length: 223, dtype: int64"
      ]
     },
     "execution_count": 1484,
     "metadata": {},
     "output_type": "execute_result"
    }
   ],
   "source": [
    "energy['Country'].value_counts()"
   ]
  },
  {
   "cell_type": "code",
   "execution_count": 1485,
   "metadata": {},
   "outputs": [],
   "source": [
    "#Group nulls under GDP & Country to find which countries have more than 90 GDP values. 90 is close to a 40% cutoff\n",
    "gdpnull = energy['GDP'].isnull().groupby(energy['Country']).sum()\n",
    "gdp_nulls= pd.DataFrame(gdpnull).reset_index()"
   ]
  },
  {
   "cell_type": "code",
   "execution_count": 1486,
   "metadata": {},
   "outputs": [
    {
     "data": {
      "text/html": [
       "<div>\n",
       "<style scoped>\n",
       "    .dataframe tbody tr th:only-of-type {\n",
       "        vertical-align: middle;\n",
       "    }\n",
       "\n",
       "    .dataframe tbody tr th {\n",
       "        vertical-align: top;\n",
       "    }\n",
       "\n",
       "    .dataframe thead th {\n",
       "        text-align: right;\n",
       "    }\n",
       "</style>\n",
       "<table border=\"1\" class=\"dataframe\">\n",
       "  <thead>\n",
       "    <tr style=\"text-align: right;\">\n",
       "      <th></th>\n",
       "      <th>Country</th>\n",
       "      <th>GDP</th>\n",
       "    </tr>\n",
       "  </thead>\n",
       "  <tbody>\n",
       "    <tr>\n",
       "      <th>3</th>\n",
       "      <td>American Samoa</td>\n",
       "      <td>134.0</td>\n",
       "    </tr>\n",
       "    <tr>\n",
       "      <th>5</th>\n",
       "      <td>Antarctica</td>\n",
       "      <td>196.0</td>\n",
       "    </tr>\n",
       "    <tr>\n",
       "      <th>45</th>\n",
       "      <td>Cook Islands</td>\n",
       "      <td>196.0</td>\n",
       "    </tr>\n",
       "    <tr>\n",
       "      <th>64</th>\n",
       "      <td>Falkland Islands</td>\n",
       "      <td>196.0</td>\n",
       "    </tr>\n",
       "    <tr>\n",
       "      <th>65</th>\n",
       "      <td>Faroe Islands</td>\n",
       "      <td>183.0</td>\n",
       "    </tr>\n",
       "    <tr>\n",
       "      <th>69</th>\n",
       "      <td>French Guiana</td>\n",
       "      <td>196.0</td>\n",
       "    </tr>\n",
       "    <tr>\n",
       "      <th>70</th>\n",
       "      <td>French Polynesia</td>\n",
       "      <td>196.0</td>\n",
       "    </tr>\n",
       "    <tr>\n",
       "      <th>76</th>\n",
       "      <td>Gibraltar</td>\n",
       "      <td>196.0</td>\n",
       "    </tr>\n",
       "    <tr>\n",
       "      <th>81</th>\n",
       "      <td>Guam</td>\n",
       "      <td>134.0</td>\n",
       "    </tr>\n",
       "    <tr>\n",
       "      <th>126</th>\n",
       "      <td>Micronesia</td>\n",
       "      <td>161.0</td>\n",
       "    </tr>\n",
       "    <tr>\n",
       "      <th>130</th>\n",
       "      <td>Montserrat</td>\n",
       "      <td>196.0</td>\n",
       "    </tr>\n",
       "    <tr>\n",
       "      <th>134</th>\n",
       "      <td>Nauru</td>\n",
       "      <td>196.0</td>\n",
       "    </tr>\n",
       "    <tr>\n",
       "      <th>138</th>\n",
       "      <td>New Caledonia</td>\n",
       "      <td>196.0</td>\n",
       "    </tr>\n",
       "    <tr>\n",
       "      <th>143</th>\n",
       "      <td>Niue</td>\n",
       "      <td>196.0</td>\n",
       "    </tr>\n",
       "    <tr>\n",
       "      <th>146</th>\n",
       "      <td>Northern Mariana Islands</td>\n",
       "      <td>91.0</td>\n",
       "    </tr>\n",
       "    <tr>\n",
       "      <th>163</th>\n",
       "      <td>Saint Helena</td>\n",
       "      <td>195.0</td>\n",
       "    </tr>\n",
       "    <tr>\n",
       "      <th>166</th>\n",
       "      <td>Saint Pierre and Miquelon</td>\n",
       "      <td>196.0</td>\n",
       "    </tr>\n",
       "    <tr>\n",
       "      <th>202</th>\n",
       "      <td>Turks and Caicos Islands</td>\n",
       "      <td>175.0</td>\n",
       "    </tr>\n",
       "    <tr>\n",
       "      <th>203</th>\n",
       "      <td>Tuvalu</td>\n",
       "      <td>158.0</td>\n",
       "    </tr>\n",
       "    <tr>\n",
       "      <th>204</th>\n",
       "      <td>U.S. Pacific Islands</td>\n",
       "      <td>196.0</td>\n",
       "    </tr>\n",
       "    <tr>\n",
       "      <th>205</th>\n",
       "      <td>U.S. Territories</td>\n",
       "      <td>158.0</td>\n",
       "    </tr>\n",
       "    <tr>\n",
       "      <th>217</th>\n",
       "      <td>Wake Island</td>\n",
       "      <td>196.0</td>\n",
       "    </tr>\n",
       "    <tr>\n",
       "      <th>218</th>\n",
       "      <td>Western Sahara</td>\n",
       "      <td>196.0</td>\n",
       "    </tr>\n",
       "  </tbody>\n",
       "</table>\n",
       "</div>"
      ],
      "text/plain": [
       "                       Country    GDP\n",
       "3               American Samoa  134.0\n",
       "5                   Antarctica  196.0\n",
       "45                Cook Islands  196.0\n",
       "64            Falkland Islands  196.0\n",
       "65               Faroe Islands  183.0\n",
       "69               French Guiana  196.0\n",
       "70            French Polynesia  196.0\n",
       "76                   Gibraltar  196.0\n",
       "81                        Guam  134.0\n",
       "126                 Micronesia  161.0\n",
       "130                 Montserrat  196.0\n",
       "134                      Nauru  196.0\n",
       "138              New Caledonia  196.0\n",
       "143                       Niue  196.0\n",
       "146   Northern Mariana Islands   91.0\n",
       "163               Saint Helena  195.0\n",
       "166  Saint Pierre and Miquelon  196.0\n",
       "202   Turks and Caicos Islands  175.0\n",
       "203                     Tuvalu  158.0\n",
       "204       U.S. Pacific Islands  196.0\n",
       "205           U.S. Territories  158.0\n",
       "217                Wake Island  196.0\n",
       "218             Western Sahara  196.0"
      ]
     },
     "execution_count": 1486,
     "metadata": {},
     "output_type": "execute_result"
    }
   ],
   "source": [
    "GDP90 = gdp_nulls[gdp_nulls['GDP']>=90]\n",
    "GDP90"
   ]
  },
  {
   "cell_type": "code",
   "execution_count": 1487,
   "metadata": {},
   "outputs": [],
   "source": [
    "gdplist= [x for x in GDP90['Country']]"
   ]
  },
  {
   "cell_type": "code",
   "execution_count": 1488,
   "metadata": {},
   "outputs": [
    {
     "data": {
      "text/plain": [
       "['American Samoa',\n",
       " 'Antarctica',\n",
       " 'Cook Islands',\n",
       " 'Falkland Islands',\n",
       " 'Faroe Islands',\n",
       " 'French Guiana',\n",
       " 'French Polynesia',\n",
       " 'Gibraltar',\n",
       " 'Guam',\n",
       " 'Micronesia',\n",
       " 'Montserrat',\n",
       " 'Nauru',\n",
       " 'New Caledonia',\n",
       " 'Niue',\n",
       " 'Northern Mariana Islands',\n",
       " 'Saint Helena',\n",
       " 'Saint Pierre and Miquelon',\n",
       " 'Turks and Caicos Islands',\n",
       " 'Tuvalu',\n",
       " 'U.S. Pacific Islands',\n",
       " 'U.S. Territories',\n",
       " 'Wake Island',\n",
       " 'Western Sahara']"
      ]
     },
     "execution_count": 1488,
     "metadata": {},
     "output_type": "execute_result"
    }
   ],
   "source": [
    "gdplist"
   ]
  },
  {
   "cell_type": "code",
   "execution_count": 1489,
   "metadata": {},
   "outputs": [],
   "source": [
    "#Dropping countries with too many GDP nulls\n",
    "for country in gdplist:\n",
    "    value = energy[energy['Country']==country].index\n",
    "    energy.drop(labels=value, axis=0, inplace=True)"
   ]
  },
  {
   "cell_type": "code",
   "execution_count": 1490,
   "metadata": {},
   "outputs": [
    {
     "data": {
      "text/plain": [
       "Index(['Country', 'Energy_type', 'Year', 'Energy_consumption',\n",
       "       'Energy_production', 'GDP', 'Population', 'Energy_intensity_per_capita',\n",
       "       'Energy_intensity_by_GDP', 'CO2_emission'],\n",
       "      dtype='object')"
      ]
     },
     "execution_count": 1490,
     "metadata": {},
     "output_type": "execute_result"
    }
   ],
   "source": [
    "energy.columns"
   ]
  },
  {
   "cell_type": "code",
   "execution_count": 1491,
   "metadata": {},
   "outputs": [
    {
     "name": "stderr",
     "output_type": "stream",
     "text": [
      "<ipython-input-1491-d884754b4c54>:1: FutureWarning:\n",
      "\n",
      "Indexing with multiple keys (implicitly converted to a tuple of keys) will be deprecated, use a list instead.\n",
      "\n"
     ]
    },
    {
     "data": {
      "text/html": [
       "<div>\n",
       "<style scoped>\n",
       "    .dataframe tbody tr th:only-of-type {\n",
       "        vertical-align: middle;\n",
       "    }\n",
       "\n",
       "    .dataframe tbody tr th {\n",
       "        vertical-align: top;\n",
       "    }\n",
       "\n",
       "    .dataframe thead th {\n",
       "        text-align: right;\n",
       "    }\n",
       "</style>\n",
       "<table border=\"1\" class=\"dataframe\">\n",
       "  <thead>\n",
       "    <tr style=\"text-align: right;\">\n",
       "      <th></th>\n",
       "      <th>Energy_consumption</th>\n",
       "      <th>Energy_production</th>\n",
       "      <th>GDP</th>\n",
       "      <th>Population</th>\n",
       "      <th>Energy_intensity_per_capita</th>\n",
       "      <th>Energy_intensity_by_GDP</th>\n",
       "      <th>CO2_emission</th>\n",
       "    </tr>\n",
       "    <tr>\n",
       "      <th>Year</th>\n",
       "      <th></th>\n",
       "      <th></th>\n",
       "      <th></th>\n",
       "      <th></th>\n",
       "      <th></th>\n",
       "      <th></th>\n",
       "      <th></th>\n",
       "    </tr>\n",
       "  </thead>\n",
       "  <tbody>\n",
       "    <tr>\n",
       "      <th>1980</th>\n",
       "      <td>336</td>\n",
       "      <td>336</td>\n",
       "      <td>109</td>\n",
       "      <td>331</td>\n",
       "      <td>331</td>\n",
       "      <td>331</td>\n",
       "      <td>336</td>\n",
       "    </tr>\n",
       "    <tr>\n",
       "      <th>1981</th>\n",
       "      <td>1003</td>\n",
       "      <td>1003</td>\n",
       "      <td>310</td>\n",
       "      <td>978</td>\n",
       "      <td>979</td>\n",
       "      <td>979</td>\n",
       "      <td>1003</td>\n",
       "    </tr>\n",
       "    <tr>\n",
       "      <th>1982</th>\n",
       "      <td>1003</td>\n",
       "      <td>1003</td>\n",
       "      <td>310</td>\n",
       "      <td>978</td>\n",
       "      <td>979</td>\n",
       "      <td>979</td>\n",
       "      <td>1003</td>\n",
       "    </tr>\n",
       "    <tr>\n",
       "      <th>1983</th>\n",
       "      <td>1003</td>\n",
       "      <td>1003</td>\n",
       "      <td>310</td>\n",
       "      <td>978</td>\n",
       "      <td>979</td>\n",
       "      <td>979</td>\n",
       "      <td>1003</td>\n",
       "    </tr>\n",
       "    <tr>\n",
       "      <th>1984</th>\n",
       "      <td>1003</td>\n",
       "      <td>1003</td>\n",
       "      <td>310</td>\n",
       "      <td>978</td>\n",
       "      <td>979</td>\n",
       "      <td>979</td>\n",
       "      <td>1003</td>\n",
       "    </tr>\n",
       "    <tr>\n",
       "      <th>1985</th>\n",
       "      <td>1003</td>\n",
       "      <td>1003</td>\n",
       "      <td>310</td>\n",
       "      <td>978</td>\n",
       "      <td>979</td>\n",
       "      <td>979</td>\n",
       "      <td>1003</td>\n",
       "    </tr>\n",
       "    <tr>\n",
       "      <th>1986</th>\n",
       "      <td>1005</td>\n",
       "      <td>1005</td>\n",
       "      <td>310</td>\n",
       "      <td>980</td>\n",
       "      <td>981</td>\n",
       "      <td>981</td>\n",
       "      <td>1005</td>\n",
       "    </tr>\n",
       "    <tr>\n",
       "      <th>1987</th>\n",
       "      <td>1004</td>\n",
       "      <td>1004</td>\n",
       "      <td>310</td>\n",
       "      <td>984</td>\n",
       "      <td>980</td>\n",
       "      <td>980</td>\n",
       "      <td>1004</td>\n",
       "    </tr>\n",
       "    <tr>\n",
       "      <th>1988</th>\n",
       "      <td>1008</td>\n",
       "      <td>1008</td>\n",
       "      <td>972</td>\n",
       "      <td>1008</td>\n",
       "      <td>984</td>\n",
       "      <td>984</td>\n",
       "      <td>1008</td>\n",
       "    </tr>\n",
       "    <tr>\n",
       "      <th>1989</th>\n",
       "      <td>1008</td>\n",
       "      <td>1008</td>\n",
       "      <td>972</td>\n",
       "      <td>1008</td>\n",
       "      <td>984</td>\n",
       "      <td>984</td>\n",
       "      <td>1008</td>\n",
       "    </tr>\n",
       "    <tr>\n",
       "      <th>1990</th>\n",
       "      <td>1010</td>\n",
       "      <td>1010</td>\n",
       "      <td>998</td>\n",
       "      <td>1010</td>\n",
       "      <td>986</td>\n",
       "      <td>986</td>\n",
       "      <td>1010</td>\n",
       "    </tr>\n",
       "    <tr>\n",
       "      <th>1991</th>\n",
       "      <td>1016</td>\n",
       "      <td>1016</td>\n",
       "      <td>1004</td>\n",
       "      <td>1016</td>\n",
       "      <td>992</td>\n",
       "      <td>992</td>\n",
       "      <td>1016</td>\n",
       "    </tr>\n",
       "    <tr>\n",
       "      <th>1992</th>\n",
       "      <td>1058</td>\n",
       "      <td>1058</td>\n",
       "      <td>1050</td>\n",
       "      <td>1058</td>\n",
       "      <td>1034</td>\n",
       "      <td>1034</td>\n",
       "      <td>1058</td>\n",
       "    </tr>\n",
       "    <tr>\n",
       "      <th>1993</th>\n",
       "      <td>1139</td>\n",
       "      <td>1139</td>\n",
       "      <td>1127</td>\n",
       "      <td>1139</td>\n",
       "      <td>1114</td>\n",
       "      <td>1114</td>\n",
       "      <td>1139</td>\n",
       "    </tr>\n",
       "    <tr>\n",
       "      <th>1994</th>\n",
       "      <td>1149</td>\n",
       "      <td>1149</td>\n",
       "      <td>1137</td>\n",
       "      <td>1149</td>\n",
       "      <td>1124</td>\n",
       "      <td>1124</td>\n",
       "      <td>1149</td>\n",
       "    </tr>\n",
       "    <tr>\n",
       "      <th>1995</th>\n",
       "      <td>1153</td>\n",
       "      <td>1153</td>\n",
       "      <td>1153</td>\n",
       "      <td>1153</td>\n",
       "      <td>1128</td>\n",
       "      <td>1128</td>\n",
       "      <td>1153</td>\n",
       "    </tr>\n",
       "    <tr>\n",
       "      <th>1996</th>\n",
       "      <td>1153</td>\n",
       "      <td>1153</td>\n",
       "      <td>1153</td>\n",
       "      <td>1153</td>\n",
       "      <td>1128</td>\n",
       "      <td>1128</td>\n",
       "      <td>1153</td>\n",
       "    </tr>\n",
       "    <tr>\n",
       "      <th>1997</th>\n",
       "      <td>1155</td>\n",
       "      <td>1155</td>\n",
       "      <td>1155</td>\n",
       "      <td>1155</td>\n",
       "      <td>1130</td>\n",
       "      <td>1130</td>\n",
       "      <td>1155</td>\n",
       "    </tr>\n",
       "    <tr>\n",
       "      <th>1998</th>\n",
       "      <td>1159</td>\n",
       "      <td>1159</td>\n",
       "      <td>1159</td>\n",
       "      <td>1159</td>\n",
       "      <td>1134</td>\n",
       "      <td>1134</td>\n",
       "      <td>1159</td>\n",
       "    </tr>\n",
       "    <tr>\n",
       "      <th>1999</th>\n",
       "      <td>1159</td>\n",
       "      <td>1159</td>\n",
       "      <td>1159</td>\n",
       "      <td>1159</td>\n",
       "      <td>1134</td>\n",
       "      <td>1134</td>\n",
       "      <td>1159</td>\n",
       "    </tr>\n",
       "    <tr>\n",
       "      <th>2000</th>\n",
       "      <td>1159</td>\n",
       "      <td>1159</td>\n",
       "      <td>1159</td>\n",
       "      <td>1159</td>\n",
       "      <td>1134</td>\n",
       "      <td>1134</td>\n",
       "      <td>1159</td>\n",
       "    </tr>\n",
       "    <tr>\n",
       "      <th>2001</th>\n",
       "      <td>1159</td>\n",
       "      <td>1159</td>\n",
       "      <td>1159</td>\n",
       "      <td>1159</td>\n",
       "      <td>1134</td>\n",
       "      <td>1134</td>\n",
       "      <td>1159</td>\n",
       "    </tr>\n",
       "    <tr>\n",
       "      <th>2002</th>\n",
       "      <td>1159</td>\n",
       "      <td>1159</td>\n",
       "      <td>1159</td>\n",
       "      <td>1159</td>\n",
       "      <td>1134</td>\n",
       "      <td>1134</td>\n",
       "      <td>1159</td>\n",
       "    </tr>\n",
       "    <tr>\n",
       "      <th>2003</th>\n",
       "      <td>1161</td>\n",
       "      <td>1161</td>\n",
       "      <td>1161</td>\n",
       "      <td>1161</td>\n",
       "      <td>1136</td>\n",
       "      <td>1136</td>\n",
       "      <td>1161</td>\n",
       "    </tr>\n",
       "    <tr>\n",
       "      <th>2004</th>\n",
       "      <td>1165</td>\n",
       "      <td>1165</td>\n",
       "      <td>1165</td>\n",
       "      <td>1165</td>\n",
       "      <td>1140</td>\n",
       "      <td>1140</td>\n",
       "      <td>1165</td>\n",
       "    </tr>\n",
       "    <tr>\n",
       "      <th>2005</th>\n",
       "      <td>1165</td>\n",
       "      <td>1165</td>\n",
       "      <td>1165</td>\n",
       "      <td>1165</td>\n",
       "      <td>1140</td>\n",
       "      <td>1140</td>\n",
       "      <td>1165</td>\n",
       "    </tr>\n",
       "    <tr>\n",
       "      <th>2006</th>\n",
       "      <td>1169</td>\n",
       "      <td>1169</td>\n",
       "      <td>1169</td>\n",
       "      <td>1169</td>\n",
       "      <td>1144</td>\n",
       "      <td>1144</td>\n",
       "      <td>1169</td>\n",
       "    </tr>\n",
       "    <tr>\n",
       "      <th>2007</th>\n",
       "      <td>1177</td>\n",
       "      <td>1177</td>\n",
       "      <td>1177</td>\n",
       "      <td>1177</td>\n",
       "      <td>1152</td>\n",
       "      <td>1152</td>\n",
       "      <td>1177</td>\n",
       "    </tr>\n",
       "    <tr>\n",
       "      <th>2008</th>\n",
       "      <td>1179</td>\n",
       "      <td>1179</td>\n",
       "      <td>1179</td>\n",
       "      <td>1179</td>\n",
       "      <td>1154</td>\n",
       "      <td>1154</td>\n",
       "      <td>1179</td>\n",
       "    </tr>\n",
       "    <tr>\n",
       "      <th>2009</th>\n",
       "      <td>1183</td>\n",
       "      <td>1183</td>\n",
       "      <td>1183</td>\n",
       "      <td>1183</td>\n",
       "      <td>1158</td>\n",
       "      <td>1158</td>\n",
       "      <td>1183</td>\n",
       "    </tr>\n",
       "    <tr>\n",
       "      <th>2010</th>\n",
       "      <td>1183</td>\n",
       "      <td>1183</td>\n",
       "      <td>1183</td>\n",
       "      <td>1183</td>\n",
       "      <td>1158</td>\n",
       "      <td>1158</td>\n",
       "      <td>1183</td>\n",
       "    </tr>\n",
       "    <tr>\n",
       "      <th>2011</th>\n",
       "      <td>1183</td>\n",
       "      <td>1183</td>\n",
       "      <td>1183</td>\n",
       "      <td>1183</td>\n",
       "      <td>1158</td>\n",
       "      <td>1158</td>\n",
       "      <td>1183</td>\n",
       "    </tr>\n",
       "    <tr>\n",
       "      <th>2012</th>\n",
       "      <td>1185</td>\n",
       "      <td>1185</td>\n",
       "      <td>1185</td>\n",
       "      <td>1185</td>\n",
       "      <td>1160</td>\n",
       "      <td>1160</td>\n",
       "      <td>1185</td>\n",
       "    </tr>\n",
       "    <tr>\n",
       "      <th>2013</th>\n",
       "      <td>1189</td>\n",
       "      <td>1189</td>\n",
       "      <td>1189</td>\n",
       "      <td>1189</td>\n",
       "      <td>1164</td>\n",
       "      <td>1164</td>\n",
       "      <td>1189</td>\n",
       "    </tr>\n",
       "    <tr>\n",
       "      <th>2014</th>\n",
       "      <td>1189</td>\n",
       "      <td>1189</td>\n",
       "      <td>1189</td>\n",
       "      <td>1189</td>\n",
       "      <td>1164</td>\n",
       "      <td>1164</td>\n",
       "      <td>1189</td>\n",
       "    </tr>\n",
       "    <tr>\n",
       "      <th>2015</th>\n",
       "      <td>1189</td>\n",
       "      <td>1189</td>\n",
       "      <td>1189</td>\n",
       "      <td>1189</td>\n",
       "      <td>1164</td>\n",
       "      <td>1164</td>\n",
       "      <td>1189</td>\n",
       "    </tr>\n",
       "    <tr>\n",
       "      <th>2016</th>\n",
       "      <td>1189</td>\n",
       "      <td>1189</td>\n",
       "      <td>1189</td>\n",
       "      <td>1189</td>\n",
       "      <td>1164</td>\n",
       "      <td>1164</td>\n",
       "      <td>1189</td>\n",
       "    </tr>\n",
       "    <tr>\n",
       "      <th>2017</th>\n",
       "      <td>1189</td>\n",
       "      <td>1189</td>\n",
       "      <td>1189</td>\n",
       "      <td>1189</td>\n",
       "      <td>1164</td>\n",
       "      <td>1164</td>\n",
       "      <td>1189</td>\n",
       "    </tr>\n",
       "    <tr>\n",
       "      <th>2018</th>\n",
       "      <td>1189</td>\n",
       "      <td>1189</td>\n",
       "      <td>1189</td>\n",
       "      <td>1189</td>\n",
       "      <td>1164</td>\n",
       "      <td>1164</td>\n",
       "      <td>1189</td>\n",
       "    </tr>\n",
       "    <tr>\n",
       "      <th>2019</th>\n",
       "      <td>1189</td>\n",
       "      <td>1189</td>\n",
       "      <td>1189</td>\n",
       "      <td>1189</td>\n",
       "      <td>1164</td>\n",
       "      <td>1164</td>\n",
       "      <td>1189</td>\n",
       "    </tr>\n",
       "  </tbody>\n",
       "</table>\n",
       "</div>"
      ],
      "text/plain": [
       "      Energy_consumption  Energy_production   GDP  Population  \\\n",
       "Year                                                            \n",
       "1980                 336                336   109         331   \n",
       "1981                1003               1003   310         978   \n",
       "1982                1003               1003   310         978   \n",
       "1983                1003               1003   310         978   \n",
       "1984                1003               1003   310         978   \n",
       "1985                1003               1003   310         978   \n",
       "1986                1005               1005   310         980   \n",
       "1987                1004               1004   310         984   \n",
       "1988                1008               1008   972        1008   \n",
       "1989                1008               1008   972        1008   \n",
       "1990                1010               1010   998        1010   \n",
       "1991                1016               1016  1004        1016   \n",
       "1992                1058               1058  1050        1058   \n",
       "1993                1139               1139  1127        1139   \n",
       "1994                1149               1149  1137        1149   \n",
       "1995                1153               1153  1153        1153   \n",
       "1996                1153               1153  1153        1153   \n",
       "1997                1155               1155  1155        1155   \n",
       "1998                1159               1159  1159        1159   \n",
       "1999                1159               1159  1159        1159   \n",
       "2000                1159               1159  1159        1159   \n",
       "2001                1159               1159  1159        1159   \n",
       "2002                1159               1159  1159        1159   \n",
       "2003                1161               1161  1161        1161   \n",
       "2004                1165               1165  1165        1165   \n",
       "2005                1165               1165  1165        1165   \n",
       "2006                1169               1169  1169        1169   \n",
       "2007                1177               1177  1177        1177   \n",
       "2008                1179               1179  1179        1179   \n",
       "2009                1183               1183  1183        1183   \n",
       "2010                1183               1183  1183        1183   \n",
       "2011                1183               1183  1183        1183   \n",
       "2012                1185               1185  1185        1185   \n",
       "2013                1189               1189  1189        1189   \n",
       "2014                1189               1189  1189        1189   \n",
       "2015                1189               1189  1189        1189   \n",
       "2016                1189               1189  1189        1189   \n",
       "2017                1189               1189  1189        1189   \n",
       "2018                1189               1189  1189        1189   \n",
       "2019                1189               1189  1189        1189   \n",
       "\n",
       "      Energy_intensity_per_capita  Energy_intensity_by_GDP  CO2_emission  \n",
       "Year                                                                      \n",
       "1980                          331                      331           336  \n",
       "1981                          979                      979          1003  \n",
       "1982                          979                      979          1003  \n",
       "1983                          979                      979          1003  \n",
       "1984                          979                      979          1003  \n",
       "1985                          979                      979          1003  \n",
       "1986                          981                      981          1005  \n",
       "1987                          980                      980          1004  \n",
       "1988                          984                      984          1008  \n",
       "1989                          984                      984          1008  \n",
       "1990                          986                      986          1010  \n",
       "1991                          992                      992          1016  \n",
       "1992                         1034                     1034          1058  \n",
       "1993                         1114                     1114          1139  \n",
       "1994                         1124                     1124          1149  \n",
       "1995                         1128                     1128          1153  \n",
       "1996                         1128                     1128          1153  \n",
       "1997                         1130                     1130          1155  \n",
       "1998                         1134                     1134          1159  \n",
       "1999                         1134                     1134          1159  \n",
       "2000                         1134                     1134          1159  \n",
       "2001                         1134                     1134          1159  \n",
       "2002                         1134                     1134          1159  \n",
       "2003                         1136                     1136          1161  \n",
       "2004                         1140                     1140          1165  \n",
       "2005                         1140                     1140          1165  \n",
       "2006                         1144                     1144          1169  \n",
       "2007                         1152                     1152          1177  \n",
       "2008                         1154                     1154          1179  \n",
       "2009                         1158                     1158          1183  \n",
       "2010                         1158                     1158          1183  \n",
       "2011                         1158                     1158          1183  \n",
       "2012                         1160                     1160          1185  \n",
       "2013                         1164                     1164          1189  \n",
       "2014                         1164                     1164          1189  \n",
       "2015                         1164                     1164          1189  \n",
       "2016                         1164                     1164          1189  \n",
       "2017                         1164                     1164          1189  \n",
       "2018                         1164                     1164          1189  \n",
       "2019                         1164                     1164          1189  "
      ]
     },
     "execution_count": 1491,
     "metadata": {},
     "output_type": "execute_result"
    }
   ],
   "source": [
    "energy.groupby('Year')['Energy_consumption', 'Energy_production', 'GDP', 'Population', 'Energy_intensity_per_capita', 'Energy_intensity_by_GDP', 'CO2_emission'].count()"
   ]
  },
  {
   "cell_type": "code",
   "execution_count": 1492,
   "metadata": {},
   "outputs": [],
   "source": [
    "#GDP is low for countries between 1980 and 1987. Excluding years before 1988\n",
    "energy= energy[energy['Year']>= 1988]"
   ]
  },
  {
   "cell_type": "code",
   "execution_count": 1493,
   "metadata": {},
   "outputs": [
    {
     "data": {
      "text/html": [
       "<div>\n",
       "<style scoped>\n",
       "    .dataframe tbody tr th:only-of-type {\n",
       "        vertical-align: middle;\n",
       "    }\n",
       "\n",
       "    .dataframe tbody tr th {\n",
       "        vertical-align: top;\n",
       "    }\n",
       "\n",
       "    .dataframe thead th {\n",
       "        text-align: right;\n",
       "    }\n",
       "</style>\n",
       "<table border=\"1\" class=\"dataframe\">\n",
       "  <thead>\n",
       "    <tr style=\"text-align: right;\">\n",
       "      <th></th>\n",
       "      <th>Country</th>\n",
       "      <th>Energy_type</th>\n",
       "      <th>Year</th>\n",
       "      <th>Energy_consumption</th>\n",
       "      <th>Energy_production</th>\n",
       "      <th>GDP</th>\n",
       "      <th>Population</th>\n",
       "      <th>Energy_intensity_per_capita</th>\n",
       "      <th>Energy_intensity_by_GDP</th>\n",
       "      <th>CO2_emission</th>\n",
       "    </tr>\n",
       "  </thead>\n",
       "  <tbody>\n",
       "    <tr>\n",
       "      <th>11088</th>\n",
       "      <td>World</td>\n",
       "      <td>all_energy_types</td>\n",
       "      <td>1988</td>\n",
       "      <td>345.560876</td>\n",
       "      <td>347.412863</td>\n",
       "      <td>42106.595403</td>\n",
       "      <td>4.927545e+06</td>\n",
       "      <td>70.128405</td>\n",
       "      <td>8.206811</td>\n",
       "      <td>21163.840556</td>\n",
       "    </tr>\n",
       "    <tr>\n",
       "      <th>11089</th>\n",
       "      <td>World</td>\n",
       "      <td>coal</td>\n",
       "      <td>1988</td>\n",
       "      <td>96.873178</td>\n",
       "      <td>98.484482</td>\n",
       "      <td>42106.595403</td>\n",
       "      <td>4.927545e+06</td>\n",
       "      <td>70.128405</td>\n",
       "      <td>8.206811</td>\n",
       "      <td>8930.924825</td>\n",
       "    </tr>\n",
       "    <tr>\n",
       "      <th>11090</th>\n",
       "      <td>World</td>\n",
       "      <td>natural_gas</td>\n",
       "      <td>1988</td>\n",
       "      <td>71.010048</td>\n",
       "      <td>71.852938</td>\n",
       "      <td>42106.595403</td>\n",
       "      <td>4.927545e+06</td>\n",
       "      <td>70.128405</td>\n",
       "      <td>8.206811</td>\n",
       "      <td>3571.676242</td>\n",
       "    </tr>\n",
       "    <tr>\n",
       "      <th>11091</th>\n",
       "      <td>World</td>\n",
       "      <td>petroleum_n_other_liquids</td>\n",
       "      <td>1988</td>\n",
       "      <td>133.445814</td>\n",
       "      <td>132.485303</td>\n",
       "      <td>42106.595403</td>\n",
       "      <td>4.927545e+06</td>\n",
       "      <td>70.128405</td>\n",
       "      <td>8.206811</td>\n",
       "      <td>8661.239490</td>\n",
       "    </tr>\n",
       "    <tr>\n",
       "      <th>11092</th>\n",
       "      <td>World</td>\n",
       "      <td>nuclear</td>\n",
       "      <td>1988</td>\n",
       "      <td>19.226897</td>\n",
       "      <td>19.226897</td>\n",
       "      <td>42106.595403</td>\n",
       "      <td>4.927545e+06</td>\n",
       "      <td>70.128405</td>\n",
       "      <td>8.206811</td>\n",
       "      <td>0.000000</td>\n",
       "    </tr>\n",
       "  </tbody>\n",
       "</table>\n",
       "</div>"
      ],
      "text/plain": [
       "      Country                Energy_type  Year  Energy_consumption  \\\n",
       "11088   World           all_energy_types  1988          345.560876   \n",
       "11089   World                       coal  1988           96.873178   \n",
       "11090   World                natural_gas  1988           71.010048   \n",
       "11091   World  petroleum_n_other_liquids  1988          133.445814   \n",
       "11092   World                    nuclear  1988           19.226897   \n",
       "\n",
       "       Energy_production           GDP    Population  \\\n",
       "11088         347.412863  42106.595403  4.927545e+06   \n",
       "11089          98.484482  42106.595403  4.927545e+06   \n",
       "11090          71.852938  42106.595403  4.927545e+06   \n",
       "11091         132.485303  42106.595403  4.927545e+06   \n",
       "11092          19.226897  42106.595403  4.927545e+06   \n",
       "\n",
       "       Energy_intensity_per_capita  Energy_intensity_by_GDP  CO2_emission  \n",
       "11088                    70.128405                 8.206811  21163.840556  \n",
       "11089                    70.128405                 8.206811   8930.924825  \n",
       "11090                    70.128405                 8.206811   3571.676242  \n",
       "11091                    70.128405                 8.206811   8661.239490  \n",
       "11092                    70.128405                 8.206811      0.000000  "
      ]
     },
     "execution_count": 1493,
     "metadata": {},
     "output_type": "execute_result"
    }
   ],
   "source": [
    "energy.head()"
   ]
  },
  {
   "cell_type": "code",
   "execution_count": 1494,
   "metadata": {},
   "outputs": [
    {
     "data": {
      "text/plain": [
       "renewables_n_other           6167\n",
       "all_energy_types             6137\n",
       "coal                         6137\n",
       "natural_gas                  6137\n",
       "petroleum_n_other_liquids    6132\n",
       "nuclear                      6007\n",
       "Name: Energy_type, dtype: int64"
      ]
     },
     "execution_count": 1494,
     "metadata": {},
     "output_type": "execute_result"
    }
   ],
   "source": [
    "energy['Energy_type'].value_counts()"
   ]
  },
  {
   "cell_type": "code",
   "execution_count": 1495,
   "metadata": {},
   "outputs": [],
   "source": [
    "eip= pd.DataFrame(energy['Energy_intensity_by_GDP'].isnull().groupby(energy['Country']).sum()).reset_index()\n",
    "\n",
    "eip= eip[eip['Energy_intensity_by_GDP'] > 0]"
   ]
  },
  {
   "cell_type": "code",
   "execution_count": 1496,
   "metadata": {},
   "outputs": [
    {
     "data": {
      "text/html": [
       "<div>\n",
       "<style scoped>\n",
       "    .dataframe tbody tr th:only-of-type {\n",
       "        vertical-align: middle;\n",
       "    }\n",
       "\n",
       "    .dataframe tbody tr th {\n",
       "        vertical-align: top;\n",
       "    }\n",
       "\n",
       "    .dataframe thead th {\n",
       "        text-align: right;\n",
       "    }\n",
       "</style>\n",
       "<table border=\"1\" class=\"dataframe\">\n",
       "  <thead>\n",
       "    <tr style=\"text-align: right;\">\n",
       "      <th></th>\n",
       "      <th>Country</th>\n",
       "      <th>Energy_intensity_by_GDP</th>\n",
       "    </tr>\n",
       "  </thead>\n",
       "  <tbody>\n",
       "    <tr>\n",
       "      <th>70</th>\n",
       "      <td>Greenland</td>\n",
       "      <td>155.0</td>\n",
       "    </tr>\n",
       "    <tr>\n",
       "      <th>80</th>\n",
       "      <td>Iceland</td>\n",
       "      <td>160.0</td>\n",
       "    </tr>\n",
       "    <tr>\n",
       "      <th>124</th>\n",
       "      <td>Netherlands Antilles</td>\n",
       "      <td>160.0</td>\n",
       "    </tr>\n",
       "    <tr>\n",
       "      <th>180</th>\n",
       "      <td>Trinidad and Tobago</td>\n",
       "      <td>160.0</td>\n",
       "    </tr>\n",
       "    <tr>\n",
       "      <th>184</th>\n",
       "      <td>U.S. Virgin Islands</td>\n",
       "      <td>160.0</td>\n",
       "    </tr>\n",
       "  </tbody>\n",
       "</table>\n",
       "</div>"
      ],
      "text/plain": [
       "                  Country  Energy_intensity_by_GDP\n",
       "70              Greenland                    155.0\n",
       "80                Iceland                    160.0\n",
       "124  Netherlands Antilles                    160.0\n",
       "180   Trinidad and Tobago                    160.0\n",
       "184   U.S. Virgin Islands                    160.0"
      ]
     },
     "execution_count": 1496,
     "metadata": {},
     "output_type": "execute_result"
    }
   ],
   "source": [
    "eip"
   ]
  },
  {
   "cell_type": "code",
   "execution_count": 1497,
   "metadata": {},
   "outputs": [],
   "source": [
    "eiplist= [x for x in eip['Country']]"
   ]
  },
  {
   "cell_type": "code",
   "execution_count": 1498,
   "metadata": {},
   "outputs": [],
   "source": [
    "#Dropping countries from eiplist\n",
    "for country in eiplist:\n",
    "    value = energy[energy['Country']==country].index\n",
    "    energy.drop(labels=value, axis=0, inplace=True)"
   ]
  },
  {
   "cell_type": "code",
   "execution_count": 1499,
   "metadata": {},
   "outputs": [
    {
     "name": "stdout",
     "output_type": "stream",
     "text": [
      "Country: 0\n",
      "Energy_type: 0\n",
      "Year: 0\n",
      "Energy_consumption: 0\n",
      "Energy_production: 0\n",
      "GDP: 128\n",
      "Population: 0\n",
      "Energy_intensity_per_capita: 0\n",
      "Energy_intensity_by_GDP: 0\n",
      "CO2_emission: 0\n"
     ]
    }
   ],
   "source": [
    "#Rechecking missing values\n",
    "for item in energy:\n",
    "    print(f'{item}: {energy[item].isnull().sum()}')"
   ]
  },
  {
   "cell_type": "code",
   "execution_count": 1500,
   "metadata": {},
   "outputs": [
    {
     "data": {
      "text/plain": [
       "(35922, 10)"
      ]
     },
     "execution_count": 1500,
     "metadata": {},
     "output_type": "execute_result"
    }
   ],
   "source": [
    "energy.shape"
   ]
  },
  {
   "cell_type": "code",
   "execution_count": 1501,
   "metadata": {},
   "outputs": [],
   "source": [
    "#Dropped missing values\n",
    "energy = energy[pd.notnull(energy['GDP'])]"
   ]
  },
  {
   "cell_type": "code",
   "execution_count": 1502,
   "metadata": {},
   "outputs": [],
   "source": [
    "co2= energy.copy()"
   ]
  },
  {
   "cell_type": "code",
   "execution_count": 1503,
   "metadata": {},
   "outputs": [
    {
     "data": {
      "text/html": [
       "<div>\n",
       "<style scoped>\n",
       "    .dataframe tbody tr th:only-of-type {\n",
       "        vertical-align: middle;\n",
       "    }\n",
       "\n",
       "    .dataframe tbody tr th {\n",
       "        vertical-align: top;\n",
       "    }\n",
       "\n",
       "    .dataframe thead th {\n",
       "        text-align: right;\n",
       "    }\n",
       "</style>\n",
       "<table border=\"1\" class=\"dataframe\">\n",
       "  <thead>\n",
       "    <tr style=\"text-align: right;\">\n",
       "      <th></th>\n",
       "      <th>Country</th>\n",
       "      <th>Energy_type</th>\n",
       "      <th>Year</th>\n",
       "      <th>Energy_consumption</th>\n",
       "      <th>Energy_production</th>\n",
       "      <th>GDP</th>\n",
       "      <th>Population</th>\n",
       "      <th>Energy_intensity_per_capita</th>\n",
       "      <th>Energy_intensity_by_GDP</th>\n",
       "      <th>CO2_emission</th>\n",
       "    </tr>\n",
       "  </thead>\n",
       "  <tbody>\n",
       "    <tr>\n",
       "      <th>11088</th>\n",
       "      <td>World</td>\n",
       "      <td>all_energy_types</td>\n",
       "      <td>1988</td>\n",
       "      <td>345.560876</td>\n",
       "      <td>347.412863</td>\n",
       "      <td>42106.595403</td>\n",
       "      <td>4.927545e+06</td>\n",
       "      <td>70.128405</td>\n",
       "      <td>8.206811</td>\n",
       "      <td>21163.840556</td>\n",
       "    </tr>\n",
       "    <tr>\n",
       "      <th>11089</th>\n",
       "      <td>World</td>\n",
       "      <td>coal</td>\n",
       "      <td>1988</td>\n",
       "      <td>96.873178</td>\n",
       "      <td>98.484482</td>\n",
       "      <td>42106.595403</td>\n",
       "      <td>4.927545e+06</td>\n",
       "      <td>70.128405</td>\n",
       "      <td>8.206811</td>\n",
       "      <td>8930.924825</td>\n",
       "    </tr>\n",
       "    <tr>\n",
       "      <th>11090</th>\n",
       "      <td>World</td>\n",
       "      <td>natural_gas</td>\n",
       "      <td>1988</td>\n",
       "      <td>71.010048</td>\n",
       "      <td>71.852938</td>\n",
       "      <td>42106.595403</td>\n",
       "      <td>4.927545e+06</td>\n",
       "      <td>70.128405</td>\n",
       "      <td>8.206811</td>\n",
       "      <td>3571.676242</td>\n",
       "    </tr>\n",
       "    <tr>\n",
       "      <th>11091</th>\n",
       "      <td>World</td>\n",
       "      <td>petroleum_n_other_liquids</td>\n",
       "      <td>1988</td>\n",
       "      <td>133.445814</td>\n",
       "      <td>132.485303</td>\n",
       "      <td>42106.595403</td>\n",
       "      <td>4.927545e+06</td>\n",
       "      <td>70.128405</td>\n",
       "      <td>8.206811</td>\n",
       "      <td>8661.239490</td>\n",
       "    </tr>\n",
       "    <tr>\n",
       "      <th>11092</th>\n",
       "      <td>World</td>\n",
       "      <td>nuclear</td>\n",
       "      <td>1988</td>\n",
       "      <td>19.226897</td>\n",
       "      <td>19.226897</td>\n",
       "      <td>42106.595403</td>\n",
       "      <td>4.927545e+06</td>\n",
       "      <td>70.128405</td>\n",
       "      <td>8.206811</td>\n",
       "      <td>0.000000</td>\n",
       "    </tr>\n",
       "    <tr>\n",
       "      <th>...</th>\n",
       "      <td>...</td>\n",
       "      <td>...</td>\n",
       "      <td>...</td>\n",
       "      <td>...</td>\n",
       "      <td>...</td>\n",
       "      <td>...</td>\n",
       "      <td>...</td>\n",
       "      <td>...</td>\n",
       "      <td>...</td>\n",
       "      <td>...</td>\n",
       "    </tr>\n",
       "    <tr>\n",
       "      <th>55435</th>\n",
       "      <td>Zimbabwe</td>\n",
       "      <td>coal</td>\n",
       "      <td>2019</td>\n",
       "      <td>0.045064</td>\n",
       "      <td>0.075963</td>\n",
       "      <td>37.620400</td>\n",
       "      <td>1.465420e+04</td>\n",
       "      <td>11.508701</td>\n",
       "      <td>4.482962</td>\n",
       "      <td>4.586869</td>\n",
       "    </tr>\n",
       "    <tr>\n",
       "      <th>55436</th>\n",
       "      <td>Zimbabwe</td>\n",
       "      <td>natural_gas</td>\n",
       "      <td>2019</td>\n",
       "      <td>0.000000</td>\n",
       "      <td>0.000000</td>\n",
       "      <td>37.620400</td>\n",
       "      <td>1.465420e+04</td>\n",
       "      <td>11.508701</td>\n",
       "      <td>4.482962</td>\n",
       "      <td>0.000000</td>\n",
       "    </tr>\n",
       "    <tr>\n",
       "      <th>55437</th>\n",
       "      <td>Zimbabwe</td>\n",
       "      <td>petroleum_n_other_liquids</td>\n",
       "      <td>2019</td>\n",
       "      <td>0.055498</td>\n",
       "      <td>0.000000</td>\n",
       "      <td>37.620400</td>\n",
       "      <td>1.465420e+04</td>\n",
       "      <td>11.508701</td>\n",
       "      <td>4.482962</td>\n",
       "      <td>4.377890</td>\n",
       "    </tr>\n",
       "    <tr>\n",
       "      <th>55438</th>\n",
       "      <td>Zimbabwe</td>\n",
       "      <td>nuclear</td>\n",
       "      <td>2019</td>\n",
       "      <td>0.000000</td>\n",
       "      <td>0.000000</td>\n",
       "      <td>37.620400</td>\n",
       "      <td>1.465420e+04</td>\n",
       "      <td>11.508701</td>\n",
       "      <td>4.482962</td>\n",
       "      <td>0.000000</td>\n",
       "    </tr>\n",
       "    <tr>\n",
       "      <th>55439</th>\n",
       "      <td>Zimbabwe</td>\n",
       "      <td>renewables_n_other</td>\n",
       "      <td>2019</td>\n",
       "      <td>0.068089</td>\n",
       "      <td>0.067499</td>\n",
       "      <td>37.620400</td>\n",
       "      <td>1.465420e+04</td>\n",
       "      <td>11.508701</td>\n",
       "      <td>4.482962</td>\n",
       "      <td>0.000000</td>\n",
       "    </tr>\n",
       "  </tbody>\n",
       "</table>\n",
       "<p>35794 rows × 10 columns</p>\n",
       "</div>"
      ],
      "text/plain": [
       "        Country                Energy_type  Year  Energy_consumption  \\\n",
       "11088     World           all_energy_types  1988          345.560876   \n",
       "11089     World                       coal  1988           96.873178   \n",
       "11090     World                natural_gas  1988           71.010048   \n",
       "11091     World  petroleum_n_other_liquids  1988          133.445814   \n",
       "11092     World                    nuclear  1988           19.226897   \n",
       "...         ...                        ...   ...                 ...   \n",
       "55435  Zimbabwe                       coal  2019            0.045064   \n",
       "55436  Zimbabwe                natural_gas  2019            0.000000   \n",
       "55437  Zimbabwe  petroleum_n_other_liquids  2019            0.055498   \n",
       "55438  Zimbabwe                    nuclear  2019            0.000000   \n",
       "55439  Zimbabwe         renewables_n_other  2019            0.068089   \n",
       "\n",
       "       Energy_production           GDP    Population  \\\n",
       "11088         347.412863  42106.595403  4.927545e+06   \n",
       "11089          98.484482  42106.595403  4.927545e+06   \n",
       "11090          71.852938  42106.595403  4.927545e+06   \n",
       "11091         132.485303  42106.595403  4.927545e+06   \n",
       "11092          19.226897  42106.595403  4.927545e+06   \n",
       "...                  ...           ...           ...   \n",
       "55435           0.075963     37.620400  1.465420e+04   \n",
       "55436           0.000000     37.620400  1.465420e+04   \n",
       "55437           0.000000     37.620400  1.465420e+04   \n",
       "55438           0.000000     37.620400  1.465420e+04   \n",
       "55439           0.067499     37.620400  1.465420e+04   \n",
       "\n",
       "       Energy_intensity_per_capita  Energy_intensity_by_GDP  CO2_emission  \n",
       "11088                    70.128405                 8.206811  21163.840556  \n",
       "11089                    70.128405                 8.206811   8930.924825  \n",
       "11090                    70.128405                 8.206811   3571.676242  \n",
       "11091                    70.128405                 8.206811   8661.239490  \n",
       "11092                    70.128405                 8.206811      0.000000  \n",
       "...                            ...                      ...           ...  \n",
       "55435                    11.508701                 4.482962      4.586869  \n",
       "55436                    11.508701                 4.482962      0.000000  \n",
       "55437                    11.508701                 4.482962      4.377890  \n",
       "55438                    11.508701                 4.482962      0.000000  \n",
       "55439                    11.508701                 4.482962      0.000000  \n",
       "\n",
       "[35794 rows x 10 columns]"
      ]
     },
     "execution_count": 1503,
     "metadata": {},
     "output_type": "execute_result"
    }
   ],
   "source": [
    "co2"
   ]
  },
  {
   "attachments": {},
   "cell_type": "markdown",
   "metadata": {},
   "source": [
    "Creating Continents for Simpler Analysis"
   ]
  },
  {
   "cell_type": "code",
   "execution_count": 1504,
   "metadata": {},
   "outputs": [],
   "source": [
    "countries= co2['Country'].unique()\n",
    "countries= countries.tolist() "
   ]
  },
  {
   "cell_type": "code",
   "execution_count": 1505,
   "metadata": {},
   "outputs": [],
   "source": [
    "#Remove the countries pycountry cannot place in continent\n",
    "otherC= ['World','Burma','Congo-Brazzaville', 'Congo-Kinshasa', 'Palestinian Territories','The Bahamas','Reunion',  'Kosovo', 'Timor-Leste', \"Côte d’Ivoire\", 'Gambia, The', 'Saint Vincent/Grenadines']\n",
    "\n",
    "for i in otherC:\n",
    "    countries.remove(i)"
   ]
  },
  {
   "cell_type": "code",
   "execution_count": 1506,
   "metadata": {},
   "outputs": [],
   "source": [
    "# !pip install pycountry-convert"
   ]
  },
  {
   "cell_type": "code",
   "execution_count": 1507,
   "metadata": {},
   "outputs": [],
   "source": [
    "#Convert to Continent \n",
    "import pycountry_convert as pc\n",
    "\n",
    "def country_to_continent(country_name):\n",
    "    country_alpha2 = pc.country_name_to_country_alpha2(country_name)\n",
    "    country_continent_code = pc.country_alpha2_to_continent_code(country_alpha2)\n",
    "    country_continent_name = pc.convert_continent_code_to_continent_name(country_continent_code)\n",
    "    return country_continent_name\n",
    "\n",
    "Continent= {}\n",
    "Asia= []\n",
    "Europe= []\n",
    "Africa= []\n",
    "NAmerica= []\n",
    "SAmerica= []\n",
    "Oceania=  []\n",
    "for item in countries:\n",
    "    cont= country_to_continent(item)\n",
    "    if cont == 'Asia':\n",
    "        Asia.append(item)\n",
    "    elif cont == 'Europe':\n",
    "        Europe.append(item)\n",
    "    elif cont == 'North America':\n",
    "        NAmerica.append(item)\n",
    "    elif cont == 'South America':\n",
    "        SAmerica.append(item)\n",
    "    elif cont == 'Oceania':\n",
    "        Oceania.append(item)\n",
    "    elif cont == 'Africa':\n",
    "        Africa.append(item)\n",
    "    else:\n",
    "        pass\n"
   ]
  },
  {
   "cell_type": "code",
   "execution_count": 1508,
   "metadata": {},
   "outputs": [],
   "source": [
    "#Manually add remaining countries to its designated continent\n",
    "AC= ['Burma','Palestinian Territories', 'Timor-Leste']\n",
    "AFC= ['Congo-Brazzaville', 'Congo-Kinshasa', 'Reunion', \"Côte d’Ivoire\", 'Gambia, The']\n",
    "NC= ['The Bahamas', 'Saint Vincent/Grenadines']\n",
    "for item in AC:\n",
    "    Asia.append(item)\n",
    "for item in AFC:\n",
    "    Africa.append(item)\n",
    "for item in NC:\n",
    "    NAmerica.append(item)\n",
    "Europe.append('Kosovo')"
   ]
  },
  {
   "cell_type": "code",
   "execution_count": 1509,
   "metadata": {},
   "outputs": [],
   "source": [
    "#Build Continent Dictionary\n",
    "Continent['Asia'] = Asia\n",
    "Continent['Europe']= Europe\n",
    "Continent['Africa'] = Africa\n",
    "Continent['North America']= NAmerica\n",
    "Continent['South America'] = SAmerica\n",
    "Continent['Oceania']= Oceania\n"
   ]
  },
  {
   "cell_type": "code",
   "execution_count": 1510,
   "metadata": {},
   "outputs": [],
   "source": [
    "#\n",
    "def return_continent(row) : \n",
    "    try : \n",
    "        for continent in Continent.keys() : \n",
    "            if row['Country'] in Continent[continent]: \n",
    "                return continent\n",
    "    except : \n",
    "        return \"Others\"\n",
    "co2['Continent'] = co2.apply(return_continent, axis = 1)"
   ]
  },
  {
   "cell_type": "code",
   "execution_count": 1511,
   "metadata": {},
   "outputs": [
    {
     "data": {
      "text/plain": [
       "192"
      ]
     },
     "execution_count": 1511,
     "metadata": {},
     "output_type": "execute_result"
    }
   ],
   "source": [
    "co2['Continent'].isnull().sum()"
   ]
  },
  {
   "cell_type": "code",
   "execution_count": 1512,
   "metadata": {},
   "outputs": [],
   "source": [
    "co2[\"Continent\"].fillna(\"Other\", inplace = True)"
   ]
  },
  {
   "cell_type": "code",
   "execution_count": 1513,
   "metadata": {},
   "outputs": [
    {
     "data": {
      "text/html": [
       "<div>\n",
       "<style scoped>\n",
       "    .dataframe tbody tr th:only-of-type {\n",
       "        vertical-align: middle;\n",
       "    }\n",
       "\n",
       "    .dataframe tbody tr th {\n",
       "        vertical-align: top;\n",
       "    }\n",
       "\n",
       "    .dataframe thead th {\n",
       "        text-align: right;\n",
       "    }\n",
       "</style>\n",
       "<table border=\"1\" class=\"dataframe\">\n",
       "  <thead>\n",
       "    <tr style=\"text-align: right;\">\n",
       "      <th></th>\n",
       "      <th>Country</th>\n",
       "      <th>Energy_type</th>\n",
       "      <th>Year</th>\n",
       "      <th>Energy_consumption</th>\n",
       "      <th>Energy_production</th>\n",
       "      <th>GDP</th>\n",
       "      <th>Population</th>\n",
       "      <th>Energy_intensity_per_capita</th>\n",
       "      <th>Energy_intensity_by_GDP</th>\n",
       "      <th>CO2_emission</th>\n",
       "      <th>Continent</th>\n",
       "    </tr>\n",
       "  </thead>\n",
       "  <tbody>\n",
       "    <tr>\n",
       "      <th>11088</th>\n",
       "      <td>World</td>\n",
       "      <td>all_energy_types</td>\n",
       "      <td>1988</td>\n",
       "      <td>345.560876</td>\n",
       "      <td>347.412863</td>\n",
       "      <td>42106.595403</td>\n",
       "      <td>4.927545e+06</td>\n",
       "      <td>70.128405</td>\n",
       "      <td>8.206811</td>\n",
       "      <td>21163.840556</td>\n",
       "      <td>Other</td>\n",
       "    </tr>\n",
       "    <tr>\n",
       "      <th>11089</th>\n",
       "      <td>World</td>\n",
       "      <td>coal</td>\n",
       "      <td>1988</td>\n",
       "      <td>96.873178</td>\n",
       "      <td>98.484482</td>\n",
       "      <td>42106.595403</td>\n",
       "      <td>4.927545e+06</td>\n",
       "      <td>70.128405</td>\n",
       "      <td>8.206811</td>\n",
       "      <td>8930.924825</td>\n",
       "      <td>Other</td>\n",
       "    </tr>\n",
       "    <tr>\n",
       "      <th>11090</th>\n",
       "      <td>World</td>\n",
       "      <td>natural_gas</td>\n",
       "      <td>1988</td>\n",
       "      <td>71.010048</td>\n",
       "      <td>71.852938</td>\n",
       "      <td>42106.595403</td>\n",
       "      <td>4.927545e+06</td>\n",
       "      <td>70.128405</td>\n",
       "      <td>8.206811</td>\n",
       "      <td>3571.676242</td>\n",
       "      <td>Other</td>\n",
       "    </tr>\n",
       "    <tr>\n",
       "      <th>11091</th>\n",
       "      <td>World</td>\n",
       "      <td>petroleum_n_other_liquids</td>\n",
       "      <td>1988</td>\n",
       "      <td>133.445814</td>\n",
       "      <td>132.485303</td>\n",
       "      <td>42106.595403</td>\n",
       "      <td>4.927545e+06</td>\n",
       "      <td>70.128405</td>\n",
       "      <td>8.206811</td>\n",
       "      <td>8661.239490</td>\n",
       "      <td>Other</td>\n",
       "    </tr>\n",
       "    <tr>\n",
       "      <th>11092</th>\n",
       "      <td>World</td>\n",
       "      <td>nuclear</td>\n",
       "      <td>1988</td>\n",
       "      <td>19.226897</td>\n",
       "      <td>19.226897</td>\n",
       "      <td>42106.595403</td>\n",
       "      <td>4.927545e+06</td>\n",
       "      <td>70.128405</td>\n",
       "      <td>8.206811</td>\n",
       "      <td>0.000000</td>\n",
       "      <td>Other</td>\n",
       "    </tr>\n",
       "  </tbody>\n",
       "</table>\n",
       "</div>"
      ],
      "text/plain": [
       "      Country                Energy_type  Year  Energy_consumption  \\\n",
       "11088   World           all_energy_types  1988          345.560876   \n",
       "11089   World                       coal  1988           96.873178   \n",
       "11090   World                natural_gas  1988           71.010048   \n",
       "11091   World  petroleum_n_other_liquids  1988          133.445814   \n",
       "11092   World                    nuclear  1988           19.226897   \n",
       "\n",
       "       Energy_production           GDP    Population  \\\n",
       "11088         347.412863  42106.595403  4.927545e+06   \n",
       "11089          98.484482  42106.595403  4.927545e+06   \n",
       "11090          71.852938  42106.595403  4.927545e+06   \n",
       "11091         132.485303  42106.595403  4.927545e+06   \n",
       "11092          19.226897  42106.595403  4.927545e+06   \n",
       "\n",
       "       Energy_intensity_per_capita  Energy_intensity_by_GDP  CO2_emission  \\\n",
       "11088                    70.128405                 8.206811  21163.840556   \n",
       "11089                    70.128405                 8.206811   8930.924825   \n",
       "11090                    70.128405                 8.206811   3571.676242   \n",
       "11091                    70.128405                 8.206811   8661.239490   \n",
       "11092                    70.128405                 8.206811      0.000000   \n",
       "\n",
       "      Continent  \n",
       "11088     Other  \n",
       "11089     Other  \n",
       "11090     Other  \n",
       "11091     Other  \n",
       "11092     Other  "
      ]
     },
     "execution_count": 1513,
     "metadata": {},
     "output_type": "execute_result"
    }
   ],
   "source": [
    "co2.head()"
   ]
  },
  {
   "cell_type": "code",
   "execution_count": 1514,
   "metadata": {},
   "outputs": [],
   "source": [
    "#Split dataset between World category and individual countries\n",
    "world= co2.loc[co2['Country'] == 'World']\n",
    "cont= co2.loc[co2['Country'] != 'World']"
   ]
  },
  {
   "cell_type": "code",
   "execution_count": 1515,
   "metadata": {},
   "outputs": [
    {
     "data": {
      "text/html": [
       "<div>\n",
       "<style scoped>\n",
       "    .dataframe tbody tr th:only-of-type {\n",
       "        vertical-align: middle;\n",
       "    }\n",
       "\n",
       "    .dataframe tbody tr th {\n",
       "        vertical-align: top;\n",
       "    }\n",
       "\n",
       "    .dataframe thead th {\n",
       "        text-align: right;\n",
       "    }\n",
       "</style>\n",
       "<table border=\"1\" class=\"dataframe\">\n",
       "  <thead>\n",
       "    <tr style=\"text-align: right;\">\n",
       "      <th></th>\n",
       "      <th>Country</th>\n",
       "      <th>Energy_type</th>\n",
       "      <th>Year</th>\n",
       "      <th>Energy_consumption</th>\n",
       "      <th>Energy_production</th>\n",
       "      <th>GDP</th>\n",
       "      <th>Population</th>\n",
       "      <th>Energy_intensity_per_capita</th>\n",
       "      <th>Energy_intensity_by_GDP</th>\n",
       "      <th>CO2_emission</th>\n",
       "      <th>Continent</th>\n",
       "    </tr>\n",
       "  </thead>\n",
       "  <tbody>\n",
       "    <tr>\n",
       "      <th>11088</th>\n",
       "      <td>World</td>\n",
       "      <td>all_energy_types</td>\n",
       "      <td>1988</td>\n",
       "      <td>345.560876</td>\n",
       "      <td>347.412863</td>\n",
       "      <td>42106.595403</td>\n",
       "      <td>4.927545e+06</td>\n",
       "      <td>70.128405</td>\n",
       "      <td>8.206811</td>\n",
       "      <td>21163.840556</td>\n",
       "      <td>Other</td>\n",
       "    </tr>\n",
       "    <tr>\n",
       "      <th>11089</th>\n",
       "      <td>World</td>\n",
       "      <td>coal</td>\n",
       "      <td>1988</td>\n",
       "      <td>96.873178</td>\n",
       "      <td>98.484482</td>\n",
       "      <td>42106.595403</td>\n",
       "      <td>4.927545e+06</td>\n",
       "      <td>70.128405</td>\n",
       "      <td>8.206811</td>\n",
       "      <td>8930.924825</td>\n",
       "      <td>Other</td>\n",
       "    </tr>\n",
       "    <tr>\n",
       "      <th>11090</th>\n",
       "      <td>World</td>\n",
       "      <td>natural_gas</td>\n",
       "      <td>1988</td>\n",
       "      <td>71.010048</td>\n",
       "      <td>71.852938</td>\n",
       "      <td>42106.595403</td>\n",
       "      <td>4.927545e+06</td>\n",
       "      <td>70.128405</td>\n",
       "      <td>8.206811</td>\n",
       "      <td>3571.676242</td>\n",
       "      <td>Other</td>\n",
       "    </tr>\n",
       "    <tr>\n",
       "      <th>11091</th>\n",
       "      <td>World</td>\n",
       "      <td>petroleum_n_other_liquids</td>\n",
       "      <td>1988</td>\n",
       "      <td>133.445814</td>\n",
       "      <td>132.485303</td>\n",
       "      <td>42106.595403</td>\n",
       "      <td>4.927545e+06</td>\n",
       "      <td>70.128405</td>\n",
       "      <td>8.206811</td>\n",
       "      <td>8661.239490</td>\n",
       "      <td>Other</td>\n",
       "    </tr>\n",
       "    <tr>\n",
       "      <th>11092</th>\n",
       "      <td>World</td>\n",
       "      <td>nuclear</td>\n",
       "      <td>1988</td>\n",
       "      <td>19.226897</td>\n",
       "      <td>19.226897</td>\n",
       "      <td>42106.595403</td>\n",
       "      <td>4.927545e+06</td>\n",
       "      <td>70.128405</td>\n",
       "      <td>8.206811</td>\n",
       "      <td>0.000000</td>\n",
       "      <td>Other</td>\n",
       "    </tr>\n",
       "  </tbody>\n",
       "</table>\n",
       "</div>"
      ],
      "text/plain": [
       "      Country                Energy_type  Year  Energy_consumption  \\\n",
       "11088   World           all_energy_types  1988          345.560876   \n",
       "11089   World                       coal  1988           96.873178   \n",
       "11090   World                natural_gas  1988           71.010048   \n",
       "11091   World  petroleum_n_other_liquids  1988          133.445814   \n",
       "11092   World                    nuclear  1988           19.226897   \n",
       "\n",
       "       Energy_production           GDP    Population  \\\n",
       "11088         347.412863  42106.595403  4.927545e+06   \n",
       "11089          98.484482  42106.595403  4.927545e+06   \n",
       "11090          71.852938  42106.595403  4.927545e+06   \n",
       "11091         132.485303  42106.595403  4.927545e+06   \n",
       "11092          19.226897  42106.595403  4.927545e+06   \n",
       "\n",
       "       Energy_intensity_per_capita  Energy_intensity_by_GDP  CO2_emission  \\\n",
       "11088                    70.128405                 8.206811  21163.840556   \n",
       "11089                    70.128405                 8.206811   8930.924825   \n",
       "11090                    70.128405                 8.206811   3571.676242   \n",
       "11091                    70.128405                 8.206811   8661.239490   \n",
       "11092                    70.128405                 8.206811      0.000000   \n",
       "\n",
       "      Continent  \n",
       "11088     Other  \n",
       "11089     Other  \n",
       "11090     Other  \n",
       "11091     Other  \n",
       "11092     Other  "
      ]
     },
     "execution_count": 1515,
     "metadata": {},
     "output_type": "execute_result"
    }
   ],
   "source": [
    "world.head()"
   ]
  },
  {
   "cell_type": "code",
   "execution_count": 1516,
   "metadata": {},
   "outputs": [],
   "source": [
    "contALL= cont.loc[cont['Energy_type'] == 'all_energy_types']"
   ]
  },
  {
   "cell_type": "code",
   "execution_count": 1517,
   "metadata": {},
   "outputs": [
    {
     "data": {
      "text/plain": [
       "Africa           10332\n",
       "Asia              9338\n",
       "Europe            6344\n",
       "North America     5556\n",
       "South America     2304\n",
       "Oceania           1728\n",
       "Other              192\n",
       "Name: Continent, dtype: int64"
      ]
     },
     "execution_count": 1517,
     "metadata": {},
     "output_type": "execute_result"
    }
   ],
   "source": [
    "#All energy types\n",
    "co2['Continent'].value_counts()"
   ]
  },
  {
   "attachments": {},
   "cell_type": "markdown",
   "metadata": {},
   "source": [
    "## EDA"
   ]
  },
  {
   "cell_type": "code",
   "execution_count": 1591,
   "metadata": {},
   "outputs": [
    {
     "data": {
      "application/vnd.plotly.v1+json": {
       "config": {
        "plotlyServerURL": "https://plot.ly"
       },
       "data": [
        {
         "alignmentgroup": "True",
         "hovertemplate": "Continent=Asia<br>Year=1988<br>CO2_emission=%{y}<extra></extra>",
         "legendgroup": "Asia",
         "marker": {
          "color": "#636efa"
         },
         "name": "Asia",
         "notched": false,
         "offsetgroup": "Asia",
         "orientation": "v",
         "showlegend": true,
         "type": "box",
         "x0": " ",
         "xaxis": "x",
         "y": [
          3.6467241969999997,
          14.75442161,
          11.773808507,
          0.061041146,
          4.47141522,
          4.829239803,
          0.5,
          2259.80811238,
          36.765860831,
          446.21464953099996,
          111.37687205700001,
          165.30600070399998,
          42.94426155,
          31.044683991,
          935.0982062219999,
          32.77629372,
          0.2,
          7.2,
          1,
          44.763869348,
          0.08191,
          19.089535866,
          0.733226303,
          79.86183125699999,
          8.3440264,
          54.954350141999996,
          31.901772206999997,
          14.49896534,
          187.55061218,
          46.034271861,
          207.60436107200002,
          5.6,
          28.126094052,
          91.576409616,
          52.284036866,
          110.37446040399999,
          67.21919140000001,
          12.601171655999998
         ],
         "y0": " ",
         "yaxis": "y"
        },
        {
         "alignmentgroup": "True",
         "hovertemplate": "Continent=Europe<br>Year=1988<br>CO2_emission=%{y}<extra></extra>",
         "legendgroup": "Europe",
         "marker": {
          "color": "#EF553B"
         },
         "name": "Europe",
         "notched": false,
         "offsetgroup": "Europe",
         "orientation": "v",
         "showlegend": true,
         "type": "box",
         "x0": " ",
         "xaxis": "x",
         "y": [
          9.828091766,
          51.223092245,
          116.88128388700001,
          97.329000774,
          61.34834244,
          52.045009852,
          375.87476807300004,
          66.304031724,
          24.182160273,
          395.602931287,
          9.531798212,
          1.7323774930000002,
          191.904606749,
          34.770037429,
          31.94999958,
          190.584904823,
          210.492846809,
          62.101397501,
          42.420239302,
          608.719718384
         ],
         "y0": " ",
         "yaxis": "y"
        },
        {
         "alignmentgroup": "True",
         "hovertemplate": "Continent=Africa<br>Year=1988<br>CO2_emission=%{y}<extra></extra>",
         "legendgroup": "Africa",
         "marker": {
          "color": "#00cc96"
         },
         "name": "Africa",
         "notched": false,
         "offsetgroup": "Africa",
         "orientation": "v",
         "showlegend": true,
         "type": "box",
         "x0": " ",
         "xaxis": "x",
         "y": [
          64.343004942,
          4.68880528,
          0.4,
          1.761208501,
          0.5,
          0.2,
          0.057479999999999996,
          2.8,
          0.2,
          0.05033,
          1.01110066,
          3.394459823,
          5.3,
          82.266703219,
          0.08022,
          0.662429328,
          2.9,
          1.7277563530000002,
          0.2,
          2.7,
          1.1,
          0.2,
          5.384853132999999,
          0.2,
          1,
          29.94360313,
          1.226432983,
          0.5392611070000001,
          0.4,
          0.7118058070000001,
          1.020080305,
          16.833637782,
          1,
          0.72269196,
          39.584085067,
          0.9,
          0.7,
          0.03463,
          2.9,
          0.3,
          1,
          1.1,
          313.647302281,
          4.2,
          2.4,
          0.5,
          10.940929877,
          0.6,
          2.9142895419999997,
          13.695975939
         ],
         "y0": " ",
         "yaxis": "y"
        },
        {
         "alignmentgroup": "True",
         "hovertemplate": "Continent=North America<br>Year=1988<br>CO2_emission=%{y}<extra></extra>",
         "legendgroup": "North America",
         "marker": {
          "color": "#ab63fa"
         },
         "name": "North America",
         "notched": false,
         "offsetgroup": "North America",
         "orientation": "v",
         "showlegend": true,
         "type": "box",
         "x0": " ",
         "xaxis": "x",
         "y": [
          0.4,
          0.1,
          1.2222201320000001,
          0.2,
          0.7,
          0.04407,
          422.68921677199995,
          0.1,
          2.25831189,
          34.53880162,
          0.04337,
          7.5505338889999996,
          2.2,
          0.07109,
          1.1,
          3.2,
          1.321488419,
          1.7,
          5.2,
          0.9,
          265.179124216,
          12,
          14.932529745,
          0.05665,
          0.1,
          0.042789999999999995,
          2.7,
          4775.551396
         ],
         "y0": " ",
         "yaxis": "y"
        },
        {
         "alignmentgroup": "True",
         "hovertemplate": "Continent=South America<br>Year=1988<br>CO2_emission=%{y}<extra></extra>",
         "legendgroup": "South America",
         "marker": {
          "color": "#FFA15A"
         },
         "name": "South America",
         "notched": false,
         "offsetgroup": "South America",
         "orientation": "v",
         "showlegend": true,
         "type": "box",
         "x0": " ",
         "xaxis": "x",
         "y": [
          105.510430365,
          3.442793333,
          222.947276004,
          19.939354349000002,
          41.741466211,
          13.131049967000001,
          1.1,
          1.9,
          24.101488699,
          1.2,
          4,
          98.36799440899999
         ],
         "y0": " ",
         "yaxis": "y"
        },
        {
         "alignmentgroup": "True",
         "hovertemplate": "Continent=Oceania<br>Year=1988<br>CO2_emission=%{y}<extra></extra>",
         "legendgroup": "Oceania",
         "marker": {
          "color": "#19d3f3"
         },
         "name": "Oceania",
         "notched": false,
         "offsetgroup": "Oceania",
         "orientation": "v",
         "showlegend": true,
         "type": "box",
         "x0": " ",
         "xaxis": "x",
         "y": [
          259.33249185299996,
          0.8191144340000001,
          0.02206,
          23.026747476999997,
          2.5,
          0.1,
          0.2,
          0.06937,
          0.1
         ],
         "y0": " ",
         "yaxis": "y"
        }
       ],
       "frames": [
        {
         "data": [
          {
           "alignmentgroup": "True",
           "hovertemplate": "Continent=Asia<br>Year=1988<br>CO2_emission=%{y}<extra></extra>",
           "legendgroup": "Asia",
           "marker": {
            "color": "#636efa"
           },
           "name": "Asia",
           "notched": false,
           "offsetgroup": "Asia",
           "orientation": "v",
           "showlegend": true,
           "type": "box",
           "x0": " ",
           "xaxis": "x",
           "y": [
            3.6467241969999997,
            14.75442161,
            11.773808507,
            0.061041146,
            4.47141522,
            4.829239803,
            0.5,
            2259.80811238,
            36.765860831,
            446.21464953099996,
            111.37687205700001,
            165.30600070399998,
            42.94426155,
            31.044683991,
            935.0982062219999,
            32.77629372,
            0.2,
            7.2,
            1,
            44.763869348,
            0.08191,
            19.089535866,
            0.733226303,
            79.86183125699999,
            8.3440264,
            54.954350141999996,
            31.901772206999997,
            14.49896534,
            187.55061218,
            46.034271861,
            207.60436107200002,
            5.6,
            28.126094052,
            91.576409616,
            52.284036866,
            110.37446040399999,
            67.21919140000001,
            12.601171655999998
           ],
           "y0": " ",
           "yaxis": "y"
          },
          {
           "alignmentgroup": "True",
           "hovertemplate": "Continent=Europe<br>Year=1988<br>CO2_emission=%{y}<extra></extra>",
           "legendgroup": "Europe",
           "marker": {
            "color": "#EF553B"
           },
           "name": "Europe",
           "notched": false,
           "offsetgroup": "Europe",
           "orientation": "v",
           "showlegend": true,
           "type": "box",
           "x0": " ",
           "xaxis": "x",
           "y": [
            9.828091766,
            51.223092245,
            116.88128388700001,
            97.329000774,
            61.34834244,
            52.045009852,
            375.87476807300004,
            66.304031724,
            24.182160273,
            395.602931287,
            9.531798212,
            1.7323774930000002,
            191.904606749,
            34.770037429,
            31.94999958,
            190.584904823,
            210.492846809,
            62.101397501,
            42.420239302,
            608.719718384
           ],
           "y0": " ",
           "yaxis": "y"
          },
          {
           "alignmentgroup": "True",
           "hovertemplate": "Continent=Africa<br>Year=1988<br>CO2_emission=%{y}<extra></extra>",
           "legendgroup": "Africa",
           "marker": {
            "color": "#00cc96"
           },
           "name": "Africa",
           "notched": false,
           "offsetgroup": "Africa",
           "orientation": "v",
           "showlegend": true,
           "type": "box",
           "x0": " ",
           "xaxis": "x",
           "y": [
            64.343004942,
            4.68880528,
            0.4,
            1.761208501,
            0.5,
            0.2,
            0.057479999999999996,
            2.8,
            0.2,
            0.05033,
            1.01110066,
            3.394459823,
            5.3,
            82.266703219,
            0.08022,
            0.662429328,
            2.9,
            1.7277563530000002,
            0.2,
            2.7,
            1.1,
            0.2,
            5.384853132999999,
            0.2,
            1,
            29.94360313,
            1.226432983,
            0.5392611070000001,
            0.4,
            0.7118058070000001,
            1.020080305,
            16.833637782,
            1,
            0.72269196,
            39.584085067,
            0.9,
            0.7,
            0.03463,
            2.9,
            0.3,
            1,
            1.1,
            313.647302281,
            4.2,
            2.4,
            0.5,
            10.940929877,
            0.6,
            2.9142895419999997,
            13.695975939
           ],
           "y0": " ",
           "yaxis": "y"
          },
          {
           "alignmentgroup": "True",
           "hovertemplate": "Continent=North America<br>Year=1988<br>CO2_emission=%{y}<extra></extra>",
           "legendgroup": "North America",
           "marker": {
            "color": "#ab63fa"
           },
           "name": "North America",
           "notched": false,
           "offsetgroup": "North America",
           "orientation": "v",
           "showlegend": true,
           "type": "box",
           "x0": " ",
           "xaxis": "x",
           "y": [
            0.4,
            0.1,
            1.2222201320000001,
            0.2,
            0.7,
            0.04407,
            422.68921677199995,
            0.1,
            2.25831189,
            34.53880162,
            0.04337,
            7.5505338889999996,
            2.2,
            0.07109,
            1.1,
            3.2,
            1.321488419,
            1.7,
            5.2,
            0.9,
            265.179124216,
            12,
            14.932529745,
            0.05665,
            0.1,
            0.042789999999999995,
            2.7,
            4775.551396
           ],
           "y0": " ",
           "yaxis": "y"
          },
          {
           "alignmentgroup": "True",
           "hovertemplate": "Continent=South America<br>Year=1988<br>CO2_emission=%{y}<extra></extra>",
           "legendgroup": "South America",
           "marker": {
            "color": "#FFA15A"
           },
           "name": "South America",
           "notched": false,
           "offsetgroup": "South America",
           "orientation": "v",
           "showlegend": true,
           "type": "box",
           "x0": " ",
           "xaxis": "x",
           "y": [
            105.510430365,
            3.442793333,
            222.947276004,
            19.939354349000002,
            41.741466211,
            13.131049967000001,
            1.1,
            1.9,
            24.101488699,
            1.2,
            4,
            98.36799440899999
           ],
           "y0": " ",
           "yaxis": "y"
          },
          {
           "alignmentgroup": "True",
           "hovertemplate": "Continent=Oceania<br>Year=1988<br>CO2_emission=%{y}<extra></extra>",
           "legendgroup": "Oceania",
           "marker": {
            "color": "#19d3f3"
           },
           "name": "Oceania",
           "notched": false,
           "offsetgroup": "Oceania",
           "orientation": "v",
           "showlegend": true,
           "type": "box",
           "x0": " ",
           "xaxis": "x",
           "y": [
            259.33249185299996,
            0.8191144340000001,
            0.02206,
            23.026747476999997,
            2.5,
            0.1,
            0.2,
            0.06937,
            0.1
           ],
           "y0": " ",
           "yaxis": "y"
          }
         ],
         "name": "1988"
        },
        {
         "data": [
          {
           "alignmentgroup": "True",
           "hovertemplate": "Continent=Asia<br>Year=1989<br>CO2_emission=%{y}<extra></extra>",
           "legendgroup": "Asia",
           "marker": {
            "color": "#636efa"
           },
           "name": "Asia",
           "notched": false,
           "offsetgroup": "Asia",
           "orientation": "v",
           "showlegend": true,
           "type": "box",
           "x0": " ",
           "xaxis": "x",
           "y": [
            6.056769431,
            12.61016006,
            12.935328605999999,
            0.061727208,
            3.99171808,
            4.641280828999999,
            0.5,
            2405.653731514,
            39.825663375,
            484.60134589,
            118.90518194299999,
            173.39987268299998,
            50.88842904,
            32.565612989,
            1009.216327255,
            36.49816583,
            0.2,
            6.5,
            1,
            46.868471883999995,
            0.08822999999999999,
            20.009690732,
            0.7205380840000001,
            97.04629063200001,
            7.85517409,
            57.974773363000004,
            33.920397222,
            14.79891831,
            194.10573924,
            49.04153872,
            233.155286612,
            5.2,
            28.92756575,
            106.085402825,
            58.572159527,
            104.73578592700001,
            73.49675493,
            13.064718519000001
           ],
           "y0": " ",
           "yaxis": "y"
          },
          {
           "alignmentgroup": "True",
           "hovertemplate": "Continent=Europe<br>Year=1989<br>CO2_emission=%{y}<extra></extra>",
           "legendgroup": "Europe",
           "marker": {
            "color": "#EF553B"
           },
           "name": "Europe",
           "notched": false,
           "offsetgroup": "Europe",
           "orientation": "v",
           "showlegend": true,
           "type": "box",
           "x0": " ",
           "xaxis": "x",
           "y": [
            9.947020892000001,
            49.57806577,
            120.58491256200001,
            95.30950683399999,
            58.741414601,
            50.924906595,
            372.651663644,
            71.304585332,
            23.160994199,
            402.17376425,
            10.002946547,
            1.956562485,
            192.48274015400003,
            34.904875273,
            33.44870956,
            189.719653584,
            210.34477584299998,
            59.047909673999996,
            42.458577213000005,
            607.152697843
           ],
           "y0": " ",
           "yaxis": "y"
          },
          {
           "alignmentgroup": "True",
           "hovertemplate": "Continent=Africa<br>Year=1989<br>CO2_emission=%{y}<extra></extra>",
           "legendgroup": "Africa",
           "marker": {
            "color": "#00cc96"
           },
           "name": "Africa",
           "notched": false,
           "offsetgroup": "Africa",
           "orientation": "v",
           "showlegend": true,
           "type": "box",
           "x0": " ",
           "xaxis": "x",
           "y": [
            68.90540721800001,
            4.89990594,
            0.5,
            2.075161596,
            0.5,
            0.2,
            0.08275,
            2.7,
            0.2,
            0.053470000000000004,
            0.8,
            4.103300561,
            5.6,
            83.76527575,
            0.07866000000000001,
            0.620695048,
            2.8,
            1.894426155,
            0.2,
            3.1,
            1.1,
            0.2,
            5.925503915,
            0.1,
            1.1,
            29.72140181,
            1.42643434,
            0.54375333,
            0.2,
            0.909346268,
            1.396064244,
            17.818516545,
            1.5,
            0.9049832590000001,
            41.610747658,
            1.1,
            0.6,
            0.03464,
            2.5,
            0.5,
            1,
            1.1,
            314.922336438,
            4.5,
            2.5024749319999997,
            0.5,
            11.848882952,
            0.9,
            3.1553687960000003,
            13.276795298
           ],
           "y0": " ",
           "yaxis": "y"
          },
          {
           "alignmentgroup": "True",
           "hovertemplate": "Continent=North America<br>Year=1989<br>CO2_emission=%{y}<extra></extra>",
           "legendgroup": "North America",
           "marker": {
            "color": "#ab63fa"
           },
           "name": "North America",
           "notched": false,
           "offsetgroup": "North America",
           "orientation": "v",
           "showlegend": true,
           "type": "box",
           "x0": " ",
           "xaxis": "x",
           "y": [
            0.4,
            0.4,
            1.149995297,
            0.2,
            0.8,
            0.04723,
            455.940316746,
            0.3,
            2.675007334,
            35.52797627,
            0.055479999999999995,
            8.321128393,
            2.3,
            0.07745,
            1.2,
            3.5,
            1.4045061669999999,
            2,
            6.1,
            1,
            264.933915824,
            11.038431678,
            14.676392616,
            0.0661,
            0.2,
            0.05135,
            2.4,
            4998.211912
           ],
           "y0": " ",
           "yaxis": "y"
          },
          {
           "alignmentgroup": "True",
           "hovertemplate": "Continent=South America<br>Year=1989<br>CO2_emission=%{y}<extra></extra>",
           "legendgroup": "South America",
           "marker": {
            "color": "#FFA15A"
           },
           "name": "South America",
           "notched": false,
           "offsetgroup": "South America",
           "orientation": "v",
           "showlegend": true,
           "type": "box",
           "x0": " ",
           "xaxis": "x",
           "y": [
            108.456624636,
            3.908076667,
            223.394276154,
            23.530224019000002,
            43.302720807,
            13.193126267,
            1.1,
            1.7,
            23.972440326999997,
            1.1,
            4.7,
            96.210895976
           ],
           "y0": " ",
           "yaxis": "y"
          },
          {
           "alignmentgroup": "True",
           "hovertemplate": "Continent=Oceania<br>Year=1989<br>CO2_emission=%{y}<extra></extra>",
           "legendgroup": "Oceania",
           "marker": {
            "color": "#19d3f3"
           },
           "name": "Oceania",
           "notched": false,
           "offsetgroup": "Oceania",
           "orientation": "v",
           "showlegend": true,
           "type": "box",
           "x0": " ",
           "xaxis": "x",
           "y": [
            262.533121607,
            0.8128425090000001,
            0.02206,
            25.240168412,
            2.4,
            0.1,
            0.2,
            0.08109,
            0.1
           ],
           "y0": " ",
           "yaxis": "y"
          }
         ],
         "name": "1989"
        },
        {
         "data": [
          {
           "alignmentgroup": "True",
           "hovertemplate": "Continent=Asia<br>Year=1990<br>CO2_emission=%{y}<extra></extra>",
           "legendgroup": "Asia",
           "marker": {
            "color": "#636efa"
           },
           "name": "Asia",
           "notched": false,
           "offsetgroup": "Asia",
           "orientation": "v",
           "showlegend": true,
           "type": "box",
           "x0": " ",
           "xaxis": "x",
           "y": [
            6.0242868089999995,
            13.03236138,
            14.045591296,
            0.064717611,
            4.57141522,
            4.796831159,
            0.5,
            2413.191859479,
            41.204504653,
            510.621149205,
            132.06450863700002,
            191.77290240099998,
            54.88842904,
            33.848210535999996,
            1041.670297246,
            41.05338695,
            0.2,
            5,
            1.1,
            52.457608981999996,
            0.08822,
            18.953007305,
            0.7221885379999999,
            76.75645041899999,
            10.09948267,
            61.324624291000006,
            40.090695282,
            15.34332095,
            191.43894716,
            53.061465488,
            243.09304814599997,
            4.8,
            30.800888229,
            116.194613061,
            69.617270015,
            120.847078223,
            78.99633166,
            13.082400285,
            11
           ],
           "y0": " ",
           "yaxis": "y"
          },
          {
           "alignmentgroup": "True",
           "hovertemplate": "Continent=Europe<br>Year=1990<br>CO2_emission=%{y}<extra></extra>",
           "legendgroup": "Europe",
           "marker": {
            "color": "#EF553B"
           },
           "name": "Europe",
           "notched": false,
           "offsetgroup": "Europe",
           "orientation": "v",
           "showlegend": true,
           "type": "box",
           "x0": " ",
           "xaxis": "x",
           "y": [
            9.31315936,
            50.35173659,
            122.635077235,
            86.772143754,
            52.871868016,
            51.547601926000006,
            387.729188682,
            74.49398697699999,
            24.481301224,
            417.447234617,
            10.73467774,
            1.9328212359999999,
            194.76536538099998,
            34.232392285,
            42.245221114,
            193.16636249299998,
            231.909029863,
            57.772872617,
            42.274665003,
            599.242857015
           ],
           "y0": " ",
           "yaxis": "y"
          },
          {
           "alignmentgroup": "True",
           "hovertemplate": "Continent=Africa<br>Year=1990<br>CO2_emission=%{y}<extra></extra>",
           "legendgroup": "Africa",
           "marker": {
            "color": "#00cc96"
           },
           "name": "Africa",
           "notched": false,
           "offsetgroup": "Africa",
           "orientation": "v",
           "showlegend": true,
           "type": "box",
           "x0": " ",
           "xaxis": "x",
           "y": [
            66.690494969,
            4.73325495,
            0.5,
            2.2821281140000003,
            0.5,
            0.3,
            0.09043999999999999,
            3.2,
            0.2,
            0.2,
            0.053489999999999996,
            0.9,
            3.914568493,
            5.6,
            1.7,
            85.45250448899999,
            0.1,
            0.7360706220000001,
            3,
            2.577761056,
            0.2,
            3.6,
            1.1,
            0.2,
            6.460251852000001,
            0.2,
            1,
            31.16580445,
            1.028635728,
            0.648390554,
            0.5,
            1.11199027,
            1.658506002,
            19.127384812,
            1.2,
            0.936465399,
            45.451914519,
            1.2,
            0.7,
            0.03466,
            2.6,
            0.5,
            1.1,
            1.1,
            315.86279132,
            4.3,
            2.508351522,
            0.6,
            13.143417912,
            0.8,
            3.078388715,
            13.924061812
           ],
           "y0": " ",
           "yaxis": "y"
          },
          {
           "alignmentgroup": "True",
           "hovertemplate": "Continent=North America<br>Year=1990<br>CO2_emission=%{y}<extra></extra>",
           "legendgroup": "North America",
           "marker": {
            "color": "#ab63fa"
           },
           "name": "North America",
           "notched": false,
           "offsetgroup": "North America",
           "orientation": "v",
           "showlegend": true,
           "type": "box",
           "x0": " ",
           "xaxis": "x",
           "y": [
            0.4,
            0.6,
            1.25555033,
            0.2,
            0.9,
            0.05039,
            467.660751011,
            0.3,
            2.809970872,
            35.625388774,
            0.058620000000000005,
            8.121781849,
            2.2,
            0.08059,
            1.3,
            3.6,
            1.269235336,
            2.4,
            7.041440326,
            1.5,
            280.350300145,
            2.1,
            11.036030925999999,
            13.486845324,
            0.06612,
            0.2,
            0.07599,
            2.8,
            5084.558664
           ],
           "y0": " ",
           "yaxis": "y"
          },
          {
           "alignmentgroup": "True",
           "hovertemplate": "Continent=South America<br>Year=1990<br>CO2_emission=%{y}<extra></extra>",
           "legendgroup": "South America",
           "marker": {
            "color": "#FFA15A"
           },
           "name": "South America",
           "notched": false,
           "offsetgroup": "South America",
           "orientation": "v",
           "showlegend": true,
           "type": "box",
           "x0": " ",
           "xaxis": "x",
           "y": [
            107.366089785,
            4.579473333,
            231.995595162,
            28.623170396,
            45.545017981,
            12.193126267,
            0.7,
            2.3,
            20.802809405999998,
            1.2,
            4.9,
            102.199478759
           ],
           "y0": " ",
           "yaxis": "y"
          },
          {
           "alignmentgroup": "True",
           "hovertemplate": "Continent=Oceania<br>Year=1990<br>CO2_emission=%{y}<extra></extra>",
           "legendgroup": "Oceania",
           "marker": {
            "color": "#19d3f3"
           },
           "name": "Oceania",
           "notched": false,
           "offsetgroup": "Oceania",
           "orientation": "v",
           "showlegend": true,
           "type": "box",
           "x0": " ",
           "xaxis": "x",
           "y": [
            280.535460861,
            0.923445053,
            0.02206,
            26.391553964,
            2.4,
            0.1,
            0.2,
            0.08744,
            0.1
           ],
           "y0": " ",
           "yaxis": "y"
          }
         ],
         "name": "1990"
        },
        {
         "data": [
          {
           "alignmentgroup": "True",
           "hovertemplate": "Continent=Asia<br>Year=1991<br>CO2_emission=%{y}<extra></extra>",
           "legendgroup": "Asia",
           "marker": {
            "color": "#636efa"
           },
           "name": "Asia",
           "notched": false,
           "offsetgroup": "Asia",
           "orientation": "v",
           "showlegend": true,
           "type": "box",
           "x0": " ",
           "xaxis": "x",
           "y": [
            5.92606127,
            14.287882779,
            13.660338654,
            0.114148015,
            3.862896493,
            4.606301365,
            0.5,
            2417.2412643820003,
            43.49669293,
            541.339314359,
            148.620742738,
            194.667411633,
            61.277346841,
            34.540820497,
            1109.0363035189998,
            24.143184735,
            0.20675479600000002,
            4.7,
            1.1044803140000001,
            54.383124723,
            0.09766,
            17.550156786,
            0.728468221,
            76.16279557899999,
            11.199397360999999,
            65.272568113,
            41.338319614,
            15.73228334,
            198.82790918700002,
            58.022272098,
            263.67268540599997,
            5.301221386,
            36.258961412,
            119.248091156,
            83.681199783,
            127.69216649100001,
            76.830083718,
            13.302417437,
            11
           ],
           "y0": " ",
           "yaxis": "y"
          },
          {
           "alignmentgroup": "True",
           "hovertemplate": "Continent=Europe<br>Year=1991<br>CO2_emission=%{y}<extra></extra>",
           "legendgroup": "Europe",
           "marker": {
            "color": "#EF553B"
           },
           "name": "Europe",
           "notched": false,
           "offsetgroup": "Europe",
           "orientation": "v",
           "showlegend": true,
           "type": "box",
           "x0": " ",
           "xaxis": "x",
           "y": [
            6.8307701970000005,
            55.515238283,
            125.74125144899999,
            79.08659969600001,
            54.679328417,
            52.722538942,
            384.680911639,
            77.349895644,
            25.897792479,
            420.599970379,
            11.066219904,
            2.098566231,
            204.03727357,
            34.167417431,
            43.030446264,
            179.181645063,
            236.431509322,
            54.854551923,
            42.260934544,
            605.887583052
           ],
           "y0": " ",
           "yaxis": "y"
          },
          {
           "alignmentgroup": "True",
           "hovertemplate": "Continent=Africa<br>Year=1991<br>CO2_emission=%{y}<extra></extra>",
           "legendgroup": "Africa",
           "marker": {
            "color": "#00cc96"
           },
           "name": "Africa",
           "notched": false,
           "offsetgroup": "Africa",
           "orientation": "v",
           "showlegend": true,
           "type": "box",
           "x0": " ",
           "xaxis": "x",
           "y": [
            69.77155238600001,
            4.855407096,
            0.6,
            2.564767713,
            0.5,
            0.3,
            0.09635,
            3.4,
            0.2,
            0.3,
            0.07,
            1,
            3.6202024589999997,
            4.6,
            1.7,
            89.511495183,
            0.1,
            0.751446196,
            3,
            2.56665099,
            0.2,
            3,
            1.5,
            0.3,
            6.6006454979999996,
            0.2,
            0.6,
            33.721105275,
            0.9252720959999999,
            0.648390512,
            0.5,
            0.911805807,
            1.834489941,
            20.125957246,
            1,
            2.4,
            0.9909517040000001,
            44.518812448,
            1.2,
            0.7,
            0.06927,
            2.6,
            0.5,
            1.1,
            1,
            329.498834011,
            3.9,
            2.8178009530000003,
            0.6,
            13.135061070999999,
            0.8,
            2.851893076,
            14.547326119000001
           ],
           "y0": " ",
           "yaxis": "y"
          },
          {
           "alignmentgroup": "True",
           "hovertemplate": "Continent=North America<br>Year=1991<br>CO2_emission=%{y}<extra></extra>",
           "legendgroup": "North America",
           "marker": {
            "color": "#ab63fa"
           },
           "name": "North America",
           "notched": false,
           "offsetgroup": "North America",
           "orientation": "v",
           "showlegend": true,
           "type": "box",
           "x0": " ",
           "xaxis": "x",
           "y": [
            0.4,
            0.6,
            1.266699837,
            0.3,
            0.7,
            0.05039,
            432.769371574,
            0.3,
            2.6910752000000002,
            35.562073543000004,
            0.05852,
            9.037029143,
            2.4,
            0.1,
            1.4,
            3.8,
            0.733964504,
            2.7,
            7.531337445,
            1.6,
            273.932352164,
            2,
            12.076866346,
            14.081744915,
            0.06612,
            0.2,
            0.07812000000000001,
            3,
            5037.896431
           ],
           "y0": " ",
           "yaxis": "y"
          },
          {
           "alignmentgroup": "True",
           "hovertemplate": "Continent=South America<br>Year=1991<br>CO2_emission=%{y}<extra></extra>",
           "legendgroup": "South America",
           "marker": {
            "color": "#FFA15A"
           },
           "name": "South America",
           "notched": false,
           "offsetgroup": "South America",
           "orientation": "v",
           "showlegend": true,
           "type": "box",
           "x0": " ",
           "xaxis": "x",
           "y": [
            99.378868848,
            4.8917,
            243.069804424,
            30.368899694,
            45.64321413,
            14.275894667000001,
            0.7,
            2.2,
            19.619105755,
            1.5,
            4.5,
            102.537749285
           ],
           "y0": " ",
           "yaxis": "y"
          },
          {
           "alignmentgroup": "True",
           "hovertemplate": "Continent=Oceania<br>Year=1991<br>CO2_emission=%{y}<extra></extra>",
           "legendgroup": "Oceania",
           "marker": {
            "color": "#19d3f3"
           },
           "name": "Oceania",
           "notched": false,
           "offsetgroup": "Oceania",
           "orientation": "v",
           "showlegend": true,
           "type": "box",
           "x0": " ",
           "xaxis": "x",
           "y": [
            279.561446978,
            1.034047596,
            0.02206,
            28.170122004,
            2.5,
            0.1,
            0.2,
            0.08743,
            0.1
           ],
           "y0": " ",
           "yaxis": "y"
          }
         ],
         "name": "1991"
        },
        {
         "data": [
          {
           "alignmentgroup": "True",
           "hovertemplate": "Continent=Asia<br>Year=1992<br>CO2_emission=%{y}<extra></extra>",
           "legendgroup": "Asia",
           "marker": {
            "color": "#636efa"
           },
           "name": "Asia",
           "notched": false,
           "offsetgroup": "Asia",
           "orientation": "v",
           "showlegend": true,
           "type": "box",
           "x0": " ",
           "xaxis": "x",
           "y": [
            2.693772146,
            15.94322689,
            14.490779858,
            0.11608841800000001,
            3.2368217999999995,
            4.568277037,
            0.5,
            2460.412875579,
            46.31570204,
            570.714326548,
            163.212658467,
            206.12169478299998,
            41.16646287,
            35.200810262,
            1125.659049338,
            9.654976015,
            13.99990594,
            0.21125799399999998,
            8.2,
            1.100076805,
            59.145320815,
            0.09766,
            18.250202169,
            0.96522049,
            76.302413515,
            11.683881547999999,
            68.20484215100001,
            42.468042630999996,
            18.368203069,
            202.79624258200002,
            61.02306393,
            287.721920844,
            5.301408715,
            32.331357862,
            125.038997009,
            92.70111692299999,
            130.565233129,
            93.8847607,
            14.636715217999999,
            12
           ],
           "y0": " ",
           "yaxis": "y"
          },
          {
           "alignmentgroup": "True",
           "hovertemplate": "Continent=Europe<br>Year=1992<br>CO2_emission=%{y}<extra></extra>",
           "legendgroup": "Europe",
           "marker": {
            "color": "#EF553B"
           },
           "name": "Europe",
           "notched": false,
           "offsetgroup": "Europe",
           "orientation": "v",
           "showlegend": true,
           "type": "box",
           "x0": " ",
           "xaxis": "x",
           "y": [
            4.756772992,
            59.73290631,
            129.99841352,
            61.192133154,
            63.198678003000005,
            51.568633981000005,
            408.395099574,
            993.230889755,
            77.729917216,
            26.873565934000002,
            423.259630047,
            11.63586311,
            2.243778734,
            212.989285415,
            32.181623293,
            44.299893905,
            136.105803125,
            247.36619307799998,
            54.956090776,
            44.512822551000006,
            613.68506542
           ],
           "y0": " ",
           "yaxis": "y"
          },
          {
           "alignmentgroup": "True",
           "hovertemplate": "Continent=Africa<br>Year=1992<br>CO2_emission=%{y}<extra></extra>",
           "legendgroup": "Africa",
           "marker": {
            "color": "#00cc96"
           },
           "name": "Africa",
           "notched": false,
           "offsetgroup": "Africa",
           "orientation": "v",
           "showlegend": true,
           "type": "box",
           "x0": " ",
           "xaxis": "x",
           "y": [
            76.419208682,
            5.0110066,
            0.7,
            2.607885419,
            0.6,
            0.3,
            0.09921,
            3.5,
            0.3,
            0.3,
            0.06686,
            0.9,
            3.2,
            3.8,
            1.7,
            89.495248425,
            0.1,
            0.6701742629999999,
            2.5,
            2.497125466,
            0.2,
            3,
            1.2,
            0.3,
            5.761516068,
            0.2,
            0.3,
            34.7296403,
            1.024338132,
            0.734478902,
            0.5,
            1.010576037,
            1.844096365,
            20.440973676,
            1,
            1.232948121,
            0.9919256809999999,
            47.542804486,
            1.4,
            0.7,
            0.07304,
            2.4,
            0.5,
            1.1,
            0.6,
            327.700371501,
            5.6,
            2.327250384,
            1,
            11.289839497000001,
            0.9,
            2.560432712,
            14.733118064000001
           ],
           "y0": " ",
           "yaxis": "y"
          },
          {
           "alignmentgroup": "True",
           "hovertemplate": "Continent=North America<br>Year=1992<br>CO2_emission=%{y}<extra></extra>",
           "legendgroup": "North America",
           "marker": {
            "color": "#ab63fa"
           },
           "name": "North America",
           "notched": false,
           "offsetgroup": "North America",
           "orientation": "v",
           "showlegend": true,
           "type": "box",
           "x0": " ",
           "xaxis": "x",
           "y": [
            0.4,
            0.6,
            1.364738077,
            0.3,
            0.5,
            0.05039,
            425.954809792,
            0.3,
            2.8378502930000002,
            32.389277113,
            0.05845,
            8.746251712000001,
            2.8,
            0.1,
            1.5,
            3.6,
            0.7888302420000001,
            2.701748706,
            7.828811725,
            1.3,
            292.840432254,
            1.9,
            12.108093206,
            12.679893273,
            0.07555,
            0.2,
            0.07565,
            2.6,
            4992.684743
           ],
           "y0": " ",
           "yaxis": "y"
          },
          {
           "alignmentgroup": "True",
           "hovertemplate": "Continent=South America<br>Year=1992<br>CO2_emission=%{y}<extra></extra>",
           "legendgroup": "South America",
           "marker": {
            "color": "#FFA15A"
           },
           "name": "South America",
           "notched": false,
           "offsetgroup": "South America",
           "orientation": "v",
           "showlegend": true,
           "type": "box",
           "x0": " ",
           "xaxis": "x",
           "y": [
            104.19476628700001,
            4.779473333,
            251.54404202599997,
            28.879754551999998,
            45.627835323,
            14.222520456,
            0.8,
            2,
            18.854412962,
            1.5,
            4.2,
            104.58729414700001
           ],
           "y0": " ",
           "yaxis": "y"
          },
          {
           "alignmentgroup": "True",
           "hovertemplate": "Continent=Oceania<br>Year=1992<br>CO2_emission=%{y}<extra></extra>",
           "legendgroup": "Oceania",
           "marker": {
            "color": "#19d3f3"
           },
           "name": "Oceania",
           "notched": false,
           "offsetgroup": "Oceania",
           "orientation": "v",
           "showlegend": true,
           "type": "box",
           "x0": " ",
           "xaxis": "x",
           "y": [
            278.196473063,
            0.8322556040000001,
            0.026119999999999997,
            28.158164953000004,
            2.4,
            0.1,
            0.2,
            0.09762,
            0.09619
           ],
           "y0": " ",
           "yaxis": "y"
          }
         ],
         "name": "1992"
        },
        {
         "data": [
          {
           "alignmentgroup": "True",
           "hovertemplate": "Continent=Asia<br>Year=1993<br>CO2_emission=%{y}<extra></extra>",
           "legendgroup": "Asia",
           "marker": {
            "color": "#636efa"
           },
           "name": "Asia",
           "notched": false,
           "offsetgroup": "Asia",
           "orientation": "v",
           "showlegend": true,
           "type": "box",
           "x0": " ",
           "xaxis": "x",
           "y": [
            1.704078481,
            11.100206809000001,
            58.097629015,
            13.536562689,
            16.433321887,
            0.122191085,
            3.142958767,
            4.628373717,
            0.5,
            2541.0803847079997,
            14.940352183,
            51.292552835,
            604.997766092,
            171.56400298399998,
            214.123017069,
            57.61058333,
            37.346725259,
            1133.122611693,
            11.294416749000002,
            359.64118063300003,
            22.139794283,
            13.342190925,
            0.320264389,
            8.2,
            1.100108983,
            62.560985677,
            0.1,
            16.375925143,
            1.069954268,
            61.219868961,
            12.393425282,
            70.144909109,
            45.851864245,
            28.057393323000003,
            213.706792138,
            68.181341206,
            310.348614524,
            5.601315051,
            33.493910465,
            132.074410455,
            7.262872968,
            100.33702033799999,
            136.051073938,
            19.351376078,
            100.10639766,
            97.58546010200001,
            15.938822312000001,
            12
           ],
           "y0": " ",
           "yaxis": "y"
          },
          {
           "alignmentgroup": "True",
           "hovertemplate": "Continent=Europe<br>Year=1993<br>CO2_emission=%{y}<extra></extra>",
           "legendgroup": "Europe",
           "marker": {
            "color": "#EF553B"
           },
           "name": "Europe",
           "notched": false,
           "offsetgroup": "Europe",
           "orientation": "v",
           "showlegend": true,
           "type": "box",
           "x0": " ",
           "xaxis": "x",
           "y": [
            3.901890471,
            54.039199522,
            89.29108385299999,
            128.047719598,
            8.455783826000001,
            59.09190249,
            16.191140057000002,
            57.87047531899999,
            8.340762574,
            49.646200798,
            400.250884205,
            953.1652732910001,
            81.64708681399999,
            26.645893407,
            423.349856255,
            11.969561129,
            22.496354085,
            11.526819363,
            2.374381239,
            211.070012794,
            7.721927384,
            35.126149023,
            47.866260137,
            132.086924476,
            2206.984323324,
            12.80920615,
            253.783491042,
            58.123188748000004,
            45.105070962,
            594.182350193,
            596.731568454
           ],
           "y0": " ",
           "yaxis": "y"
          },
          {
           "alignmentgroup": "True",
           "hovertemplate": "Continent=Africa<br>Year=1993<br>CO2_emission=%{y}<extra></extra>",
           "legendgroup": "Africa",
           "marker": {
            "color": "#00cc96"
           },
           "name": "Africa",
           "notched": false,
           "offsetgroup": "Africa",
           "orientation": "v",
           "showlegend": true,
           "type": "box",
           "x0": " ",
           "xaxis": "x",
           "y": [
            74.390488044,
            5.218203145,
            0.8,
            3.252271257,
            0.6,
            0.3,
            0.1,
            3.6,
            0.3,
            0.3,
            0.06749,
            0.9,
            3.7,
            3.9,
            1.8,
            89.98324974799999,
            0.1,
            0.617457334,
            3.6,
            2.59617599,
            0.2,
            3.4,
            1.2,
            0.3,
            6.412896448,
            0.2,
            0.3,
            32.66575742,
            1.026399901,
            0.739116105,
            0.5,
            3.309715194,
            2.1464979719999997,
            22.078377346,
            1,
            1.126358505,
            0.961557257,
            48.78246319,
            1.4,
            0.7,
            0.07692,
            2.9,
            0.5,
            0.8,
            0.6,
            328.635756002,
            5.2,
            2.654594849,
            0.7,
            12.346142797999999,
            1,
            2.892327313,
            13.882156400000001
           ],
           "y0": " ",
           "yaxis": "y"
          },
          {
           "alignmentgroup": "True",
           "hovertemplate": "Continent=North America<br>Year=1993<br>CO2_emission=%{y}<extra></extra>",
           "legendgroup": "North America",
           "marker": {
            "color": "#ab63fa"
           },
           "name": "North America",
           "notched": false,
           "offsetgroup": "North America",
           "orientation": "v",
           "showlegend": true,
           "type": "box",
           "x0": " ",
           "xaxis": "x",
           "y": [
            0.4,
            0.7,
            1.394164475,
            0.3,
            0.4,
            0.0541,
            448.62864790199995,
            0.3,
            3.577531496,
            29.25668561,
            0.05909,
            9.84461691,
            3.2,
            0.1,
            1.4,
            4.4,
            0.8757669709999999,
            2.701471668,
            8.566697527,
            1.5,
            295.450093473,
            2.3,
            12.100885397,
            14.900439627,
            0.07632,
            0.2,
            0.08287,
            2.2,
            5093.879398
           ],
           "y0": " ",
           "yaxis": "y"
          },
          {
           "alignmentgroup": "True",
           "hovertemplate": "Continent=South America<br>Year=1993<br>CO2_emission=%{y}<extra></extra>",
           "legendgroup": "South America",
           "marker": {
            "color": "#FFA15A"
           },
           "name": "South America",
           "notched": false,
           "offsetgroup": "South America",
           "orientation": "v",
           "showlegend": true,
           "type": "box",
           "x0": " ",
           "xaxis": "x",
           "y": [
            105.550799495,
            5.197813333,
            243.906254218,
            30.03139498,
            49.94907226,
            17.243580504,
            0.9,
            2.3,
            19.696323943,
            1.4,
            4.5,
            104.659830791
           ],
           "y0": " ",
           "yaxis": "y"
          },
          {
           "alignmentgroup": "True",
           "hovertemplate": "Continent=Oceania<br>Year=1993<br>CO2_emission=%{y}<extra></extra>",
           "legendgroup": "Oceania",
           "marker": {
            "color": "#19d3f3"
           },
           "name": "Oceania",
           "notched": false,
           "offsetgroup": "Oceania",
           "orientation": "v",
           "showlegend": true,
           "type": "box",
           "x0": " ",
           "xaxis": "x",
           "y": [
            284.808418284,
            0.9385872670000001,
            0.02228,
            30.176657945,
            2.6177667000000002,
            0.1,
            0.2,
            0.1,
            0.06518
           ],
           "y0": " ",
           "yaxis": "y"
          }
         ],
         "name": "1993"
        },
        {
         "data": [
          {
           "alignmentgroup": "True",
           "hovertemplate": "Continent=Asia<br>Year=1994<br>CO2_emission=%{y}<extra></extra>",
           "legendgroup": "Asia",
           "marker": {
            "color": "#636efa"
           },
           "name": "Asia",
           "notched": false,
           "offsetgroup": "Asia",
           "orientation": "v",
           "showlegend": true,
           "type": "box",
           "x0": " ",
           "xaxis": "x",
           "y": [
            1.60213467,
            6.866926082000001,
            50.589072783,
            15.986850564000001,
            17.827564970999997,
            0.12412262,
            2.951409586,
            4.874135966,
            0.5,
            2730.930852358,
            7.826952997999999,
            54.785356598,
            630.635556191,
            181.265481574,
            222.872061936,
            66.00247386699999,
            41.198388121,
            1129.993734365,
            11.392351981,
            296.38737989,
            29.632722014000002,
            10.771281702000001,
            0.33152238300000003,
            10.260118404,
            1.200113075,
            69.815705441,
            0.1,
            15.019931197,
            1.088101569,
            71.527881428,
            13.668544222000001,
            77.295306144,
            49.564914483,
            29.883758703,
            214.47887137400002,
            75.952461607,
            335.311776458,
            6.3013774179999995,
            37.670439233,
            145.029703961,
            5.601365099,
            114.74459016799999,
            142.547810202,
            18.298035836,
            95.30422124200001,
            117.859682421,
            19.022627107,
            10
           ],
           "y0": " ",
           "yaxis": "y"
          },
          {
           "alignmentgroup": "True",
           "hovertemplate": "Continent=Europe<br>Year=1994<br>CO2_emission=%{y}<extra></extra>",
           "legendgroup": "Europe",
           "marker": {
            "color": "#EF553B"
           },
           "name": "Europe",
           "notched": false,
           "offsetgroup": "Europe",
           "orientation": "v",
           "showlegend": true,
           "type": "box",
           "x0": " ",
           "xaxis": "x",
           "y": [
            2.8908357510000005,
            54.589309388000004,
            79.727988576,
            125.34061951700001,
            6.073801737999999,
            56.113309546,
            16.469900065,
            128.358111669,
            61.335524297,
            6.898554882000001,
            49.755868741,
            379.862614703,
            937.3156195260001,
            81.73644043600001,
            27.702098841999998,
            417.490375961,
            10.057695107999999,
            17.640178289,
            11.678324981,
            2.4775088,
            215.09033696400002,
            8.023983521,
            34.007005772,
            45.971220007,
            124.549766956,
            2028.9359937170002,
            50.46784654,
            13.83516886,
            241.256493488,
            57.516223053999994,
            42.932256474,
            556.220655001,
            583.33209709
           ],
           "y0": " ",
           "yaxis": "y"
          },
          {
           "alignmentgroup": "True",
           "hovertemplate": "Continent=Africa<br>Year=1994<br>CO2_emission=%{y}<extra></extra>",
           "legendgroup": "Africa",
           "marker": {
            "color": "#00cc96"
           },
           "name": "Africa",
           "notched": false,
           "offsetgroup": "Africa",
           "orientation": "v",
           "showlegend": true,
           "type": "box",
           "x0": " ",
           "xaxis": "x",
           "y": [
            68.124087913,
            5.098585546,
            0.8,
            3.055759068,
            0.6,
            0.4,
            0.1,
            2.8,
            0.3,
            0.2,
            0.0675,
            0.8,
            3.9,
            4.4,
            1.8,
            93.52458871200001,
            0.1,
            0.6230061689999999,
            3.3,
            2.49617599,
            0.2,
            3.5,
            1.2,
            0.3,
            6.558355338999999,
            0.2,
            0.4,
            33.337977143,
            1.121807178,
            0.74607191,
            0.5,
            3.4088543510000004,
            2.248899578,
            23.528221871,
            1,
            1.319768872,
            0.9851708020000001,
            49.974135263,
            1.9,
            0.7,
            0.07694,
            2.933689057,
            0.5,
            0.8,
            0.6,
            336.643279325,
            4.9,
            2.808356982,
            0.5,
            14.661812238,
            1,
            2.501735649,
            14.415796728
           ],
           "y0": " ",
           "yaxis": "y"
          },
          {
           "alignmentgroup": "True",
           "hovertemplate": "Continent=North America<br>Year=1994<br>CO2_emission=%{y}<extra></extra>",
           "legendgroup": "North America",
           "marker": {
            "color": "#ab63fa"
           },
           "name": "North America",
           "notched": false,
           "offsetgroup": "North America",
           "orientation": "v",
           "showlegend": true,
           "type": "box",
           "x0": " ",
           "xaxis": "x",
           "y": [
            0.4,
            0.7,
            1.392202715,
            0.3,
            0.5,
            0.054110000000000005,
            447.59329685800003,
            0.3,
            3.9352622310000003,
            28.168230551,
            0.06224,
            8.650892072000001,
            3.200951219,
            0.1,
            1.6,
            4.8,
            0.6,
            2.70235723,
            8.638914606,
            2,
            310.44810531400003,
            2.3,
            12.127312035,
            14.985498974,
            0.08587,
            0.2,
            0.07644,
            2.3,
            5185.520158
           ],
           "y0": " ",
           "yaxis": "y"
          },
          {
           "alignmentgroup": "True",
           "hovertemplate": "Continent=South America<br>Year=1994<br>CO2_emission=%{y}<extra></extra>",
           "legendgroup": "South America",
           "marker": {
            "color": "#FFA15A"
           },
           "name": "South America",
           "notched": false,
           "offsetgroup": "South America",
           "orientation": "v",
           "showlegend": true,
           "type": "box",
           "x0": " ",
           "xaxis": "x",
           "y": [
            115.861464739,
            4.992891168,
            265.128557628,
            32.739001079,
            51.46905755,
            15.243477043,
            1.2,
            2.5,
            22.228113776999997,
            1.5,
            4.9,
            106.941333575
           ],
           "y0": " ",
           "yaxis": "y"
          },
          {
           "alignmentgroup": "True",
           "hovertemplate": "Continent=Oceania<br>Year=1994<br>CO2_emission=%{y}<extra></extra>",
           "legendgroup": "Oceania",
           "marker": {
            "color": "#19d3f3"
           },
           "name": "Oceania",
           "notched": false,
           "offsetgroup": "Oceania",
           "orientation": "v",
           "showlegend": true,
           "type": "box",
           "x0": " ",
           "xaxis": "x",
           "y": [
            289.21125997900003,
            0.943336009,
            0.02228,
            29.251877892,
            2.556940792,
            0.1,
            0.2,
            0.1,
            0.06519
           ],
           "y0": " ",
           "yaxis": "y"
          }
         ],
         "name": "1994"
        },
        {
         "data": [
          {
           "alignmentgroup": "True",
           "hovertemplate": "Continent=Asia<br>Year=1995<br>CO2_emission=%{y}<extra></extra>",
           "legendgroup": "Asia",
           "marker": {
            "color": "#636efa"
           },
           "name": "Asia",
           "notched": false,
           "offsetgroup": "Asia",
           "orientation": "v",
           "showlegend": true,
           "type": "box",
           "x0": " ",
           "xaxis": "x",
           "y": [
            1.5999408819999998,
            6.02829579,
            46.44284656399999,
            15.831580133,
            19.798063865,
            0.16544473,
            2.913541163,
            5.898204773,
            0.5,
            2916.39147434,
            6.848382178,
            4.796020071,
            52.06775864,
            670.382645382,
            191.206575945,
            234.24196502599997,
            77.21830394,
            44.039258649,
            1185.701486382,
            12.550425259,
            257.142718535,
            36.711676074,
            7.063562376,
            0.342780377,
            11.262461813,
            1.300013876,
            81.081511061,
            0.2,
            13.872959294000001,
            1.188814378,
            69.703117145,
            14.241456365,
            84.684958631,
            52.681478133999995,
            29.983064324,
            221.02560331700002,
            81.93942351,
            362.803286968,
            6.701439785,
            40.861125978000004,
            156.746512521,
            5.113660907,
            128.122449292,
            144.564046333,
            17.288971976,
            93.51155654200001,
            100.076885886,
            20.705746869000002,
            9.9
           ],
           "y0": " ",
           "yaxis": "y"
          },
          {
           "alignmentgroup": "True",
           "hovertemplate": "Continent=Europe<br>Year=1995<br>CO2_emission=%{y}<extra></extra>",
           "legendgroup": "Europe",
           "marker": {
            "color": "#EF553B"
           },
           "name": "Europe",
           "notched": false,
           "offsetgroup": "Europe",
           "orientation": "v",
           "showlegend": true,
           "type": "box",
           "x0": " ",
           "xaxis": "x",
           "y": [
            2.328549426,
            54.753857956000004,
            65.914730418,
            131.457627422,
            5.946905822000001,
            57.318339167,
            17.638463519000002,
            120.83528981799999,
            66.719095094,
            6.141376667,
            55.860950345,
            372.294824217,
            911.0729214869999,
            84.513561424,
            28.781555463000004,
            413.83495218900003,
            9.720857499,
            16.54419556,
            11.015877147000001,
            2.68063636,
            6.881257276,
            216.104131275,
            7.375143751,
            35.844671963,
            46.324765175,
            117.137699398,
            1840.4068117,
            45.083288618000005,
            13.86580232,
            248.52248114900001,
            62.316790446999995,
            42.391821339,
            461.97024793800006,
            576.867102345
           ],
           "y0": " ",
           "yaxis": "y"
          },
          {
           "alignmentgroup": "True",
           "hovertemplate": "Continent=Africa<br>Year=1995<br>CO2_emission=%{y}<extra></extra>",
           "legendgroup": "Africa",
           "marker": {
            "color": "#00cc96"
           },
           "name": "Africa",
           "notched": false,
           "offsetgroup": "Africa",
           "orientation": "v",
           "showlegend": true,
           "type": "box",
           "x0": " ",
           "xaxis": "x",
           "y": [
            70.374999308,
            4.919904058999999,
            0.9,
            2.991893675,
            0.7,
            0.4,
            0.1,
            3.1,
            0.3,
            0.2,
            0.07069,
            0.8,
            2.9,
            4.6,
            1.8,
            96.793435589,
            0.1,
            1,
            0.882197738,
            2.2,
            2.596092665,
            0.2,
            3.9,
            1.2,
            0.3,
            6.943476048,
            0.2,
            0.4,
            34.631871719,
            1.226432983,
            0.848390512,
            0.5,
            3.40725565,
            2.251301184,
            26.013997263,
            1,
            1.321965415,
            0.976511256,
            45.985867176000006,
            1.9,
            0.7,
            0.08012999999999999,
            3.5672540999999995,
            0.5,
            0.7,
            0.6,
            341.703525003,
            4.3,
            2.512643749,
            0.6,
            15.568852212000001,
            1,
            2.459723728,
            13.65460507
           ],
           "y0": " ",
           "yaxis": "y"
          },
          {
           "alignmentgroup": "True",
           "hovertemplate": "Continent=North America<br>Year=1995<br>CO2_emission=%{y}<extra></extra>",
           "legendgroup": "North America",
           "marker": {
            "color": "#ab63fa"
           },
           "name": "North America",
           "notched": false,
           "offsetgroup": "North America",
           "orientation": "v",
           "showlegend": true,
           "type": "box",
           "x0": " ",
           "xaxis": "x",
           "y": [
            0.5,
            0.8,
            1.2902409559999999,
            0.3,
            0.5,
            0.05413,
            460.93970400300003,
            0.3,
            3.99881247,
            29.196105042,
            0.07182999999999999,
            9.835323391000001,
            3.601660938,
            0.2,
            1.7,
            5.4,
            0.5,
            3.0021713360000004,
            8.833863165,
            2,
            338.480217282,
            2.5,
            13.129712787,
            15.304899682,
            0.1,
            0.2,
            0.1,
            2.7,
            5262.6633329999995
           ],
           "y0": " ",
           "yaxis": "y"
          },
          {
           "alignmentgroup": "True",
           "hovertemplate": "Continent=South America<br>Year=1995<br>CO2_emission=%{y}<extra></extra>",
           "legendgroup": "South America",
           "marker": {
            "color": "#FFA15A"
           },
           "name": "South America",
           "notched": false,
           "offsetgroup": "South America",
           "orientation": "v",
           "showlegend": true,
           "type": "box",
           "x0": " ",
           "xaxis": "x",
           "y": [
            112.113003975,
            5.755007116,
            279.39217631599996,
            35.879767705,
            51.650999973000005,
            17.243477043,
            1.2,
            2.9,
            23.147096541,
            1.5,
            4.6,
            112.921776897
           ],
           "y0": " ",
           "yaxis": "y"
          },
          {
           "alignmentgroup": "True",
           "hovertemplate": "Continent=Oceania<br>Year=1995<br>CO2_emission=%{y}<extra></extra>",
           "legendgroup": "Oceania",
           "marker": {
            "color": "#19d3f3"
           },
           "name": "Oceania",
           "notched": false,
           "offsetgroup": "Oceania",
           "orientation": "v",
           "showlegend": true,
           "type": "box",
           "x0": " ",
           "xaxis": "x",
           "y": [
            294.00046757900003,
            0.942357888,
            0.02228,
            30.463018272,
            2.498324084,
            0.1,
            0.2,
            0.1,
            0.06521
           ],
           "y0": " ",
           "yaxis": "y"
          }
         ],
         "name": "1995"
        },
        {
         "data": [
          {
           "alignmentgroup": "True",
           "hovertemplate": "Continent=Asia<br>Year=1996<br>CO2_emission=%{y}<extra></extra>",
           "legendgroup": "Asia",
           "marker": {
            "color": "#636efa"
           },
           "name": "Asia",
           "notched": false,
           "offsetgroup": "Asia",
           "orientation": "v",
           "showlegend": true,
           "type": "box",
           "x0": " ",
           "xaxis": "x",
           "y": [
            1.301904405,
            7.089674037000001,
            45.670271009,
            15.931580132999999,
            21.936817658000002,
            0.17694771399999998,
            3.4976504960000003,
            6.22892826,
            1.4,
            3140.322857361,
            6.735838651,
            5.409873954,
            52.463932662,
            720.744285528,
            201.668560713,
            240.687778233,
            77.218859444,
            47.193172126,
            1196.729377534,
            13.573899718,
            210.50610503400003,
            38.711676074,
            5.25826919,
            0.351786772,
            12.433530673,
            1.303694989,
            88.69252074399999,
            0.3,
            13.210074457000001,
            1.3046933459999999,
            86.22738112,
            13.699878271,
            86.991005525,
            57.244187598,
            30.283619828000003,
            212.674793785,
            82.95504968,
            391.68808933699995,
            7.10147412,
            39.319026086,
            171.853079627,
            3.7020355819999997,
            144.83938491700002,
            158.594134352,
            18.060926942000002,
            100.63209190200001,
            106.04484721200001,
            25.174383171,
            11
           ],
           "y0": " ",
           "yaxis": "y"
          },
          {
           "alignmentgroup": "True",
           "hovertemplate": "Continent=Europe<br>Year=1996<br>CO2_emission=%{y}<extra></extra>",
           "legendgroup": "Europe",
           "marker": {
            "color": "#EF553B"
           },
           "name": "Europe",
           "notched": false,
           "offsetgroup": "Europe",
           "orientation": "v",
           "showlegend": true,
           "type": "box",
           "x0": " ",
           "xaxis": "x",
           "y": [
            2.463787517,
            58.499163014,
            61.573934447,
            131.83238429899998,
            9.986675046,
            59.962445734,
            19.360776325,
            120.140742177,
            62.727509675,
            5.24939222,
            51.832998976999995,
            384.256106135,
            922.013308472,
            86.00607069799999,
            29.535840091,
            436.8896499,
            8.72252833,
            15.884391368,
            8.955548997000001,
            2.468943589,
            6.626147884,
            221.99067256700002,
            7.650387661,
            37.100076134,
            50.661784795,
            123.70698073700001,
            1768.539364985,
            48.117533502,
            14.933963809000002,
            259.05590149799997,
            61.028922728000005,
            43.471249904,
            431.688325484,
            572.470203241
           ],
           "y0": " ",
           "yaxis": "y"
          },
          {
           "alignmentgroup": "True",
           "hovertemplate": "Continent=Africa<br>Year=1996<br>CO2_emission=%{y}<extra></extra>",
           "legendgroup": "Africa",
           "marker": {
            "color": "#00cc96"
           },
           "name": "Africa",
           "notched": false,
           "offsetgroup": "Africa",
           "orientation": "v",
           "showlegend": true,
           "type": "box",
           "x0": " ",
           "xaxis": "x",
           "y": [
            72.73684879300001,
            5.298585546,
            1,
            3.02467312,
            0.7,
            0.4,
            0.1,
            3.1,
            0.3,
            0.2,
            0.08324,
            0.7,
            3,
            4.578325965,
            1.8,
            97.98697390299999,
            0.1,
            1.1,
            0.8338738859999999,
            2.4,
            2.196092665,
            0.2,
            4,
            1.2,
            0.3,
            7.207689255,
            0.2,
            0.4,
            36.514660522,
            1.318381909,
            0.84607191,
            0.5,
            3.107870544,
            2.451301184,
            26.160456719000003,
            1.1,
            1.335144659,
            1.018472966,
            52.234222126000006,
            1.9,
            0.7,
            0.07942,
            3.88442536,
            0.5,
            0.8,
            0.6,
            361.188096731,
            4,
            2.506976425,
            0.6,
            13.718319727999999,
            1,
            1.938126953,
            13.287523764000001
           ],
           "y0": " ",
           "yaxis": "y"
          },
          {
           "alignmentgroup": "True",
           "hovertemplate": "Continent=North America<br>Year=1996<br>CO2_emission=%{y}<extra></extra>",
           "legendgroup": "North America",
           "marker": {
            "color": "#ab63fa"
           },
           "name": "North America",
           "notched": false,
           "offsetgroup": "North America",
           "orientation": "v",
           "showlegend": true,
           "type": "box",
           "x0": " ",
           "xaxis": "x",
           "y": [
            0.5,
            0.9,
            1.392202715,
            0.3,
            0.5,
            0.054060000000000004,
            468.107544816,
            0.3,
            4.592665809,
            31.207549721,
            0.08101,
            11.180759592000001,
            4.6017001010000005,
            0.2,
            1.7,
            6.1,
            0.9,
            3.5021019960000004,
            9.938914606,
            2,
            320.840693538,
            2.8,
            14.086475333,
            13.196169913,
            0.09229,
            0.2,
            0.1,
            3.2,
            5324.311399
           ],
           "y0": " ",
           "yaxis": "y"
          },
          {
           "alignmentgroup": "True",
           "hovertemplate": "Continent=South America<br>Year=1996<br>CO2_emission=%{y}<extra></extra>",
           "legendgroup": "South America",
           "marker": {
            "color": "#FFA15A"
           },
           "name": "South America",
           "notched": false,
           "offsetgroup": "South America",
           "orientation": "v",
           "showlegend": true,
           "type": "box",
           "x0": " ",
           "xaxis": "x",
           "y": [
            115.12491699,
            6.787921242,
            299.819187827,
            39.092920312,
            49.859156542,
            17.292448347,
            1,
            3.3,
            24.145541895,
            1.5,
            4.7,
            117.864721091
           ],
           "y0": " ",
           "yaxis": "y"
          },
          {
           "alignmentgroup": "True",
           "hovertemplate": "Continent=Oceania<br>Year=1996<br>CO2_emission=%{y}<extra></extra>",
           "legendgroup": "Oceania",
           "marker": {
            "color": "#19d3f3"
           },
           "name": "Oceania",
           "notched": false,
           "offsetgroup": "Oceania",
           "orientation": "v",
           "showlegend": true,
           "type": "box",
           "x0": " ",
           "xaxis": "x",
           "y": [
            301.72805175599996,
            1.041379767,
            0.022269999999999998,
            30.596156756,
            2.596092665,
            0.1,
            0.2,
            0.1,
            0.06516
           ],
           "y0": " ",
           "yaxis": "y"
          }
         ],
         "name": "1996"
        },
        {
         "data": [
          {
           "alignmentgroup": "True",
           "hovertemplate": "Continent=Asia<br>Year=1997<br>CO2_emission=%{y}<extra></extra>",
           "legendgroup": "Asia",
           "marker": {
            "color": "#636efa"
           },
           "name": "Asia",
           "notched": false,
           "offsetgroup": "Asia",
           "orientation": "v",
           "showlegend": true,
           "type": "box",
           "x0": " ",
           "xaxis": "x",
           "y": [
            1.3570362130000002,
            8.071509648,
            39.249112926,
            15.888762569,
            22.708188019,
            0.177733456,
            3.4865514089999996,
            6.32955927,
            1.5,
            3240.4189272520002,
            6.732254786,
            5.679045612,
            51.018322815,
            755.557650006,
            217.88662464599997,
            238.20858931799998,
            77.35610208899999,
            48.971523559,
            1216.012189945,
            14.532876799,
            197.95160301299998,
            41.711706627,
            7.380755363,
            0.360492954,
            13.520236807,
            1.502943924,
            95.49466151600001,
            0.4,
            13.627755552,
            1.5698194380000001,
            85.50462396100001,
            14.201570852,
            95.034480034,
            60.452533856,
            30.976110684000002,
            227.145501078,
            98.937509634,
            422.328393328,
            8.00151467,
            41.261128969,
            187.985281815,
            4.796478598999999,
            164.501650818,
            172.94943352599998,
            18.016336438,
            103.261781392,
            103.595252999,
            31.133673798,
            11
           ],
           "y0": " ",
           "yaxis": "y"
          },
          {
           "alignmentgroup": "True",
           "hovertemplate": "Continent=Europe<br>Year=1997<br>CO2_emission=%{y}<extra></extra>",
           "legendgroup": "Europe",
           "marker": {
            "color": "#EF553B"
           },
           "name": "Europe",
           "notched": false,
           "offsetgroup": "Europe",
           "orientation": "v",
           "showlegend": true,
           "type": "box",
           "x0": " ",
           "xaxis": "x",
           "y": [
            2.019993742,
            63.147108329,
            59.950772361999995,
            138.620165006,
            4.76732975,
            58.54298502100001,
            17.563951188,
            125.10121645299999,
            73.259053297,
            5.8776275710000006,
            55.323220051999996,
            398.758009963,
            936.787350252,
            88.86410512799999,
            31.474908618,
            432.828621667,
            8.753311177,
            16.077563281,
            9.116659441,
            2.6012528059999998,
            7.381112616,
            231.862969258,
            8.129501988,
            39.50830487,
            47.748407316000005,
            125.81911456700001,
            1630.789539111,
            45.428375843000005,
            16.334566122000002,
            253.54404991400003,
            65.798289153,
            44.33135558,
            364.38411115400004,
            595.236738005
           ],
           "y0": " ",
           "yaxis": "y"
          },
          {
           "alignmentgroup": "True",
           "hovertemplate": "Continent=Africa<br>Year=1997<br>CO2_emission=%{y}<extra></extra>",
           "legendgroup": "Africa",
           "marker": {
            "color": "#00cc96"
           },
           "name": "Africa",
           "notched": false,
           "offsetgroup": "Africa",
           "orientation": "v",
           "showlegend": true,
           "type": "box",
           "x0": " ",
           "xaxis": "x",
           "y": [
            71.012657374,
            5.098585546,
            1,
            2.721831559,
            0.7,
            0.4,
            0.1,
            3,
            0.3,
            0.2,
            0.08346,
            0.7,
            3.2,
            5.406233565,
            1.8,
            106.12241941200001,
            0.1,
            1.1,
            0.785550034,
            1.7,
            2.29617599,
            0.2,
            4.1,
            1.2,
            0.3,
            7.584593653,
            0.2,
            0.4,
            38.240386699,
            1.320008176,
            0.8553463170000001,
            0.5,
            3.507017897,
            2.396064244,
            25.97644882,
            1.1,
            1.4307515819999999,
            0.998468056,
            51.75203638,
            1.9,
            0.7,
            0.08006,
            3.901067172,
            0.5,
            0.8,
            0.6,
            374.20912463,
            4,
            2.5424452619999998,
            0.6,
            14.411848108,
            1,
            2.1285617759999997,
            13.044714417
           ],
           "y0": " ",
           "yaxis": "y"
          },
          {
           "alignmentgroup": "True",
           "hovertemplate": "Continent=North America<br>Year=1997<br>CO2_emission=%{y}<extra></extra>",
           "legendgroup": "North America",
           "marker": {
            "color": "#ab63fa"
           },
           "name": "North America",
           "notched": false,
           "offsetgroup": "North America",
           "orientation": "v",
           "showlegend": true,
           "type": "box",
           "x0": " ",
           "xaxis": "x",
           "y": [
            0.5,
            0.6,
            1.088279196,
            0.3,
            0.5,
            0.0604,
            479.172343541,
            0.3,
            4.341123246,
            30.194188938000003,
            0.08119,
            11.230629795999999,
            4.401816025,
            0.2,
            1.7,
            6.3,
            1.1,
            3.901707881,
            10.061646087,
            2,
            330.382519844,
            2.9,
            12.041512074000002,
            11.85852683,
            0.1,
            0.2,
            0.1,
            3.6,
            5518.030044
           ],
           "y0": " ",
           "yaxis": "y"
          },
          {
           "alignmentgroup": "True",
           "hovertemplate": "Continent=South America<br>Year=1997<br>CO2_emission=%{y}<extra></extra>",
           "legendgroup": "South America",
           "marker": {
            "color": "#FFA15A"
           },
           "name": "South America",
           "notched": false,
           "offsetgroup": "South America",
           "orientation": "v",
           "showlegend": true,
           "type": "box",
           "x0": " ",
           "xaxis": "x",
           "y": [
            123.061078645,
            6.455985557999999,
            316.633890261,
            43.880968586,
            50.028284209,
            18.292296605,
            1,
            2.7,
            25.127879899,
            1.5,
            4.9,
            120.30831012899999
           ],
           "y0": " ",
           "yaxis": "y"
          },
          {
           "alignmentgroup": "True",
           "hovertemplate": "Continent=Oceania<br>Year=1997<br>CO2_emission=%{y}<extra></extra>",
           "legendgroup": "Oceania",
           "marker": {
            "color": "#19d3f3"
           },
           "name": "Oceania",
           "notched": false,
           "offsetgroup": "Oceania",
           "orientation": "v",
           "showlegend": true,
           "type": "box",
           "x0": " ",
           "xaxis": "x",
           "y": [
            317.015720116,
            1.140401646,
            0.02226,
            31.833218517,
            2.655028788,
            0.1,
            0.2,
            0.1,
            0.06515
           ],
           "y0": " ",
           "yaxis": "y"
          }
         ],
         "name": "1997"
        },
        {
         "data": [
          {
           "alignmentgroup": "True",
           "hovertemplate": "Continent=Asia<br>Year=1998<br>CO2_emission=%{y}<extra></extra>",
           "legendgroup": "Asia",
           "marker": {
            "color": "#636efa"
           },
           "name": "Asia",
           "notched": false,
           "offsetgroup": "Asia",
           "orientation": "v",
           "showlegend": true,
           "type": "box",
           "x0": " ",
           "xaxis": "x",
           "y": [
            1.255092401,
            7.4795578229999995,
            37.977024836,
            18.435226434,
            23.389948115,
            0.178519197,
            3.702775948,
            6.938363594,
            1.9,
            3143.5682830359997,
            6.734046717999999,
            5.9970923570000005,
            47.393801596,
            792.175115825,
            235.81359316700002,
            270.889634538,
            68.983367707,
            51.55543724,
            1220.311603357,
            13.570249282999999,
            178.502718558,
            52.18551431,
            7.347565182,
            0.35397645200000005,
            15.531953852000001,
            1.502835299,
            99.976626723,
            0.3,
            12.602300068,
            1.775844015,
            84.55959313,
            16.208301969,
            96.31296070100001,
            0.4,
            66.76940888899999,
            32.623989003,
            253.006832919,
            99.945400208,
            446.24505534800005,
            8.90155522,
            43.231331102,
            197.303024135,
            4.715879122,
            172.967625854,
            182.53447381200002,
            19.024095558,
            108.891037215,
            103.596605074,
            32.806355318,
            11
           ],
           "y0": " ",
           "yaxis": "y"
          },
          {
           "alignmentgroup": "True",
           "hovertemplate": "Continent=Europe<br>Year=1998<br>CO2_emission=%{y}<extra></extra>",
           "legendgroup": "Europe",
           "marker": {
            "color": "#EF553B"
           },
           "name": "Europe",
           "notched": false,
           "offsetgroup": "Europe",
           "orientation": "v",
           "showlegend": true,
           "type": "box",
           "x0": " ",
           "xaxis": "x",
           "y": [
            1.9581454390000002,
            62.225040933,
            58.911641256,
            136.571975718,
            10.349730953,
            54.63050795,
            18.540202937,
            123.51543182200001,
            63.898625341999995,
            6.2776006220000005,
            53.66225941,
            390.52920339199994,
            907.2938124089999,
            89.591002844,
            33.005629073,
            436.60086109900004,
            8.385792052000001,
            16.110977225,
            8.666867683,
            2.8000018260000004,
            7.832450959,
            228.506991691,
            7.514053389,
            40.986888072,
            49.631687557,
            120.64856224,
            1533.455661051,
            43.452742866,
            16.005260432,
            275.323007168,
            61.14004198600001,
            43.564547046,
            355.073865915,
            563.289838456
           ],
           "y0": " ",
           "yaxis": "y"
          },
          {
           "alignmentgroup": "True",
           "hovertemplate": "Continent=Africa<br>Year=1998<br>CO2_emission=%{y}<extra></extra>",
           "legendgroup": "Africa",
           "marker": {
            "color": "#00cc96"
           },
           "name": "Africa",
           "notched": false,
           "offsetgroup": "Africa",
           "orientation": "v",
           "showlegend": true,
           "type": "box",
           "x0": " ",
           "xaxis": "x",
           "y": [
            67.10799231600001,
            5.718203145,
            1.1,
            2.7871097089999997,
            1.1,
            0.4,
            0.1,
            3.1,
            0.3,
            0.2,
            0.08346,
            0.7,
            3.1,
            5.277055942,
            1.8,
            110.38413716,
            0.1,
            1.1,
            0.813081836,
            1.7,
            2.39617599,
            0.2,
            3.8,
            1.2,
            0.3,
            6.990301961,
            0.2,
            0.4,
            40.691591476999996,
            1.3301511990000001,
            0.859983521,
            0.5,
            3.203948247,
            2.41047388,
            25.99301977,
            1.1,
            1.424161946,
            1.0092723209999999,
            50.509979078,
            1.9,
            0.7,
            0.07939,
            3.567378115,
            0.6,
            0.9,
            0.6,
            385.71610493099996,
            4.1,
            2.48571609,
            0.7,
            16.804825463,
            1.1,
            2.195023651,
            12.316714944000001
           ],
           "y0": " ",
           "yaxis": "y"
          },
          {
           "alignmentgroup": "True",
           "hovertemplate": "Continent=North America<br>Year=1998<br>CO2_emission=%{y}<extra></extra>",
           "legendgroup": "North America",
           "marker": {
            "color": "#ab63fa"
           },
           "name": "North America",
           "notched": false,
           "offsetgroup": "North America",
           "orientation": "v",
           "showlegend": true,
           "type": "box",
           "x0": " ",
           "xaxis": "x",
           "y": [
            0.5,
            0.9,
            1.4843556759999998,
            0.4,
            0.5,
            0.06039,
            492.264723421,
            0.3,
            4.46571689,
            33.588388758,
            0.08116,
            12.234988328,
            4.7018800160000005,
            0.2,
            1.7,
            7,
            1.4,
            3.8014518510000004,
            10.169223247,
            2,
            345.49378281300005,
            3,
            13.049301762,
            11.690953965,
            0.1,
            0.2,
            0.1,
            3.5,
            5589.322021
           ],
           "y0": " ",
           "yaxis": "y"
          },
          {
           "alignmentgroup": "True",
           "hovertemplate": "Continent=South America<br>Year=1998<br>CO2_emission=%{y}<extra></extra>",
           "legendgroup": "South America",
           "marker": {
            "color": "#FFA15A"
           },
           "name": "South America",
           "notched": false,
           "offsetgroup": "South America",
           "orientation": "v",
           "showlegend": true,
           "type": "box",
           "x0": " ",
           "xaxis": "x",
           "y": [
            125.789623885,
            7.123834197000001,
            333.150113347,
            50.638338583,
            54.919082526000004,
            18.243580504,
            1.1,
            3,
            24.850681262,
            1.5,
            5.2,
            122.370133384
           ],
           "y0": " ",
           "yaxis": "y"
          },
          {
           "alignmentgroup": "True",
           "hovertemplate": "Continent=Oceania<br>Year=1998<br>CO2_emission=%{y}<extra></extra>",
           "legendgroup": "Oceania",
           "marker": {
            "color": "#19d3f3"
           },
           "name": "Oceania",
           "notched": false,
           "offsetgroup": "Oceania",
           "orientation": "v",
           "showlegend": true,
           "type": "box",
           "x0": " ",
           "xaxis": "x",
           "y": [
            325.723945211,
            1.139423525,
            0.02226,
            33.514343675999996,
            2.7157935889999996,
            0.1,
            0.2,
            0.1,
            0.06514
           ],
           "y0": " ",
           "yaxis": "y"
          }
         ],
         "name": "1998"
        },
        {
         "data": [
          {
           "alignmentgroup": "True",
           "hovertemplate": "Continent=Asia<br>Year=1999<br>CO2_emission=%{y}<extra></extra>",
           "legendgroup": "Asia",
           "marker": {
            "color": "#636efa"
           },
           "name": "Asia",
           "notched": false,
           "offsetgroup": "Asia",
           "orientation": "v",
           "showlegend": true,
           "type": "box",
           "x0": " ",
           "xaxis": "x",
           "y": [
            1.255092401,
            7.864828592,
            34.976128050999996,
            19.462989604,
            25.187677976,
            0.180241275,
            3.243306501,
            8.339074608999999,
            2.1,
            3132.0915264090004,
            7.237630632,
            6.056991779,
            52.72888949399999,
            810.223561783,
            225.915809735,
            276.470267381,
            70.787191717,
            52.667934268,
            1185.953843791,
            14.55193291,
            169.684734126,
            55.655839136000004,
            7.94757015,
            0.44745995,
            15.45110624,
            1.602405453,
            99.647702118,
            0.3,
            12.749720107,
            2.182671623,
            74.256085969,
            20.36914497,
            99.347663255,
            0.5,
            70.39176174100001,
            33.414428979,
            255.924529802,
            104.944674114,
            391.625249816,
            9.00159577,
            47.376933236000006,
            211.98387097,
            5.165414303,
            159.056968656,
            186.008780298,
            17.631743577,
            113.617883481,
            102.299752168,
            35.060242068,
            11
           ],
           "y0": " ",
           "yaxis": "y"
          },
          {
           "alignmentgroup": "True",
           "hovertemplate": "Continent=Europe<br>Year=1999<br>CO2_emission=%{y}<extra></extra>",
           "legendgroup": "Europe",
           "marker": {
            "color": "#EF553B"
           },
           "name": "Europe",
           "notched": false,
           "offsetgroup": "Europe",
           "orientation": "v",
           "showlegend": true,
           "type": "box",
           "x0": " ",
           "xaxis": "x",
           "y": [
            2.331577807,
            62.563329586,
            56.655841976000005,
            142.175310258,
            13.108146440999999,
            48.09133492,
            20.174222695,
            116.58439301700001,
            60.722403773,
            7.084544292,
            51.41678719,
            415.12357839099997,
            900.43466372,
            94.967572981,
            35.704305328000004,
            446.519038981,
            7.809675459,
            17.772191976,
            8.004359255,
            2.901451867,
            7.20691906,
            229.75697095200002,
            8.285232919,
            41.20630714,
            54.825010045,
            100.50770416600001,
            1518.144419773,
            41.708822745999996,
            15.468386198,
            283.470106102,
            62.331181723,
            45.235610153,
            344.27881769699997,
            564.1726785530001
           ],
           "y0": " ",
           "yaxis": "y"
          },
          {
           "alignmentgroup": "True",
           "hovertemplate": "Continent=Africa<br>Year=1999<br>CO2_emission=%{y}<extra></extra>",
           "legendgroup": "Africa",
           "marker": {
            "color": "#00cc96"
           },
           "name": "Africa",
           "notched": false,
           "offsetgroup": "Africa",
           "orientation": "v",
           "showlegend": true,
           "type": "box",
           "x0": " ",
           "xaxis": "x",
           "y": [
            70.73252932300001,
            4.837820744,
            1.2,
            3.053071438,
            1.1,
            0.4,
            0.1,
            3.1,
            0.3,
            0.2,
            0.08661,
            0.8,
            2.9,
            5.369407923,
            1.8,
            113.55775448899999,
            0.139235198,
            1.3,
            1.150294471,
            2.6,
            2.29617599,
            0.2,
            3.8,
            1.3,
            0.3,
            7.936994205,
            0.2,
            0.4,
            38.691591476999996,
            1.316930513,
            0.8553463170000001,
            0.6,
            3.2019870989999997,
            2.5705140319999997,
            26.712826653,
            1.2177055940000001,
            1.537341198,
            1.054421593,
            50.603202706000005,
            2.4,
            0.7,
            0.07937000000000001,
            3.767378115,
            0.6,
            0.9,
            0.6,
            395.452949901,
            4.1,
            2.533650874,
            0.7,
            17.443333189,
            1.2,
            2.268921274,
            12.589730975999998
           ],
           "y0": " ",
           "yaxis": "y"
          },
          {
           "alignmentgroup": "True",
           "hovertemplate": "Continent=North America<br>Year=1999<br>CO2_emission=%{y}<extra></extra>",
           "legendgroup": "North America",
           "marker": {
            "color": "#ab63fa"
           },
           "name": "North America",
           "notched": false,
           "offsetgroup": "North America",
           "orientation": "v",
           "showlegend": true,
           "type": "box",
           "x0": " ",
           "xaxis": "x",
           "y": [
            0.5,
            0.9,
            1.4725851159999999,
            0.4,
            0.5,
            0.060360000000000004,
            488.875614161,
            0.3,
            5.040783086,
            32.910194714,
            0.0843,
            12.331823319000002,
            5.50208359,
            0.2,
            1.7,
            8.664932537,
            1.3,
            4.401702564,
            11.179326127000001,
            2,
            371.58924943,
            3.5,
            14.069663457999999,
            11.647009962,
            0.1,
            0.2,
            0.2,
            4,
            5636.733477000001
           ],
           "y0": " ",
           "yaxis": "y"
          },
          {
           "alignmentgroup": "True",
           "hovertemplate": "Continent=South America<br>Year=1999<br>CO2_emission=%{y}<extra></extra>",
           "legendgroup": "South America",
           "marker": {
            "color": "#FFA15A"
           },
           "name": "South America",
           "notched": false,
           "offsetgroup": "South America",
           "orientation": "v",
           "showlegend": true,
           "type": "box",
           "x0": " ",
           "xaxis": "x",
           "y": [
            133.648446173,
            6.703551915,
            329.492351347,
            51.488744946000004,
            54.493185478,
            19.243580504,
            1.4,
            3.4,
            25.277597637,
            1.5,
            6.4,
            129.527653923
           ],
           "y0": " ",
           "yaxis": "y"
          },
          {
           "alignmentgroup": "True",
           "hovertemplate": "Continent=Oceania<br>Year=1999<br>CO2_emission=%{y}<extra></extra>",
           "legendgroup": "Oceania",
           "marker": {
            "color": "#19d3f3"
           },
           "name": "Oceania",
           "notched": false,
           "offsetgroup": "Oceania",
           "orientation": "v",
           "showlegend": true,
           "type": "box",
           "x0": " ",
           "xaxis": "x",
           "y": [
            341.082925765,
            1.035839564,
            0.02226,
            32.042265419,
            2.615793589,
            0.1,
            0.2,
            0.1,
            0.06513
           ],
           "y0": " ",
           "yaxis": "y"
          }
         ],
         "name": "1999"
        },
        {
         "data": [
          {
           "alignmentgroup": "True",
           "hovertemplate": "Continent=Asia<br>Year=2000<br>CO2_emission=%{y}<extra></extra>",
           "legendgroup": "Asia",
           "marker": {
            "color": "#636efa"
           },
           "name": "Asia",
           "notched": false,
           "offsetgroup": "Asia",
           "orientation": "v",
           "showlegend": true,
           "type": "box",
           "x0": " ",
           "xaxis": "x",
           "y": [
            1.25314859,
            7.743406612999999,
            35.781064726,
            20.298400792,
            28.447993476999997,
            0.198763745,
            3.6402303,
            8.68179232,
            2.1,
            3248.272869507,
            7.836872347999999,
            4.891011747,
            61.567167479,
            851.769493733,
            252.722342289,
            298.592293013,
            73.238396495,
            53.727230195,
            1225.236408745,
            15.551923864,
            155.980043362,
            55.94960557,
            7.532122257999999,
            0.44094344799999996,
            15.41653094,
            1.7019756080000001,
            101.76544434200001,
            0.3,
            12.920586674,
            2.43835979,
            88.96890863799999,
            18.083445905999998,
            107.448427989,
            0.5,
            69.16925528600001,
            31.86655066,
            263.692567639,
            104.943568211,
            428.99774254199997,
            9.800638108,
            49.898718743,
            210.109006364,
            5.54955425,
            167.737959995,
            186.58009764599998,
            19.085855462,
            115.755704225,
            103.03493722,
            37.287730033,
            12
           ],
           "y0": " ",
           "yaxis": "y"
          },
          {
           "alignmentgroup": "True",
           "hovertemplate": "Continent=Europe<br>Year=2000<br>CO2_emission=%{y}<extra></extra>",
           "legendgroup": "Europe",
           "marker": {
            "color": "#EF553B"
           },
           "name": "Europe",
           "notched": false,
           "offsetgroup": "Europe",
           "orientation": "v",
           "showlegend": true,
           "type": "box",
           "x0": " ",
           "xaxis": "x",
           "y": [
            2.9266867339999996,
            62.034951581,
            57.936241222,
            136.00874499399998,
            12.817986590999999,
            43.349014415,
            20.019978837,
            105.820421345,
            57.43212363399999,
            5.783269186,
            51.770261495,
            410.81786126199995,
            866.7709139460001,
            94.45667932,
            38.044082175999996,
            446.80865468699994,
            7.343680927,
            13.360553537000001,
            8.466494056,
            3.300887803,
            5.970789749,
            225.48469993400002,
            7.881517264,
            43.005934715,
            61.67241194100001,
            89.525713639,
            1516.7186734170002,
            39.959954608000004,
            14.990160805999999,
            302.325242489,
            60.082823768000004,
            45.6262472,
            348.610263254,
            557.982380806
           ],
           "y0": " ",
           "yaxis": "y"
          },
          {
           "alignmentgroup": "True",
           "hovertemplate": "Continent=Africa<br>Year=2000<br>CO2_emission=%{y}<extra></extra>",
           "legendgroup": "Africa",
           "marker": {
            "color": "#00cc96"
           },
           "name": "Africa",
           "notched": false,
           "offsetgroup": "Africa",
           "orientation": "v",
           "showlegend": true,
           "type": "box",
           "x0": " ",
           "xaxis": "x",
           "y": [
            70.688902551,
            5.698585546,
            1.3,
            2.798868952,
            1.1,
            0.4,
            0.1,
            3.2,
            0.3,
            0.2,
            0.08661,
            0.6,
            2.5,
            7.028758271,
            1.8,
            116.43206182899999,
            0.139235198,
            1.1,
            1.192250293,
            3.3,
            2.19617599,
            0.2,
            4.5,
            1.3,
            0.3,
            8.129107793,
            0.2,
            0.4,
            37.317861993,
            1.306673629,
            0.858198197,
            0.6,
            3.200025951,
            2.726618428,
            29.44751654,
            1.317705594,
            1.713179252,
            0.9789176690000001,
            50.201458332,
            2.4,
            0.7,
            0.07937000000000001,
            4.167378115,
            0.6,
            0.9,
            0.6,
            384.56047065300004,
            4.5,
            2.675336564,
            1,
            18.832831017,
            1.2,
            1.984588257,
            14.179259155
           ],
           "y0": " ",
           "yaxis": "y"
          },
          {
           "alignmentgroup": "True",
           "hovertemplate": "Continent=North America<br>Year=2000<br>CO2_emission=%{y}<extra></extra>",
           "legendgroup": "North America",
           "marker": {
            "color": "#ab63fa"
           },
           "name": "North America",
           "notched": false,
           "offsetgroup": "North America",
           "orientation": "v",
           "showlegend": true,
           "type": "box",
           "x0": " ",
           "xaxis": "x",
           "y": [
            0.5,
            0.9,
            1.592202715,
            0.4,
            0.5,
            0.060360000000000004,
            508.913614317,
            0.3,
            5.509769834,
            33.108387109,
            0.0843,
            14.117588719,
            5.502481469,
            0.2,
            1.7,
            9.053974281,
            1.5,
            4.6023064819999995,
            11.181851847,
            2,
            364.30219198099996,
            3.7,
            13.090816349,
            7.516666732999999,
            0.1,
            0.2,
            0.2,
            3.6,
            5700.2528649999995
           ],
           "y0": " ",
           "yaxis": "y"
          },
          {
           "alignmentgroup": "True",
           "hovertemplate": "Continent=South America<br>Year=2000<br>CO2_emission=%{y}<extra></extra>",
           "legendgroup": "South America",
           "marker": {
            "color": "#FFA15A"
           },
           "name": "South America",
           "notched": false,
           "offsetgroup": "South America",
           "orientation": "v",
           "showlegend": true,
           "type": "box",
           "x0": " ",
           "xaxis": "x",
           "y": [
            139.373299261,
            8.0622599,
            341.813329688,
            55.77806557,
            49.087333481,
            18.246097522,
            1.5,
            3.8,
            26.366250528000002,
            1.5,
            7.239235197999999,
            121.08094275
           ],
           "y0": " ",
           "yaxis": "y"
          },
          {
           "alignmentgroup": "True",
           "hovertemplate": "Continent=Oceania<br>Year=2000<br>CO2_emission=%{y}<extra></extra>",
           "legendgroup": "Oceania",
           "marker": {
            "color": "#19d3f3"
           },
           "name": "Oceania",
           "notched": false,
           "offsetgroup": "Oceania",
           "orientation": "v",
           "showlegend": true,
           "type": "box",
           "x0": " ",
           "xaxis": "x",
           "y": [
            349.08021863,
            1.132255604,
            0.02226,
            33.631880235,
            2.615793589,
            0.1,
            0.2,
            0.1,
            0.06513
           ],
           "y0": " ",
           "yaxis": "y"
          }
         ],
         "name": "2000"
        },
        {
         "data": [
          {
           "alignmentgroup": "True",
           "hovertemplate": "Continent=Asia<br>Year=2001<br>CO2_emission=%{y}<extra></extra>",
           "legendgroup": "Asia",
           "marker": {
            "color": "#636efa"
           },
           "name": "Asia",
           "notched": false,
           "offsetgroup": "Asia",
           "orientation": "v",
           "showlegend": true,
           "type": "box",
           "x0": " ",
           "xaxis": "x",
           "y": [
            1.15314859,
            8.372155215,
            31.114681471999997,
            20.312282377,
            29.864597914,
            0.21728621399999998,
            3.7579358939999996,
            9.145327951,
            2.2005389969999998,
            3482.708683778,
            7.433642356,
            4.639620086,
            57.813476905,
            885.967736544,
            256.040733224,
            302.854925864,
            72.179543697,
            58.477811098000004,
            1232.962057226,
            15.573388303,
            171.639149959,
            58.832937236999996,
            7.277809112000001,
            0.43442694600000004,
            16.344461095,
            1.60227216,
            111.77870657,
            0.5,
            13.256964812,
            2.381157215,
            87.70962086600001,
            20.200234597999998,
            109.541882819,
            0.6,
            70.317697226,
            34.744104153,
            289.716700797,
            107.94250150200001,
            465.65959757800005,
            11.002112573,
            50.011043848,
            237.72328192,
            5.913996805,
            158.03718316299998,
            207.174949731,
            23.917023289,
            128.139817881,
            107.68083613,
            41.884211003000004,
            13
           ],
           "y0": " ",
           "yaxis": "y"
          },
          {
           "alignmentgroup": "True",
           "hovertemplate": "Continent=Europe<br>Year=2001<br>CO2_emission=%{y}<extra></extra>",
           "legendgroup": "Europe",
           "marker": {
            "color": "#EF553B"
           },
           "name": "Europe",
           "notched": false,
           "offsetgroup": "Europe",
           "orientation": "v",
           "showlegend": true,
           "type": "box",
           "x0": " ",
           "xaxis": "x",
           "y": [
            3.264883293,
            60.998924689,
            59.290466085,
            139.251735863,
            14.590383109000001,
            45.00045913100001,
            20.014602247,
            119.50037815700001,
            53.582431101000005,
            5.391597252,
            51.84197286,
            409.04401553599996,
            872.193489963,
            99.988976633,
            40.720312072,
            451.57311493300006,
            6.8754403989999995,
            12.068236505,
            9.065406868,
            2.90046945,
            5.83484052,
            231.23687749,
            8.044870503,
            40.260773951,
            61.481733775,
            92.32793936700001,
            1540.33430484,
            37.475991066,
            14.611440854000001,
            315.794283759,
            56.668245154,
            44.553943222,
            348.72932446699997,
            569.646097028
           ],
           "y0": " ",
           "yaxis": "y"
          },
          {
           "alignmentgroup": "True",
           "hovertemplate": "Continent=Africa<br>Year=2001<br>CO2_emission=%{y}<extra></extra>",
           "legendgroup": "Africa",
           "marker": {
            "color": "#00cc96"
           },
           "name": "Africa",
           "notched": false,
           "offsetgroup": "Africa",
           "orientation": "v",
           "showlegend": true,
           "type": "box",
           "x0": " ",
           "xaxis": "x",
           "y": [
            70.059526819,
            5.418203145,
            1.7,
            3.861523501,
            1.1,
            0.4,
            0.2,
            3.3,
            0.3,
            0.2,
            0.09636,
            0.6,
            2.1,
            7.34837587,
            1.9,
            118.51431112899999,
            0.25885279699999997,
            0.6,
            1.095739981,
            3.5,
            1.956940792,
            0.3,
            5.3,
            1.3,
            0.4,
            8.711167912,
            0.2,
            0.4,
            40.201151501,
            1.808207208,
            0.860145823,
            0.6,
            3.2,
            3.6076063410000003,
            29.992369408000002,
            1.317705594,
            1.810809341,
            1.0813713059999999,
            49.210272142,
            2.5,
            0.8,
            0.09211,
            4.384222643,
            0.6,
            0.9,
            0.7,
            392.987570347,
            6.5,
            2.6706591619999998,
            1.4,
            18.957692257,
            1.3,
            1.895350946,
            13.28504708
           ],
           "y0": " ",
           "yaxis": "y"
          },
          {
           "alignmentgroup": "True",
           "hovertemplate": "Continent=North America<br>Year=2001<br>CO2_emission=%{y}<extra></extra>",
           "legendgroup": "North America",
           "marker": {
            "color": "#ab63fa"
           },
           "name": "North America",
           "notched": false,
           "offsetgroup": "North America",
           "orientation": "v",
           "showlegend": true,
           "type": "box",
           "x0": " ",
           "xaxis": "x",
           "y": [
            0.5,
            1,
            1.674374634,
            0.7,
            0.5,
            0.060379999999999996,
            511.88698898900003,
            0.3,
            5.39223863,
            32.295198036,
            0.07958,
            16.209870935999998,
            5.502747176000001,
            0.1,
            1.8,
            9.116769656,
            1.5,
            4.30069054,
            11.157857506,
            2.1,
            382.61749106800005,
            3.7,
            13.111954770999999,
            22.099169021999998,
            0.1,
            0.3,
            0.2,
            3.5,
            5888.5924780000005
           ],
           "y0": " ",
           "yaxis": "y"
          },
          {
           "alignmentgroup": "True",
           "hovertemplate": "Continent=South America<br>Year=2001<br>CO2_emission=%{y}<extra></extra>",
           "legendgroup": "South America",
           "marker": {
            "color": "#FFA15A"
           },
           "name": "South America",
           "notched": false,
           "offsetgroup": "South America",
           "orientation": "v",
           "showlegend": true,
           "type": "box",
           "x0": " ",
           "xaxis": "x",
           "y": [
            137.719422129,
            8.767200111000001,
            326.632456149,
            52.299004536999995,
            49.326557993,
            18.34393227,
            1.7,
            3.6,
            26.447421195,
            1.6,
            6.4784703960000005,
            125.170102899
           ],
           "y0": " ",
           "yaxis": "y"
          },
          {
           "alignmentgroup": "True",
           "hovertemplate": "Continent=Oceania<br>Year=2001<br>CO2_emission=%{y}<extra></extra>",
           "legendgroup": "Oceania",
           "marker": {
            "color": "#19d3f3"
           },
           "name": "Oceania",
           "notched": false,
           "offsetgroup": "Oceania",
           "orientation": "v",
           "showlegend": true,
           "type": "box",
           "x0": " ",
           "xaxis": "x",
           "y": [
            351.077462487,
            1.430463627,
            0.02544,
            34.194868084,
            2.615793589,
            0.1,
            0.2,
            0.1,
            0.08424
           ],
           "y0": " ",
           "yaxis": "y"
          }
         ],
         "name": "2001"
        },
        {
         "data": [
          {
           "alignmentgroup": "True",
           "hovertemplate": "Continent=Asia<br>Year=2002<br>CO2_emission=%{y}<extra></extra>",
           "legendgroup": "Asia",
           "marker": {
            "color": "#636efa"
           },
           "name": "Asia",
           "notched": false,
           "offsetgroup": "Asia",
           "orientation": "v",
           "showlegend": true,
           "type": "box",
           "x0": " ",
           "xaxis": "x",
           "y": [
            0.848627166,
            8.551151861000001,
            31.18865281,
            20.759663145,
            32.905114673,
            0.220313797,
            4.24837587,
            8.891136346,
            2.500127286,
            3615.319298673,
            8.139697978,
            4.055591743,
            60.63377821899999,
            907.709669776,
            250.910736965,
            322.256390397,
            76.414457335,
            59.254901716000006,
            1225.821486122,
            15.572967167,
            174.59324778599998,
            56.675114451999995,
            6.549757887,
            0.444694229,
            15.328643084000001,
            1.7021996190000002,
            120.636393311,
            0.5,
            13.39178486,
            2.414286583,
            83.379780572,
            20.437557791,
            103.535475191,
            1.2,
            69.271326888,
            25.235304634000002,
            301.33200697,
            112.315343239,
            480.366829505,
            11.001197594,
            49.087511168,
            229.215867335,
            6.213204579,
            167.208172304,
            188.39931061,
            29.832895078000004,
            139.437364627,
            112.424915059,
            44.340263508,
            14
           ],
           "y0": " ",
           "yaxis": "y"
          },
          {
           "alignmentgroup": "True",
           "hovertemplate": "Continent=Europe<br>Year=2002<br>CO2_emission=%{y}<extra></extra>",
           "legendgroup": "Europe",
           "marker": {
            "color": "#EF553B"
           },
           "name": "Europe",
           "notched": false,
           "offsetgroup": "Europe",
           "orientation": "v",
           "showlegend": true,
           "type": "box",
           "x0": " ",
           "xaxis": "x",
           "y": [
            3.5791873410000004,
            65.588587856,
            53.852183737,
            138.815114588,
            14.42719838,
            44.48591024899999,
            20.354522635,
            119.285673213,
            55.048246466,
            6.106683326000001,
            54.948832365,
            410.652231659,
            888.0166657139999,
            102.220287801,
            43.195013393,
            451.457377005,
            7.905134014,
            12.998847287,
            9.630874901,
            2.500049824,
            5.787381047999999,
            238.404901253,
            7.946283832000001,
            42.450665755,
            60.208057251999996,
            101.27636829299999,
            1535.638066077,
            40.804042347,
            15.210501669000001,
            319.76798543,
            57.922892311000005,
            45.742914996,
            341.47280226,
            574.442291526
           ],
           "y0": " ",
           "yaxis": "y"
          },
          {
           "alignmentgroup": "True",
           "hovertemplate": "Continent=Africa<br>Year=2002<br>CO2_emission=%{y}<extra></extra>",
           "legendgroup": "Africa",
           "marker": {
            "color": "#00cc96"
           },
           "name": "Africa",
           "notched": false,
           "offsetgroup": "Africa",
           "orientation": "v",
           "showlegend": true,
           "type": "box",
           "x0": " ",
           "xaxis": "x",
           "y": [
            70.833440803,
            7.3397327489999995,
            1.7,
            3.511330594,
            1.1,
            0.4,
            0.1,
            3.2,
            0.3,
            0.2,
            0.09954,
            0.8,
            1.400393101,
            5.84837587,
            1.9,
            128.003359114,
            0.25885279699999997,
            0.8,
            1.101250879,
            3.600004267,
            1.956940792,
            0.3,
            5.2,
            1.3,
            0.4,
            8.011365756,
            0.2,
            0.5,
            40.573885882,
            2.031152181,
            0.856440456,
            0.6,
            3.2,
            3.9180802210000003,
            32.387933253,
            1.5177055940000002,
            2.201850683,
            1.0872742,
            56.238265835,
            2.6,
            0.8,
            0.09208999999999999,
            4.384222643,
            0.6,
            0.9,
            0.7,
            390.761078729,
            7.5,
            3.08394738,
            1,
            20.545072727,
            1.4,
            2.107556418,
            12.563814135
           ],
           "y0": " ",
           "yaxis": "y"
          },
          {
           "alignmentgroup": "True",
           "hovertemplate": "Continent=North America<br>Year=2002<br>CO2_emission=%{y}<extra></extra>",
           "legendgroup": "North America",
           "marker": {
            "color": "#ab63fa"
           },
           "name": "North America",
           "notched": false,
           "offsetgroup": "North America",
           "orientation": "v",
           "showlegend": true,
           "type": "box",
           "x0": " ",
           "xaxis": "x",
           "y": [
            0.5,
            1,
            1.6627763169999998,
            0.9,
            0.5,
            0.060379999999999996,
            524.378312115,
            0.3,
            5.410743688999999,
            32.68766906,
            0.1,
            16.44555316,
            5.701780641,
            0.2,
            1.8,
            10.130340207,
            1.7,
            5.000130689,
            11.133863165,
            2.1,
            384.93383811,
            3.9,
            13.058398007000001,
            31.30647887,
            0.1,
            0.3,
            0.2,
            3.4,
            5777.788286
           ],
           "y0": " ",
           "yaxis": "y"
          },
          {
           "alignmentgroup": "True",
           "hovertemplate": "Continent=South America<br>Year=2002<br>CO2_emission=%{y}<extra></extra>",
           "legendgroup": "South America",
           "marker": {
            "color": "#FFA15A"
           },
           "name": "South America",
           "notched": false,
           "offsetgroup": "South America",
           "orientation": "v",
           "showlegend": true,
           "type": "box",
           "x0": " ",
           "xaxis": "x",
           "y": [
            127.29822538,
            7.705578224,
            331.635044954,
            51.555660643,
            49.305265071,
            19.39305512,
            1.7,
            3.5,
            25.370979120999998,
            1.7,
            4.980301899,
            142.220115968
           ],
           "y0": " ",
           "yaxis": "y"
          },
          {
           "alignmentgroup": "True",
           "hovertemplate": "Continent=Oceania<br>Year=2002<br>CO2_emission=%{y}<extra></extra>",
           "legendgroup": "Oceania",
           "marker": {
            "color": "#19d3f3"
           },
           "name": "Oceania",
           "notched": false,
           "offsetgroup": "Oceania",
           "orientation": "v",
           "showlegend": true,
           "type": "box",
           "x0": " ",
           "xaxis": "x",
           "y": [
            353.507514577,
            1.526879675,
            0.02544,
            36.522785215,
            2.615793589,
            0.1,
            0.2,
            0.1,
            0.08421000000000001
           ],
           "y0": " ",
           "yaxis": "y"
          }
         ],
         "name": "2002"
        },
        {
         "data": [
          {
           "alignmentgroup": "True",
           "hovertemplate": "Continent=Asia<br>Year=2003<br>CO2_emission=%{y}<extra></extra>",
           "legendgroup": "Asia",
           "marker": {
            "color": "#636efa"
           },
           "name": "Asia",
           "notched": false,
           "offsetgroup": "Asia",
           "orientation": "v",
           "showlegend": true,
           "type": "box",
           "x0": " ",
           "xaxis": "x",
           "y": [
            0.838908091,
            8.242803401,
            34.481329673000005,
            21.858248691,
            35.498300094,
            0.33024880300000004,
            4.87613904,
            10.175125861,
            2.7000530360000004,
            3857.315271143,
            7.944407908,
            4.538202021,
            66.014237018,
            953.8466592569999,
            266.202064472,
            350.919659257,
            77.629753373,
            63.772034102,
            1232.071399986,
            15.61218013,
            184.60992773700002,
            54.694370665,
            5.878049937,
            0.470745234,
            16.312825073,
            1.8020396140000001,
            131.20593966299998,
            1,
            14.286478423,
            2.461918037,
            81.736574894,
            21.330208422000002,
            104.00836316899999,
            1,
            70.137279563,
            28.895152533,
            311.260095138,
            110.32690976399999,
            480.109291285,
            11.000257861,
            52.344172833,
            254.06392157599998,
            6.022042456,
            183.254576264,
            198.30700545099998,
            34.560238895,
            144.160976239,
            115.898302073,
            53.826182292,
            15
           ],
           "y0": " ",
           "yaxis": "y"
          },
          {
           "alignmentgroup": "True",
           "hovertemplate": "Continent=Europe<br>Year=2003<br>CO2_emission=%{y}<extra></extra>",
           "legendgroup": "Europe",
           "marker": {
            "color": "#EF553B"
           },
           "name": "Europe",
           "notched": false,
           "offsetgroup": "Europe",
           "orientation": "v",
           "showlegend": true,
           "type": "box",
           "x0": " ",
           "xaxis": "x",
           "y": [
            3.750333192,
            65.910405064,
            50.706951773,
            136.185802445,
            15.016145707,
            43.352751293999994,
            21.326812435,
            115.361926273,
            53.151332613,
            5.232357633,
            56.893343703,
            405.459118745,
            872.5772378080001,
            102.91967794600001,
            42.092118598,
            457.83428077300005,
            7.883090458,
            13.238621542,
            10.481733069,
            2.900003287,
            6.321864883,
            240.484086618,
            7.57339905,
            43.184785898,
            64.667454546,
            99.62648135799999,
            1542.950629827,
            40.296261378000004,
            15.403373791,
            338.22876076200004,
            58.125893147,
            43.694081468,
            346.99519624199996,
            562.4128294530001
           ],
           "y0": " ",
           "yaxis": "y"
          },
          {
           "alignmentgroup": "True",
           "hovertemplate": "Continent=Africa<br>Year=2003<br>CO2_emission=%{y}<extra></extra>",
           "legendgroup": "Africa",
           "marker": {
            "color": "#00cc96"
           },
           "name": "Africa",
           "notched": false,
           "offsetgroup": "Africa",
           "orientation": "v",
           "showlegend": true,
           "type": "box",
           "x0": " ",
           "xaxis": "x",
           "y": [
            72.17892128300001,
            7.81629114,
            1.7,
            3.489899564,
            1.1,
            0.4,
            0.1,
            3.2,
            0.3,
            0.2,
            0.1,
            0.7,
            1.204547164,
            5.813263639,
            1.9,
            131.436581435,
            2.691435078,
            0.7,
            1.092328107,
            3.900087473,
            1.8765583909999999,
            0.3,
            5.5,
            1.3,
            0.4,
            8.015417874,
            0.2,
            0.5,
            45.946620263999996,
            2.321324195,
            0.95273509,
            0.6,
            3.1,
            3.6517027069999997,
            32.739819927,
            1.7177055940000001,
            2.203656945,
            1.122691568,
            56.531723205,
            2.6,
            0.8,
            0.09527000000000001,
            4.736824596,
            0.9,
            1,
            0.7,
            405.35226848199994,
            8.7,
            3.499321995,
            1.3,
            20.471697943,
            1.5,
            2.112515862,
            11.999702995
           ],
           "y0": " ",
           "yaxis": "y"
          },
          {
           "alignmentgroup": "True",
           "hovertemplate": "Continent=North America<br>Year=2003<br>CO2_emission=%{y}<extra></extra>",
           "legendgroup": "North America",
           "marker": {
            "color": "#ab63fa"
           },
           "name": "North America",
           "notched": false,
           "offsetgroup": "North America",
           "orientation": "v",
           "showlegend": true,
           "type": "box",
           "x0": " ",
           "xaxis": "x",
           "y": [
            0.5,
            1,
            1.6568910369999998,
            0.8,
            0.5,
            0.06039,
            536.97267353,
            0.3,
            5.527630932999999,
            33.799902475,
            0.1,
            17.508820597,
            5.801585356,
            0.2,
            1.9,
            10.220418465,
            1.7,
            5.601700855,
            11.222263369,
            2.1,
            389.419359794,
            3.9,
            13.02182957,
            28.97052868,
            0.1,
            0.4,
            0.2,
            3.4,
            5820.025298
           ],
           "y0": " ",
           "yaxis": "y"
          },
          {
           "alignmentgroup": "True",
           "hovertemplate": "Continent=South America<br>Year=2003<br>CO2_emission=%{y}<extra></extra>",
           "legendgroup": "South America",
           "marker": {
            "color": "#FFA15A"
           },
           "name": "South America",
           "notched": false,
           "offsetgroup": "South America",
           "orientation": "v",
           "showlegend": true,
           "type": "box",
           "x0": " ",
           "xaxis": "x",
           "y": [
            119.221962694,
            8.897322846,
            328.257054614,
            53.722797528,
            48.644347855,
            20.246516022999998,
            1.8,
            3.6,
            24.878399747,
            1.8,
            5.342463531,
            137.77052836299998
           ],
           "y0": " ",
           "yaxis": "y"
          },
          {
           "alignmentgroup": "True",
           "hovertemplate": "Continent=Oceania<br>Year=2003<br>CO2_emission=%{y}<extra></extra>",
           "legendgroup": "Oceania",
           "marker": {
            "color": "#19d3f3"
           },
           "name": "Oceania",
           "notched": false,
           "offsetgroup": "Oceania",
           "orientation": "v",
           "showlegend": true,
           "type": "box",
           "x0": " ",
           "xaxis": "x",
           "y": [
            362.695596471,
            1.729211729,
            0.03171,
            36.691744554,
            3.7157935889999996,
            0.1,
            0.2,
            0.1,
            0.09057
           ],
           "y0": " ",
           "yaxis": "y"
          }
         ],
         "name": "2003"
        },
        {
         "data": [
          {
           "alignmentgroup": "True",
           "hovertemplate": "Continent=Asia<br>Year=2004<br>CO2_emission=%{y}<extra></extra>",
           "legendgroup": "Asia",
           "marker": {
            "color": "#636efa"
           },
           "name": "Asia",
           "notched": false,
           "offsetgroup": "Asia",
           "orientation": "v",
           "showlegend": true,
           "type": "box",
           "x0": " ",
           "xaxis": "x",
           "y": [
            0.7072686909999999,
            8.796330442999999,
            33.849421766999995,
            22.472130275999998,
            38.331624109,
            0.321628372,
            5.1938446339999995,
            10.966138825,
            3.0000666610000004,
            4469.340962115,
            8.034315202,
            3.75964511,
            70.410049758,
            971.4630724689999,
            273.558539574,
            365.59994704699994,
            70.15793589399999,
            65.695627199,
            1271.489373888,
            17.300351899999995,
            186.488825649,
            61.852260143,
            5.408773885,
            0.48625875799999996,
            16.156968339000002,
            1.9029250119999999,
            130.495109119,
            1.1,
            13.364538945,
            2.561812449,
            80.291255522,
            21.035975927,
            103.60467816799999,
            1.2,
            70.206532096,
            31.953088426999997,
            346.851965824,
            112.47651004299999,
            492.706133323,
            11.000216132,
            52.450082138,
            271.631254695,
            6.662113356,
            202.03537138599998,
            0.3,
            209.089188199,
            43.799630492,
            148.68888333299998,
            116.15052590100001,
            60.11670328899999,
            17
           ],
           "y0": " ",
           "yaxis": "y"
          },
          {
           "alignmentgroup": "True",
           "hovertemplate": "Continent=Europe<br>Year=2004<br>CO2_emission=%{y}<extra></extra>",
           "legendgroup": "Europe",
           "marker": {
            "color": "#EF553B"
           },
           "name": "Europe",
           "notched": false,
           "offsetgroup": "Europe",
           "orientation": "v",
           "showlegend": true,
           "type": "box",
           "x0": " ",
           "xaxis": "x",
           "y": [
            4.25058022,
            71.553487573,
            55.735321094,
            142.242766346,
            13.487441147,
            45.907074983,
            22.548722861999998,
            120.193946489,
            59.818775145,
            5.237269958,
            64.008775771,
            406.712044514,
            873.8696755369999,
            106.56317859100001,
            41.35562932,
            475.64994926300005,
            8.213781129,
            13.206277488,
            10.98751384,
            2.9000087660000005,
            6.988911609,
            239.137209185,
            7.638569246,
            45.242871527,
            60.123064066000005,
            100.27659839399999,
            1578.9309454020001,
            40.837859785,
            15.259475520999999,
            338.441126822,
            60.102414573999994,
            44.513333661000004,
            381.21935675300006,
            575.945353734
           ],
           "y0": " ",
           "yaxis": "y"
          },
          {
           "alignmentgroup": "True",
           "hovertemplate": "Continent=Africa<br>Year=2004<br>CO2_emission=%{y}<extra></extra>",
           "legendgroup": "Africa",
           "marker": {
            "color": "#00cc96"
           },
           "name": "Africa",
           "notched": false,
           "offsetgroup": "Africa",
           "orientation": "v",
           "showlegend": true,
           "type": "box",
           "x0": " ",
           "xaxis": "x",
           "y": [
            72.47891745,
            8.275143938,
            2.1,
            3.290869915,
            1.1,
            0.4,
            0.1,
            3.4,
            0.3,
            0.2,
            0.1,
            0.9,
            1.202281303,
            5.813263639,
            1.9,
            141.826542501,
            2.750287875,
            0.8,
            1.001968084,
            4.200008534,
            1.976558391,
            0.3,
            5.9,
            1.3,
            0.4,
            8.396673942,
            0.2,
            0.5,
            45.318359543999996,
            2.427738219,
            0.942447695,
            0.6,
            3.2,
            3.758907525,
            32.921099063,
            1.8569407919999998,
            2.420067892,
            1.1343005940000002,
            58.749818526000006,
            2.6,
            0.8,
            0.09525,
            4.74780729,
            0.9,
            1,
            0.7,
            428.67411182800004,
            9.8,
            3.65152889,
            2.2,
            20.089219118,
            1.6,
            2.232964484,
            10.743017233
           ],
           "y0": " ",
           "yaxis": "y"
          },
          {
           "alignmentgroup": "True",
           "hovertemplate": "Continent=North America<br>Year=2004<br>CO2_emission=%{y}<extra></extra>",
           "legendgroup": "North America",
           "marker": {
            "color": "#ab63fa"
           },
           "name": "North America",
           "notched": false,
           "offsetgroup": "North America",
           "orientation": "v",
           "showlegend": true,
           "type": "box",
           "x0": " ",
           "xaxis": "x",
           "y": [
            0.5,
            1,
            1.6568910369999998,
            0.8,
            0.6,
            0.0699,
            565.040972151,
            0.4,
            5.782608692,
            32.825485415,
            0.1,
            17.423597485,
            6.102593671,
            0.2,
            1.9,
            10.264960244,
            1.7,
            5.601127262,
            11.214686209000002,
            2.2,
            406.17084112099997,
            4,
            13.03557884,
            32.104620727,
            0.1,
            0.4,
            0.2,
            4.2,
            5886.416623
           ],
           "y0": " ",
           "yaxis": "y"
          },
          {
           "alignmentgroup": "True",
           "hovertemplate": "Continent=South America<br>Year=2004<br>CO2_emission=%{y}<extra></extra>",
           "legendgroup": "South America",
           "marker": {
            "color": "#FFA15A"
           },
           "name": "South America",
           "notched": false,
           "offsetgroup": "South America",
           "orientation": "v",
           "showlegend": true,
           "type": "box",
           "x0": " ",
           "xaxis": "x",
           "y": [
            133.003494925,
            11.186008920999999,
            322.710828384,
            55.99407248399999,
            47.68506091,
            20.369773209,
            1.7,
            3.7,
            25.002378960999998,
            1.8,
            5.521395551,
            127.78877856700001
           ],
           "y0": " ",
           "yaxis": "y"
          },
          {
           "alignmentgroup": "True",
           "hovertemplate": "Continent=Oceania<br>Year=2004<br>CO2_emission=%{y}<extra></extra>",
           "legendgroup": "Oceania",
           "marker": {
            "color": "#19d3f3"
           },
           "name": "Oceania",
           "notched": false,
           "offsetgroup": "Oceania",
           "orientation": "v",
           "showlegend": true,
           "type": "box",
           "x0": " ",
           "xaxis": "x",
           "y": [
            361.74712033199995,
            2.22956579,
            0.0317,
            36.745772865,
            4.274646387,
            0.1,
            0.2,
            0.1,
            0.09055
           ],
           "y0": " ",
           "yaxis": "y"
          }
         ],
         "name": "2004"
        },
        {
         "data": [
          {
           "alignmentgroup": "True",
           "hovertemplate": "Continent=Asia<br>Year=2005<br>CO2_emission=%{y}<extra></extra>",
           "legendgroup": "Asia",
           "marker": {
            "color": "#636efa"
           },
           "name": "Asia",
           "notched": false,
           "offsetgroup": "Asia",
           "orientation": "v",
           "showlegend": true,
           "type": "box",
           "x0": " ",
           "xaxis": "x",
           "y": [
            0.7053248790000001,
            9.013094019,
            36.380106573,
            23.127159064,
            40.511875875,
            0.344729434,
            5.8235198079999995,
            12.071312830999998,
            3.400001234,
            5397.860863322,
            8.531420192999999,
            4.298582672,
            78.627053313,
            1069.8986272460002,
            280.237094706,
            386.208320628,
            76.433079832,
            66.14812559100001,
            1264.472802739,
            17.774165992,
            213.796864542,
            66.029421605,
            5.94291232,
            0.504631805,
            15.185913095999998,
            2.303338912,
            136.980431536,
            0.8,
            13.223084197999999,
            2.607836886,
            83.607948623,
            22.925339761,
            107.650950848,
            2.1,
            74.21472225800001,
            38.085251356,
            388.884322653,
            125.99701933799999,
            497.2120715,
            12.001425283,
            51.93156814100001,
            257.853510479,
            7.130273631000001,
            220.327330867,
            0.3,
            212.79577982200001,
            47.506361608,
            157.524068306,
            122.45670691299999,
            83.20006334199999,
            17.00006004
           ],
           "y0": " ",
           "yaxis": "y"
          },
          {
           "alignmentgroup": "True",
           "hovertemplate": "Continent=Europe<br>Year=2005<br>CO2_emission=%{y}<extra></extra>",
           "legendgroup": "Europe",
           "marker": {
            "color": "#EF553B"
           },
           "name": "Europe",
           "notched": false,
           "offsetgroup": "Europe",
           "orientation": "v",
           "showlegend": true,
           "type": "box",
           "x0": " ",
           "xaxis": "x",
           "y": [
            4.345900091,
            72.67665609699999,
            54.748940768000004,
            142.592857547,
            12.47860196,
            45.91875579,
            22.124044486,
            120.775524409,
            54.508382583999996,
            5.702143411000001,
            60.960601657,
            410.69789242699994,
            865.976128445,
            106.253070887,
            42.690567724,
            468.54230125099997,
            8.613737056,
            13.418701432,
            12.499881085,
            3.000479719,
            6.52170416,
            247.231994297,
            7.694476017,
            48.372756457,
            63.121827707,
            100.05466486,
            1583.795963199,
            40.062496181,
            15.752611742000001,
            358.928581577,
            60.046345721,
            44.712775947,
            338.771996953,
            585.19493745
           ],
           "y0": " ",
           "yaxis": "y"
          },
          {
           "alignmentgroup": "True",
           "hovertemplate": "Continent=Africa<br>Year=2005<br>CO2_emission=%{y}<extra></extra>",
           "legendgroup": "Africa",
           "marker": {
            "color": "#00cc96"
           },
           "name": "Africa",
           "notched": false,
           "offsetgroup": "Africa",
           "orientation": "v",
           "showlegend": true,
           "type": "box",
           "x0": " ",
           "xaxis": "x",
           "y": [
            71.878509389,
            8.571319928,
            2.4,
            3.7498051310000005,
            1.2,
            0.4,
            0.3,
            3.4,
            0.3,
            0.2,
            0.1,
            1,
            1.7064994409999998,
            6.3382408429999995,
            1.9,
            151.30982996,
            0.39617599,
            0.8,
            0.9977625640000001,
            4.300010667,
            1.99617599,
            0.3,
            6.5,
            1.4,
            0.4,
            9.344568549,
            0.2,
            0.5,
            50.63323623,
            2.6366845740000002,
            1.0321603000000001,
            0.6,
            2.6,
            3.89406416,
            33.189775714,
            2.1373231930000003,
            2.6000723580000002,
            1.176177695,
            58.360035276000005,
            2.6,
            0.8,
            0.09531,
            5.263183061,
            0.9,
            1.2,
            0.7,
            432.667561486,
            11,
            4.2095466969999995,
            2.3,
            20.003938803,
            1.6,
            2.245567354,
            9.319648541
           ],
           "y0": " ",
           "yaxis": "y"
          },
          {
           "alignmentgroup": "True",
           "hovertemplate": "Continent=North America<br>Year=2005<br>CO2_emission=%{y}<extra></extra>",
           "legendgroup": "North America",
           "marker": {
            "color": "#ab63fa"
           },
           "name": "North America",
           "notched": false,
           "offsetgroup": "North America",
           "orientation": "v",
           "showlegend": true,
           "type": "box",
           "x0": " ",
           "xaxis": "x",
           "y": [
            0.6,
            1,
            1.158852797,
            0.9,
            0.6,
            0.08895,
            571.37491098,
            0.4,
            5.5082606610000004,
            32.827538445,
            0.1,
            17.194172363,
            6.0023251129999995,
            0.2,
            2,
            10.797982942,
            1.7,
            6.601806139,
            11.166697527,
            2.2,
            412.972647725,
            4.2,
            14.02633974,
            34.505581226,
            0.1,
            0.4,
            0.2,
            4.3,
            5993.719256
           ],
           "y0": " ",
           "yaxis": "y"
          },
          {
           "alignmentgroup": "True",
           "hovertemplate": "Continent=South America<br>Year=2005<br>CO2_emission=%{y}<extra></extra>",
           "legendgroup": "South America",
           "marker": {
            "color": "#FFA15A"
           },
           "name": "South America",
           "notched": false,
           "offsetgroup": "South America",
           "orientation": "v",
           "showlegend": true,
           "type": "box",
           "x0": " ",
           "xaxis": "x",
           "y": [
            140.36175665,
            11.39020046,
            337.988532755,
            61.16096146,
            47.774658007,
            21.419323516,
            1.5,
            3.8,
            28.38360476,
            1.9,
            6.0393738070000005,
            135.034954629
           ],
           "y0": " ",
           "yaxis": "y"
          },
          {
           "alignmentgroup": "True",
           "hovertemplate": "Continent=Oceania<br>Year=2005<br>CO2_emission=%{y}<extra></extra>",
           "legendgroup": "Oceania",
           "marker": {
            "color": "#19d3f3"
           },
           "name": "Oceania",
           "notched": false,
           "offsetgroup": "Oceania",
           "orientation": "v",
           "showlegend": true,
           "type": "box",
           "x0": " ",
           "xaxis": "x",
           "y": [
            374.559599358,
            2.6000382280000003,
            0.031760000000000004,
            36.419335834,
            4.274646387,
            0.2,
            0.2,
            0.1,
            0.09395
           ],
           "y0": " ",
           "yaxis": "y"
          }
         ],
         "name": "2005"
        },
        {
         "data": [
          {
           "alignmentgroup": "True",
           "hovertemplate": "Continent=Asia<br>Year=2006<br>CO2_emission=%{y}<extra></extra>",
           "legendgroup": "Asia",
           "marker": {
            "color": "#636efa"
           },
           "name": "Asia",
           "notched": false,
           "offsetgroup": "Asia",
           "orientation": "v",
           "showlegend": true,
           "type": "box",
           "x0": " ",
           "xaxis": "x",
           "y": [
            0.80338105,
            10.236721093,
            37.238314371,
            25.310448571,
            42.752618055999996,
            0.36441067899999996,
            6.610135774,
            15.481950297000001,
            3.60042594,
            6120.077564126,
            8.742040298,
            5.015082568,
            81.017587838,
            1118.583113079,
            300.728807215,
            429.66796296800004,
            80.844551861,
            63.867049486000006,
            1279.0590748339998,
            19.066369497,
            213.667745413,
            75.131011165,
            5.625569875,
            0.513705749,
            15.183215939,
            2.0026049830000003,
            151.266149116,
            0.6,
            13.788138428,
            2.7011171000000003,
            81.011897163,
            29.34639474,
            116.350499434,
            2.7,
            74.768268609,
            45.184910204,
            404.826122835,
            133.979038927,
            504.46412638699996,
            13.000326622000001,
            50.974317357,
            267.334131774,
            7.524087903,
            236.972342109,
            0.3,
            233.29919881400002,
            48.91932629,
            162.891942189,
            117.504760781,
            84.376676173,
            17.000242762
           ],
           "y0": " ",
           "yaxis": "y"
          },
          {
           "alignmentgroup": "True",
           "hovertemplate": "Continent=Europe<br>Year=2006<br>CO2_emission=%{y}<extra></extra>",
           "legendgroup": "Europe",
           "marker": {
            "color": "#EF553B"
           },
           "name": "Europe",
           "notched": false,
           "offsetgroup": "Europe",
           "orientation": "v",
           "showlegend": true,
           "type": "box",
           "x0": " ",
           "xaxis": "x",
           "y": [
            4.6378621110000005,
            76.76717589,
            64.142207248,
            139.51574941799998,
            11.006871314000001,
            46.119889328,
            21.919661204,
            118.787464344,
            51.433759742,
            5.700561989,
            51.202429463,
            421.197366641,
            844.3144931160001,
            106.511910578,
            43.925421416000006,
            472.998437971,
            8.950379397,
            14.147017349,
            12.730333903,
            3.1004271230000002,
            7.25050153,
            248.232171731,
            7.578544289,
            42.594446679,
            65.475043653,
            97.087871408,
            1570.506804534,
            40.960250932,
            15.820951015999999,
            375.00568828300004,
            57.793542295,
            45.18369009,
            341.41919368,
            585.028695899
           ],
           "y0": " ",
           "yaxis": "y"
          },
          {
           "alignmentgroup": "True",
           "hovertemplate": "Continent=Africa<br>Year=2006<br>CO2_emission=%{y}<extra></extra>",
           "legendgroup": "Africa",
           "marker": {
            "color": "#00cc96"
           },
           "name": "Africa",
           "notched": false,
           "offsetgroup": "Africa",
           "orientation": "v",
           "showlegend": true,
           "type": "box",
           "x0": " ",
           "xaxis": "x",
           "y": [
            82.857278684,
            8.475143937999999,
            2.5,
            4.061087521,
            1.1,
            0.4,
            0.3,
            3.4,
            0.3,
            0.2,
            0.1,
            1.335411188,
            1.723049485,
            6.3382408429999995,
            1.9,
            159.196531336,
            2.750287875,
            0.7,
            0.9530638909999999,
            4.6000170680000005,
            1.99617599,
            0.3,
            6.5,
            1.4,
            0.4,
            10.185482072000001,
            0.2,
            0.5,
            52.43706024,
            2.5375546030000002,
            1.135327315,
            0.7,
            3.2,
            4.074184617,
            35.347794382,
            2.255028788,
            2.600578762,
            1.145470838,
            65.41393393199999,
            2.7,
            0.8,
            0.09842999999999999,
            5.718096528999999,
            0.9,
            1.2,
            0.7,
            445.544501704,
            11,
            5.053158389,
            2.3,
            21.247623815999997,
            1.7,
            2.423983363,
            10.180761319
           ],
           "y0": " ",
           "yaxis": "y"
          },
          {
           "alignmentgroup": "True",
           "hovertemplate": "Continent=North America<br>Year=2006<br>CO2_emission=%{y}<extra></extra>",
           "legendgroup": "North America",
           "marker": {
            "color": "#ab63fa"
           },
           "name": "North America",
           "notched": false,
           "offsetgroup": "North America",
           "orientation": "v",
           "showlegend": true,
           "type": "box",
           "x0": " ",
           "xaxis": "x",
           "y": [
            0.6,
            1,
            1.551695148,
            1,
            0.6,
            0.09531,
            573.270938449,
            0.4,
            6.271136457999999,
            28.86738089,
            0.0924,
            17.527672330999998,
            6.203891502,
            0.2,
            2.1,
            10.962042899000002,
            1.8,
            6.802419937000001,
            11.149017485999998,
            2.4,
            428.883340555,
            4.4,
            14.017100639,
            33.475192196,
            0.1,
            0.4,
            0.2,
            4.9,
            6006.994255
           ],
           "y0": " ",
           "yaxis": "y"
          },
          {
           "alignmentgroup": "True",
           "hovertemplate": "Continent=South America<br>Year=2006<br>CO2_emission=%{y}<extra></extra>",
           "legendgroup": "South America",
           "marker": {
            "color": "#FFA15A"
           },
           "name": "South America",
           "notched": false,
           "offsetgroup": "South America",
           "orientation": "v",
           "showlegend": true,
           "type": "box",
           "x0": " ",
           "xaxis": "x",
           "y": [
            151.993641709,
            11.231409602000001,
            342.001465182,
            63.504145093999995,
            47.331514297,
            22.641973635,
            1.7,
            3.7004193410000004,
            29.267248344000002,
            2,
            6.281632794,
            131.626708227
           ],
           "y0": " ",
           "yaxis": "y"
          },
          {
           "alignmentgroup": "True",
           "hovertemplate": "Continent=Oceania<br>Year=2006<br>CO2_emission=%{y}<extra></extra>",
           "legendgroup": "Oceania",
           "marker": {
            "color": "#19d3f3"
           },
           "name": "Oceania",
           "notched": false,
           "offsetgroup": "Oceania",
           "orientation": "v",
           "showlegend": true,
           "type": "box",
           "x0": " ",
           "xaxis": "x",
           "y": [
            381.48018141,
            2.500006349,
            0.03807,
            37.391781519,
            4.19617599,
            0.2,
            0.2,
            0.1,
            0.1
           ],
           "y0": " ",
           "yaxis": "y"
          }
         ],
         "name": "2006"
        },
        {
         "data": [
          {
           "alignmentgroup": "True",
           "hovertemplate": "Continent=Asia<br>Year=2007<br>CO2_emission=%{y}<extra></extra>",
           "legendgroup": "Asia",
           "marker": {
            "color": "#636efa"
           },
           "name": "Asia",
           "notched": false,
           "offsetgroup": "Asia",
           "orientation": "v",
           "showlegend": true,
           "type": "box",
           "x0": " ",
           "xaxis": "x",
           "y": [
            0.7072686909999999,
            10.237780075,
            40.058521116,
            27.826739712,
            46.899409122,
            0.367068536,
            9.827422017,
            13.962583744000002,
            3.900850645,
            6750.666894778001,
            9.230284269,
            5.072265398,
            80.26804814,
            1208.587716349,
            310.980536705,
            448.450072251,
            77.531167827,
            64.893261841,
            1265.972009315,
            20.417849489,
            224.16894852599998,
            75.347894993,
            5.588775026,
            0.539599125,
            13.180518782,
            2.302566583,
            161.38595799799998,
            0.8,
            14.707402119000001,
            2.5983370480000003,
            76.718605579,
            33.128188086,
            129.513924543,
            2.9,
            74.006972648,
            50.470111716000005,
            406.14891819699994,
            139.99076672700002,
            512.035957948,
            13.000105897000001,
            51.27829615899999,
            274.501909475,
            7.53360823,
            231.84295459900002,
            0.3,
            250.944958722,
            38.443528403,
            172.496456371,
            121.436538864,
            90.90806637200001,
            19.000142797
           ],
           "y0": " ",
           "yaxis": "y"
          },
          {
           "alignmentgroup": "True",
           "hovertemplate": "Continent=Europe<br>Year=2007<br>CO2_emission=%{y}<extra></extra>",
           "legendgroup": "Europe",
           "marker": {
            "color": "#EF553B"
           },
           "name": "Europe",
           "notched": false,
           "offsetgroup": "Europe",
           "orientation": "v",
           "showlegend": true,
           "type": "box",
           "x0": " ",
           "xaxis": "x",
           "y": [
            4.612172485,
            73.936134982,
            66.311826977,
            138.702390759,
            11.12803019,
            47.050031788000005,
            22.831814,
            118.533331625,
            59.464251665,
            6.013397021,
            60.09671079899999,
            419.16280415800003,
            858.990791775,
            106.97207568299999,
            44.919534516999995,
            468.42360738599996,
            9.054015643,
            14.279601442999999,
            12.437507465,
            2.900374527,
            7.643408686,
            1.70241617,
            248.602728403,
            7.514257886,
            38.921606768000004,
            60.249407123000005,
            101.428477126,
            1644.6898399979998,
            49.787731124,
            40.830410473,
            16.032854497,
            367.719757916,
            59.159585393,
            44.784418273,
            361.432351174,
            589.238371883
           ],
           "y0": " ",
           "yaxis": "y"
          },
          {
           "alignmentgroup": "True",
           "hovertemplate": "Continent=Africa<br>Year=2007<br>CO2_emission=%{y}<extra></extra>",
           "legendgroup": "Africa",
           "marker": {
            "color": "#00cc96"
           },
           "name": "Africa",
           "notched": false,
           "offsetgroup": "Africa",
           "orientation": "v",
           "showlegend": true,
           "type": "box",
           "x0": " ",
           "xaxis": "x",
           "y": [
            86.028784805,
            9.433996735,
            3,
            4.238218136,
            1.2,
            0.4,
            0.3,
            3.839235198,
            0.3,
            0.2,
            0.1,
            1.5531167830000001,
            1.7196352430000001,
            6.238240843,
            1.7,
            170.13752024,
            2.750287875,
            0.7,
            1.084625488,
            5.200023468,
            2.29617599,
            0.3,
            6.7,
            1.4,
            0.4,
            11.382370419,
            0.2,
            0.6,
            47.210462748999994,
            2.530136351,
            1.143782467,
            0.7,
            2.8,
            4.464778954,
            37.148446895,
            2.294263986,
            2.8205169060000004,
            1.119818826,
            62.498526383999994,
            2.7,
            0.8,
            0.1,
            5.85104461,
            1.2,
            1.1,
            0.8,
            455.64921471,
            12,
            5.414392703,
            2.3,
            20.156614134,
            1.9,
            2.33561666,
            9.526334794
           ],
           "y0": " ",
           "yaxis": "y"
          },
          {
           "alignmentgroup": "True",
           "hovertemplate": "Continent=North America<br>Year=2007<br>CO2_emission=%{y}<extra></extra>",
           "legendgroup": "North America",
           "marker": {
            "color": "#ab63fa"
           },
           "name": "North America",
           "notched": false,
           "offsetgroup": "North America",
           "orientation": "v",
           "showlegend": true,
           "type": "box",
           "x0": " ",
           "xaxis": "x",
           "y": [
            0.7,
            1.1,
            1.45270089,
            1,
            0.6,
            0.1,
            575.64254776,
            0.5,
            6.657303239,
            24.827564418,
            0.1,
            18.024368941,
            6.203199521,
            0.3,
            2.2,
            11.011491915999999,
            1.8,
            7.103156316000001,
            13.080823042999999,
            2.4,
            444.97547093800006,
            4.5,
            14.012208955999998,
            31.819065023,
            0.2,
            0.4,
            0.2,
            4.9,
            5929.329204
           ],
           "y0": " ",
           "yaxis": "y"
          },
          {
           "alignmentgroup": "True",
           "hovertemplate": "Continent=South America<br>Year=2007<br>CO2_emission=%{y}<extra></extra>",
           "legendgroup": "South America",
           "marker": {
            "color": "#FFA15A"
           },
           "name": "South America",
           "notched": false,
           "offsetgroup": "South America",
           "orientation": "v",
           "showlegend": true,
           "type": "box",
           "x0": " ",
           "xaxis": "x",
           "y": [
            156.319849034,
            12.499241282,
            349.28266913699997,
            64.697668961,
            49.335075092,
            24.709095402,
            1.6,
            3.700061157,
            32.793034384,
            2,
            7.3404283679999995,
            143.496808587
           ],
           "y0": " ",
           "yaxis": "y"
          },
          {
           "alignmentgroup": "True",
           "hovertemplate": "Continent=Oceania<br>Year=2007<br>CO2_emission=%{y}<extra></extra>",
           "legendgroup": "Oceania",
           "marker": {
            "color": "#19d3f3"
           },
           "name": "Oceania",
           "notched": false,
           "offsetgroup": "Oceania",
           "orientation": "v",
           "showlegend": true,
           "type": "box",
           "x0": " ",
           "xaxis": "x",
           "y": [
            386.64428581199996,
            2.300010702,
            0.03805,
            37.463399439,
            4.274646387,
            0.2,
            0.2,
            0.2,
            0.09691
           ],
           "y0": " ",
           "yaxis": "y"
          }
         ],
         "name": "2007"
        },
        {
         "data": [
          {
           "alignmentgroup": "True",
           "hovertemplate": "Continent=Asia<br>Year=2008<br>CO2_emission=%{y}<extra></extra>",
           "legendgroup": "Asia",
           "marker": {
            "color": "#636efa"
           },
           "name": "Asia",
           "notched": false,
           "offsetgroup": "Asia",
           "orientation": "v",
           "showlegend": true,
           "type": "box",
           "x0": " ",
           "xaxis": "x",
           "y": [
            1.160454789,
            11.155403577000001,
            31.148464861,
            28.546264819,
            47.928919478000005,
            0.338869663,
            10.186086443999999,
            14.288722125,
            4.1371745010000005,
            7057.568452367,
            8.849484022,
            6.011908629,
            84.589778966,
            1313.504723231,
            325.105591958,
            450.25760738099996,
            84.76416946,
            67.22975023,
            1276.600388221,
            18.59028922,
            251.714399874,
            62.660867554,
            6.05825396,
            0.589693599,
            12.090808114000001,
            2.2745330790000002,
            175.422533117,
            0.934580037,
            15.114970451,
            2.539958821,
            68.146105,
            34.561798973,
            138.846524547,
            2.787540723,
            70.58773587600001,
            53.015624913,
            348.348962021,
            140.921188449,
            537.477761545,
            12.609639373,
            50.048790533,
            253.718664658,
            6.709136527,
            225.09301363,
            0.341776221,
            278.985513589,
            36.456414886,
            188.56508851900003,
            118.330427326,
            98.40355988200001,
            18.600004923
           ],
           "y0": " ",
           "yaxis": "y"
          },
          {
           "alignmentgroup": "True",
           "hovertemplate": "Continent=Europe<br>Year=2008<br>CO2_emission=%{y}<extra></extra>",
           "legendgroup": "Europe",
           "marker": {
            "color": "#EF553B"
           },
           "name": "Europe",
           "notched": false,
           "offsetgroup": "Europe",
           "orientation": "v",
           "showlegend": true,
           "type": "box",
           "x0": " ",
           "xaxis": "x",
           "y": [
            3.173024237,
            70.962337536,
            59.54775209899999,
            139.314296133,
            11.336612375,
            45.639651993,
            20.458523907,
            120.34587614700001,
            55.247707073,
            6.343677308999999,
            58.134407591999995,
            408.242104648,
            832.2576096439999,
            110.782759482,
            44.408719723000004,
            459.378114899,
            8.989954489,
            15.573076769000002,
            12.070270435,
            3.1387109439999996,
            6.717508077000001,
            1.5665460519999999,
            249.761551104,
            7.620568375,
            41.664656311,
            58.94833955,
            92.722840354,
            1616.219690094,
            47.060250658,
            39.967512897,
            16.12420159,
            381.79850492599996,
            57.614191921999996,
            42.931578839000004,
            372.86935946,
            574.354004131
           ],
           "y0": " ",
           "yaxis": "y"
          },
          {
           "alignmentgroup": "True",
           "hovertemplate": "Continent=Africa<br>Year=2008<br>CO2_emission=%{y}<extra></extra>",
           "legendgroup": "Africa",
           "marker": {
            "color": "#00cc96"
           },
           "name": "Africa",
           "notched": false,
           "offsetgroup": "Africa",
           "orientation": "v",
           "showlegend": true,
           "type": "box",
           "x0": " ",
           "xaxis": "x",
           "y": [
            87.289444714,
            10.42826072,
            3.3032257830000002,
            4.07774137,
            1.3478056369999998,
            0.209395776,
            0.360745456,
            4.315820519,
            0.354199611,
            0.297427198,
            0.12101908,
            1.955736453,
            1.778880395,
            6.013354819,
            0.982168865,
            172.367071966,
            3.1587558739999997,
            0.6845807620000001,
            1.1549903940000001,
            5.601533213,
            2.371292719,
            0.45745694600000003,
            6.675884551,
            1.338244321,
            0.32025374100000004,
            11.050919862999999,
            0.238412507,
            0.746164258,
            40.636562689,
            2.6292320769999997,
            0.9505149690000001,
            0.670014525,
            2.4972627259999998,
            4.682458562,
            35.152237461999995,
            2.4098936419999997,
            3.016694682,
            1.0987717879999999,
            56.86228194899999,
            2.56222553,
            0.621246851,
            0.12736319699999998,
            6.045380799,
            0.978431842,
            1.070114588,
            0.806957487,
            459.146784697,
            11.5,
            5.691847892999999,
            2.608660521,
            17.866141985,
            1.90638211,
            2.2343652019999998,
            9.373008254
           ],
           "y0": " ",
           "yaxis": "y"
          },
          {
           "alignmentgroup": "True",
           "hovertemplate": "Continent=North America<br>Year=2008<br>CO2_emission=%{y}<extra></extra>",
           "legendgroup": "North America",
           "marker": {
            "color": "#ab63fa"
           },
           "name": "North America",
           "notched": false,
           "offsetgroup": "North America",
           "orientation": "v",
           "showlegend": true,
           "type": "box",
           "x0": " ",
           "xaxis": "x",
           "y": [
            0.6905691190000001,
            1.024105112,
            1.409851156,
            1.073313812,
            0.7685311459999999,
            0.11115615,
            574.754088323,
            0.469614249,
            7.224134156,
            19.084673907,
            0.121246436,
            18.628428254,
            6.203393617000001,
            0.231333533,
            2.443079243,
            11.473275402999999,
            1.965478346,
            7.982011697000001,
            13.290925924000002,
            2.133506078,
            454.440333464,
            4.010307626,
            14.008943835,
            29.653700361,
            0.273423163,
            0.330942744,
            0.16579913599999999,
            3.333506078,
            6015.537927
           ],
           "y0": " ",
           "yaxis": "y"
          },
          {
           "alignmentgroup": "True",
           "hovertemplate": "Continent=South America<br>Year=2008<br>CO2_emission=%{y}<extra></extra>",
           "legendgroup": "South America",
           "marker": {
            "color": "#FFA15A"
           },
           "name": "South America",
           "notched": false,
           "offsetgroup": "South America",
           "orientation": "v",
           "showlegend": true,
           "type": "box",
           "x0": " ",
           "xaxis": "x",
           "y": [
            157.872228733,
            11.087513080999999,
            362.98346264099996,
            70.007309667,
            48.877657404,
            24.076909232,
            1.519155927,
            3.7526511719999998,
            31.214041109,
            2.0306269830000003,
            6.508653095,
            126.554786165
           ],
           "y0": " ",
           "yaxis": "y"
          },
          {
           "alignmentgroup": "True",
           "hovertemplate": "Continent=Oceania<br>Year=2008<br>CO2_emission=%{y}<extra></extra>",
           "legendgroup": "Oceania",
           "marker": {
            "color": "#19d3f3"
           },
           "name": "Oceania",
           "notched": false,
           "offsetgroup": "Oceania",
           "orientation": "v",
           "showlegend": true,
           "type": "box",
           "x0": " ",
           "xaxis": "x",
           "y": [
            396.89288980599997,
            2.529045987,
            0.038273004,
            36.652823727,
            4.398709897,
            0.165868499,
            0.16724932,
            0.18639073,
            0.108370295
           ],
           "y0": " ",
           "yaxis": "y"
          }
         ],
         "name": "2008"
        },
        {
         "data": [
          {
           "alignmentgroup": "True",
           "hovertemplate": "Continent=Asia<br>Year=2009<br>CO2_emission=%{y}<extra></extra>",
           "legendgroup": "Asia",
           "marker": {
            "color": "#636efa"
           },
           "name": "Asia",
           "notched": false,
           "offsetgroup": "Asia",
           "orientation": "v",
           "showlegend": true,
           "type": "box",
           "x0": " ",
           "xaxis": "x",
           "y": [
            1.472591437,
            11.092445857000001,
            34.526307355,
            30.545440408,
            53.270543649,
            0.366884005,
            10.533825884,
            13.979310417999999,
            4.477818794,
            7505.1105628469995,
            9.712950563,
            6.064080504,
            79.837735012,
            1405.331569847,
            344.35107075900004,
            480.88834100300005,
            93.68810861899999,
            65.069116869,
            1236.323319574,
            18.615444775,
            287.327579844,
            77.91561749600001,
            6.986716211,
            0.676503752,
            14.194759174000001,
            2.4,
            177.815826773,
            0.9,
            14.889729418,
            2.654380975,
            73.791733628,
            40.872919655,
            139.283127113,
            3,
            73.99935240100001,
            56.051946162,
            425.91226605400004,
            156.011841311,
            549.293159489,
            12.119789179000001,
            54.854396193,
            265.064669165,
            6.97349778,
            248.184105876,
            0.4,
            272.685276728,
            32.086431212,
            216.12571206,
            127.37182612299999,
            105.438066167,
            23.115277092
           ],
           "y0": " ",
           "yaxis": "y"
          },
          {
           "alignmentgroup": "True",
           "hovertemplate": "Continent=Europe<br>Year=2009<br>CO2_emission=%{y}<extra></extra>",
           "legendgroup": "Europe",
           "marker": {
            "color": "#EF553B"
           },
           "name": "Europe",
           "notched": false,
           "offsetgroup": "Europe",
           "orientation": "v",
           "showlegend": true,
           "type": "box",
           "x0": " ",
           "xaxis": "x",
           "y": [
            4.525973878,
            70.444200416,
            66.696796007,
            143.396187205,
            12.586240717,
            47.779317378,
            22.576611945,
            115.714582226,
            52.065517493,
            6.2777578510000005,
            52.74472022,
            408.08167981400004,
            836.671744947,
            107.23059068399999,
            43.422733828999995,
            450.64155937699996,
            7.133280638,
            8.120207341,
            16.191340544000003,
            12.028344465999998,
            3.200234125,
            7.083360502000001,
            2.116511979,
            247.595585251,
            8.293560661,
            39.093588209,
            57.381671014,
            89.835897181,
            1689.7051787320001,
            47.571304676000004,
            39.919690300999996,
            17.244477792,
            349.996401462,
            56.612985301,
            44.688750903999996,
            366.792481261,
            567.7228258519999
           ],
           "y0": " ",
           "yaxis": "y"
          },
          {
           "alignmentgroup": "True",
           "hovertemplate": "Continent=Africa<br>Year=2009<br>CO2_emission=%{y}<extra></extra>",
           "legendgroup": "Africa",
           "marker": {
            "color": "#00cc96"
           },
           "name": "Africa",
           "notched": false,
           "offsetgroup": "Africa",
           "orientation": "v",
           "showlegend": true,
           "type": "box",
           "x0": " ",
           "xaxis": "x",
           "y": [
            56.222555406000005,
            10.833996735,
            3.403617675,
            3.9401513169999998,
            1.4,
            0.4,
            0.3,
            4.139235198,
            0.3,
            0.3,
            0.1,
            2.125851164,
            1.685601163,
            6.400911807000001,
            1.7,
            181.394104543,
            3.2426398560000003,
            0.7,
            1.047470359,
            6.431385791,
            2.756940792,
            0.4,
            7.4,
            1.3,
            0.5,
            11.349061007000001,
            0.2,
            0.7,
            49.789679471999996,
            2.829080642,
            1.230606837,
            0.7,
            2.8,
            4.965847171,
            38.664202317,
            2.373689967,
            3.130051738,
            1.229184752,
            66.151654337,
            2.562396051,
            0.622837353,
            0.1,
            6.142143479,
            1,
            1.3,
            0.9,
            466.81449585300004,
            12,
            6.194776191,
            2.886209374,
            20.864766951,
            2,
            2.467234443,
            7.282826577000001
           ],
           "y0": " ",
           "yaxis": "y"
          },
          {
           "alignmentgroup": "True",
           "hovertemplate": "Continent=North America<br>Year=2009<br>CO2_emission=%{y}<extra></extra>",
           "legendgroup": "North America",
           "marker": {
            "color": "#ab63fa"
           },
           "name": "North America",
           "notched": false,
           "offsetgroup": "North America",
           "orientation": "v",
           "showlegend": true,
           "type": "box",
           "x0": " ",
           "xaxis": "x",
           "y": [
            0.7,
            1.1,
            1.43339064,
            1,
            0.8,
            0.1,
            556.831459616,
            0.5,
            7.146471665,
            29.219507181999997,
            0.1,
            18.645610186,
            5.902812237000001,
            0.3,
            2.4,
            10.965911546,
            2,
            7.502093293,
            12.121234565,
            2.5,
            451.09899654599997,
            4.3,
            15.089743119000001,
            28.226562879,
            0.3,
            0.4,
            0.2,
            5.1,
            5823.1266399999995
           ],
           "y0": " ",
           "yaxis": "y"
          },
          {
           "alignmentgroup": "True",
           "hovertemplate": "Continent=South America<br>Year=2009<br>CO2_emission=%{y}<extra></extra>",
           "legendgroup": "South America",
           "marker": {
            "color": "#FFA15A"
           },
           "name": "South America",
           "notched": false,
           "offsetgroup": "South America",
           "orientation": "v",
           "showlegend": true,
           "type": "box",
           "x0": " ",
           "xaxis": "x",
           "y": [
            169.17678016600001,
            13.721463632,
            383.629281149,
            72.079364098,
            46.74266153600001,
            25.558637787,
            1.5,
            3.800252837,
            35.580425998,
            2,
            8.040470671,
            139.662634834
           ],
           "y0": " ",
           "yaxis": "y"
          },
          {
           "alignmentgroup": "True",
           "hovertemplate": "Continent=Oceania<br>Year=2009<br>CO2_emission=%{y}<extra></extra>",
           "legendgroup": "Oceania",
           "marker": {
            "color": "#19d3f3"
           },
           "name": "Oceania",
           "notched": false,
           "offsetgroup": "Oceania",
           "orientation": "v",
           "showlegend": true,
           "type": "box",
           "x0": " ",
           "xaxis": "x",
           "y": [
            396.48889904699996,
            2.300012008,
            0.04369,
            37.962617145,
            4.555028788,
            0.2,
            0.2,
            0.2,
            0.1
           ],
           "y0": " ",
           "yaxis": "y"
          }
         ],
         "name": "2009"
        },
        {
         "data": [
          {
           "alignmentgroup": "True",
           "hovertemplate": "Continent=Asia<br>Year=2010<br>CO2_emission=%{y}<extra></extra>",
           "legendgroup": "Asia",
           "marker": {
            "color": "#636efa"
           },
           "name": "Asia",
           "notched": false,
           "offsetgroup": "Asia",
           "orientation": "v",
           "showlegend": true,
           "type": "box",
           "x0": " ",
           "xaxis": "x",
           "y": [
            6.2307597789999996,
            10.041619888,
            29.161805959000002,
            30.882763601,
            57.685283613,
            0.45887163299999995,
            7.240768202999999,
            11.377872195,
            4.3097855869999995,
            8204.136739710999,
            9.223923183,
            6.720644677999999,
            89.90556940799999,
            1546.549130524,
            363.42079339800006,
            534.0750773890001,
            100.25406213,
            65.219415582,
            1144.877996757,
            18.829533977,
            245.969333688,
            84.28694311699999,
            9.244926657999999,
            0.7666217590000001,
            19.355275979,
            1.8,
            178.06113271200002,
            1.1,
            15.458023418,
            2.944493516,
            62.598057002,
            43.204268248000005,
            140.905844207,
            2,
            71.865380548,
            60.923373299,
            441.967434057,
            192.830550378,
            556.026427676,
            13.096111694000001,
            61.565801021999995,
            242.261467145,
            2.474313113,
            259.953630767,
            0.2,
            270.52291208400004,
            47.880091092,
            211.33367199900002,
            107.40559716,
            108.96229972100001,
            20.948010277
           ],
           "y0": " ",
           "yaxis": "y"
          },
          {
           "alignmentgroup": "True",
           "hovertemplate": "Continent=Europe<br>Year=2010<br>CO2_emission=%{y}<extra></extra>",
           "legendgroup": "Europe",
           "marker": {
            "color": "#EF553B"
           },
           "name": "Europe",
           "notched": false,
           "offsetgroup": "Europe",
           "orientation": "v",
           "showlegend": true,
           "type": "box",
           "x0": " ",
           "xaxis": "x",
           "y": [
            3.02339894,
            64.05651925,
            60.854088909,
            126.96582078899999,
            15.180806728,
            42.301704701,
            20.249896257,
            109.258539855,
            48.786955817,
            5.135370445,
            50.299501598999996,
            386.60759013,
            781.726883526,
            101.270989746,
            38.014812354,
            408.00527842300005,
            8.033703721,
            8.441169151,
            13.585122268,
            11.42129581,
            6.700366643,
            6.31361196,
            1.4340815880000002,
            237.189322139,
            7.542394626,
            43.713378336999995,
            56.494899724,
            80.29928483,
            1505.588572589,
            47.275248958,
            35.83160741,
            15.373514323,
            316.250289313,
            52.194028468,
            43.38559761,
            266.581450065,
            519.38318753
           ],
           "y0": " ",
           "yaxis": "y"
          },
          {
           "alignmentgroup": "True",
           "hovertemplate": "Continent=Africa<br>Year=2010<br>CO2_emission=%{y}<extra></extra>",
           "legendgroup": "Africa",
           "marker": {
            "color": "#00cc96"
           },
           "name": "Africa",
           "notched": false,
           "offsetgroup": "Africa",
           "orientation": "v",
           "showlegend": true,
           "type": "box",
           "x0": " ",
           "xaxis": "x",
           "y": [
            99.38018585200001,
            12.353614334000001,
            4.500232667,
            4.180684536,
            1.7,
            0.2,
            0.4,
            4.839235198,
            0.3,
            0.3,
            0.2,
            2.739732749,
            1.724303856,
            6.5009118070000005,
            1.2,
            185.86118300099997,
            3.540727851,
            0.5,
            1.10522282,
            7.053195907999999,
            2.356940792,
            0.4,
            7.5,
            1.4,
            0.4,
            11.30315648,
            0.2,
            0.6,
            52.790177023000005,
            1.831772397,
            0.9275230959999999,
            0.7,
            1.9,
            4.378860523,
            42.840731844000004,
            2.511408306,
            3.2193575219999997,
            1.14905783,
            43.253640006000005,
            2.9,
            0.8,
            0.1,
            5.97832888,
            1.2,
            1.4,
            0.8,
            463.139282464,
            18,
            6.790053621,
            1.552844671,
            18.211954800999997,
            3.3,
            2.364738092,
            7.3951012689999995
           ],
           "y0": " ",
           "yaxis": "y"
          },
          {
           "alignmentgroup": "True",
           "hovertemplate": "Continent=North America<br>Year=2010<br>CO2_emission=%{y}<extra></extra>",
           "legendgroup": "North America",
           "marker": {
            "color": "#ab63fa"
           },
           "name": "North America",
           "notched": false,
           "offsetgroup": "North America",
           "orientation": "v",
           "showlegend": true,
           "type": "box",
           "x0": " ",
           "xaxis": "x",
           "y": [
            0.7,
            1,
            1.532032888,
            0.5,
            0.7,
            0.1,
            541.451146808,
            0.6,
            6.744327837,
            29.22173837,
            0.1,
            17.78396985,
            5.902209599,
            0.3,
            2.1,
            11.71404284,
            2.2,
            6.801607092999999,
            9.328811725,
            2.7,
            451.366099216,
            4.3,
            16.117426654000003,
            27.938705428000002,
            0.3,
            0.4,
            0.2,
            3.6,
            5403.664819
           ],
           "y0": " ",
           "yaxis": "y"
          },
          {
           "alignmentgroup": "True",
           "hovertemplate": "Continent=South America<br>Year=2010<br>CO2_emission=%{y}<extra></extra>",
           "legendgroup": "South America",
           "marker": {
            "color": "#FFA15A"
           },
           "name": "South America",
           "notched": false,
           "offsetgroup": "South America",
           "orientation": "v",
           "showlegend": true,
           "type": "box",
           "x0": " ",
           "xaxis": "x",
           "y": [
            168.427120196,
            12.741271491,
            355.53567721900004,
            68.29380446100001,
            51.367881395,
            28.639110565,
            1.6,
            4.1000030810000005,
            36.454249765,
            2.1,
            9.082078429,
            135.589171231
           ],
           "y0": " ",
           "yaxis": "y"
          },
          {
           "alignmentgroup": "True",
           "hovertemplate": "Continent=Oceania<br>Year=2010<br>CO2_emission=%{y}<extra></extra>",
           "legendgroup": "Oceania",
           "marker": {
            "color": "#19d3f3"
           },
           "name": "Oceania",
           "notched": false,
           "offsetgroup": "Oceania",
           "orientation": "v",
           "showlegend": true,
           "type": "box",
           "x0": " ",
           "xaxis": "x",
           "y": [
            407.40659350199996,
            1.400018559,
            0.062365005,
            35.142919914000004,
            3.19617599,
            0.2,
            0.2,
            0.2,
            0.1
           ],
           "y0": " ",
           "yaxis": "y"
          }
         ],
         "name": "2010"
        },
        {
         "data": [
          {
           "alignmentgroup": "True",
           "hovertemplate": "Continent=Asia<br>Year=2011<br>CO2_emission=%{y}<extra></extra>",
           "legendgroup": "Asia",
           "marker": {
            "color": "#636efa"
           },
           "name": "Asia",
           "notched": false,
           "offsetgroup": "Asia",
           "orientation": "v",
           "showlegend": true,
           "type": "box",
           "x0": " ",
           "xaxis": "x",
           "y": [
            7.794436305,
            4.813019398,
            30.978079619000003,
            31.351673973,
            56.107957825,
            0.492486226,
            8.211112966,
            11.054079744000001,
            5.267972787,
            9003.659583588,
            8.531231317,
            6.62742022,
            97.986821139,
            1647.607765382,
            409.35670893800005,
            536.882940782,
            88.924360875,
            68.34872575600001,
            1197.157441095,
            19.344869085,
            260.973652919,
            88.14701811799999,
            7.597359654,
            2.7951814689999996,
            18.739990067,
            1.700276532,
            191.768820756,
            1.10978641,
            15.04690068,
            3.428038187,
            58.447831915,
            56.54508478100001,
            142.66503055,
            2.3,
            78.91806741,
            70.38054682100001,
            497.19740622,
            196.99875001799998,
            612.059829134,
            13.576865182,
            64.90402265,
            271.970446045,
            2.397902462,
            258.15152462,
            0.253427,
            267.676892587,
            58.39371310600001,
            219.15848123599997,
            103.621163368,
            126.984243096,
            24.339585376
           ],
           "y0": " ",
           "yaxis": "y"
          },
          {
           "alignmentgroup": "True",
           "hovertemplate": "Continent=Europe<br>Year=2011<br>CO2_emission=%{y}<extra></extra>",
           "legendgroup": "Europe",
           "marker": {
            "color": "#EF553B"
           },
           "name": "Europe",
           "notched": false,
           "offsetgroup": "Europe",
           "orientation": "v",
           "showlegend": true,
           "type": "box",
           "x0": " ",
           "xaxis": "x",
           "y": [
            3.673558222,
            69.590458553,
            64.13182001,
            136.680107731,
            16.291911047,
            42.034238252,
            19.371264243,
            110.74064015399999,
            49.81121568100001,
            5.373310364,
            55.91580044,
            387.698554876,
            821.7228640019999,
            93.662438989,
            39.012539392,
            415.80858990699994,
            8.10137204,
            9.219071726000001,
            14.463367634,
            12.002574379,
            7.6721337179999995,
            6.495140900000001,
            2.594638447,
            244.53202816700002,
            7.2470247279999995,
            43.923341756999996,
            51.933110798,
            77.564538368,
            1661.036739444,
            47.128840835,
            37.53659186,
            15.513018595999998,
            305.124155606,
            57.32832058,
            44.879988798,
            294.767075686,
            542.040207899
           ],
           "y0": " ",
           "yaxis": "y"
          },
          {
           "alignmentgroup": "True",
           "hovertemplate": "Continent=Africa<br>Year=2011<br>CO2_emission=%{y}<extra></extra>",
           "legendgroup": "Africa",
           "marker": {
            "color": "#00cc96"
           },
           "name": "Africa",
           "notched": false,
           "offsetgroup": "Africa",
           "orientation": "v",
           "showlegend": true,
           "type": "box",
           "x0": " ",
           "xaxis": "x",
           "y": [
            101.352896736,
            16.434704769,
            5.100114705,
            4.219064426,
            1.7,
            0.2,
            0.4,
            5.81196958,
            0.3,
            0.3,
            0.1,
            4.324436711000001,
            2.43654791,
            6.804068151,
            1.2,
            187.676238956,
            3.799580648,
            0.7,
            1.01314429,
            6.580367665,
            2.999196792,
            0.5,
            9.335411188,
            1.4,
            0.4,
            12.294655470999999,
            0.6,
            0.5,
            52.212002783,
            1.876481517,
            0.9465356309999999,
            0.7,
            1.9,
            4.944350395,
            48.935663271,
            2.56608443,
            3.106191659,
            1.229533959,
            48.852326078000004,
            2.9,
            0.8,
            0.1,
            6.4146292570000005,
            1.1,
            0.7,
            0.8,
            479.429093175,
            16,
            6.645204036,
            2.719479968,
            17.659318128,
            3.4,
            2.2944492359999997,
            8.522609295
           ],
           "y0": " ",
           "yaxis": "y"
          },
          {
           "alignmentgroup": "True",
           "hovertemplate": "Continent=North America<br>Year=2011<br>CO2_emission=%{y}<extra></extra>",
           "legendgroup": "North America",
           "marker": {
            "color": "#ab63fa"
           },
           "name": "North America",
           "notched": false,
           "offsetgroup": "North America",
           "orientation": "v",
           "showlegend": true,
           "type": "box",
           "x0": " ",
           "xaxis": "x",
           "y": [
            0.7,
            1.1,
            1.431680878,
            0.5,
            0.7,
            0.2,
            570.776514402,
            0.6,
            6.963164541,
            28.057056726,
            0.1,
            18.236588997000002,
            5.901772573,
            0.3,
            2.1,
            10.771896075999999,
            2.1,
            7.101902568,
            8.116183125,
            2.7,
            448.709210635,
            4.3,
            19.13350749,
            24.286866713000002,
            0.3,
            0.4,
            0.2,
            3.6,
            5593.6621829999995
           ],
           "y0": " ",
           "yaxis": "y"
          },
          {
           "alignmentgroup": "True",
           "hovertemplate": "Continent=South America<br>Year=2011<br>CO2_emission=%{y}<extra></extra>",
           "legendgroup": "South America",
           "marker": {
            "color": "#FFA15A"
           },
           "name": "South America",
           "notched": false,
           "offsetgroup": "South America",
           "orientation": "v",
           "showlegend": true,
           "type": "box",
           "x0": " ",
           "xaxis": "x",
           "y": [
            186.42700516099998,
            13.325875656,
            409.64896686300006,
            71.868038089,
            50.91967204,
            36.210170709,
            1.6,
            4.500099378,
            42.507749872,
            2.7,
            8.158376624,
            142.15684666200002
           ],
           "y0": " ",
           "yaxis": "y"
          },
          {
           "alignmentgroup": "True",
           "hovertemplate": "Continent=Oceania<br>Year=2011<br>CO2_emission=%{y}<extra></extra>",
           "legendgroup": "Oceania",
           "marker": {
            "color": "#19d3f3"
           },
           "name": "Oceania",
           "notched": false,
           "offsetgroup": "Oceania",
           "orientation": "v",
           "showlegend": true,
           "type": "box",
           "x0": " ",
           "xaxis": "x",
           "y": [
            401.967679731,
            1.682487021,
            0.06369422200000001,
            35.246829882,
            4.379178868,
            0.269883745,
            0.37790609999999997,
            0.129139232,
            0.16080060599999998
           ],
           "y0": " ",
           "yaxis": "y"
          }
         ],
         "name": "2011"
        },
        {
         "data": [
          {
           "alignmentgroup": "True",
           "hovertemplate": "Continent=Asia<br>Year=2012<br>CO2_emission=%{y}<extra></extra>",
           "legendgroup": "Asia",
           "marker": {
            "color": "#636efa"
           },
           "name": "Asia",
           "notched": false,
           "offsetgroup": "Asia",
           "orientation": "v",
           "showlegend": true,
           "type": "box",
           "x0": " ",
           "xaxis": "x",
           "y": [
            11.097938929000001,
            5.238929565,
            30.139640857,
            32.885320596,
            59.72643140899999,
            0.540145378,
            8.481891847,
            10.820881064000002,
            5.391141647,
            9892.523226965,
            8.441894909,
            6.687575894,
            93.700560752,
            1701.4236086720002,
            411.717294324,
            561.9729728469999,
            91.986264676,
            67.026003824,
            1226.315034857,
            22.224795740999998,
            285.366535479,
            90.97319159700001,
            7.880374637999999,
            3.071993135,
            19.375812657,
            1.680424795,
            196.51120872299998,
            1.198751512,
            15.472839809000002,
            3.6073066419999997,
            38.711875493,
            53.416343168000004,
            141.20858992799998,
            2.363244018,
            80.33527019899999,
            79.476515369,
            524.430788459,
            209.284348901,
            636.2679339580001,
            16.154978725,
            60.171502348999994,
            276.048394479,
            2.484450524,
            264.61934037099996,
            0.262934,
            289.675381716,
            67.32838101899999,
            243.37820047099999,
            113.814901588,
            139.994352635,
            20.318221681
           ],
           "y0": " ",
           "yaxis": "y"
          },
          {
           "alignmentgroup": "True",
           "hovertemplate": "Continent=Europe<br>Year=2012<br>CO2_emission=%{y}<extra></extra>",
           "legendgroup": "Europe",
           "marker": {
            "color": "#EF553B"
           },
           "name": "Europe",
           "notched": false,
           "offsetgroup": "Europe",
           "orientation": "v",
           "showlegend": true,
           "type": "box",
           "x0": " ",
           "xaxis": "x",
           "y": [
            3.7567300869999998,
            66.26112320000001,
            66.50656537,
            124.36697513899999,
            18.014810337,
            48.149076471,
            18.516255293,
            110.19558631700001,
            45.187614936,
            5.210702679,
            50.730590012,
            377.848458149,
            793.4895751460001,
            93.66757648299999,
            35.306743075,
            409.49171718300005,
            8.025690361,
            8.298549538,
            14.841317977000001,
            11.849279824000002,
            7.288174272000001,
            6.514293027999999,
            2.570011992,
            236.352628503,
            8.090499305,
            40.859189638000004,
            52.607443898,
            83.665637876,
            1733.554377433,
            50.51809169,
            36.714182955,
            15.394685092000001,
            297.405406437,
            53.33623574600001,
            41.098603284,
            327.785963732,
            503.003846945
           ],
           "y0": " ",
           "yaxis": "y"
          },
          {
           "alignmentgroup": "True",
           "hovertemplate": "Continent=Africa<br>Year=2012<br>CO2_emission=%{y}<extra></extra>",
           "legendgroup": "Africa",
           "marker": {
            "color": "#00cc96"
           },
           "name": "Africa",
           "notched": false,
           "offsetgroup": "Africa",
           "orientation": "v",
           "showlegend": true,
           "type": "box",
           "x0": " ",
           "xaxis": "x",
           "y": [
            112.48875121299999,
            17.299774448,
            4.722990331,
            4.385739465,
            2.120689116,
            0.264970514,
            1.003405603,
            6.336180487000001,
            0.39045643,
            0.327842743,
            0.15132232,
            4.436032443999999,
            2.808811775,
            6.411549466,
            0.6422043829999999,
            213.00094218700002,
            3.924008694,
            0.531904357,
            1.009512791,
            7.126690732,
            3.188440193,
            0.531155455,
            10.955145214000002,
            2.8365344269999997,
            0.333377776,
            13.614271526,
            0.56901386,
            0.9176731309999999,
            36.125941078000004,
            2.40285381,
            1.08387112,
            2.3742373580000002,
            2.264922292,
            5.33553258,
            50.602342121999996,
            3.781907631,
            3.158869195,
            1.66311887,
            66.406968194,
            2.687415363,
            0.714021762,
            0.137602959,
            6.804080241,
            0.908261882,
            0.802320383,
            0.847146451,
            464.719603253,
            15.624129729000002,
            7.832454198,
            2.444824838,
            17.696963424,
            3.899274398,
            2.446639655,
            9.921276072000001
           ],
           "y0": " ",
           "yaxis": "y"
          },
          {
           "alignmentgroup": "True",
           "hovertemplate": "Continent=North America<br>Year=2012<br>CO2_emission=%{y}<extra></extra>",
           "legendgroup": "North America",
           "marker": {
            "color": "#ab63fa"
           },
           "name": "North America",
           "notched": false,
           "offsetgroup": "North America",
           "orientation": "v",
           "showlegend": true,
           "type": "box",
           "x0": " ",
           "xaxis": "x",
           "y": [
            0.690076094,
            0.991091715,
            1.926933182,
            0.423049876,
            0.527135539,
            0.17865226,
            575.2903397709999,
            0.640238431,
            7.081357023,
            25.041649313,
            0.170095617,
            19.61785108,
            6.402612648,
            0.27463233600000003,
            2.513874844,
            11.04204759,
            2.224320918,
            7.318436899,
            8.534185784,
            2.585919279,
            464.009976022,
            4.701077745,
            20.641222589,
            26.116503900999998,
            0.250060014,
            0.439284171,
            0.20830438699999998,
            2.968306614,
            5454.696471
           ],
           "y0": " ",
           "yaxis": "y"
          },
          {
           "alignmentgroup": "True",
           "hovertemplate": "Continent=South America<br>Year=2012<br>CO2_emission=%{y}<extra></extra>",
           "legendgroup": "South America",
           "marker": {
            "color": "#FFA15A"
           },
           "name": "South America",
           "notched": false,
           "offsetgroup": "South America",
           "orientation": "v",
           "showlegend": true,
           "type": "box",
           "x0": " ",
           "xaxis": "x",
           "y": [
            190.293575528,
            13.247764437,
            431.174655173,
            76.495521228,
            58.775110568,
            35.736519347,
            1.841371515,
            4.854154389,
            44.412208586000006,
            2.056473316,
            9.162558411000001,
            137.508847285
           ],
           "y0": " ",
           "yaxis": "y"
          },
          {
           "alignmentgroup": "True",
           "hovertemplate": "Continent=Oceania<br>Year=2012<br>CO2_emission=%{y}<extra></extra>",
           "legendgroup": "Oceania",
           "marker": {
            "color": "#19d3f3"
           },
           "name": "Oceania",
           "notched": false,
           "offsetgroup": "Oceania",
           "orientation": "v",
           "showlegend": true,
           "type": "box",
           "x0": " ",
           "xaxis": "x",
           "y": [
            399.227981864,
            1.200864961,
            0.058719858,
            34.98629571,
            4.544294664,
            0.273011717,
            0.39106044100000004,
            0.12213270400000001,
            0.187230597
           ],
           "y0": " ",
           "yaxis": "y"
          }
         ],
         "name": "2012"
        },
        {
         "data": [
          {
           "alignmentgroup": "True",
           "hovertemplate": "Continent=Asia<br>Year=2013<br>CO2_emission=%{y}<extra></extra>",
           "legendgroup": "Asia",
           "marker": {
            "color": "#636efa"
           },
           "name": "Asia",
           "notched": false,
           "offsetgroup": "Asia",
           "orientation": "v",
           "showlegend": true,
           "type": "box",
           "x0": " ",
           "xaxis": "x",
           "y": [
            9.753422695,
            5.991110422,
            33.216129133,
            34.991926707,
            64.239569972,
            0.583256167,
            8.241776193,
            13.92970753,
            5.666872056,
            10478.960468891,
            7.937558776,
            7.440771405,
            88.23022586,
            1819.893804503,
            424.905802577,
            584.23265187,
            107.144052898,
            74.463484119,
            1301.128180416,
            23.730330849,
            284.183457415,
            93.07388614899999,
            10.270598265,
            3.452590438,
            21.457570663,
            1.5799858480000002,
            201.28891410900002,
            1.523701229,
            16.568247117000002,
            3.947445007,
            36.174267821,
            62.45254962600001,
            148.781510333,
            2.188785041,
            84.93645975,
            107.76070741299999,
            555.6503962730001,
            210.121690027,
            641.5722540209999,
            18.116325338,
            45.271518137,
            268.939669741,
            3.148202545,
            281.194710193,
            0.3110748,
            306.165078384,
            77.099807047,
            242.16728804599998,
            112.979144264,
            143.161188983,
            17.044172859
           ],
           "y0": " ",
           "yaxis": "y"
          },
          {
           "alignmentgroup": "True",
           "hovertemplate": "Continent=Europe<br>Year=2013<br>CO2_emission=%{y}<extra></extra>",
           "legendgroup": "Europe",
           "marker": {
            "color": "#EF553B"
           },
           "name": "Europe",
           "notched": false,
           "offsetgroup": "Europe",
           "orientation": "v",
           "showlegend": true,
           "type": "box",
           "x0": " ",
           "xaxis": "x",
           "y": [
            3.3936305439999996,
            64.11566841300001,
            65.141478209,
            120.569741615,
            17.550581884,
            44.463201476,
            18.133849748,
            106.597984774,
            40.753265492,
            6.067943294,
            46.447845331,
            371.97318200800004,
            806.899346595,
            87.16710116200001,
            34.904775745,
            387.804156808,
            8.159288769,
            8.00949128,
            14.922736295999998,
            11.568679850999999,
            6.9291107510000005,
            8.642866582,
            2.361444133,
            228.035414384,
            7.618421875,
            39.934406587,
            50.769261515,
            81.234802934,
            1741.5403168070002,
            46.031724798999996,
            34.845135918000004,
            15.144102762000001,
            291.590789873,
            50.48358622600001,
            42.679771497,
            303.34300126,
            520.293377864
           ],
           "y0": " ",
           "yaxis": "y"
          },
          {
           "alignmentgroup": "True",
           "hovertemplate": "Continent=Africa<br>Year=2013<br>CO2_emission=%{y}<extra></extra>",
           "legendgroup": "Africa",
           "marker": {
            "color": "#00cc96"
           },
           "name": "Africa",
           "notched": false,
           "offsetgroup": "Africa",
           "orientation": "v",
           "showlegend": true,
           "type": "box",
           "x0": " ",
           "xaxis": "x",
           "y": [
            122.01683773200001,
            18.379759527,
            4.372044823,
            4.186221336,
            2.4532154619999997,
            0.233810047,
            0.8449791040000001,
            5.897224026,
            0.401034275,
            0.316141067,
            0.15467224599999999,
            4.372138398,
            2.708148388,
            8.070046554,
            0.8510721929999999,
            218.539485265,
            3.82530157,
            0.554351959,
            0.981366857,
            7.687717362000001,
            3.8281885630000003,
            0.511167994,
            11.111710755999999,
            2.580964507,
            0.322217541,
            12.548126658,
            0.6038901329999999,
            0.9884859429999999,
            46.04113925,
            2.8749225210000002,
            1.035432558,
            2.467279852,
            2.44886848,
            5.325895776,
            50.033905751999995,
            5.208772136,
            3.112832627,
            2.1662421380000003,
            67.856958408,
            2.3977013940000003,
            0.768000722,
            0.141953509,
            6.532751741,
            1.017234138,
            0.900153908,
            0.832532163,
            471.96632298199995,
            1.427734967,
            14.091540027,
            9.701844979,
            2.113735962,
            18.665224873,
            3.609873639,
            2.930656509,
            10.923623604000001
           ],
           "y0": " ",
           "yaxis": "y"
          },
          {
           "alignmentgroup": "True",
           "hovertemplate": "Continent=North America<br>Year=2013<br>CO2_emission=%{y}<extra></extra>",
           "legendgroup": "North America",
           "marker": {
            "color": "#ab63fa"
           },
           "name": "North America",
           "notched": false,
           "offsetgroup": "North America",
           "orientation": "v",
           "showlegend": true,
           "type": "box",
           "x0": " ",
           "xaxis": "x",
           "y": [
            0.707217069,
            1.259022487,
            1.810688761,
            0.476432412,
            0.559253927,
            0.177708728,
            578.0237602469999,
            0.5910509629999999,
            7.032514542,
            28.369444739000002,
            0.169940463,
            21.101810589,
            6.558956165,
            0.286340167,
            1.8908891859999999,
            11.563156368,
            2.418779249,
            7.919687359,
            7.989962436,
            2.620337776,
            465.37571783699997,
            4.447179692,
            22.254963207,
            26.738945211,
            0.246182614,
            0.43590561299999997,
            0.259541778,
            3.44992947,
            5236.322549
           ],
           "y0": " ",
           "yaxis": "y"
          },
          {
           "alignmentgroup": "True",
           "hovertemplate": "Continent=South America<br>Year=2013<br>CO2_emission=%{y}<extra></extra>",
           "legendgroup": "South America",
           "marker": {
            "color": "#FFA15A"
           },
           "name": "South America",
           "notched": false,
           "offsetgroup": "South America",
           "orientation": "v",
           "showlegend": true,
           "type": "box",
           "x0": " ",
           "xaxis": "x",
           "y": [
            195.564808595,
            15.484720187999999,
            462.02857703800004,
            77.61021170000001,
            63.822093945,
            37.056250198,
            2.0801370059999997,
            5.175485748,
            46.757305388,
            2.458005569,
            9.813243621,
            156.134440582
           ],
           "y0": " ",
           "yaxis": "y"
          },
          {
           "alignmentgroup": "True",
           "hovertemplate": "Continent=Oceania<br>Year=2013<br>CO2_emission=%{y}<extra></extra>",
           "legendgroup": "Oceania",
           "marker": {
            "color": "#19d3f3"
           },
           "name": "Oceania",
           "notched": false,
           "offsetgroup": "Oceania",
           "orientation": "v",
           "showlegend": true,
           "type": "box",
           "x0": " ",
           "xaxis": "x",
           "y": [
            402.492360565,
            1.180793875,
            0.057888232000000005,
            36.621269242,
            4.3571065639999995,
            0.274332683,
            0.392179045,
            0.125264058,
            0.153786281
           ],
           "y0": " ",
           "yaxis": "y"
          }
         ],
         "name": "2013"
        },
        {
         "data": [
          {
           "alignmentgroup": "True",
           "hovertemplate": "Continent=Asia<br>Year=2014<br>CO2_emission=%{y}<extra></extra>",
           "legendgroup": "Asia",
           "marker": {
            "color": "#636efa"
           },
           "name": "Asia",
           "notched": false,
           "offsetgroup": "Asia",
           "orientation": "v",
           "showlegend": true,
           "type": "box",
           "x0": " ",
           "xaxis": "x",
           "y": [
            7.910700222000001,
            5.8087165039999995,
            31.49000261,
            38.720921491999995,
            65.438468841,
            0.6104816989999999,
            7.7013709829999994,
            16.596251228,
            5.675875512999999,
            10732.002366681,
            6.971506697000001,
            8.314689519,
            90.45766381899999,
            1859.534344401,
            435.386677339,
            585.391013274,
            117.71817392700001,
            65.70189609100001,
            1296.959118977,
            22.908904761,
            285.65650783,
            96.025487616,
            9.217323923,
            4.251103269,
            20.980673298,
            1.561471534,
            212.9142926,
            1.596596488,
            17.335670109000002,
            4.16947456,
            25.286880083000003,
            62.839911588999996,
            147.37144724799998,
            2.414518051,
            92.18993427299999,
            116.36872298799999,
            568.6580266880001,
            211.89726028599998,
            647.0002009030001,
            15.849224695,
            30.977237213000002,
            267.374081323,
            3.604743371,
            291.075972545,
            0.4694018,
            303.418280051,
            79.28204954899999,
            253.957736573,
            103.45813515799999,
            138.255230441,
            23.975684299
           ],
           "y0": " ",
           "yaxis": "y"
          },
          {
           "alignmentgroup": "True",
           "hovertemplate": "Continent=Europe<br>Year=2014<br>CO2_emission=%{y}<extra></extra>",
           "legendgroup": "Europe",
           "marker": {
            "color": "#EF553B"
           },
           "name": "Europe",
           "notched": false,
           "offsetgroup": "Europe",
           "orientation": "v",
           "showlegend": true,
           "type": "box",
           "x0": " ",
           "xaxis": "x",
           "y": [
            3.8571297660000003,
            64.436759601,
            62.115026688,
            122.537661398,
            16.562038964,
            39.923239614,
            16.892024938,
            101.595609127,
            42.834783123,
            5.997861881,
            49.371248818999995,
            374.37060630800005,
            821.84970442,
            78.857241369,
            33.891390761,
            358.21193649400004,
            7.85568927,
            7.95532849,
            14.503654379,
            11.003178689,
            6.576557658,
            8.450761773,
            2.293257326,
            227.44691592700002,
            7.132161891,
            42.387093281,
            48.994357808000004,
            70.291883218,
            1692.56822549,
            46.091089397,
            34.195493218,
            14.158888899,
            273.920102001,
            49.667180983,
            43.637537452,
            288.399490003,
            509.083698485
           ],
           "y0": " ",
           "yaxis": "y"
          },
          {
           "alignmentgroup": "True",
           "hovertemplate": "Continent=Africa<br>Year=2014<br>CO2_emission=%{y}<extra></extra>",
           "legendgroup": "Africa",
           "marker": {
            "color": "#00cc96"
           },
           "name": "Africa",
           "notched": false,
           "offsetgroup": "Africa",
           "orientation": "v",
           "showlegend": true,
           "type": "box",
           "x0": " ",
           "xaxis": "x",
           "y": [
            118.72056394299999,
            20.113909041,
            4.538610428999999,
            4.327005721,
            3.050219119,
            0.28366474199999997,
            0.840027485,
            5.024585929,
            0.404893391,
            0.334930921,
            0.191959712,
            5.72550493,
            3.9969437439999997,
            9.377470431,
            0.913989133,
            223.249423203,
            3.6122671719999997,
            0.578195163,
            0.88189399,
            9.369728784,
            3.978202649,
            0.516049014,
            12.16966511,
            2.334176295,
            0.360466395,
            13.874742765,
            0.616832425,
            0.9009160340000001,
            50.253252318,
            3.1053484389999997,
            1.103881022,
            2.722025338,
            2.206456436,
            5.456496745,
            52.106582923999994,
            6.311350758,
            3.455610713,
            2.525472408,
            89.79145937700001,
            2.3936044780000003,
            0.850993722,
            0.14651007300000002,
            6.8657379039999995,
            0.9397686959999999,
            1.112717352,
            0.8472037029999999,
            479.235680657,
            1.5646151719999999,
            14.864278356,
            10.410591281,
            2.205410075,
            20.43771143,
            3.8459162210000004,
            3.1707163289999998,
            11.587550012000001
           ],
           "y0": " ",
           "yaxis": "y"
          },
          {
           "alignmentgroup": "True",
           "hovertemplate": "Continent=North America<br>Year=2014<br>CO2_emission=%{y}<extra></extra>",
           "legendgroup": "North America",
           "marker": {
            "color": "#ab63fa"
           },
           "name": "North America",
           "notched": false,
           "offsetgroup": "North America",
           "orientation": "v",
           "showlegend": true,
           "type": "box",
           "x0": " ",
           "xaxis": "x",
           "y": [
            0.7058634429999999,
            1.19798201,
            1.8523270619999999,
            0.516362349,
            0.580391832,
            0.177212161,
            587.9922447719999,
            0.581374714,
            7.316109902000001,
            27.117107824,
            0.161291994,
            20.094532458,
            6.269219854,
            0.323327348,
            1.876143704,
            12.382497279,
            2.6022978930000003,
            8.00179408,
            8.810052361,
            2.636118609,
            469.139643463,
            4.437450817,
            21.896275494,
            23.502621079,
            0.244904858,
            0.43302946700000006,
            0.20976174399999997,
            3.1854395189999996,
            5358.870231
           ],
           "y0": " ",
           "yaxis": "y"
          },
          {
           "alignmentgroup": "True",
           "hovertemplate": "Continent=South America<br>Year=2014<br>CO2_emission=%{y}<extra></extra>",
           "legendgroup": "South America",
           "marker": {
            "color": "#FFA15A"
           },
           "name": "South America",
           "notched": false,
           "offsetgroup": "South America",
           "orientation": "v",
           "showlegend": true,
           "type": "box",
           "x0": " ",
           "xaxis": "x",
           "y": [
            196.68923673900002,
            15.806032418,
            491.320111606,
            81.676454475,
            68.159642685,
            38.459557542,
            2.028611814,
            5.070818482,
            47.876195386000006,
            2.26434235,
            8.494611416,
            144.56582394
           ],
           "y0": " ",
           "yaxis": "y"
          },
          {
           "alignmentgroup": "True",
           "hovertemplate": "Continent=Oceania<br>Year=2014<br>CO2_emission=%{y}<extra></extra>",
           "legendgroup": "Oceania",
           "marker": {
            "color": "#19d3f3"
           },
           "name": "Oceania",
           "notched": false,
           "offsetgroup": "Oceania",
           "orientation": "v",
           "showlegend": true,
           "type": "box",
           "x0": " ",
           "xaxis": "x",
           "y": [
            394.403258535,
            1.267985145,
            0.058583745,
            36.964496969,
            4.444492445,
            0.268907278,
            0.388569441,
            0.123492205,
            0.1478844
           ],
           "y0": " ",
           "yaxis": "y"
          }
         ],
         "name": "2014"
        },
        {
         "data": [
          {
           "alignmentgroup": "True",
           "hovertemplate": "Continent=Asia<br>Year=2015<br>CO2_emission=%{y}<extra></extra>",
           "legendgroup": "Asia",
           "marker": {
            "color": "#636efa"
           },
           "name": "Asia",
           "notched": false,
           "offsetgroup": "Asia",
           "orientation": "v",
           "showlegend": true,
           "type": "box",
           "x0": " ",
           "xaxis": "x",
           "y": [
            7.169380062999999,
            5.983706514,
            32.525526008,
            38.511888511,
            68.872293587,
            0.589683437,
            8.587174605,
            20.993658634000003,
            5.948184081,
            10654.275247466,
            7.043025359,
            8.794013167000001,
            87.839513005,
            2021.8571361860002,
            452.871482145,
            615.967508267,
            114.344282713,
            66.569502825,
            1259.839760477,
            24.133991770999998,
            269.019996267,
            92.411294374,
            9.574204125,
            4.448242014,
            22.649042066,
            1.720014965,
            219.59598359,
            2.140652498,
            16.897751967999998,
            4.488545892,
            23.463948499999997,
            68.877053515,
            156.589626009,
            2.638671739,
            91.285559189,
            118.692892199,
            595.034847438,
            212.748423997,
            642.534730135,
            19.472487493,
            27.28042514,
            274.04303577400003,
            5.068255442,
            294.31498720400003,
            0.5390538,
            330.186324999,
            81.47924908,
            250.39719764,
            112.370081856,
            160.531486858,
            22.354079518000002
           ],
           "y0": " ",
           "yaxis": "y"
          },
          {
           "alignmentgroup": "True",
           "hovertemplate": "Continent=Europe<br>Year=2015<br>CO2_emission=%{y}<extra></extra>",
           "legendgroup": "Europe",
           "marker": {
            "color": "#EF553B"
           },
           "name": "Europe",
           "notched": false,
           "offsetgroup": "Europe",
           "orientation": "v",
           "showlegend": true,
           "type": "box",
           "x0": " ",
           "xaxis": "x",
           "y": [
            4.043419507,
            61.136785464,
            62.454652366000005,
            113.74948736399999,
            16.730131593,
            42.663320113000005,
            15.669364818,
            101.11432075799999,
            39.139894659,
            5.441225491,
            45.74459534100001,
            342.849873856,
            783.558690941,
            75.756606544,
            33.540674331999995,
            339.632327907,
            7.017406546,
            7.650229396,
            13.523554125,
            10.713628195,
            6.70563899,
            8.159548547,
            2.263344226,
            220.61389657900003,
            7.157932649,
            42.13265482,
            49.142157991000005,
            69.257436654,
            1686.1242431110002,
            38.15742916,
            31.51768351,
            12.717906066,
            274.559240265,
            48.701873273000004,
            39.638756163000004,
            249.748361944,
            468.88877896199995
           ],
           "y0": " ",
           "yaxis": "y"
          },
          {
           "alignmentgroup": "True",
           "hovertemplate": "Continent=Africa<br>Year=2015<br>CO2_emission=%{y}<extra></extra>",
           "legendgroup": "Africa",
           "marker": {
            "color": "#00cc96"
           },
           "name": "Africa",
           "notched": false,
           "offsetgroup": "Africa",
           "orientation": "v",
           "showlegend": true,
           "type": "box",
           "x0": " ",
           "xaxis": "x",
           "y": [
            131.69593849700001,
            21.743562538000003,
            4.840767399,
            4.670282678,
            2.860502377,
            0.23925843300000002,
            0.909728098,
            6.98152875,
            0.40890632299999996,
            0.333739735,
            0.170729892,
            5.4730829960000005,
            5.419329431,
            9.839029019,
            0.926809265,
            224.603291601,
            3.4348635069999998,
            0.603668434,
            0.9153855590000001,
            10.778564852999999,
            4.08308916,
            0.573964564,
            12.27694906,
            2.433724809,
            0.374162768,
            14.185094424,
            0.6434147339999999,
            1.1877240759999999,
            48.864062829,
            3.3561126569999997,
            1.095442723,
            2.9193982039999997,
            2.684586018,
            5.643013306,
            53.872832842,
            7.074032739,
            3.634070393,
            2.37103624,
            99.559836414,
            2.525698873,
            0.879298241,
            0.146253896,
            7.687655067000001,
            1.097209334,
            1.219994356,
            0.847098186,
            471.38273349199994,
            1.6185224790000001,
            14.897455594,
            10.522900801,
            2.4100047780000002,
            22.233952708,
            4.637705422,
            3.611288509,
            11.298274885
           ],
           "y0": " ",
           "yaxis": "y"
          },
          {
           "alignmentgroup": "True",
           "hovertemplate": "Continent=North America<br>Year=2015<br>CO2_emission=%{y}<extra></extra>",
           "legendgroup": "North America",
           "marker": {
            "color": "#ab63fa"
           },
           "name": "North America",
           "notched": false,
           "offsetgroup": "North America",
           "orientation": "v",
           "showlegend": true,
           "type": "box",
           "x0": " ",
           "xaxis": "x",
           "y": [
            0.719317413,
            1.2134085159999999,
            1.609840058,
            0.505700203,
            0.7475554190000001,
            0.179863623,
            589.561745673,
            0.59238264,
            7.4572603289999995,
            27.815524427,
            0.17174985199999998,
            19.765231558,
            6.442372513,
            0.271059272,
            1.820668631,
            13.073134025,
            2.866673923,
            8.652434922000001,
            8.637067431,
            2.72841041,
            452.33935330699995,
            4.642415474,
            22.365397062,
            22.154357995,
            0.24787284899999998,
            0.43657188,
            0.22420505,
            3.1121399260000002,
            5413.878798
           ],
           "y0": " ",
           "yaxis": "y"
          },
          {
           "alignmentgroup": "True",
           "hovertemplate": "Continent=South America<br>Year=2015<br>CO2_emission=%{y}<extra></extra>",
           "legendgroup": "South America",
           "marker": {
            "color": "#FFA15A"
           },
           "name": "South America",
           "notched": false,
           "offsetgroup": "South America",
           "orientation": "v",
           "showlegend": true,
           "type": "box",
           "x0": " ",
           "xaxis": "x",
           "y": [
            197.32587106900002,
            16.181440300000002,
            509.82237437699996,
            76.416465602,
            75.73583220399999,
            42.108566617,
            2.028761361,
            5.328025571,
            48.4727403,
            2.359134371,
            7.500800101,
            148.247173844
           ],
           "y0": " ",
           "yaxis": "y"
          },
          {
           "alignmentgroup": "True",
           "hovertemplate": "Continent=Oceania<br>Year=2015<br>CO2_emission=%{y}<extra></extra>",
           "legendgroup": "Oceania",
           "marker": {
            "color": "#19d3f3"
           },
           "name": "Oceania",
           "notched": false,
           "offsetgroup": "Oceania",
           "orientation": "v",
           "showlegend": true,
           "type": "box",
           "x0": " ",
           "xaxis": "x",
           "y": [
            387.06298872199994,
            1.430061731,
            0.058690002000000005,
            38.141857145,
            4.794150007,
            0.273638557,
            0.36391436899999996,
            0.132212561,
            0.169027841
           ],
           "y0": " ",
           "yaxis": "y"
          }
         ],
         "name": "2015"
        },
        {
         "data": [
          {
           "alignmentgroup": "True",
           "hovertemplate": "Continent=Asia<br>Year=2016<br>CO2_emission=%{y}<extra></extra>",
           "legendgroup": "Asia",
           "marker": {
            "color": "#636efa"
           },
           "name": "Asia",
           "notched": false,
           "offsetgroup": "Asia",
           "orientation": "v",
           "showlegend": true,
           "type": "box",
           "x0": " ",
           "xaxis": "x",
           "y": [
            7.852509211,
            5.026330456,
            34.220003413,
            38.815487511,
            77.143612213,
            0.625257036,
            9.287691078,
            24.859712295999998,
            7.048856392999999,
            10427.086484114001,
            7.319033052999999,
            9.60629989,
            93.425450626,
            2063.498246454,
            460.606791228,
            613.141844408,
            97.813567424,
            69.019424269,
            1215.165346308,
            24.120926178,
            265.18465830900004,
            99.255096626,
            9.511352597,
            12.39421794,
            24.480724636999998,
            2.033272644,
            216.337974037,
            1.6143041130000002,
            16.766272063,
            4.01387241,
            22.629378839,
            69.068243884,
            164.096060694,
            3.116727,
            104.721561264,
            116.56972965,
            621.013658834,
            218.065109655,
            662.079624967,
            20.76259626,
            26.696665502,
            273.186495918,
            4.840737356,
            295.714608892,
            0.5286017,
            351.130761699,
            98.321316291,
            283.0588782,
            108.98753173200001,
            193.34421559900002,
            11.979031440999998
           ],
           "y0": " ",
           "yaxis": "y"
          },
          {
           "alignmentgroup": "True",
           "hovertemplate": "Continent=Europe<br>Year=2016<br>CO2_emission=%{y}<extra></extra>",
           "legendgroup": "Europe",
           "marker": {
            "color": "#EF553B"
           },
           "name": "Europe",
           "notched": false,
           "offsetgroup": "Europe",
           "orientation": "v",
           "showlegend": true,
           "type": "box",
           "x0": " ",
           "xaxis": "x",
           "y": [
            3.9137857339999997,
            63.18649443899999,
            53.136445197,
            119.57880402299999,
            16.974379880999997,
            44.948897677,
            15.983625324,
            103.50890666299999,
            36.784739681,
            5.220929629,
            43.571578145,
            346.697207796,
            787.748165382,
            73.45199768399999,
            35.217275275,
            348.96579981699995,
            8.092331583,
            7.9013216260000005,
            13.455875419000002,
            10.427517131,
            7.052502822999999,
            7.533841457,
            2.4124052959999998,
            227.776625825,
            6.812645262,
            41.099013856,
            53.264280761,
            69.882663612,
            1690.150381741,
            45.483677585,
            32.904094811,
            12.808097077000001,
            283.99623025799997,
            48.873321156,
            39.558275205,
            212.59756219099998,
            450.501568398
           ],
           "y0": " ",
           "yaxis": "y"
          },
          {
           "alignmentgroup": "True",
           "hovertemplate": "Continent=Africa<br>Year=2016<br>CO2_emission=%{y}<extra></extra>",
           "legendgroup": "Africa",
           "marker": {
            "color": "#00cc96"
           },
           "name": "Africa",
           "notched": false,
           "offsetgroup": "Africa",
           "orientation": "v",
           "showlegend": true,
           "type": "box",
           "x0": " ",
           "xaxis": "x",
           "y": [
            138.622437629,
            22.910923406,
            5.375044116000001,
            6.004342771,
            3.7111339999999995,
            0.39018800000000003,
            0.9055129999999999,
            7.280231735,
            0.415213,
            0.957926,
            0.185697,
            5.372823856,
            3.1716341630000002,
            10.214946661,
            0.817987,
            227.189976225,
            3.0697292860000003,
            0.593500088,
            0.977952849,
            11.495974888,
            4.0376472439999995,
            0.5879840000000001,
            14.253011837,
            2.767085,
            0.408674,
            16.601816859,
            0.634217,
            1.197167,
            40.511145969,
            3.716618898,
            1.049811359,
            3.166486,
            2.664858,
            5.832263726,
            55.417941526999996,
            7.803148408999999,
            3.978877573,
            2.4994743319999997,
            93.55576467799999,
            2.712283,
            0.9818030000000001,
            0.153103,
            9.139650052999999,
            1.1381350000000001,
            0.9801629999999999,
            0.8791120000000001,
            473.991004339,
            1.9811509999999999,
            16.732517,
            10.843429747,
            2.585771943,
            23.11775831,
            4.635478,
            3.9406133160000003,
            11.82044929
           ],
           "y0": " ",
           "yaxis": "y"
          },
          {
           "alignmentgroup": "True",
           "hovertemplate": "Continent=North America<br>Year=2016<br>CO2_emission=%{y}<extra></extra>",
           "legendgroup": "North America",
           "marker": {
            "color": "#ab63fa"
           },
           "name": "North America",
           "notched": false,
           "offsetgroup": "North America",
           "orientation": "v",
           "showlegend": true,
           "type": "box",
           "x0": " ",
           "xaxis": "x",
           "y": [
            0.751413,
            1.221647,
            1.7115476790000002,
            0.597846,
            0.638996,
            0.183908,
            591.027612427,
            0.637089,
            7.143281668999999,
            30.158298974,
            0.18742999999999999,
            22.363435954,
            6.887408021000001,
            0.289772,
            2.134862,
            15.783469705,
            3.316061,
            9.323582375,
            8.539995644,
            2.3941380000000003,
            465.320401255,
            5.254183,
            23.052440017,
            22.295508948000002,
            0.258403,
            0.452804,
            0.23139200000000001,
            2.935131,
            5262.075715
           ],
           "y0": " ",
           "yaxis": "y"
          },
          {
           "alignmentgroup": "True",
           "hovertemplate": "Continent=South America<br>Year=2016<br>CO2_emission=%{y}<extra></extra>",
           "legendgroup": "South America",
           "marker": {
            "color": "#FFA15A"
           },
           "name": "South America",
           "notched": false,
           "offsetgroup": "South America",
           "orientation": "v",
           "showlegend": true,
           "type": "box",
           "x0": " ",
           "xaxis": "x",
           "y": [
            214.14898796,
            15.937316567,
            500.43737845199996,
            80.338871458,
            75.285248861,
            38.799506427,
            2.099613,
            6.592852194,
            49.882523731999996,
            2.220087,
            8.072587193,
            146.123679031
           ],
           "y0": " ",
           "yaxis": "y"
          },
          {
           "alignmentgroup": "True",
           "hovertemplate": "Continent=Oceania<br>Year=2016<br>CO2_emission=%{y}<extra></extra>",
           "legendgroup": "Oceania",
           "marker": {
            "color": "#19d3f3"
           },
           "name": "Oceania",
           "notched": false,
           "offsetgroup": "Oceania",
           "orientation": "v",
           "showlegend": true,
           "type": "box",
           "x0": " ",
           "xaxis": "x",
           "y": [
            393.33236322,
            1.519460375,
            0.061856002,
            37.75667402,
            5.737748848,
            0.312970679,
            0.331821839,
            0.13618498,
            0.157678799
           ],
           "y0": " ",
           "yaxis": "y"
          }
         ],
         "name": "2016"
        },
        {
         "data": [
          {
           "alignmentgroup": "True",
           "hovertemplate": "Continent=Asia<br>Year=2017<br>CO2_emission=%{y}<extra></extra>",
           "legendgroup": "Asia",
           "marker": {
            "color": "#636efa"
           },
           "name": "Asia",
           "notched": false,
           "offsetgroup": "Asia",
           "orientation": "v",
           "showlegend": true,
           "type": "box",
           "x0": " ",
           "xaxis": "x",
           "y": [
            7.279395964,
            5.388280856000001,
            33.768208834,
            39.162568160999996,
            81.190221668,
            0.739273044,
            9.744023642,
            22.798589146999998,
            9.288531015,
            10261.596587955999,
            7.953462391,
            10.110697859,
            95.412076554,
            2109.077444405,
            465.382656726,
            590.28261484,
            122.17293365200001,
            68.121912096,
            1204.4783152989999,
            24.352386856,
            265.539185456,
            96.908903036,
            9.363717894,
            29.240548394,
            25.354938789000002,
            2.016408595,
            217.52546609900003,
            1.7070604390000002,
            17.720202699,
            6.39830136,
            24.853678075,
            66.12092872,
            182.674871698,
            3.301733,
            107.521038084,
            103.875350327,
            589.3694045569999,
            232.040682333,
            683.387056131,
            23.25597957,
            25.719062671,
            281.164776269,
            5.515403534,
            294.157864391,
            0.516702681,
            372.724052265,
            98.198532291,
            286.340087176,
            97.00786714899999,
            214.862811078,
            9.687529038
           ],
           "y0": " ",
           "yaxis": "y"
          },
          {
           "alignmentgroup": "True",
           "hovertemplate": "Continent=Europe<br>Year=2017<br>CO2_emission=%{y}<extra></extra>",
           "legendgroup": "Europe",
           "marker": {
            "color": "#EF553B"
           },
           "name": "Europe",
           "notched": false,
           "offsetgroup": "Europe",
           "orientation": "v",
           "showlegend": true,
           "type": "box",
           "x0": " ",
           "xaxis": "x",
           "y": [
            4.105771205,
            63.750893511,
            52.898640494,
            121.127501986,
            17.541523865,
            41.729415418,
            16.404382334,
            105.091205254,
            38.300142079000004,
            5.333859544,
            45.472050695,
            349.889306382,
            788.889395747,
            70.073344189,
            36.476636512,
            343.94974652300004,
            8.547435508,
            8.139937954,
            13.515628633,
            10.223879303,
            7.50068694,
            7.510572981,
            2.187481649,
            225.942756214,
            6.67859313,
            39.842466521999995,
            52.29496522,
            68.83720497600001,
            1675.853850278,
            46.474778778,
            32.966793100000004,
            13.73652472,
            285.147351001,
            50.466767878999995,
            40.235876545,
            212.529732069,
            428.237613269
           ],
           "y0": " ",
           "yaxis": "y"
          },
          {
           "alignmentgroup": "True",
           "hovertemplate": "Continent=Africa<br>Year=2017<br>CO2_emission=%{y}<extra></extra>",
           "legendgroup": "Africa",
           "marker": {
            "color": "#00cc96"
           },
           "name": "Africa",
           "notched": false,
           "offsetgroup": "Africa",
           "orientation": "v",
           "showlegend": true,
           "type": "box",
           "x0": " ",
           "xaxis": "x",
           "y": [
            137.190705524,
            21.782970703,
            6.500200025,
            6.78770549,
            3.4239043139999996,
            0.43123820000000007,
            0.951232,
            6.920367464,
            0.255898,
            1.527515,
            0.21808200000000003,
            5.161164532,
            2.4012047180000002,
            11.256751485999999,
            0.742559,
            225.99010882,
            5.339400853,
            0.630792,
            1.0634623140000001,
            13.197112537999999,
            4.049076987,
            0.592758,
            15.963083838,
            3.084621,
            0.425613,
            17.874261179,
            0.68759673,
            1.37903,
            38.62843175,
            3.94417199,
            1.194856363,
            4.470295,
            2.481465,
            5.999197742000001,
            54.873633265,
            9.910325744,
            3.9528250480000002,
            2.360195349,
            95.88490168700001,
            2.809329,
            1.033015,
            0.159065,
            8.718145105,
            1.266926,
            1.017097,
            0.895059,
            470.95968924199997,
            1.859652,
            18.54373,
            11.485682638,
            1.968144306,
            22.836950137,
            4.859262,
            4.228833733,
            10.417493607
           ],
           "y0": " ",
           "yaxis": "y"
          },
          {
           "alignmentgroup": "True",
           "hovertemplate": "Continent=North America<br>Year=2017<br>CO2_emission=%{y}<extra></extra>",
           "legendgroup": "North America",
           "marker": {
            "color": "#ab63fa"
           },
           "name": "North America",
           "notched": false,
           "offsetgroup": "North America",
           "orientation": "v",
           "showlegend": true,
           "type": "box",
           "x0": " ",
           "xaxis": "x",
           "y": [
            0.762758,
            1.2016360000000001,
            1.73882031,
            0.591488,
            0.813297,
            0.186382,
            579.44204222,
            0.626893,
            7.722970236,
            23.149599654,
            0.18855,
            23.755323707,
            6.928914066,
            0.298309,
            1.996945,
            17.072559529,
            3.357186,
            8.780763575,
            8.912641454,
            2.413959,
            474.74942103,
            5.249562,
            24.554451595,
            20.676108421,
            0.265412,
            0.45769,
            0.23174699999999998,
            3.076548,
            5169.496984
           ],
           "y0": " ",
           "yaxis": "y"
          },
          {
           "alignmentgroup": "True",
           "hovertemplate": "Continent=South America<br>Year=2017<br>CO2_emission=%{y}<extra></extra>",
           "legendgroup": "South America",
           "marker": {
            "color": "#FFA15A"
           },
           "name": "South America",
           "notched": false,
           "offsetgroup": "South America",
           "orientation": "v",
           "showlegend": true,
           "type": "box",
           "x0": " ",
           "xaxis": "x",
           "y": [
            214.12301296299998,
            17.25413277,
            466.80266856099996,
            85.140815867,
            78.012255536,
            36.846046091,
            2.361872,
            7.657524903,
            53.033412729,
            2.0497810000000003,
            7.914768354,
            143.667236706
           ],
           "y0": " ",
           "yaxis": "y"
          },
          {
           "alignmentgroup": "True",
           "hovertemplate": "Continent=Oceania<br>Year=2017<br>CO2_emission=%{y}<extra></extra>",
           "legendgroup": "Oceania",
           "marker": {
            "color": "#19d3f3"
           },
           "name": "Oceania",
           "notched": false,
           "offsetgroup": "Oceania",
           "orientation": "v",
           "showlegend": true,
           "type": "box",
           "x0": " ",
           "xaxis": "x",
           "y": [
            407.21160973800005,
            1.448311586,
            0.066107494,
            38.305919671999995,
            6.151275634,
            0.330522907,
            0.318095326,
            0.144218035,
            0.160785748
           ],
           "y0": " ",
           "yaxis": "y"
          }
         ],
         "name": "2017"
        },
        {
         "data": [
          {
           "alignmentgroup": "True",
           "hovertemplate": "Continent=Asia<br>Year=2018<br>CO2_emission=%{y}<extra></extra>",
           "legendgroup": "Asia",
           "marker": {
            "color": "#636efa"
           },
           "name": "Asia",
           "notched": false,
           "offsetgroup": "Asia",
           "orientation": "v",
           "showlegend": true,
           "type": "box",
           "x0": " ",
           "xaxis": "x",
           "y": [
            7.886124149,
            5.764256766,
            33.505086202,
            38.934433631,
            84.268641057,
            0.874226128,
            9.83366762,
            31.012936688000003,
            9.877082077,
            10414.766207728,
            8.198205404,
            9.885794052,
            97.361200682,
            2199.569241996,
            482.076295201,
            615.797113343,
            140.369872115,
            67.448443657,
            1172.18919656,
            25.604982615999997,
            260.172596633,
            90.814210517,
            8.670147409,
            29.370203241,
            26.893255826999997,
            2.460867155,
            227.641637868,
            1.776246574,
            19.213079097999998,
            7.418917877999999,
            19.100887440999998,
            69.473323261,
            198.11511664,
            3.2776354910000003,
            129.620697834,
            113.016120431,
            584.231904201,
            237.684952169,
            688.355815705,
            23.509064144,
            26.089493975,
            267.13371952,
            6.253427167000001,
            300.612913677,
            0.52698616,
            402.654350683,
            97.16221013200001,
            277.322996202,
            100.242828629,
            212.45703009599998,
            9.043446352
           ],
           "y0": " ",
           "yaxis": "y"
          },
          {
           "alignmentgroup": "True",
           "hovertemplate": "Continent=Europe<br>Year=2018<br>CO2_emission=%{y}<extra></extra>",
           "legendgroup": "Europe",
           "marker": {
            "color": "#EF553B"
           },
           "name": "Europe",
           "notched": false,
           "offsetgroup": "Europe",
           "orientation": "v",
           "showlegend": true,
           "type": "box",
           "x0": " ",
           "xaxis": "x",
           "y": [
            4.483725681,
            66.333644577,
            52.914824688,
            123.92538470000001,
            18.429986125,
            44.124719863,
            17.201394041,
            106.33068324899999,
            35.821879341,
            5.4768201439999995,
            43.766672917,
            355.964924979,
            805.059274962,
            75.067888008,
            36.268568419,
            342.01660367799997,
            7.59336425,
            7.9415077489999994,
            14.080925163,
            10.680371337999999,
            8.787256705,
            7.526131277,
            2.297767687,
            222.986533851,
            6.933768859,
            37.707391087,
            56.964920765,
            74.823309052,
            1733.861881236,
            47.857530786000005,
            34.392963996999995,
            14.004331713,
            297.50486930700004,
            50.73773156399999,
            39.632332856,
            197.70038514400002,
            415.85268970199996
           ],
           "y0": " ",
           "yaxis": "y"
          },
          {
           "alignmentgroup": "True",
           "hovertemplate": "Continent=Africa<br>Year=2018<br>CO2_emission=%{y}<extra></extra>",
           "legendgroup": "Africa",
           "marker": {
            "color": "#00cc96"
           },
           "name": "Africa",
           "notched": false,
           "offsetgroup": "Africa",
           "orientation": "v",
           "showlegend": true,
           "type": "box",
           "x0": " ",
           "xaxis": "x",
           "y": [
            137.678348102,
            19.150669135,
            6.980116384,
            6.264534639,
            4.006278646,
            0.52089837,
            0.997356969,
            7.071165269,
            0.268789,
            1.6354449,
            0.277500278,
            4.7662881,
            2.615946401,
            11.231140486,
            0.64035796,
            234.798182579,
            5.275970421,
            0.65482281,
            1.123021123,
            13.103869536,
            3.893172537,
            0.5900981,
            15.370600972,
            2.9939607180000003,
            0.340882931,
            17.693542859,
            0.740383255,
            1.184611,
            38.271440342,
            3.699802622,
            1.311273689,
            4.944042981,
            3.73853528,
            6.611655139,
            57.73459283,
            10.741338938,
            3.9237608660000003,
            2.1959236509999998,
            94.03826393799999,
            2.722415119,
            1.033563,
            0.160820916,
            9.241775439,
            1.299374951,
            0.99525134,
            0.8791817009999999,
            474.367142623,
            1.6237219999999999,
            18.613108,
            10.81976952,
            1.816003725,
            24.719953495,
            5.400768423,
            5.687526838999999,
            9.243045568
           ],
           "y0": " ",
           "yaxis": "y"
          },
          {
           "alignmentgroup": "True",
           "hovertemplate": "Continent=North America<br>Year=2018<br>CO2_emission=%{y}<extra></extra>",
           "legendgroup": "North America",
           "marker": {
            "color": "#ab63fa"
           },
           "name": "North America",
           "notched": false,
           "offsetgroup": "North America",
           "orientation": "v",
           "showlegend": true,
           "type": "box",
           "x0": " ",
           "xaxis": "x",
           "y": [
            0.7159054,
            1.251577,
            1.593928257,
            0.676589459,
            0.775416033,
            0.174258053,
            601.402386621,
            0.7179270000000001,
            7.896010313,
            20.961049262,
            0.177435879,
            21.956523492,
            6.312351521,
            0.32244384,
            1.88786237,
            18.643463431,
            3.360375499,
            8.765265695,
            7.747071984,
            2.24158345,
            472.354715405,
            5.181649,
            26.670110313000002,
            20.191816282,
            0.265947836,
            0.493367638,
            0.26343114,
            3.6643726360000004,
            5131.08098
           ],
           "y0": " ",
           "yaxis": "y"
          },
          {
           "alignmentgroup": "True",
           "hovertemplate": "Continent=South America<br>Year=2018<br>CO2_emission=%{y}<extra></extra>",
           "legendgroup": "South America",
           "marker": {
            "color": "#FFA15A"
           },
           "name": "South America",
           "notched": false,
           "offsetgroup": "South America",
           "orientation": "v",
           "showlegend": true,
           "type": "box",
           "x0": " ",
           "xaxis": "x",
           "y": [
            195.140106755,
            18.092137786,
            475.528895334,
            86.722943017,
            70.05042621,
            34.741365749,
            2.281382873,
            7.957430308999999,
            51.037606187,
            2.308820001,
            6.936088697000001,
            140.438683495
           ],
           "y0": " ",
           "yaxis": "y"
          },
          {
           "alignmentgroup": "True",
           "hovertemplate": "Continent=Oceania<br>Year=2018<br>CO2_emission=%{y}<extra></extra>",
           "legendgroup": "Oceania",
           "marker": {
            "color": "#19d3f3"
           },
           "name": "Oceania",
           "notched": false,
           "offsetgroup": "Oceania",
           "orientation": "v",
           "showlegend": true,
           "type": "box",
           "x0": " ",
           "xaxis": "x",
           "y": [
            418.180611418,
            1.607001975,
            0.07474589999999999,
            39.588690657,
            6.09486905,
            0.333221096,
            0.322621383,
            0.174306579,
            0.180490615
           ],
           "y0": " ",
           "yaxis": "y"
          }
         ],
         "name": "2018"
        },
        {
         "data": [
          {
           "alignmentgroup": "True",
           "hovertemplate": "Continent=Asia<br>Year=2019<br>CO2_emission=%{y}<extra></extra>",
           "legendgroup": "Asia",
           "marker": {
            "color": "#636efa"
           },
           "name": "Asia",
           "notched": false,
           "offsetgroup": "Asia",
           "orientation": "v",
           "showlegend": true,
           "type": "box",
           "x0": " ",
           "xaxis": "x",
           "y": [
            9.391163087,
            5.976457104,
            33.285637885999996,
            39.014442502,
            90.78163083,
            0.967306365,
            10.22519768,
            32.968880216,
            11.890895952000001,
            10608.600386434,
            8.226035335,
            9.84778636,
            97.454364217,
            2308.3320200020003,
            529.4046728980001,
            642.964293906,
            154.661243618,
            64.59444370899999,
            1140.949687525,
            24.328952101,
            269.71317394700003,
            92.889166266,
            9.123794565,
            29.94530902,
            25.478354557,
            2.013405144,
            247.428983914,
            2.036072914,
            20.901836824,
            8.30706762,
            20.153995305,
            75.869640578,
            192.89699386599997,
            3.2776354910000003,
            135.216311732,
            105.34120271,
            567.98859898,
            244.056494874,
            702.961082317,
            22.809417184,
            30.957562784,
            283.193662206,
            6.870917512,
            303.66716993200004,
            0.53420808,
            397.80054432599997,
            97.306322119,
            274.042277491,
            99.389348903,
            241.80642205200002,
            8.292505229
           ],
           "y0": " ",
           "yaxis": "y"
          },
          {
           "alignmentgroup": "True",
           "hovertemplate": "Continent=Europe<br>Year=2019<br>CO2_emission=%{y}<extra></extra>",
           "legendgroup": "Europe",
           "marker": {
            "color": "#EF553B"
           },
           "name": "Europe",
           "notched": false,
           "offsetgroup": "Europe",
           "orientation": "v",
           "showlegend": true,
           "type": "box",
           "x0": " ",
           "xaxis": "x",
           "y": [
            4.031301559,
            63.844027897,
            56.523597698,
            132.279624636,
            17.266938088,
            41.542759685,
            17.147887659000002,
            104.272224724,
            36.120050676999995,
            5.509905901000001,
            44.65256288,
            341.980653833,
            781.596225481,
            73.672821577,
            37.056083624,
            339.577060466,
            7.725803599999999,
            7.87244579,
            14.25507877,
            11.169565110999999,
            9.191731982,
            7.975804162999999,
            2.524134994,
            216.830355385,
            6.5393003929999995,
            38.055784902,
            53.518320981,
            73.68411862100001,
            1798.242238512,
            47.041072192,
            34.50052687,
            14.248656405,
            293.77947371700003,
            47.079863482,
            38.8391437,
            202.513341064,
            411.167847675
           ],
           "y0": " ",
           "yaxis": "y"
          },
          {
           "alignmentgroup": "True",
           "hovertemplate": "Continent=Africa<br>Year=2019<br>CO2_emission=%{y}<extra></extra>",
           "legendgroup": "Africa",
           "marker": {
            "color": "#00cc96"
           },
           "name": "Africa",
           "notched": false,
           "offsetgroup": "Africa",
           "orientation": "v",
           "showlegend": true,
           "type": "box",
           "x0": " ",
           "xaxis": "x",
           "y": [
            145.987969135,
            17.644576605999998,
            7.736424191,
            6.188921367000001,
            4.391342618,
            0.67983302,
            1.0015296340000002,
            7.245713401000001,
            0.27828200000000003,
            1.7162898999999998,
            0.301926504,
            4.433978099999999,
            2.641757936,
            10.798183713,
            0.67469826,
            235.494498177,
            4.669231827,
            0.74245581,
            1.203506529,
            14.060422857,
            3.278674777,
            0.5941987,
            17.630249840999998,
            2.980732599,
            0.341846886,
            18.746653189,
            0.71763765,
            1.34566552,
            39.866451985,
            3.3914147089999997,
            1.508163994,
            5.257908981,
            3.87875476,
            6.938191586,
            59.02569629,
            7.785808405,
            3.90852628,
            2.276804081,
            101.193925365,
            2.722415119,
            1.10937668,
            0.158288716,
            9.558694385,
            1.1521043,
            0.985050284,
            0.882390681,
            455.448598942,
            1.675889,
            18.36376,
            11.481377070999999,
            2.255794107,
            25.326405225,
            5.866205464,
            7.09628982,
            8.964759021
           ],
           "y0": " ",
           "yaxis": "y"
          },
          {
           "alignmentgroup": "True",
           "hovertemplate": "Continent=North America<br>Year=2019<br>CO2_emission=%{y}<extra></extra>",
           "legendgroup": "North America",
           "marker": {
            "color": "#ab63fa"
           },
           "name": "North America",
           "notched": false,
           "offsetgroup": "North America",
           "orientation": "v",
           "showlegend": true,
           "type": "box",
           "x0": " ",
           "xaxis": "x",
           "y": [
            0.7348894,
            1.20493081,
            1.702104465,
            0.577712955,
            0.7972798059999999,
            0.21663531600000002,
            613.089866972,
            0.667298,
            7.923880021,
            22.496372604,
            0.185983702,
            25.265246856999998,
            7.04650887,
            0.317136381,
            1.90047837,
            19.708437412000002,
            3.4575761989999996,
            10.050869894,
            8.071670366000001,
            2.24158345,
            456.148338455,
            5.0278089999999995,
            26.79318633,
            20.150917372000002,
            0.268462136,
            0.451661075,
            0.23928020000000003,
            3.9826752819999998,
            5277.192754
           ],
           "y0": " ",
           "yaxis": "y"
          },
          {
           "alignmentgroup": "True",
           "hovertemplate": "Continent=South America<br>Year=2019<br>CO2_emission=%{y}<extra></extra>",
           "legendgroup": "South America",
           "marker": {
            "color": "#FFA15A"
           },
           "name": "South America",
           "notched": false,
           "offsetgroup": "South America",
           "orientation": "v",
           "showlegend": true,
           "type": "box",
           "x0": " ",
           "xaxis": "x",
           "y": [
            191.358658271,
            18.335565837,
            453.44327222699997,
            86.874650457,
            75.94596771,
            37.349371309,
            2.321942783,
            8.338166715,
            52.918496178000005,
            2.314032735,
            7.311541742,
            131.48505504
           ],
           "y0": " ",
           "yaxis": "y"
          },
          {
           "alignmentgroup": "True",
           "hovertemplate": "Continent=Oceania<br>Year=2019<br>CO2_emission=%{y}<extra></extra>",
           "legendgroup": "Oceania",
           "marker": {
            "color": "#19d3f3"
           },
           "name": "Oceania",
           "notched": false,
           "offsetgroup": "Oceania",
           "orientation": "v",
           "showlegend": true,
           "type": "box",
           "x0": " ",
           "xaxis": "x",
           "y": [
            410.865148205,
            1.6491800540000001,
            0.07528207,
            38.962262785,
            6.323287075,
            0.324490111,
            0.338062091,
            0.150016259,
            0.234325792
           ],
           "y0": " ",
           "yaxis": "y"
          }
         ],
         "name": "2019"
        }
       ],
       "layout": {
        "boxmode": "group",
        "legend": {
         "title": {
          "text": "Continent"
         },
         "tracegroupgap": 0
        },
        "sliders": [
         {
          "active": 0,
          "currentvalue": {
           "prefix": "Year="
          },
          "len": 0.9,
          "pad": {
           "b": 10,
           "t": 60
          },
          "steps": [
           {
            "args": [
             [
              "1988"
             ],
             {
              "frame": {
               "duration": 0,
               "redraw": true
              },
              "fromcurrent": true,
              "mode": "immediate",
              "transition": {
               "duration": 0,
               "easing": "linear"
              }
             }
            ],
            "label": "1988",
            "method": "animate"
           },
           {
            "args": [
             [
              "1989"
             ],
             {
              "frame": {
               "duration": 0,
               "redraw": true
              },
              "fromcurrent": true,
              "mode": "immediate",
              "transition": {
               "duration": 0,
               "easing": "linear"
              }
             }
            ],
            "label": "1989",
            "method": "animate"
           },
           {
            "args": [
             [
              "1990"
             ],
             {
              "frame": {
               "duration": 0,
               "redraw": true
              },
              "fromcurrent": true,
              "mode": "immediate",
              "transition": {
               "duration": 0,
               "easing": "linear"
              }
             }
            ],
            "label": "1990",
            "method": "animate"
           },
           {
            "args": [
             [
              "1991"
             ],
             {
              "frame": {
               "duration": 0,
               "redraw": true
              },
              "fromcurrent": true,
              "mode": "immediate",
              "transition": {
               "duration": 0,
               "easing": "linear"
              }
             }
            ],
            "label": "1991",
            "method": "animate"
           },
           {
            "args": [
             [
              "1992"
             ],
             {
              "frame": {
               "duration": 0,
               "redraw": true
              },
              "fromcurrent": true,
              "mode": "immediate",
              "transition": {
               "duration": 0,
               "easing": "linear"
              }
             }
            ],
            "label": "1992",
            "method": "animate"
           },
           {
            "args": [
             [
              "1993"
             ],
             {
              "frame": {
               "duration": 0,
               "redraw": true
              },
              "fromcurrent": true,
              "mode": "immediate",
              "transition": {
               "duration": 0,
               "easing": "linear"
              }
             }
            ],
            "label": "1993",
            "method": "animate"
           },
           {
            "args": [
             [
              "1994"
             ],
             {
              "frame": {
               "duration": 0,
               "redraw": true
              },
              "fromcurrent": true,
              "mode": "immediate",
              "transition": {
               "duration": 0,
               "easing": "linear"
              }
             }
            ],
            "label": "1994",
            "method": "animate"
           },
           {
            "args": [
             [
              "1995"
             ],
             {
              "frame": {
               "duration": 0,
               "redraw": true
              },
              "fromcurrent": true,
              "mode": "immediate",
              "transition": {
               "duration": 0,
               "easing": "linear"
              }
             }
            ],
            "label": "1995",
            "method": "animate"
           },
           {
            "args": [
             [
              "1996"
             ],
             {
              "frame": {
               "duration": 0,
               "redraw": true
              },
              "fromcurrent": true,
              "mode": "immediate",
              "transition": {
               "duration": 0,
               "easing": "linear"
              }
             }
            ],
            "label": "1996",
            "method": "animate"
           },
           {
            "args": [
             [
              "1997"
             ],
             {
              "frame": {
               "duration": 0,
               "redraw": true
              },
              "fromcurrent": true,
              "mode": "immediate",
              "transition": {
               "duration": 0,
               "easing": "linear"
              }
             }
            ],
            "label": "1997",
            "method": "animate"
           },
           {
            "args": [
             [
              "1998"
             ],
             {
              "frame": {
               "duration": 0,
               "redraw": true
              },
              "fromcurrent": true,
              "mode": "immediate",
              "transition": {
               "duration": 0,
               "easing": "linear"
              }
             }
            ],
            "label": "1998",
            "method": "animate"
           },
           {
            "args": [
             [
              "1999"
             ],
             {
              "frame": {
               "duration": 0,
               "redraw": true
              },
              "fromcurrent": true,
              "mode": "immediate",
              "transition": {
               "duration": 0,
               "easing": "linear"
              }
             }
            ],
            "label": "1999",
            "method": "animate"
           },
           {
            "args": [
             [
              "2000"
             ],
             {
              "frame": {
               "duration": 0,
               "redraw": true
              },
              "fromcurrent": true,
              "mode": "immediate",
              "transition": {
               "duration": 0,
               "easing": "linear"
              }
             }
            ],
            "label": "2000",
            "method": "animate"
           },
           {
            "args": [
             [
              "2001"
             ],
             {
              "frame": {
               "duration": 0,
               "redraw": true
              },
              "fromcurrent": true,
              "mode": "immediate",
              "transition": {
               "duration": 0,
               "easing": "linear"
              }
             }
            ],
            "label": "2001",
            "method": "animate"
           },
           {
            "args": [
             [
              "2002"
             ],
             {
              "frame": {
               "duration": 0,
               "redraw": true
              },
              "fromcurrent": true,
              "mode": "immediate",
              "transition": {
               "duration": 0,
               "easing": "linear"
              }
             }
            ],
            "label": "2002",
            "method": "animate"
           },
           {
            "args": [
             [
              "2003"
             ],
             {
              "frame": {
               "duration": 0,
               "redraw": true
              },
              "fromcurrent": true,
              "mode": "immediate",
              "transition": {
               "duration": 0,
               "easing": "linear"
              }
             }
            ],
            "label": "2003",
            "method": "animate"
           },
           {
            "args": [
             [
              "2004"
             ],
             {
              "frame": {
               "duration": 0,
               "redraw": true
              },
              "fromcurrent": true,
              "mode": "immediate",
              "transition": {
               "duration": 0,
               "easing": "linear"
              }
             }
            ],
            "label": "2004",
            "method": "animate"
           },
           {
            "args": [
             [
              "2005"
             ],
             {
              "frame": {
               "duration": 0,
               "redraw": true
              },
              "fromcurrent": true,
              "mode": "immediate",
              "transition": {
               "duration": 0,
               "easing": "linear"
              }
             }
            ],
            "label": "2005",
            "method": "animate"
           },
           {
            "args": [
             [
              "2006"
             ],
             {
              "frame": {
               "duration": 0,
               "redraw": true
              },
              "fromcurrent": true,
              "mode": "immediate",
              "transition": {
               "duration": 0,
               "easing": "linear"
              }
             }
            ],
            "label": "2006",
            "method": "animate"
           },
           {
            "args": [
             [
              "2007"
             ],
             {
              "frame": {
               "duration": 0,
               "redraw": true
              },
              "fromcurrent": true,
              "mode": "immediate",
              "transition": {
               "duration": 0,
               "easing": "linear"
              }
             }
            ],
            "label": "2007",
            "method": "animate"
           },
           {
            "args": [
             [
              "2008"
             ],
             {
              "frame": {
               "duration": 0,
               "redraw": true
              },
              "fromcurrent": true,
              "mode": "immediate",
              "transition": {
               "duration": 0,
               "easing": "linear"
              }
             }
            ],
            "label": "2008",
            "method": "animate"
           },
           {
            "args": [
             [
              "2009"
             ],
             {
              "frame": {
               "duration": 0,
               "redraw": true
              },
              "fromcurrent": true,
              "mode": "immediate",
              "transition": {
               "duration": 0,
               "easing": "linear"
              }
             }
            ],
            "label": "2009",
            "method": "animate"
           },
           {
            "args": [
             [
              "2010"
             ],
             {
              "frame": {
               "duration": 0,
               "redraw": true
              },
              "fromcurrent": true,
              "mode": "immediate",
              "transition": {
               "duration": 0,
               "easing": "linear"
              }
             }
            ],
            "label": "2010",
            "method": "animate"
           },
           {
            "args": [
             [
              "2011"
             ],
             {
              "frame": {
               "duration": 0,
               "redraw": true
              },
              "fromcurrent": true,
              "mode": "immediate",
              "transition": {
               "duration": 0,
               "easing": "linear"
              }
             }
            ],
            "label": "2011",
            "method": "animate"
           },
           {
            "args": [
             [
              "2012"
             ],
             {
              "frame": {
               "duration": 0,
               "redraw": true
              },
              "fromcurrent": true,
              "mode": "immediate",
              "transition": {
               "duration": 0,
               "easing": "linear"
              }
             }
            ],
            "label": "2012",
            "method": "animate"
           },
           {
            "args": [
             [
              "2013"
             ],
             {
              "frame": {
               "duration": 0,
               "redraw": true
              },
              "fromcurrent": true,
              "mode": "immediate",
              "transition": {
               "duration": 0,
               "easing": "linear"
              }
             }
            ],
            "label": "2013",
            "method": "animate"
           },
           {
            "args": [
             [
              "2014"
             ],
             {
              "frame": {
               "duration": 0,
               "redraw": true
              },
              "fromcurrent": true,
              "mode": "immediate",
              "transition": {
               "duration": 0,
               "easing": "linear"
              }
             }
            ],
            "label": "2014",
            "method": "animate"
           },
           {
            "args": [
             [
              "2015"
             ],
             {
              "frame": {
               "duration": 0,
               "redraw": true
              },
              "fromcurrent": true,
              "mode": "immediate",
              "transition": {
               "duration": 0,
               "easing": "linear"
              }
             }
            ],
            "label": "2015",
            "method": "animate"
           },
           {
            "args": [
             [
              "2016"
             ],
             {
              "frame": {
               "duration": 0,
               "redraw": true
              },
              "fromcurrent": true,
              "mode": "immediate",
              "transition": {
               "duration": 0,
               "easing": "linear"
              }
             }
            ],
            "label": "2016",
            "method": "animate"
           },
           {
            "args": [
             [
              "2017"
             ],
             {
              "frame": {
               "duration": 0,
               "redraw": true
              },
              "fromcurrent": true,
              "mode": "immediate",
              "transition": {
               "duration": 0,
               "easing": "linear"
              }
             }
            ],
            "label": "2017",
            "method": "animate"
           },
           {
            "args": [
             [
              "2018"
             ],
             {
              "frame": {
               "duration": 0,
               "redraw": true
              },
              "fromcurrent": true,
              "mode": "immediate",
              "transition": {
               "duration": 0,
               "easing": "linear"
              }
             }
            ],
            "label": "2018",
            "method": "animate"
           },
           {
            "args": [
             [
              "2019"
             ],
             {
              "frame": {
               "duration": 0,
               "redraw": true
              },
              "fromcurrent": true,
              "mode": "immediate",
              "transition": {
               "duration": 0,
               "easing": "linear"
              }
             }
            ],
            "label": "2019",
            "method": "animate"
           }
          ],
          "x": 0.1,
          "xanchor": "left",
          "y": 0,
          "yanchor": "top"
         }
        ],
        "template": {
         "data": {
          "bar": [
           {
            "error_x": {
             "color": "#f2f5fa"
            },
            "error_y": {
             "color": "#f2f5fa"
            },
            "marker": {
             "line": {
              "color": "rgb(17,17,17)",
              "width": 0.5
             },
             "pattern": {
              "fillmode": "overlay",
              "size": 10,
              "solidity": 0.2
             }
            },
            "type": "bar"
           }
          ],
          "barpolar": [
           {
            "marker": {
             "line": {
              "color": "rgb(17,17,17)",
              "width": 0.5
             },
             "pattern": {
              "fillmode": "overlay",
              "size": 10,
              "solidity": 0.2
             }
            },
            "type": "barpolar"
           }
          ],
          "carpet": [
           {
            "aaxis": {
             "endlinecolor": "#A2B1C6",
             "gridcolor": "#506784",
             "linecolor": "#506784",
             "minorgridcolor": "#506784",
             "startlinecolor": "#A2B1C6"
            },
            "baxis": {
             "endlinecolor": "#A2B1C6",
             "gridcolor": "#506784",
             "linecolor": "#506784",
             "minorgridcolor": "#506784",
             "startlinecolor": "#A2B1C6"
            },
            "type": "carpet"
           }
          ],
          "choropleth": [
           {
            "colorbar": {
             "outlinewidth": 0,
             "ticks": ""
            },
            "type": "choropleth"
           }
          ],
          "contour": [
           {
            "colorbar": {
             "outlinewidth": 0,
             "ticks": ""
            },
            "colorscale": [
             [
              0,
              "#0d0887"
             ],
             [
              0.1111111111111111,
              "#46039f"
             ],
             [
              0.2222222222222222,
              "#7201a8"
             ],
             [
              0.3333333333333333,
              "#9c179e"
             ],
             [
              0.4444444444444444,
              "#bd3786"
             ],
             [
              0.5555555555555556,
              "#d8576b"
             ],
             [
              0.6666666666666666,
              "#ed7953"
             ],
             [
              0.7777777777777778,
              "#fb9f3a"
             ],
             [
              0.8888888888888888,
              "#fdca26"
             ],
             [
              1,
              "#f0f921"
             ]
            ],
            "type": "contour"
           }
          ],
          "contourcarpet": [
           {
            "colorbar": {
             "outlinewidth": 0,
             "ticks": ""
            },
            "type": "contourcarpet"
           }
          ],
          "heatmap": [
           {
            "colorbar": {
             "outlinewidth": 0,
             "ticks": ""
            },
            "colorscale": [
             [
              0,
              "#0d0887"
             ],
             [
              0.1111111111111111,
              "#46039f"
             ],
             [
              0.2222222222222222,
              "#7201a8"
             ],
             [
              0.3333333333333333,
              "#9c179e"
             ],
             [
              0.4444444444444444,
              "#bd3786"
             ],
             [
              0.5555555555555556,
              "#d8576b"
             ],
             [
              0.6666666666666666,
              "#ed7953"
             ],
             [
              0.7777777777777778,
              "#fb9f3a"
             ],
             [
              0.8888888888888888,
              "#fdca26"
             ],
             [
              1,
              "#f0f921"
             ]
            ],
            "type": "heatmap"
           }
          ],
          "heatmapgl": [
           {
            "colorbar": {
             "outlinewidth": 0,
             "ticks": ""
            },
            "colorscale": [
             [
              0,
              "#0d0887"
             ],
             [
              0.1111111111111111,
              "#46039f"
             ],
             [
              0.2222222222222222,
              "#7201a8"
             ],
             [
              0.3333333333333333,
              "#9c179e"
             ],
             [
              0.4444444444444444,
              "#bd3786"
             ],
             [
              0.5555555555555556,
              "#d8576b"
             ],
             [
              0.6666666666666666,
              "#ed7953"
             ],
             [
              0.7777777777777778,
              "#fb9f3a"
             ],
             [
              0.8888888888888888,
              "#fdca26"
             ],
             [
              1,
              "#f0f921"
             ]
            ],
            "type": "heatmapgl"
           }
          ],
          "histogram": [
           {
            "marker": {
             "pattern": {
              "fillmode": "overlay",
              "size": 10,
              "solidity": 0.2
             }
            },
            "type": "histogram"
           }
          ],
          "histogram2d": [
           {
            "colorbar": {
             "outlinewidth": 0,
             "ticks": ""
            },
            "colorscale": [
             [
              0,
              "#0d0887"
             ],
             [
              0.1111111111111111,
              "#46039f"
             ],
             [
              0.2222222222222222,
              "#7201a8"
             ],
             [
              0.3333333333333333,
              "#9c179e"
             ],
             [
              0.4444444444444444,
              "#bd3786"
             ],
             [
              0.5555555555555556,
              "#d8576b"
             ],
             [
              0.6666666666666666,
              "#ed7953"
             ],
             [
              0.7777777777777778,
              "#fb9f3a"
             ],
             [
              0.8888888888888888,
              "#fdca26"
             ],
             [
              1,
              "#f0f921"
             ]
            ],
            "type": "histogram2d"
           }
          ],
          "histogram2dcontour": [
           {
            "colorbar": {
             "outlinewidth": 0,
             "ticks": ""
            },
            "colorscale": [
             [
              0,
              "#0d0887"
             ],
             [
              0.1111111111111111,
              "#46039f"
             ],
             [
              0.2222222222222222,
              "#7201a8"
             ],
             [
              0.3333333333333333,
              "#9c179e"
             ],
             [
              0.4444444444444444,
              "#bd3786"
             ],
             [
              0.5555555555555556,
              "#d8576b"
             ],
             [
              0.6666666666666666,
              "#ed7953"
             ],
             [
              0.7777777777777778,
              "#fb9f3a"
             ],
             [
              0.8888888888888888,
              "#fdca26"
             ],
             [
              1,
              "#f0f921"
             ]
            ],
            "type": "histogram2dcontour"
           }
          ],
          "mesh3d": [
           {
            "colorbar": {
             "outlinewidth": 0,
             "ticks": ""
            },
            "type": "mesh3d"
           }
          ],
          "parcoords": [
           {
            "line": {
             "colorbar": {
              "outlinewidth": 0,
              "ticks": ""
             }
            },
            "type": "parcoords"
           }
          ],
          "pie": [
           {
            "automargin": true,
            "type": "pie"
           }
          ],
          "scatter": [
           {
            "marker": {
             "line": {
              "color": "#283442"
             }
            },
            "type": "scatter"
           }
          ],
          "scatter3d": [
           {
            "line": {
             "colorbar": {
              "outlinewidth": 0,
              "ticks": ""
             }
            },
            "marker": {
             "colorbar": {
              "outlinewidth": 0,
              "ticks": ""
             }
            },
            "type": "scatter3d"
           }
          ],
          "scattercarpet": [
           {
            "marker": {
             "colorbar": {
              "outlinewidth": 0,
              "ticks": ""
             }
            },
            "type": "scattercarpet"
           }
          ],
          "scattergeo": [
           {
            "marker": {
             "colorbar": {
              "outlinewidth": 0,
              "ticks": ""
             }
            },
            "type": "scattergeo"
           }
          ],
          "scattergl": [
           {
            "marker": {
             "line": {
              "color": "#283442"
             }
            },
            "type": "scattergl"
           }
          ],
          "scattermapbox": [
           {
            "marker": {
             "colorbar": {
              "outlinewidth": 0,
              "ticks": ""
             }
            },
            "type": "scattermapbox"
           }
          ],
          "scatterpolar": [
           {
            "marker": {
             "colorbar": {
              "outlinewidth": 0,
              "ticks": ""
             }
            },
            "type": "scatterpolar"
           }
          ],
          "scatterpolargl": [
           {
            "marker": {
             "colorbar": {
              "outlinewidth": 0,
              "ticks": ""
             }
            },
            "type": "scatterpolargl"
           }
          ],
          "scatterternary": [
           {
            "marker": {
             "colorbar": {
              "outlinewidth": 0,
              "ticks": ""
             }
            },
            "type": "scatterternary"
           }
          ],
          "surface": [
           {
            "colorbar": {
             "outlinewidth": 0,
             "ticks": ""
            },
            "colorscale": [
             [
              0,
              "#0d0887"
             ],
             [
              0.1111111111111111,
              "#46039f"
             ],
             [
              0.2222222222222222,
              "#7201a8"
             ],
             [
              0.3333333333333333,
              "#9c179e"
             ],
             [
              0.4444444444444444,
              "#bd3786"
             ],
             [
              0.5555555555555556,
              "#d8576b"
             ],
             [
              0.6666666666666666,
              "#ed7953"
             ],
             [
              0.7777777777777778,
              "#fb9f3a"
             ],
             [
              0.8888888888888888,
              "#fdca26"
             ],
             [
              1,
              "#f0f921"
             ]
            ],
            "type": "surface"
           }
          ],
          "table": [
           {
            "cells": {
             "fill": {
              "color": "#506784"
             },
             "line": {
              "color": "rgb(17,17,17)"
             }
            },
            "header": {
             "fill": {
              "color": "#2a3f5f"
             },
             "line": {
              "color": "rgb(17,17,17)"
             }
            },
            "type": "table"
           }
          ]
         },
         "layout": {
          "annotationdefaults": {
           "arrowcolor": "#f2f5fa",
           "arrowhead": 0,
           "arrowwidth": 1
          },
          "autotypenumbers": "strict",
          "coloraxis": {
           "colorbar": {
            "outlinewidth": 0,
            "ticks": ""
           }
          },
          "colorscale": {
           "diverging": [
            [
             0,
             "#8e0152"
            ],
            [
             0.1,
             "#c51b7d"
            ],
            [
             0.2,
             "#de77ae"
            ],
            [
             0.3,
             "#f1b6da"
            ],
            [
             0.4,
             "#fde0ef"
            ],
            [
             0.5,
             "#f7f7f7"
            ],
            [
             0.6,
             "#e6f5d0"
            ],
            [
             0.7,
             "#b8e186"
            ],
            [
             0.8,
             "#7fbc41"
            ],
            [
             0.9,
             "#4d9221"
            ],
            [
             1,
             "#276419"
            ]
           ],
           "sequential": [
            [
             0,
             "#0d0887"
            ],
            [
             0.1111111111111111,
             "#46039f"
            ],
            [
             0.2222222222222222,
             "#7201a8"
            ],
            [
             0.3333333333333333,
             "#9c179e"
            ],
            [
             0.4444444444444444,
             "#bd3786"
            ],
            [
             0.5555555555555556,
             "#d8576b"
            ],
            [
             0.6666666666666666,
             "#ed7953"
            ],
            [
             0.7777777777777778,
             "#fb9f3a"
            ],
            [
             0.8888888888888888,
             "#fdca26"
            ],
            [
             1,
             "#f0f921"
            ]
           ],
           "sequentialminus": [
            [
             0,
             "#0d0887"
            ],
            [
             0.1111111111111111,
             "#46039f"
            ],
            [
             0.2222222222222222,
             "#7201a8"
            ],
            [
             0.3333333333333333,
             "#9c179e"
            ],
            [
             0.4444444444444444,
             "#bd3786"
            ],
            [
             0.5555555555555556,
             "#d8576b"
            ],
            [
             0.6666666666666666,
             "#ed7953"
            ],
            [
             0.7777777777777778,
             "#fb9f3a"
            ],
            [
             0.8888888888888888,
             "#fdca26"
            ],
            [
             1,
             "#f0f921"
            ]
           ]
          },
          "colorway": [
           "#636efa",
           "#EF553B",
           "#00cc96",
           "#ab63fa",
           "#FFA15A",
           "#19d3f3",
           "#FF6692",
           "#B6E880",
           "#FF97FF",
           "#FECB52"
          ],
          "font": {
           "color": "#f2f5fa"
          },
          "geo": {
           "bgcolor": "rgb(17,17,17)",
           "lakecolor": "rgb(17,17,17)",
           "landcolor": "rgb(17,17,17)",
           "showlakes": true,
           "showland": true,
           "subunitcolor": "#506784"
          },
          "hoverlabel": {
           "align": "left"
          },
          "hovermode": "closest",
          "mapbox": {
           "style": "dark"
          },
          "paper_bgcolor": "rgb(17,17,17)",
          "plot_bgcolor": "rgb(17,17,17)",
          "polar": {
           "angularaxis": {
            "gridcolor": "#506784",
            "linecolor": "#506784",
            "ticks": ""
           },
           "bgcolor": "rgb(17,17,17)",
           "radialaxis": {
            "gridcolor": "#506784",
            "linecolor": "#506784",
            "ticks": ""
           }
          },
          "scene": {
           "xaxis": {
            "backgroundcolor": "rgb(17,17,17)",
            "gridcolor": "#506784",
            "gridwidth": 2,
            "linecolor": "#506784",
            "showbackground": true,
            "ticks": "",
            "zerolinecolor": "#C8D4E3"
           },
           "yaxis": {
            "backgroundcolor": "rgb(17,17,17)",
            "gridcolor": "#506784",
            "gridwidth": 2,
            "linecolor": "#506784",
            "showbackground": true,
            "ticks": "",
            "zerolinecolor": "#C8D4E3"
           },
           "zaxis": {
            "backgroundcolor": "rgb(17,17,17)",
            "gridcolor": "#506784",
            "gridwidth": 2,
            "linecolor": "#506784",
            "showbackground": true,
            "ticks": "",
            "zerolinecolor": "#C8D4E3"
           }
          },
          "shapedefaults": {
           "line": {
            "color": "#f2f5fa"
           }
          },
          "sliderdefaults": {
           "bgcolor": "#C8D4E3",
           "bordercolor": "rgb(17,17,17)",
           "borderwidth": 1,
           "tickwidth": 0
          },
          "ternary": {
           "aaxis": {
            "gridcolor": "#506784",
            "linecolor": "#506784",
            "ticks": ""
           },
           "baxis": {
            "gridcolor": "#506784",
            "linecolor": "#506784",
            "ticks": ""
           },
           "bgcolor": "rgb(17,17,17)",
           "caxis": {
            "gridcolor": "#506784",
            "linecolor": "#506784",
            "ticks": ""
           }
          },
          "title": {
           "x": 0.05
          },
          "updatemenudefaults": {
           "bgcolor": "#506784",
           "borderwidth": 0
          },
          "xaxis": {
           "automargin": true,
           "gridcolor": "#283442",
           "linecolor": "#506784",
           "ticks": "",
           "title": {
            "standoff": 15
           },
           "zerolinecolor": "#283442",
           "zerolinewidth": 2
          },
          "yaxis": {
           "automargin": true,
           "gridcolor": "#283442",
           "linecolor": "#506784",
           "ticks": "",
           "title": {
            "standoff": 15
           },
           "zerolinecolor": "#283442",
           "zerolinewidth": 2
          }
         }
        },
        "title": {
         "text": "CO2 Emissions IQR change of Continents",
         "x": 0.5,
         "y": 0.9
        },
        "updatemenus": [
         {
          "buttons": [
           {
            "args": [
             null,
             {
              "frame": {
               "duration": 500,
               "redraw": true
              },
              "fromcurrent": true,
              "mode": "immediate",
              "transition": {
               "duration": 500,
               "easing": "linear"
              }
             }
            ],
            "label": "&#9654;",
            "method": "animate"
           },
           {
            "args": [
             [
              null
             ],
             {
              "frame": {
               "duration": 0,
               "redraw": true
              },
              "fromcurrent": true,
              "mode": "immediate",
              "transition": {
               "duration": 0,
               "easing": "linear"
              }
             }
            ],
            "label": "&#9724;",
            "method": "animate"
           }
          ],
          "direction": "left",
          "pad": {
           "r": 10,
           "t": 70
          },
          "showactive": false,
          "type": "buttons",
          "x": 0.1,
          "xanchor": "right",
          "y": 0,
          "yanchor": "top"
         }
        ],
        "xaxis": {
         "anchor": "y",
         "domain": [
          0,
          1
         ]
        },
        "yaxis": {
         "anchor": "x",
         "domain": [
          0,
          1
         ],
         "title": {
          "text": "CO2_emission"
         },
         "type": "log"
        }
       }
      }
     },
     "metadata": {},
     "output_type": "display_data"
    }
   ],
   "source": [
    "fig= px.box(contALL, y='CO2_emission', animation_frame= 'Year', color='Continent', title=\"CO2 Emissions IQR change of Continents\", template= 'plotly_dark')\n",
    "fig.update_yaxes(type='log')\n",
    "fig.update_layout({'title':{'x': 0.5, 'y': 0.9}})\n",
    "fig.show()"
   ]
  },
  {
   "cell_type": "code",
   "execution_count": 1555,
   "metadata": {},
   "outputs": [],
   "source": [
    "NA= contALL.loc[contALL['Continent'] == 'North America'][['Country', 'Year', 'CO2_emission']]"
   ]
  },
  {
   "cell_type": "code",
   "execution_count": 1557,
   "metadata": {},
   "outputs": [],
   "source": [
    "w= world[world['Energy_type'] != 'all_energy_types']"
   ]
  },
  {
   "cell_type": "code",
   "execution_count": 1558,
   "metadata": {},
   "outputs": [],
   "source": [
    "world_emission= w.groupby('Year')['CO2_emission'].median().reset_index()\n",
    "NA_emission= NA.groupby('Year')['CO2_emission'].median().reset_index()"
   ]
  },
  {
   "cell_type": "code",
   "execution_count": 1559,
   "metadata": {},
   "outputs": [],
   "source": [
    "world_emission['Country']= ['World']*len(world_emission)\n",
    "NA_emission['Country']= ['North America']*len(NA_emission)"
   ]
  },
  {
   "cell_type": "code",
   "execution_count": 1560,
   "metadata": {},
   "outputs": [],
   "source": [
    "NA_emit= pd.concat([NA, world_emission])\n",
    "NA_emit= pd.concat([NA_emit, NA_emission])"
   ]
  },
  {
   "cell_type": "code",
   "execution_count": 1561,
   "metadata": {},
   "outputs": [
    {
     "data": {
      "text/html": [
       "<div>\n",
       "<style scoped>\n",
       "    .dataframe tbody tr th:only-of-type {\n",
       "        vertical-align: middle;\n",
       "    }\n",
       "\n",
       "    .dataframe tbody tr th {\n",
       "        vertical-align: top;\n",
       "    }\n",
       "\n",
       "    .dataframe thead th {\n",
       "        text-align: right;\n",
       "    }\n",
       "</style>\n",
       "<table border=\"1\" class=\"dataframe\">\n",
       "  <thead>\n",
       "    <tr style=\"text-align: right;\">\n",
       "      <th></th>\n",
       "      <th>Country</th>\n",
       "      <th>Year</th>\n",
       "      <th>CO2_emission</th>\n",
       "    </tr>\n",
       "  </thead>\n",
       "  <tbody>\n",
       "    <tr>\n",
       "      <th>27</th>\n",
       "      <td>North America</td>\n",
       "      <td>2015</td>\n",
       "      <td>2.866674</td>\n",
       "    </tr>\n",
       "    <tr>\n",
       "      <th>28</th>\n",
       "      <td>North America</td>\n",
       "      <td>2016</td>\n",
       "      <td>2.935131</td>\n",
       "    </tr>\n",
       "    <tr>\n",
       "      <th>29</th>\n",
       "      <td>North America</td>\n",
       "      <td>2017</td>\n",
       "      <td>3.076548</td>\n",
       "    </tr>\n",
       "    <tr>\n",
       "      <th>30</th>\n",
       "      <td>North America</td>\n",
       "      <td>2018</td>\n",
       "      <td>3.360375</td>\n",
       "    </tr>\n",
       "    <tr>\n",
       "      <th>31</th>\n",
       "      <td>North America</td>\n",
       "      <td>2019</td>\n",
       "      <td>3.457576</td>\n",
       "    </tr>\n",
       "  </tbody>\n",
       "</table>\n",
       "</div>"
      ],
      "text/plain": [
       "          Country  Year  CO2_emission\n",
       "27  North America  2015      2.866674\n",
       "28  North America  2016      2.935131\n",
       "29  North America  2017      3.076548\n",
       "30  North America  2018      3.360375\n",
       "31  North America  2019      3.457576"
      ]
     },
     "execution_count": 1561,
     "metadata": {},
     "output_type": "execute_result"
    }
   ],
   "source": [
    "NA_emit.tail()"
   ]
  },
  {
   "cell_type": "code",
   "execution_count": 1632,
   "metadata": {},
   "outputs": [
    {
     "data": {
      "application/vnd.plotly.v1+json": {
       "config": {
        "plotlyServerURL": "https://plot.ly"
       },
       "data": [
        {
         "marker": {
          "color": [
           "#03588C",
           "purple",
           "#03588C",
           "#03588C",
           "#03588C",
           "#03588C",
           "#03588C",
           "#03588C",
           "#03588C",
           "#03588C",
           "#03588C",
           "#03588C",
           "#03588C",
           "#03588C",
           "#03588C",
           "gold",
           "#03588C",
           "#03588C",
           "#03588C",
           "#03588C",
           "#03588C",
           "#03588C",
           "#03588C",
           "#03588C",
           "#03588C",
           "#03588C",
           "#03588C",
           "#03588C",
           "#03588C",
           "#03588C"
          ]
         },
         "type": "bar",
         "x": [
          "United States",
          "World",
          "Canada",
          "Mexico",
          "Cuba",
          "Puerto Rico",
          "Panama",
          "Dominican Republic",
          "Jamaica",
          "Guatemala",
          "Costa Rica",
          "The Bahamas",
          "El Salvador",
          "Honduras",
          "Haiti",
          "North America",
          "Guadeloupe",
          "Barbados",
          "Martinique",
          "Bermuda",
          "Aruba",
          "Antigua and Barbuda",
          "Cayman Islands",
          "Saint Lucia",
          "Belize",
          "Grenada",
          "Saint Kitts and Nevis",
          "Dominica",
          "Saint Vincent/Grenadines",
          "British Virgin Islands"
         ],
         "y": [
          4998.211912,
          3753.118806616,
          455.940316746,
          264.933915824,
          35.52797627,
          14.676392616,
          11.038431678,
          8.321128393,
          6.1,
          3.5,
          2.675007334,
          2.4,
          2.3,
          2,
          1.4045061669999999,
          1.3022530835,
          1.2,
          1.149995297,
          1,
          0.8,
          0.4,
          0.4,
          0.3,
          0.2,
          0.2,
          0.07745,
          0.0661,
          0.055479999999999995,
          0.05135,
          0.04723
         ]
        }
       ],
       "layout": {
        "template": {
         "data": {
          "bar": [
           {
            "error_x": {
             "color": "#f2f5fa"
            },
            "error_y": {
             "color": "#f2f5fa"
            },
            "marker": {
             "line": {
              "color": "rgb(17,17,17)",
              "width": 0.5
             },
             "pattern": {
              "fillmode": "overlay",
              "size": 10,
              "solidity": 0.2
             }
            },
            "type": "bar"
           }
          ],
          "barpolar": [
           {
            "marker": {
             "line": {
              "color": "rgb(17,17,17)",
              "width": 0.5
             },
             "pattern": {
              "fillmode": "overlay",
              "size": 10,
              "solidity": 0.2
             }
            },
            "type": "barpolar"
           }
          ],
          "carpet": [
           {
            "aaxis": {
             "endlinecolor": "#A2B1C6",
             "gridcolor": "#506784",
             "linecolor": "#506784",
             "minorgridcolor": "#506784",
             "startlinecolor": "#A2B1C6"
            },
            "baxis": {
             "endlinecolor": "#A2B1C6",
             "gridcolor": "#506784",
             "linecolor": "#506784",
             "minorgridcolor": "#506784",
             "startlinecolor": "#A2B1C6"
            },
            "type": "carpet"
           }
          ],
          "choropleth": [
           {
            "colorbar": {
             "outlinewidth": 0,
             "ticks": ""
            },
            "type": "choropleth"
           }
          ],
          "contour": [
           {
            "colorbar": {
             "outlinewidth": 0,
             "ticks": ""
            },
            "colorscale": [
             [
              0,
              "#0d0887"
             ],
             [
              0.1111111111111111,
              "#46039f"
             ],
             [
              0.2222222222222222,
              "#7201a8"
             ],
             [
              0.3333333333333333,
              "#9c179e"
             ],
             [
              0.4444444444444444,
              "#bd3786"
             ],
             [
              0.5555555555555556,
              "#d8576b"
             ],
             [
              0.6666666666666666,
              "#ed7953"
             ],
             [
              0.7777777777777778,
              "#fb9f3a"
             ],
             [
              0.8888888888888888,
              "#fdca26"
             ],
             [
              1,
              "#f0f921"
             ]
            ],
            "type": "contour"
           }
          ],
          "contourcarpet": [
           {
            "colorbar": {
             "outlinewidth": 0,
             "ticks": ""
            },
            "type": "contourcarpet"
           }
          ],
          "heatmap": [
           {
            "colorbar": {
             "outlinewidth": 0,
             "ticks": ""
            },
            "colorscale": [
             [
              0,
              "#0d0887"
             ],
             [
              0.1111111111111111,
              "#46039f"
             ],
             [
              0.2222222222222222,
              "#7201a8"
             ],
             [
              0.3333333333333333,
              "#9c179e"
             ],
             [
              0.4444444444444444,
              "#bd3786"
             ],
             [
              0.5555555555555556,
              "#d8576b"
             ],
             [
              0.6666666666666666,
              "#ed7953"
             ],
             [
              0.7777777777777778,
              "#fb9f3a"
             ],
             [
              0.8888888888888888,
              "#fdca26"
             ],
             [
              1,
              "#f0f921"
             ]
            ],
            "type": "heatmap"
           }
          ],
          "heatmapgl": [
           {
            "colorbar": {
             "outlinewidth": 0,
             "ticks": ""
            },
            "colorscale": [
             [
              0,
              "#0d0887"
             ],
             [
              0.1111111111111111,
              "#46039f"
             ],
             [
              0.2222222222222222,
              "#7201a8"
             ],
             [
              0.3333333333333333,
              "#9c179e"
             ],
             [
              0.4444444444444444,
              "#bd3786"
             ],
             [
              0.5555555555555556,
              "#d8576b"
             ],
             [
              0.6666666666666666,
              "#ed7953"
             ],
             [
              0.7777777777777778,
              "#fb9f3a"
             ],
             [
              0.8888888888888888,
              "#fdca26"
             ],
             [
              1,
              "#f0f921"
             ]
            ],
            "type": "heatmapgl"
           }
          ],
          "histogram": [
           {
            "marker": {
             "pattern": {
              "fillmode": "overlay",
              "size": 10,
              "solidity": 0.2
             }
            },
            "type": "histogram"
           }
          ],
          "histogram2d": [
           {
            "colorbar": {
             "outlinewidth": 0,
             "ticks": ""
            },
            "colorscale": [
             [
              0,
              "#0d0887"
             ],
             [
              0.1111111111111111,
              "#46039f"
             ],
             [
              0.2222222222222222,
              "#7201a8"
             ],
             [
              0.3333333333333333,
              "#9c179e"
             ],
             [
              0.4444444444444444,
              "#bd3786"
             ],
             [
              0.5555555555555556,
              "#d8576b"
             ],
             [
              0.6666666666666666,
              "#ed7953"
             ],
             [
              0.7777777777777778,
              "#fb9f3a"
             ],
             [
              0.8888888888888888,
              "#fdca26"
             ],
             [
              1,
              "#f0f921"
             ]
            ],
            "type": "histogram2d"
           }
          ],
          "histogram2dcontour": [
           {
            "colorbar": {
             "outlinewidth": 0,
             "ticks": ""
            },
            "colorscale": [
             [
              0,
              "#0d0887"
             ],
             [
              0.1111111111111111,
              "#46039f"
             ],
             [
              0.2222222222222222,
              "#7201a8"
             ],
             [
              0.3333333333333333,
              "#9c179e"
             ],
             [
              0.4444444444444444,
              "#bd3786"
             ],
             [
              0.5555555555555556,
              "#d8576b"
             ],
             [
              0.6666666666666666,
              "#ed7953"
             ],
             [
              0.7777777777777778,
              "#fb9f3a"
             ],
             [
              0.8888888888888888,
              "#fdca26"
             ],
             [
              1,
              "#f0f921"
             ]
            ],
            "type": "histogram2dcontour"
           }
          ],
          "mesh3d": [
           {
            "colorbar": {
             "outlinewidth": 0,
             "ticks": ""
            },
            "type": "mesh3d"
           }
          ],
          "parcoords": [
           {
            "line": {
             "colorbar": {
              "outlinewidth": 0,
              "ticks": ""
             }
            },
            "type": "parcoords"
           }
          ],
          "pie": [
           {
            "automargin": true,
            "type": "pie"
           }
          ],
          "scatter": [
           {
            "marker": {
             "line": {
              "color": "#283442"
             }
            },
            "type": "scatter"
           }
          ],
          "scatter3d": [
           {
            "line": {
             "colorbar": {
              "outlinewidth": 0,
              "ticks": ""
             }
            },
            "marker": {
             "colorbar": {
              "outlinewidth": 0,
              "ticks": ""
             }
            },
            "type": "scatter3d"
           }
          ],
          "scattercarpet": [
           {
            "marker": {
             "colorbar": {
              "outlinewidth": 0,
              "ticks": ""
             }
            },
            "type": "scattercarpet"
           }
          ],
          "scattergeo": [
           {
            "marker": {
             "colorbar": {
              "outlinewidth": 0,
              "ticks": ""
             }
            },
            "type": "scattergeo"
           }
          ],
          "scattergl": [
           {
            "marker": {
             "line": {
              "color": "#283442"
             }
            },
            "type": "scattergl"
           }
          ],
          "scattermapbox": [
           {
            "marker": {
             "colorbar": {
              "outlinewidth": 0,
              "ticks": ""
             }
            },
            "type": "scattermapbox"
           }
          ],
          "scatterpolar": [
           {
            "marker": {
             "colorbar": {
              "outlinewidth": 0,
              "ticks": ""
             }
            },
            "type": "scatterpolar"
           }
          ],
          "scatterpolargl": [
           {
            "marker": {
             "colorbar": {
              "outlinewidth": 0,
              "ticks": ""
             }
            },
            "type": "scatterpolargl"
           }
          ],
          "scatterternary": [
           {
            "marker": {
             "colorbar": {
              "outlinewidth": 0,
              "ticks": ""
             }
            },
            "type": "scatterternary"
           }
          ],
          "surface": [
           {
            "colorbar": {
             "outlinewidth": 0,
             "ticks": ""
            },
            "colorscale": [
             [
              0,
              "#0d0887"
             ],
             [
              0.1111111111111111,
              "#46039f"
             ],
             [
              0.2222222222222222,
              "#7201a8"
             ],
             [
              0.3333333333333333,
              "#9c179e"
             ],
             [
              0.4444444444444444,
              "#bd3786"
             ],
             [
              0.5555555555555556,
              "#d8576b"
             ],
             [
              0.6666666666666666,
              "#ed7953"
             ],
             [
              0.7777777777777778,
              "#fb9f3a"
             ],
             [
              0.8888888888888888,
              "#fdca26"
             ],
             [
              1,
              "#f0f921"
             ]
            ],
            "type": "surface"
           }
          ],
          "table": [
           {
            "cells": {
             "fill": {
              "color": "#506784"
             },
             "line": {
              "color": "rgb(17,17,17)"
             }
            },
            "header": {
             "fill": {
              "color": "#2a3f5f"
             },
             "line": {
              "color": "rgb(17,17,17)"
             }
            },
            "type": "table"
           }
          ]
         },
         "layout": {
          "annotationdefaults": {
           "arrowcolor": "#f2f5fa",
           "arrowhead": 0,
           "arrowwidth": 1
          },
          "autotypenumbers": "strict",
          "coloraxis": {
           "colorbar": {
            "outlinewidth": 0,
            "ticks": ""
           }
          },
          "colorscale": {
           "diverging": [
            [
             0,
             "#8e0152"
            ],
            [
             0.1,
             "#c51b7d"
            ],
            [
             0.2,
             "#de77ae"
            ],
            [
             0.3,
             "#f1b6da"
            ],
            [
             0.4,
             "#fde0ef"
            ],
            [
             0.5,
             "#f7f7f7"
            ],
            [
             0.6,
             "#e6f5d0"
            ],
            [
             0.7,
             "#b8e186"
            ],
            [
             0.8,
             "#7fbc41"
            ],
            [
             0.9,
             "#4d9221"
            ],
            [
             1,
             "#276419"
            ]
           ],
           "sequential": [
            [
             0,
             "#0d0887"
            ],
            [
             0.1111111111111111,
             "#46039f"
            ],
            [
             0.2222222222222222,
             "#7201a8"
            ],
            [
             0.3333333333333333,
             "#9c179e"
            ],
            [
             0.4444444444444444,
             "#bd3786"
            ],
            [
             0.5555555555555556,
             "#d8576b"
            ],
            [
             0.6666666666666666,
             "#ed7953"
            ],
            [
             0.7777777777777778,
             "#fb9f3a"
            ],
            [
             0.8888888888888888,
             "#fdca26"
            ],
            [
             1,
             "#f0f921"
            ]
           ],
           "sequentialminus": [
            [
             0,
             "#0d0887"
            ],
            [
             0.1111111111111111,
             "#46039f"
            ],
            [
             0.2222222222222222,
             "#7201a8"
            ],
            [
             0.3333333333333333,
             "#9c179e"
            ],
            [
             0.4444444444444444,
             "#bd3786"
            ],
            [
             0.5555555555555556,
             "#d8576b"
            ],
            [
             0.6666666666666666,
             "#ed7953"
            ],
            [
             0.7777777777777778,
             "#fb9f3a"
            ],
            [
             0.8888888888888888,
             "#fdca26"
            ],
            [
             1,
             "#f0f921"
            ]
           ]
          },
          "colorway": [
           "#636efa",
           "#EF553B",
           "#00cc96",
           "#ab63fa",
           "#FFA15A",
           "#19d3f3",
           "#FF6692",
           "#B6E880",
           "#FF97FF",
           "#FECB52"
          ],
          "font": {
           "color": "#f2f5fa"
          },
          "geo": {
           "bgcolor": "rgb(17,17,17)",
           "lakecolor": "rgb(17,17,17)",
           "landcolor": "rgb(17,17,17)",
           "showlakes": true,
           "showland": true,
           "subunitcolor": "#506784"
          },
          "hoverlabel": {
           "align": "left"
          },
          "hovermode": "closest",
          "mapbox": {
           "style": "dark"
          },
          "paper_bgcolor": "rgb(17,17,17)",
          "plot_bgcolor": "rgb(17,17,17)",
          "polar": {
           "angularaxis": {
            "gridcolor": "#506784",
            "linecolor": "#506784",
            "ticks": ""
           },
           "bgcolor": "rgb(17,17,17)",
           "radialaxis": {
            "gridcolor": "#506784",
            "linecolor": "#506784",
            "ticks": ""
           }
          },
          "scene": {
           "xaxis": {
            "backgroundcolor": "rgb(17,17,17)",
            "gridcolor": "#506784",
            "gridwidth": 2,
            "linecolor": "#506784",
            "showbackground": true,
            "ticks": "",
            "zerolinecolor": "#C8D4E3"
           },
           "yaxis": {
            "backgroundcolor": "rgb(17,17,17)",
            "gridcolor": "#506784",
            "gridwidth": 2,
            "linecolor": "#506784",
            "showbackground": true,
            "ticks": "",
            "zerolinecolor": "#C8D4E3"
           },
           "zaxis": {
            "backgroundcolor": "rgb(17,17,17)",
            "gridcolor": "#506784",
            "gridwidth": 2,
            "linecolor": "#506784",
            "showbackground": true,
            "ticks": "",
            "zerolinecolor": "#C8D4E3"
           }
          },
          "shapedefaults": {
           "line": {
            "color": "#f2f5fa"
           }
          },
          "sliderdefaults": {
           "bgcolor": "#C8D4E3",
           "bordercolor": "rgb(17,17,17)",
           "borderwidth": 1,
           "tickwidth": 0
          },
          "ternary": {
           "aaxis": {
            "gridcolor": "#506784",
            "linecolor": "#506784",
            "ticks": ""
           },
           "baxis": {
            "gridcolor": "#506784",
            "linecolor": "#506784",
            "ticks": ""
           },
           "bgcolor": "rgb(17,17,17)",
           "caxis": {
            "gridcolor": "#506784",
            "linecolor": "#506784",
            "ticks": ""
           }
          },
          "title": {
           "x": 0.05
          },
          "updatemenudefaults": {
           "bgcolor": "#506784",
           "borderwidth": 0
          },
          "xaxis": {
           "automargin": true,
           "gridcolor": "#283442",
           "linecolor": "#506784",
           "ticks": "",
           "title": {
            "standoff": 15
           },
           "zerolinecolor": "#283442",
           "zerolinewidth": 2
          },
          "yaxis": {
           "automargin": true,
           "gridcolor": "#283442",
           "linecolor": "#506784",
           "ticks": "",
           "title": {
            "standoff": 15
           },
           "zerolinecolor": "#283442",
           "zerolinewidth": 2
          }
         }
        },
        "title": {
         "font": {
          "size": 20
         },
         "text": "CO2 Emmisions of North American Countries 1989",
         "x": 0.5,
         "y": 0.9
        },
        "xaxis": {
         "showticklabels": true,
         "tickfont": {
          "size": 10
         },
         "title": {
          "text": "Countries"
         }
        },
        "yaxis": {
         "tickfont": {
          "size": 10
         },
         "title": {
          "text": "CO2 Emissions (log)"
         },
         "type": "log"
        }
       }
      }
     },
     "metadata": {},
     "output_type": "display_data"
    },
    {
     "data": {
      "application/vnd.plotly.v1+json": {
       "config": {
        "plotlyServerURL": "https://plot.ly"
       },
       "data": [
        {
         "marker": {
          "color": [
           "#03588C",
           "purple",
           "#03588C",
           "#03588C",
           "#03588C",
           "#03588C",
           "#03588C",
           "#03588C",
           "#03588C",
           "#03588C",
           "#03588C",
           "#03588C",
           "#03588C",
           "#03588C",
           "#03588C",
           "#03588C",
           "gold",
           "#03588C",
           "#03588C",
           "#03588C",
           "#03588C",
           "#03588C",
           "#03588C",
           "#03588C",
           "#03588C",
           "#03588C",
           "#03588C",
           "#03588C",
           "#03588C",
           "#03588C",
           "#03588C"
          ]
         },
         "type": "bar",
         "x": [
          "United States",
          "World",
          "Canada",
          "Mexico",
          "Cuba",
          "Puerto Rico",
          "Dominican Republic",
          "Panama",
          "Jamaica",
          "Guatemala",
          "El Salvador",
          "Costa Rica",
          "Honduras",
          "The Bahamas",
          "Nicaragua",
          "Martinique",
          "North America",
          "Guadeloupe",
          "Haiti",
          "Barbados",
          "Aruba",
          "Belize",
          "Bermuda",
          "Antigua and Barbuda",
          "Cayman Islands",
          "Saint Lucia",
          "Grenada",
          "Saint Vincent/Grenadines",
          "Dominica",
          "Saint Kitts and Nevis",
          "British Virgin Islands"
         ],
         "y": [
          5886.416623,
          5119.268510389,
          565.040972151,
          406.17084112099997,
          32.825485415,
          32.104620727,
          17.423597485,
          13.03557884,
          11.214686209000002,
          10.264960244,
          6.102593671,
          5.782608692,
          5.601127262,
          4.2,
          4,
          2.2,
          2.2,
          1.9,
          1.7,
          1.6568910369999998,
          1,
          0.8,
          0.6,
          0.5,
          0.4,
          0.4,
          0.2,
          0.2,
          0.1,
          0.1,
          0.0699
         ]
        }
       ],
       "layout": {
        "template": {
         "data": {
          "bar": [
           {
            "error_x": {
             "color": "#f2f5fa"
            },
            "error_y": {
             "color": "#f2f5fa"
            },
            "marker": {
             "line": {
              "color": "rgb(17,17,17)",
              "width": 0.5
             },
             "pattern": {
              "fillmode": "overlay",
              "size": 10,
              "solidity": 0.2
             }
            },
            "type": "bar"
           }
          ],
          "barpolar": [
           {
            "marker": {
             "line": {
              "color": "rgb(17,17,17)",
              "width": 0.5
             },
             "pattern": {
              "fillmode": "overlay",
              "size": 10,
              "solidity": 0.2
             }
            },
            "type": "barpolar"
           }
          ],
          "carpet": [
           {
            "aaxis": {
             "endlinecolor": "#A2B1C6",
             "gridcolor": "#506784",
             "linecolor": "#506784",
             "minorgridcolor": "#506784",
             "startlinecolor": "#A2B1C6"
            },
            "baxis": {
             "endlinecolor": "#A2B1C6",
             "gridcolor": "#506784",
             "linecolor": "#506784",
             "minorgridcolor": "#506784",
             "startlinecolor": "#A2B1C6"
            },
            "type": "carpet"
           }
          ],
          "choropleth": [
           {
            "colorbar": {
             "outlinewidth": 0,
             "ticks": ""
            },
            "type": "choropleth"
           }
          ],
          "contour": [
           {
            "colorbar": {
             "outlinewidth": 0,
             "ticks": ""
            },
            "colorscale": [
             [
              0,
              "#0d0887"
             ],
             [
              0.1111111111111111,
              "#46039f"
             ],
             [
              0.2222222222222222,
              "#7201a8"
             ],
             [
              0.3333333333333333,
              "#9c179e"
             ],
             [
              0.4444444444444444,
              "#bd3786"
             ],
             [
              0.5555555555555556,
              "#d8576b"
             ],
             [
              0.6666666666666666,
              "#ed7953"
             ],
             [
              0.7777777777777778,
              "#fb9f3a"
             ],
             [
              0.8888888888888888,
              "#fdca26"
             ],
             [
              1,
              "#f0f921"
             ]
            ],
            "type": "contour"
           }
          ],
          "contourcarpet": [
           {
            "colorbar": {
             "outlinewidth": 0,
             "ticks": ""
            },
            "type": "contourcarpet"
           }
          ],
          "heatmap": [
           {
            "colorbar": {
             "outlinewidth": 0,
             "ticks": ""
            },
            "colorscale": [
             [
              0,
              "#0d0887"
             ],
             [
              0.1111111111111111,
              "#46039f"
             ],
             [
              0.2222222222222222,
              "#7201a8"
             ],
             [
              0.3333333333333333,
              "#9c179e"
             ],
             [
              0.4444444444444444,
              "#bd3786"
             ],
             [
              0.5555555555555556,
              "#d8576b"
             ],
             [
              0.6666666666666666,
              "#ed7953"
             ],
             [
              0.7777777777777778,
              "#fb9f3a"
             ],
             [
              0.8888888888888888,
              "#fdca26"
             ],
             [
              1,
              "#f0f921"
             ]
            ],
            "type": "heatmap"
           }
          ],
          "heatmapgl": [
           {
            "colorbar": {
             "outlinewidth": 0,
             "ticks": ""
            },
            "colorscale": [
             [
              0,
              "#0d0887"
             ],
             [
              0.1111111111111111,
              "#46039f"
             ],
             [
              0.2222222222222222,
              "#7201a8"
             ],
             [
              0.3333333333333333,
              "#9c179e"
             ],
             [
              0.4444444444444444,
              "#bd3786"
             ],
             [
              0.5555555555555556,
              "#d8576b"
             ],
             [
              0.6666666666666666,
              "#ed7953"
             ],
             [
              0.7777777777777778,
              "#fb9f3a"
             ],
             [
              0.8888888888888888,
              "#fdca26"
             ],
             [
              1,
              "#f0f921"
             ]
            ],
            "type": "heatmapgl"
           }
          ],
          "histogram": [
           {
            "marker": {
             "pattern": {
              "fillmode": "overlay",
              "size": 10,
              "solidity": 0.2
             }
            },
            "type": "histogram"
           }
          ],
          "histogram2d": [
           {
            "colorbar": {
             "outlinewidth": 0,
             "ticks": ""
            },
            "colorscale": [
             [
              0,
              "#0d0887"
             ],
             [
              0.1111111111111111,
              "#46039f"
             ],
             [
              0.2222222222222222,
              "#7201a8"
             ],
             [
              0.3333333333333333,
              "#9c179e"
             ],
             [
              0.4444444444444444,
              "#bd3786"
             ],
             [
              0.5555555555555556,
              "#d8576b"
             ],
             [
              0.6666666666666666,
              "#ed7953"
             ],
             [
              0.7777777777777778,
              "#fb9f3a"
             ],
             [
              0.8888888888888888,
              "#fdca26"
             ],
             [
              1,
              "#f0f921"
             ]
            ],
            "type": "histogram2d"
           }
          ],
          "histogram2dcontour": [
           {
            "colorbar": {
             "outlinewidth": 0,
             "ticks": ""
            },
            "colorscale": [
             [
              0,
              "#0d0887"
             ],
             [
              0.1111111111111111,
              "#46039f"
             ],
             [
              0.2222222222222222,
              "#7201a8"
             ],
             [
              0.3333333333333333,
              "#9c179e"
             ],
             [
              0.4444444444444444,
              "#bd3786"
             ],
             [
              0.5555555555555556,
              "#d8576b"
             ],
             [
              0.6666666666666666,
              "#ed7953"
             ],
             [
              0.7777777777777778,
              "#fb9f3a"
             ],
             [
              0.8888888888888888,
              "#fdca26"
             ],
             [
              1,
              "#f0f921"
             ]
            ],
            "type": "histogram2dcontour"
           }
          ],
          "mesh3d": [
           {
            "colorbar": {
             "outlinewidth": 0,
             "ticks": ""
            },
            "type": "mesh3d"
           }
          ],
          "parcoords": [
           {
            "line": {
             "colorbar": {
              "outlinewidth": 0,
              "ticks": ""
             }
            },
            "type": "parcoords"
           }
          ],
          "pie": [
           {
            "automargin": true,
            "type": "pie"
           }
          ],
          "scatter": [
           {
            "marker": {
             "line": {
              "color": "#283442"
             }
            },
            "type": "scatter"
           }
          ],
          "scatter3d": [
           {
            "line": {
             "colorbar": {
              "outlinewidth": 0,
              "ticks": ""
             }
            },
            "marker": {
             "colorbar": {
              "outlinewidth": 0,
              "ticks": ""
             }
            },
            "type": "scatter3d"
           }
          ],
          "scattercarpet": [
           {
            "marker": {
             "colorbar": {
              "outlinewidth": 0,
              "ticks": ""
             }
            },
            "type": "scattercarpet"
           }
          ],
          "scattergeo": [
           {
            "marker": {
             "colorbar": {
              "outlinewidth": 0,
              "ticks": ""
             }
            },
            "type": "scattergeo"
           }
          ],
          "scattergl": [
           {
            "marker": {
             "line": {
              "color": "#283442"
             }
            },
            "type": "scattergl"
           }
          ],
          "scattermapbox": [
           {
            "marker": {
             "colorbar": {
              "outlinewidth": 0,
              "ticks": ""
             }
            },
            "type": "scattermapbox"
           }
          ],
          "scatterpolar": [
           {
            "marker": {
             "colorbar": {
              "outlinewidth": 0,
              "ticks": ""
             }
            },
            "type": "scatterpolar"
           }
          ],
          "scatterpolargl": [
           {
            "marker": {
             "colorbar": {
              "outlinewidth": 0,
              "ticks": ""
             }
            },
            "type": "scatterpolargl"
           }
          ],
          "scatterternary": [
           {
            "marker": {
             "colorbar": {
              "outlinewidth": 0,
              "ticks": ""
             }
            },
            "type": "scatterternary"
           }
          ],
          "surface": [
           {
            "colorbar": {
             "outlinewidth": 0,
             "ticks": ""
            },
            "colorscale": [
             [
              0,
              "#0d0887"
             ],
             [
              0.1111111111111111,
              "#46039f"
             ],
             [
              0.2222222222222222,
              "#7201a8"
             ],
             [
              0.3333333333333333,
              "#9c179e"
             ],
             [
              0.4444444444444444,
              "#bd3786"
             ],
             [
              0.5555555555555556,
              "#d8576b"
             ],
             [
              0.6666666666666666,
              "#ed7953"
             ],
             [
              0.7777777777777778,
              "#fb9f3a"
             ],
             [
              0.8888888888888888,
              "#fdca26"
             ],
             [
              1,
              "#f0f921"
             ]
            ],
            "type": "surface"
           }
          ],
          "table": [
           {
            "cells": {
             "fill": {
              "color": "#506784"
             },
             "line": {
              "color": "rgb(17,17,17)"
             }
            },
            "header": {
             "fill": {
              "color": "#2a3f5f"
             },
             "line": {
              "color": "rgb(17,17,17)"
             }
            },
            "type": "table"
           }
          ]
         },
         "layout": {
          "annotationdefaults": {
           "arrowcolor": "#f2f5fa",
           "arrowhead": 0,
           "arrowwidth": 1
          },
          "autotypenumbers": "strict",
          "coloraxis": {
           "colorbar": {
            "outlinewidth": 0,
            "ticks": ""
           }
          },
          "colorscale": {
           "diverging": [
            [
             0,
             "#8e0152"
            ],
            [
             0.1,
             "#c51b7d"
            ],
            [
             0.2,
             "#de77ae"
            ],
            [
             0.3,
             "#f1b6da"
            ],
            [
             0.4,
             "#fde0ef"
            ],
            [
             0.5,
             "#f7f7f7"
            ],
            [
             0.6,
             "#e6f5d0"
            ],
            [
             0.7,
             "#b8e186"
            ],
            [
             0.8,
             "#7fbc41"
            ],
            [
             0.9,
             "#4d9221"
            ],
            [
             1,
             "#276419"
            ]
           ],
           "sequential": [
            [
             0,
             "#0d0887"
            ],
            [
             0.1111111111111111,
             "#46039f"
            ],
            [
             0.2222222222222222,
             "#7201a8"
            ],
            [
             0.3333333333333333,
             "#9c179e"
            ],
            [
             0.4444444444444444,
             "#bd3786"
            ],
            [
             0.5555555555555556,
             "#d8576b"
            ],
            [
             0.6666666666666666,
             "#ed7953"
            ],
            [
             0.7777777777777778,
             "#fb9f3a"
            ],
            [
             0.8888888888888888,
             "#fdca26"
            ],
            [
             1,
             "#f0f921"
            ]
           ],
           "sequentialminus": [
            [
             0,
             "#0d0887"
            ],
            [
             0.1111111111111111,
             "#46039f"
            ],
            [
             0.2222222222222222,
             "#7201a8"
            ],
            [
             0.3333333333333333,
             "#9c179e"
            ],
            [
             0.4444444444444444,
             "#bd3786"
            ],
            [
             0.5555555555555556,
             "#d8576b"
            ],
            [
             0.6666666666666666,
             "#ed7953"
            ],
            [
             0.7777777777777778,
             "#fb9f3a"
            ],
            [
             0.8888888888888888,
             "#fdca26"
            ],
            [
             1,
             "#f0f921"
            ]
           ]
          },
          "colorway": [
           "#636efa",
           "#EF553B",
           "#00cc96",
           "#ab63fa",
           "#FFA15A",
           "#19d3f3",
           "#FF6692",
           "#B6E880",
           "#FF97FF",
           "#FECB52"
          ],
          "font": {
           "color": "#f2f5fa"
          },
          "geo": {
           "bgcolor": "rgb(17,17,17)",
           "lakecolor": "rgb(17,17,17)",
           "landcolor": "rgb(17,17,17)",
           "showlakes": true,
           "showland": true,
           "subunitcolor": "#506784"
          },
          "hoverlabel": {
           "align": "left"
          },
          "hovermode": "closest",
          "mapbox": {
           "style": "dark"
          },
          "paper_bgcolor": "rgb(17,17,17)",
          "plot_bgcolor": "rgb(17,17,17)",
          "polar": {
           "angularaxis": {
            "gridcolor": "#506784",
            "linecolor": "#506784",
            "ticks": ""
           },
           "bgcolor": "rgb(17,17,17)",
           "radialaxis": {
            "gridcolor": "#506784",
            "linecolor": "#506784",
            "ticks": ""
           }
          },
          "scene": {
           "xaxis": {
            "backgroundcolor": "rgb(17,17,17)",
            "gridcolor": "#506784",
            "gridwidth": 2,
            "linecolor": "#506784",
            "showbackground": true,
            "ticks": "",
            "zerolinecolor": "#C8D4E3"
           },
           "yaxis": {
            "backgroundcolor": "rgb(17,17,17)",
            "gridcolor": "#506784",
            "gridwidth": 2,
            "linecolor": "#506784",
            "showbackground": true,
            "ticks": "",
            "zerolinecolor": "#C8D4E3"
           },
           "zaxis": {
            "backgroundcolor": "rgb(17,17,17)",
            "gridcolor": "#506784",
            "gridwidth": 2,
            "linecolor": "#506784",
            "showbackground": true,
            "ticks": "",
            "zerolinecolor": "#C8D4E3"
           }
          },
          "shapedefaults": {
           "line": {
            "color": "#f2f5fa"
           }
          },
          "sliderdefaults": {
           "bgcolor": "#C8D4E3",
           "bordercolor": "rgb(17,17,17)",
           "borderwidth": 1,
           "tickwidth": 0
          },
          "ternary": {
           "aaxis": {
            "gridcolor": "#506784",
            "linecolor": "#506784",
            "ticks": ""
           },
           "baxis": {
            "gridcolor": "#506784",
            "linecolor": "#506784",
            "ticks": ""
           },
           "bgcolor": "rgb(17,17,17)",
           "caxis": {
            "gridcolor": "#506784",
            "linecolor": "#506784",
            "ticks": ""
           }
          },
          "title": {
           "x": 0.05
          },
          "updatemenudefaults": {
           "bgcolor": "#506784",
           "borderwidth": 0
          },
          "xaxis": {
           "automargin": true,
           "gridcolor": "#283442",
           "linecolor": "#506784",
           "ticks": "",
           "title": {
            "standoff": 15
           },
           "zerolinecolor": "#283442",
           "zerolinewidth": 2
          },
          "yaxis": {
           "automargin": true,
           "gridcolor": "#283442",
           "linecolor": "#506784",
           "ticks": "",
           "title": {
            "standoff": 15
           },
           "zerolinecolor": "#283442",
           "zerolinewidth": 2
          }
         }
        },
        "title": {
         "font": {
          "size": 20
         },
         "text": "CO2 Emmisions of North American Countries 2004",
         "x": 0.5,
         "y": 0.9
        },
        "xaxis": {
         "showticklabels": true,
         "tickfont": {
          "size": 10
         },
         "title": {
          "text": "Countries"
         }
        },
        "yaxis": {
         "tickfont": {
          "size": 10
         },
         "title": {
          "text": "CO2 Emissions (log)"
         },
         "type": "log"
        }
       }
      }
     },
     "metadata": {},
     "output_type": "display_data"
    },
    {
     "data": {
      "application/vnd.plotly.v1+json": {
       "config": {
        "plotlyServerURL": "https://plot.ly"
       },
       "data": [
        {
         "marker": {
          "color": [
           "purple",
           "#03588C",
           "#03588C",
           "#03588C",
           "#03588C",
           "#03588C",
           "#03588C",
           "#03588C",
           "#03588C",
           "#03588C",
           "#03588C",
           "#03588C",
           "#03588C",
           "#03588C",
           "#03588C",
           "#03588C",
           "gold",
           "#03588C",
           "#03588C",
           "#03588C",
           "#03588C",
           "#03588C",
           "#03588C",
           "#03588C",
           "#03588C",
           "#03588C",
           "#03588C",
           "#03588C",
           "#03588C",
           "#03588C",
           "#03588C"
          ]
         },
         "type": "bar",
         "x": [
          "World",
          "United States",
          "Canada",
          "Mexico",
          "Panama",
          "Dominican Republic",
          "Cuba",
          "Puerto Rico",
          "Guatemala",
          "Honduras",
          "Jamaica",
          "Costa Rica",
          "El Salvador",
          "Nicaragua",
          "The Bahamas",
          "Haiti",
          "North America",
          "Martinique",
          "Guadeloupe",
          "Barbados",
          "Aruba",
          "Bermuda",
          "Antigua and Barbuda",
          "Cayman Islands",
          "Belize",
          "Saint Lucia",
          "Grenada",
          "Saint Kitts and Nevis",
          "Saint Vincent/Grenadines",
          "British Virgin Islands",
          "Dominica"
         ],
         "y": [
          7607.9366178440005,
          5277.192754,
          613.089866972,
          456.148338455,
          26.79318633,
          25.265246856999998,
          22.496372604,
          20.150917372000002,
          19.708437412000002,
          10.050869894,
          8.071670366000001,
          7.923880021,
          7.04650887,
          5.0278089999999995,
          3.9826752819999998,
          3.4575761989999996,
          3.4575761989999996,
          2.24158345,
          1.90047837,
          1.702104465,
          1.20493081,
          0.7972798059999999,
          0.7348894,
          0.667298,
          0.577712955,
          0.451661075,
          0.317136381,
          0.268462136,
          0.23928020000000003,
          0.21663531600000002,
          0.185983702
         ]
        }
       ],
       "layout": {
        "template": {
         "data": {
          "bar": [
           {
            "error_x": {
             "color": "#f2f5fa"
            },
            "error_y": {
             "color": "#f2f5fa"
            },
            "marker": {
             "line": {
              "color": "rgb(17,17,17)",
              "width": 0.5
             },
             "pattern": {
              "fillmode": "overlay",
              "size": 10,
              "solidity": 0.2
             }
            },
            "type": "bar"
           }
          ],
          "barpolar": [
           {
            "marker": {
             "line": {
              "color": "rgb(17,17,17)",
              "width": 0.5
             },
             "pattern": {
              "fillmode": "overlay",
              "size": 10,
              "solidity": 0.2
             }
            },
            "type": "barpolar"
           }
          ],
          "carpet": [
           {
            "aaxis": {
             "endlinecolor": "#A2B1C6",
             "gridcolor": "#506784",
             "linecolor": "#506784",
             "minorgridcolor": "#506784",
             "startlinecolor": "#A2B1C6"
            },
            "baxis": {
             "endlinecolor": "#A2B1C6",
             "gridcolor": "#506784",
             "linecolor": "#506784",
             "minorgridcolor": "#506784",
             "startlinecolor": "#A2B1C6"
            },
            "type": "carpet"
           }
          ],
          "choropleth": [
           {
            "colorbar": {
             "outlinewidth": 0,
             "ticks": ""
            },
            "type": "choropleth"
           }
          ],
          "contour": [
           {
            "colorbar": {
             "outlinewidth": 0,
             "ticks": ""
            },
            "colorscale": [
             [
              0,
              "#0d0887"
             ],
             [
              0.1111111111111111,
              "#46039f"
             ],
             [
              0.2222222222222222,
              "#7201a8"
             ],
             [
              0.3333333333333333,
              "#9c179e"
             ],
             [
              0.4444444444444444,
              "#bd3786"
             ],
             [
              0.5555555555555556,
              "#d8576b"
             ],
             [
              0.6666666666666666,
              "#ed7953"
             ],
             [
              0.7777777777777778,
              "#fb9f3a"
             ],
             [
              0.8888888888888888,
              "#fdca26"
             ],
             [
              1,
              "#f0f921"
             ]
            ],
            "type": "contour"
           }
          ],
          "contourcarpet": [
           {
            "colorbar": {
             "outlinewidth": 0,
             "ticks": ""
            },
            "type": "contourcarpet"
           }
          ],
          "heatmap": [
           {
            "colorbar": {
             "outlinewidth": 0,
             "ticks": ""
            },
            "colorscale": [
             [
              0,
              "#0d0887"
             ],
             [
              0.1111111111111111,
              "#46039f"
             ],
             [
              0.2222222222222222,
              "#7201a8"
             ],
             [
              0.3333333333333333,
              "#9c179e"
             ],
             [
              0.4444444444444444,
              "#bd3786"
             ],
             [
              0.5555555555555556,
              "#d8576b"
             ],
             [
              0.6666666666666666,
              "#ed7953"
             ],
             [
              0.7777777777777778,
              "#fb9f3a"
             ],
             [
              0.8888888888888888,
              "#fdca26"
             ],
             [
              1,
              "#f0f921"
             ]
            ],
            "type": "heatmap"
           }
          ],
          "heatmapgl": [
           {
            "colorbar": {
             "outlinewidth": 0,
             "ticks": ""
            },
            "colorscale": [
             [
              0,
              "#0d0887"
             ],
             [
              0.1111111111111111,
              "#46039f"
             ],
             [
              0.2222222222222222,
              "#7201a8"
             ],
             [
              0.3333333333333333,
              "#9c179e"
             ],
             [
              0.4444444444444444,
              "#bd3786"
             ],
             [
              0.5555555555555556,
              "#d8576b"
             ],
             [
              0.6666666666666666,
              "#ed7953"
             ],
             [
              0.7777777777777778,
              "#fb9f3a"
             ],
             [
              0.8888888888888888,
              "#fdca26"
             ],
             [
              1,
              "#f0f921"
             ]
            ],
            "type": "heatmapgl"
           }
          ],
          "histogram": [
           {
            "marker": {
             "pattern": {
              "fillmode": "overlay",
              "size": 10,
              "solidity": 0.2
             }
            },
            "type": "histogram"
           }
          ],
          "histogram2d": [
           {
            "colorbar": {
             "outlinewidth": 0,
             "ticks": ""
            },
            "colorscale": [
             [
              0,
              "#0d0887"
             ],
             [
              0.1111111111111111,
              "#46039f"
             ],
             [
              0.2222222222222222,
              "#7201a8"
             ],
             [
              0.3333333333333333,
              "#9c179e"
             ],
             [
              0.4444444444444444,
              "#bd3786"
             ],
             [
              0.5555555555555556,
              "#d8576b"
             ],
             [
              0.6666666666666666,
              "#ed7953"
             ],
             [
              0.7777777777777778,
              "#fb9f3a"
             ],
             [
              0.8888888888888888,
              "#fdca26"
             ],
             [
              1,
              "#f0f921"
             ]
            ],
            "type": "histogram2d"
           }
          ],
          "histogram2dcontour": [
           {
            "colorbar": {
             "outlinewidth": 0,
             "ticks": ""
            },
            "colorscale": [
             [
              0,
              "#0d0887"
             ],
             [
              0.1111111111111111,
              "#46039f"
             ],
             [
              0.2222222222222222,
              "#7201a8"
             ],
             [
              0.3333333333333333,
              "#9c179e"
             ],
             [
              0.4444444444444444,
              "#bd3786"
             ],
             [
              0.5555555555555556,
              "#d8576b"
             ],
             [
              0.6666666666666666,
              "#ed7953"
             ],
             [
              0.7777777777777778,
              "#fb9f3a"
             ],
             [
              0.8888888888888888,
              "#fdca26"
             ],
             [
              1,
              "#f0f921"
             ]
            ],
            "type": "histogram2dcontour"
           }
          ],
          "mesh3d": [
           {
            "colorbar": {
             "outlinewidth": 0,
             "ticks": ""
            },
            "type": "mesh3d"
           }
          ],
          "parcoords": [
           {
            "line": {
             "colorbar": {
              "outlinewidth": 0,
              "ticks": ""
             }
            },
            "type": "parcoords"
           }
          ],
          "pie": [
           {
            "automargin": true,
            "type": "pie"
           }
          ],
          "scatter": [
           {
            "marker": {
             "line": {
              "color": "#283442"
             }
            },
            "type": "scatter"
           }
          ],
          "scatter3d": [
           {
            "line": {
             "colorbar": {
              "outlinewidth": 0,
              "ticks": ""
             }
            },
            "marker": {
             "colorbar": {
              "outlinewidth": 0,
              "ticks": ""
             }
            },
            "type": "scatter3d"
           }
          ],
          "scattercarpet": [
           {
            "marker": {
             "colorbar": {
              "outlinewidth": 0,
              "ticks": ""
             }
            },
            "type": "scattercarpet"
           }
          ],
          "scattergeo": [
           {
            "marker": {
             "colorbar": {
              "outlinewidth": 0,
              "ticks": ""
             }
            },
            "type": "scattergeo"
           }
          ],
          "scattergl": [
           {
            "marker": {
             "line": {
              "color": "#283442"
             }
            },
            "type": "scattergl"
           }
          ],
          "scattermapbox": [
           {
            "marker": {
             "colorbar": {
              "outlinewidth": 0,
              "ticks": ""
             }
            },
            "type": "scattermapbox"
           }
          ],
          "scatterpolar": [
           {
            "marker": {
             "colorbar": {
              "outlinewidth": 0,
              "ticks": ""
             }
            },
            "type": "scatterpolar"
           }
          ],
          "scatterpolargl": [
           {
            "marker": {
             "colorbar": {
              "outlinewidth": 0,
              "ticks": ""
             }
            },
            "type": "scatterpolargl"
           }
          ],
          "scatterternary": [
           {
            "marker": {
             "colorbar": {
              "outlinewidth": 0,
              "ticks": ""
             }
            },
            "type": "scatterternary"
           }
          ],
          "surface": [
           {
            "colorbar": {
             "outlinewidth": 0,
             "ticks": ""
            },
            "colorscale": [
             [
              0,
              "#0d0887"
             ],
             [
              0.1111111111111111,
              "#46039f"
             ],
             [
              0.2222222222222222,
              "#7201a8"
             ],
             [
              0.3333333333333333,
              "#9c179e"
             ],
             [
              0.4444444444444444,
              "#bd3786"
             ],
             [
              0.5555555555555556,
              "#d8576b"
             ],
             [
              0.6666666666666666,
              "#ed7953"
             ],
             [
              0.7777777777777778,
              "#fb9f3a"
             ],
             [
              0.8888888888888888,
              "#fdca26"
             ],
             [
              1,
              "#f0f921"
             ]
            ],
            "type": "surface"
           }
          ],
          "table": [
           {
            "cells": {
             "fill": {
              "color": "#506784"
             },
             "line": {
              "color": "rgb(17,17,17)"
             }
            },
            "header": {
             "fill": {
              "color": "#2a3f5f"
             },
             "line": {
              "color": "rgb(17,17,17)"
             }
            },
            "type": "table"
           }
          ]
         },
         "layout": {
          "annotationdefaults": {
           "arrowcolor": "#f2f5fa",
           "arrowhead": 0,
           "arrowwidth": 1
          },
          "autotypenumbers": "strict",
          "coloraxis": {
           "colorbar": {
            "outlinewidth": 0,
            "ticks": ""
           }
          },
          "colorscale": {
           "diverging": [
            [
             0,
             "#8e0152"
            ],
            [
             0.1,
             "#c51b7d"
            ],
            [
             0.2,
             "#de77ae"
            ],
            [
             0.3,
             "#f1b6da"
            ],
            [
             0.4,
             "#fde0ef"
            ],
            [
             0.5,
             "#f7f7f7"
            ],
            [
             0.6,
             "#e6f5d0"
            ],
            [
             0.7,
             "#b8e186"
            ],
            [
             0.8,
             "#7fbc41"
            ],
            [
             0.9,
             "#4d9221"
            ],
            [
             1,
             "#276419"
            ]
           ],
           "sequential": [
            [
             0,
             "#0d0887"
            ],
            [
             0.1111111111111111,
             "#46039f"
            ],
            [
             0.2222222222222222,
             "#7201a8"
            ],
            [
             0.3333333333333333,
             "#9c179e"
            ],
            [
             0.4444444444444444,
             "#bd3786"
            ],
            [
             0.5555555555555556,
             "#d8576b"
            ],
            [
             0.6666666666666666,
             "#ed7953"
            ],
            [
             0.7777777777777778,
             "#fb9f3a"
            ],
            [
             0.8888888888888888,
             "#fdca26"
            ],
            [
             1,
             "#f0f921"
            ]
           ],
           "sequentialminus": [
            [
             0,
             "#0d0887"
            ],
            [
             0.1111111111111111,
             "#46039f"
            ],
            [
             0.2222222222222222,
             "#7201a8"
            ],
            [
             0.3333333333333333,
             "#9c179e"
            ],
            [
             0.4444444444444444,
             "#bd3786"
            ],
            [
             0.5555555555555556,
             "#d8576b"
            ],
            [
             0.6666666666666666,
             "#ed7953"
            ],
            [
             0.7777777777777778,
             "#fb9f3a"
            ],
            [
             0.8888888888888888,
             "#fdca26"
            ],
            [
             1,
             "#f0f921"
            ]
           ]
          },
          "colorway": [
           "#636efa",
           "#EF553B",
           "#00cc96",
           "#ab63fa",
           "#FFA15A",
           "#19d3f3",
           "#FF6692",
           "#B6E880",
           "#FF97FF",
           "#FECB52"
          ],
          "font": {
           "color": "#f2f5fa"
          },
          "geo": {
           "bgcolor": "rgb(17,17,17)",
           "lakecolor": "rgb(17,17,17)",
           "landcolor": "rgb(17,17,17)",
           "showlakes": true,
           "showland": true,
           "subunitcolor": "#506784"
          },
          "hoverlabel": {
           "align": "left"
          },
          "hovermode": "closest",
          "mapbox": {
           "style": "dark"
          },
          "paper_bgcolor": "rgb(17,17,17)",
          "plot_bgcolor": "rgb(17,17,17)",
          "polar": {
           "angularaxis": {
            "gridcolor": "#506784",
            "linecolor": "#506784",
            "ticks": ""
           },
           "bgcolor": "rgb(17,17,17)",
           "radialaxis": {
            "gridcolor": "#506784",
            "linecolor": "#506784",
            "ticks": ""
           }
          },
          "scene": {
           "xaxis": {
            "backgroundcolor": "rgb(17,17,17)",
            "gridcolor": "#506784",
            "gridwidth": 2,
            "linecolor": "#506784",
            "showbackground": true,
            "ticks": "",
            "zerolinecolor": "#C8D4E3"
           },
           "yaxis": {
            "backgroundcolor": "rgb(17,17,17)",
            "gridcolor": "#506784",
            "gridwidth": 2,
            "linecolor": "#506784",
            "showbackground": true,
            "ticks": "",
            "zerolinecolor": "#C8D4E3"
           },
           "zaxis": {
            "backgroundcolor": "rgb(17,17,17)",
            "gridcolor": "#506784",
            "gridwidth": 2,
            "linecolor": "#506784",
            "showbackground": true,
            "ticks": "",
            "zerolinecolor": "#C8D4E3"
           }
          },
          "shapedefaults": {
           "line": {
            "color": "#f2f5fa"
           }
          },
          "sliderdefaults": {
           "bgcolor": "#C8D4E3",
           "bordercolor": "rgb(17,17,17)",
           "borderwidth": 1,
           "tickwidth": 0
          },
          "ternary": {
           "aaxis": {
            "gridcolor": "#506784",
            "linecolor": "#506784",
            "ticks": ""
           },
           "baxis": {
            "gridcolor": "#506784",
            "linecolor": "#506784",
            "ticks": ""
           },
           "bgcolor": "rgb(17,17,17)",
           "caxis": {
            "gridcolor": "#506784",
            "linecolor": "#506784",
            "ticks": ""
           }
          },
          "title": {
           "x": 0.05
          },
          "updatemenudefaults": {
           "bgcolor": "#506784",
           "borderwidth": 0
          },
          "xaxis": {
           "automargin": true,
           "gridcolor": "#283442",
           "linecolor": "#506784",
           "ticks": "",
           "title": {
            "standoff": 15
           },
           "zerolinecolor": "#283442",
           "zerolinewidth": 2
          },
          "yaxis": {
           "automargin": true,
           "gridcolor": "#283442",
           "linecolor": "#506784",
           "ticks": "",
           "title": {
            "standoff": 15
           },
           "zerolinecolor": "#283442",
           "zerolinewidth": 2
          }
         }
        },
        "title": {
         "font": {
          "size": 20
         },
         "text": "CO2 Emmisions of North American Countries 2019",
         "x": 0.5,
         "y": 0.9
        },
        "xaxis": {
         "showticklabels": true,
         "tickfont": {
          "size": 10
         },
         "title": {
          "text": "Countries"
         }
        },
        "yaxis": {
         "tickfont": {
          "size": 10
         },
         "title": {
          "text": "CO2 Emissions (log)"
         },
         "type": "log"
        }
       }
      }
     },
     "metadata": {},
     "output_type": "display_data"
    }
   ],
   "source": [
    "#North American Coun\n",
    "import plotly.graph_objects as go\n",
    "years= []\n",
    "\n",
    "for x in range(1989,2020,15):\n",
    "   years.append(x)\n",
    "\n",
    "for i in years:\n",
    "   NA_plot= NA_emit[NA_emit['Year']== i].sort_values(by='CO2_emission', ascending=False).reset_index(drop=True)\n",
    "\n",
    "   colors= ['#03588C']*len(NA_plot.index)\n",
    "   colors[np.where(NA_plot['Country'] == 'World')[0][0]] = 'purple'\n",
    "   colors[np.where(NA_plot['Country'] == 'North America')[0][0]] = 'gold'\n",
    "   fig= go.Figure()\n",
    "\n",
    "   fig.add_trace(go.Bar(x= NA_plot['Country'], y= NA_plot['CO2_emission'], marker_color= colors, ))\n",
    "   fig.update_yaxes(type='log')\n",
    "\n",
    "   fig.update_layout(\n",
    "      {\n",
    "         'title': { \n",
    "            'text': f\"CO2 Emmisions of North American Countries {i}\",\n",
    "            'x' : 0.5,\n",
    "            'y': 0.9,\n",
    "            'font': {'size': 20}\n",
    "            },\n",
    "         'xaxis' : {\n",
    "            'title' : 'Countries',\n",
    "            'tickfont': {'size' : 10},\n",
    "            'showticklabels': True\n",
    "         },\n",
    "         'yaxis': {\n",
    "            'title' : 'CO2 Emissions (log)',\n",
    "            'tickfont': {'size' : 10}\n",
    "         },\n",
    "         'template' : 'plotly_dark'\n",
    "      }\n",
    "   )\n",
    "\n",
    "   fig.show()\n",
    "\n"
   ]
  },
  {
   "cell_type": "code",
   "execution_count": 1592,
   "metadata": {},
   "outputs": [
    {
     "data": {
      "image/png": "[encoded data removed]",
      "text/plain": [
       "<Figure size 864x432 with 2 Axes>"
      ]
     },
     "metadata": {
      "needs_background": "light"
     },
     "output_type": "display_data"
    }
   ],
   "source": [
    "#correlation between the emissions\n",
    "plt.figure(figsize=(12,6))\n",
    "sns.heatmap(co2.corr(),cmap='Blues',annot=True)\n",
    "plt.yticks(rotation='360')\n",
    "plt.show()"
   ]
  },
  {
   "cell_type": "code",
   "execution_count": 1693,
   "metadata": {},
   "outputs": [
    {
     "data": {
      "text/plain": [
       "<matplotlib.axes._subplots.AxesSubplot at 0x1566666c070>"
      ]
     },
     "execution_count": 1693,
     "metadata": {},
     "output_type": "execute_result"
    },
    {
     "data": {
      "image/png": "[encoded data removed]",
      "text/plain": [
       "<Figure size 864x576 with 1 Axes>"
      ]
     },
     "metadata": {},
     "output_type": "display_data"
    }
   ],
   "source": [
    "#Here I want to see the total emissions by country\n",
    "\n",
    "countries = contALL\n",
    "top_countries = countries.groupby('Country').sum().sort_values(by='CO2_emission', ascending=False).head(10)\n",
    "sns.set_palette('Blues_r')\n",
    "sns.set(rc= {\n",
    "    'axes.facecolor':'black', \n",
    "    'figure.facecolor': 'black', \n",
    "    'xtick.color': 'white', \n",
    "    'ytick.color': 'white',\n",
    "    'axes.labelcolor': 'white',\n",
    "    'grid.color' : 'lightblue',\n",
    "    'text.color' : 'white'\n",
    "    }\n",
    ")\n",
    "\n",
    "\n",
    "#change size: \n",
    "plt.figure(figsize = (12,8))\n",
    "\n",
    "#seaborn barplot\n",
    "\n",
    "sns.barplot(x= top_countries.index, y =top_countries['CO2_emission'])"
   ]
  },
  {
   "cell_type": "code",
   "execution_count": 1700,
   "metadata": {},
   "outputs": [
    {
     "data": {
      "application/vnd.plotly.v1+json": {
       "config": {
        "plotlyServerURL": "https://plot.ly"
       },
       "data": [
        {
         "type": "bar",
         "x": [
          "China",
          "United States",
          "Russia",
          "Japan",
          "India",
          "Germany",
          "United Kingdom",
          "Canada",
          "South Korea",
          "Italy"
         ],
         "y": [
          184982.960870988,
          174642.08729199998,
          45265.267036421996,
          38157.573429567994,
          37502.21249039601,
          24045.492716009,
          17597.208752348994,
          16817.72050674,
          15316.165393907999,
          13363.367501382998
         ]
        }
       ],
       "layout": {
        "template": {
         "data": {
          "bar": [
           {
            "error_x": {
             "color": "#f2f5fa"
            },
            "error_y": {
             "color": "#f2f5fa"
            },
            "marker": {
             "line": {
              "color": "rgb(17,17,17)",
              "width": 0.5
             },
             "pattern": {
              "fillmode": "overlay",
              "size": 10,
              "solidity": 0.2
             }
            },
            "type": "bar"
           }
          ],
          "barpolar": [
           {
            "marker": {
             "line": {
              "color": "rgb(17,17,17)",
              "width": 0.5
             },
             "pattern": {
              "fillmode": "overlay",
              "size": 10,
              "solidity": 0.2
             }
            },
            "type": "barpolar"
           }
          ],
          "carpet": [
           {
            "aaxis": {
             "endlinecolor": "#A2B1C6",
             "gridcolor": "#506784",
             "linecolor": "#506784",
             "minorgridcolor": "#506784",
             "startlinecolor": "#A2B1C6"
            },
            "baxis": {
             "endlinecolor": "#A2B1C6",
             "gridcolor": "#506784",
             "linecolor": "#506784",
             "minorgridcolor": "#506784",
             "startlinecolor": "#A2B1C6"
            },
            "type": "carpet"
           }
          ],
          "choropleth": [
           {
            "colorbar": {
             "outlinewidth": 0,
             "ticks": ""
            },
            "type": "choropleth"
           }
          ],
          "contour": [
           {
            "colorbar": {
             "outlinewidth": 0,
             "ticks": ""
            },
            "colorscale": [
             [
              0,
              "#0d0887"
             ],
             [
              0.1111111111111111,
              "#46039f"
             ],
             [
              0.2222222222222222,
              "#7201a8"
             ],
             [
              0.3333333333333333,
              "#9c179e"
             ],
             [
              0.4444444444444444,
              "#bd3786"
             ],
             [
              0.5555555555555556,
              "#d8576b"
             ],
             [
              0.6666666666666666,
              "#ed7953"
             ],
             [
              0.7777777777777778,
              "#fb9f3a"
             ],
             [
              0.8888888888888888,
              "#fdca26"
             ],
             [
              1,
              "#f0f921"
             ]
            ],
            "type": "contour"
           }
          ],
          "contourcarpet": [
           {
            "colorbar": {
             "outlinewidth": 0,
             "ticks": ""
            },
            "type": "contourcarpet"
           }
          ],
          "heatmap": [
           {
            "colorbar": {
             "outlinewidth": 0,
             "ticks": ""
            },
            "colorscale": [
             [
              0,
              "#0d0887"
             ],
             [
              0.1111111111111111,
              "#46039f"
             ],
             [
              0.2222222222222222,
              "#7201a8"
             ],
             [
              0.3333333333333333,
              "#9c179e"
             ],
             [
              0.4444444444444444,
              "#bd3786"
             ],
             [
              0.5555555555555556,
              "#d8576b"
             ],
             [
              0.6666666666666666,
              "#ed7953"
             ],
             [
              0.7777777777777778,
              "#fb9f3a"
             ],
             [
              0.8888888888888888,
              "#fdca26"
             ],
             [
              1,
              "#f0f921"
             ]
            ],
            "type": "heatmap"
           }
          ],
          "heatmapgl": [
           {
            "colorbar": {
             "outlinewidth": 0,
             "ticks": ""
            },
            "colorscale": [
             [
              0,
              "#0d0887"
             ],
             [
              0.1111111111111111,
              "#46039f"
             ],
             [
              0.2222222222222222,
              "#7201a8"
             ],
             [
              0.3333333333333333,
              "#9c179e"
             ],
             [
              0.4444444444444444,
              "#bd3786"
             ],
             [
              0.5555555555555556,
              "#d8576b"
             ],
             [
              0.6666666666666666,
              "#ed7953"
             ],
             [
              0.7777777777777778,
              "#fb9f3a"
             ],
             [
              0.8888888888888888,
              "#fdca26"
             ],
             [
              1,
              "#f0f921"
             ]
            ],
            "type": "heatmapgl"
           }
          ],
          "histogram": [
           {
            "marker": {
             "pattern": {
              "fillmode": "overlay",
              "size": 10,
              "solidity": 0.2
             }
            },
            "type": "histogram"
           }
          ],
          "histogram2d": [
           {
            "colorbar": {
             "outlinewidth": 0,
             "ticks": ""
            },
            "colorscale": [
             [
              0,
              "#0d0887"
             ],
             [
              0.1111111111111111,
              "#46039f"
             ],
             [
              0.2222222222222222,
              "#7201a8"
             ],
             [
              0.3333333333333333,
              "#9c179e"
             ],
             [
              0.4444444444444444,
              "#bd3786"
             ],
             [
              0.5555555555555556,
              "#d8576b"
             ],
             [
              0.6666666666666666,
              "#ed7953"
             ],
             [
              0.7777777777777778,
              "#fb9f3a"
             ],
             [
              0.8888888888888888,
              "#fdca26"
             ],
             [
              1,
              "#f0f921"
             ]
            ],
            "type": "histogram2d"
           }
          ],
          "histogram2dcontour": [
           {
            "colorbar": {
             "outlinewidth": 0,
             "ticks": ""
            },
            "colorscale": [
             [
              0,
              "#0d0887"
             ],
             [
              0.1111111111111111,
              "#46039f"
             ],
             [
              0.2222222222222222,
              "#7201a8"
             ],
             [
              0.3333333333333333,
              "#9c179e"
             ],
             [
              0.4444444444444444,
              "#bd3786"
             ],
             [
              0.5555555555555556,
              "#d8576b"
             ],
             [
              0.6666666666666666,
              "#ed7953"
             ],
             [
              0.7777777777777778,
              "#fb9f3a"
             ],
             [
              0.8888888888888888,
              "#fdca26"
             ],
             [
              1,
              "#f0f921"
             ]
            ],
            "type": "histogram2dcontour"
           }
          ],
          "mesh3d": [
           {
            "colorbar": {
             "outlinewidth": 0,
             "ticks": ""
            },
            "type": "mesh3d"
           }
          ],
          "parcoords": [
           {
            "line": {
             "colorbar": {
              "outlinewidth": 0,
              "ticks": ""
             }
            },
            "type": "parcoords"
           }
          ],
          "pie": [
           {
            "automargin": true,
            "type": "pie"
           }
          ],
          "scatter": [
           {
            "marker": {
             "line": {
              "color": "#283442"
             }
            },
            "type": "scatter"
           }
          ],
          "scatter3d": [
           {
            "line": {
             "colorbar": {
              "outlinewidth": 0,
              "ticks": ""
             }
            },
            "marker": {
             "colorbar": {
              "outlinewidth": 0,
              "ticks": ""
             }
            },
            "type": "scatter3d"
           }
          ],
          "scattercarpet": [
           {
            "marker": {
             "colorbar": {
              "outlinewidth": 0,
              "ticks": ""
             }
            },
            "type": "scattercarpet"
           }
          ],
          "scattergeo": [
           {
            "marker": {
             "colorbar": {
              "outlinewidth": 0,
              "ticks": ""
             }
            },
            "type": "scattergeo"
           }
          ],
          "scattergl": [
           {
            "marker": {
             "line": {
              "color": "#283442"
             }
            },
            "type": "scattergl"
           }
          ],
          "scattermapbox": [
           {
            "marker": {
             "colorbar": {
              "outlinewidth": 0,
              "ticks": ""
             }
            },
            "type": "scattermapbox"
           }
          ],
          "scatterpolar": [
           {
            "marker": {
             "colorbar": {
              "outlinewidth": 0,
              "ticks": ""
             }
            },
            "type": "scatterpolar"
           }
          ],
          "scatterpolargl": [
           {
            "marker": {
             "colorbar": {
              "outlinewidth": 0,
              "ticks": ""
             }
            },
            "type": "scatterpolargl"
           }
          ],
          "scatterternary": [
           {
            "marker": {
             "colorbar": {
              "outlinewidth": 0,
              "ticks": ""
             }
            },
            "type": "scatterternary"
           }
          ],
          "surface": [
           {
            "colorbar": {
             "outlinewidth": 0,
             "ticks": ""
            },
            "colorscale": [
             [
              0,
              "#0d0887"
             ],
             [
              0.1111111111111111,
              "#46039f"
             ],
             [
              0.2222222222222222,
              "#7201a8"
             ],
             [
              0.3333333333333333,
              "#9c179e"
             ],
             [
              0.4444444444444444,
              "#bd3786"
             ],
             [
              0.5555555555555556,
              "#d8576b"
             ],
             [
              0.6666666666666666,
              "#ed7953"
             ],
             [
              0.7777777777777778,
              "#fb9f3a"
             ],
             [
              0.8888888888888888,
              "#fdca26"
             ],
             [
              1,
              "#f0f921"
             ]
            ],
            "type": "surface"
           }
          ],
          "table": [
           {
            "cells": {
             "fill": {
              "color": "#506784"
             },
             "line": {
              "color": "rgb(17,17,17)"
             }
            },
            "header": {
             "fill": {
              "color": "#2a3f5f"
             },
             "line": {
              "color": "rgb(17,17,17)"
             }
            },
            "type": "table"
           }
          ]
         },
         "layout": {
          "annotationdefaults": {
           "arrowcolor": "#f2f5fa",
           "arrowhead": 0,
           "arrowwidth": 1
          },
          "autotypenumbers": "strict",
          "coloraxis": {
           "colorbar": {
            "outlinewidth": 0,
            "ticks": ""
           }
          },
          "colorscale": {
           "diverging": [
            [
             0,
             "#8e0152"
            ],
            [
             0.1,
             "#c51b7d"
            ],
            [
             0.2,
             "#de77ae"
            ],
            [
             0.3,
             "#f1b6da"
            ],
            [
             0.4,
             "#fde0ef"
            ],
            [
             0.5,
             "#f7f7f7"
            ],
            [
             0.6,
             "#e6f5d0"
            ],
            [
             0.7,
             "#b8e186"
            ],
            [
             0.8,
             "#7fbc41"
            ],
            [
             0.9,
             "#4d9221"
            ],
            [
             1,
             "#276419"
            ]
           ],
           "sequential": [
            [
             0,
             "#0d0887"
            ],
            [
             0.1111111111111111,
             "#46039f"
            ],
            [
             0.2222222222222222,
             "#7201a8"
            ],
            [
             0.3333333333333333,
             "#9c179e"
            ],
            [
             0.4444444444444444,
             "#bd3786"
            ],
            [
             0.5555555555555556,
             "#d8576b"
            ],
            [
             0.6666666666666666,
             "#ed7953"
            ],
            [
             0.7777777777777778,
             "#fb9f3a"
            ],
            [
             0.8888888888888888,
             "#fdca26"
            ],
            [
             1,
             "#f0f921"
            ]
           ],
           "sequentialminus": [
            [
             0,
             "#0d0887"
            ],
            [
             0.1111111111111111,
             "#46039f"
            ],
            [
             0.2222222222222222,
             "#7201a8"
            ],
            [
             0.3333333333333333,
             "#9c179e"
            ],
            [
             0.4444444444444444,
             "#bd3786"
            ],
            [
             0.5555555555555556,
             "#d8576b"
            ],
            [
             0.6666666666666666,
             "#ed7953"
            ],
            [
             0.7777777777777778,
             "#fb9f3a"
            ],
            [
             0.8888888888888888,
             "#fdca26"
            ],
            [
             1,
             "#f0f921"
            ]
           ]
          },
          "colorway": [
           "#636efa",
           "#EF553B",
           "#00cc96",
           "#ab63fa",
           "#FFA15A",
           "#19d3f3",
           "#FF6692",
           "#B6E880",
           "#FF97FF",
           "#FECB52"
          ],
          "font": {
           "color": "#f2f5fa"
          },
          "geo": {
           "bgcolor": "rgb(17,17,17)",
           "lakecolor": "rgb(17,17,17)",
           "landcolor": "rgb(17,17,17)",
           "showlakes": true,
           "showland": true,
           "subunitcolor": "#506784"
          },
          "hoverlabel": {
           "align": "left"
          },
          "hovermode": "closest",
          "mapbox": {
           "style": "dark"
          },
          "paper_bgcolor": "rgb(17,17,17)",
          "plot_bgcolor": "rgb(17,17,17)",
          "polar": {
           "angularaxis": {
            "gridcolor": "#506784",
            "linecolor": "#506784",
            "ticks": ""
           },
           "bgcolor": "rgb(17,17,17)",
           "radialaxis": {
            "gridcolor": "#506784",
            "linecolor": "#506784",
            "ticks": ""
           }
          },
          "scene": {
           "xaxis": {
            "backgroundcolor": "rgb(17,17,17)",
            "gridcolor": "#506784",
            "gridwidth": 2,
            "linecolor": "#506784",
            "showbackground": true,
            "ticks": "",
            "zerolinecolor": "#C8D4E3"
           },
           "yaxis": {
            "backgroundcolor": "rgb(17,17,17)",
            "gridcolor": "#506784",
            "gridwidth": 2,
            "linecolor": "#506784",
            "showbackground": true,
            "ticks": "",
            "zerolinecolor": "#C8D4E3"
           },
           "zaxis": {
            "backgroundcolor": "rgb(17,17,17)",
            "gridcolor": "#506784",
            "gridwidth": 2,
            "linecolor": "#506784",
            "showbackground": true,
            "ticks": "",
            "zerolinecolor": "#C8D4E3"
           }
          },
          "shapedefaults": {
           "line": {
            "color": "#f2f5fa"
           }
          },
          "sliderdefaults": {
           "bgcolor": "#C8D4E3",
           "bordercolor": "rgb(17,17,17)",
           "borderwidth": 1,
           "tickwidth": 0
          },
          "ternary": {
           "aaxis": {
            "gridcolor": "#506784",
            "linecolor": "#506784",
            "ticks": ""
           },
           "baxis": {
            "gridcolor": "#506784",
            "linecolor": "#506784",
            "ticks": ""
           },
           "bgcolor": "rgb(17,17,17)",
           "caxis": {
            "gridcolor": "#506784",
            "linecolor": "#506784",
            "ticks": ""
           }
          },
          "title": {
           "x": 0.05
          },
          "updatemenudefaults": {
           "bgcolor": "#506784",
           "borderwidth": 0
          },
          "xaxis": {
           "automargin": true,
           "gridcolor": "#283442",
           "linecolor": "#506784",
           "ticks": "",
           "title": {
            "standoff": 15
           },
           "zerolinecolor": "#283442",
           "zerolinewidth": 2
          },
          "yaxis": {
           "automargin": true,
           "gridcolor": "#283442",
           "linecolor": "#506784",
           "ticks": "",
           "title": {
            "standoff": 15
           },
           "zerolinecolor": "#283442",
           "zerolinewidth": 2
          }
         }
        },
        "title": {
         "font": {
          "size": 20
         },
         "text": "Top Ten Countries of CO2 Emmisions",
         "x": 0.5,
         "y": 0.9
        },
        "xaxis": {
         "showticklabels": true,
         "tickfont": {
          "size": 10
         },
         "title": {
          "text": "Countries"
         }
        },
        "yaxis": {
         "tickfont": {
          "size": 10
         },
         "title": {
          "text": "CO2 Emissions (kg)"
         },
         "type": "log"
        }
       }
      }
     },
     "metadata": {},
     "output_type": "display_data"
    }
   ],
   "source": [
    "countries = contALL\n",
    "top_countries = countries.groupby('Country').sum().sort_values(by='CO2_emission', ascending=False).head(10)\n",
    "\n",
    "fig= go.Figure()\n",
    "\n",
    "fig.add_trace(go.Bar(x= top_countries.index, y= top_countries['CO2_emission']))\n",
    "fig.update_yaxes(type='log')\n",
    "\n",
    "fig.update_layout(\n",
    "    {\n",
    "        'title': { \n",
    "        'text': f\"Top Ten Countries of CO2 Emmisions\",\n",
    "        'x' : 0.5,\n",
    "        'y': 0.9,\n",
    "        'font': {'size': 20}\n",
    "        },\n",
    "        'xaxis' : {\n",
    "        'title' : 'Countries',\n",
    "        'tickfont': {'size' : 10},\n",
    "        'showticklabels': True\n",
    "        },\n",
    "        'yaxis': {\n",
    "        'title' : 'CO2 Emissions (kg)',\n",
    "        'tickfont': {'size' : 10}\n",
    "        },\n",
    "        'template' : 'plotly_dark'\n",
    "    }\n",
    ")\n",
    "\n",
    "fig.show()"
   ]
  },
  {
   "cell_type": "code",
   "execution_count": 1681,
   "metadata": {},
   "outputs": [
    {
     "data": {
      "text/html": [
       "<div>\n",
       "<style scoped>\n",
       "    .dataframe tbody tr th:only-of-type {\n",
       "        vertical-align: middle;\n",
       "    }\n",
       "\n",
       "    .dataframe tbody tr th {\n",
       "        vertical-align: top;\n",
       "    }\n",
       "\n",
       "    .dataframe thead th {\n",
       "        text-align: right;\n",
       "    }\n",
       "</style>\n",
       "<table border=\"1\" class=\"dataframe\">\n",
       "  <thead>\n",
       "    <tr style=\"text-align: right;\">\n",
       "      <th></th>\n",
       "      <th>Country</th>\n",
       "      <th>Energy_type</th>\n",
       "      <th>Year</th>\n",
       "      <th>Energy_consumption</th>\n",
       "      <th>Energy_production</th>\n",
       "      <th>GDP</th>\n",
       "      <th>Population</th>\n",
       "      <th>Energy_intensity_per_capita</th>\n",
       "      <th>Energy_intensity_by_GDP</th>\n",
       "      <th>CO2_emission</th>\n",
       "      <th>Continent</th>\n",
       "    </tr>\n",
       "  </thead>\n",
       "  <tbody>\n",
       "    <tr>\n",
       "      <th>29112</th>\n",
       "      <td>Afghanistan</td>\n",
       "      <td>all_energy_types</td>\n",
       "      <td>2001</td>\n",
       "      <td>0.015914</td>\n",
       "      <td>0.007509</td>\n",
       "      <td>19.42010</td>\n",
       "      <td>21607.000</td>\n",
       "      <td>0.736543</td>\n",
       "      <td>0.819486</td>\n",
       "      <td>1.153149</td>\n",
       "      <td>Asia</td>\n",
       "    </tr>\n",
       "    <tr>\n",
       "      <th>29118</th>\n",
       "      <td>Albania</td>\n",
       "      <td>all_energy_types</td>\n",
       "      <td>2001</td>\n",
       "      <td>0.092923</td>\n",
       "      <td>0.051361</td>\n",
       "      <td>19.39310</td>\n",
       "      <td>3129.700</td>\n",
       "      <td>29.690815</td>\n",
       "      <td>4.791567</td>\n",
       "      <td>3.264883</td>\n",
       "      <td>Europe</td>\n",
       "    </tr>\n",
       "    <tr>\n",
       "      <th>29124</th>\n",
       "      <td>Algeria</td>\n",
       "      <td>all_energy_types</td>\n",
       "      <td>2001</td>\n",
       "      <td>1.275579</td>\n",
       "      <td>6.170157</td>\n",
       "      <td>286.09200</td>\n",
       "      <td>31451.500</td>\n",
       "      <td>40.557011</td>\n",
       "      <td>4.458632</td>\n",
       "      <td>70.059527</td>\n",
       "      <td>Africa</td>\n",
       "    </tr>\n",
       "    <tr>\n",
       "      <th>29136</th>\n",
       "      <td>Angola</td>\n",
       "      <td>all_energy_types</td>\n",
       "      <td>2001</td>\n",
       "      <td>0.120223</td>\n",
       "      <td>1.609219</td>\n",
       "      <td>73.75340</td>\n",
       "      <td>16945.800</td>\n",
       "      <td>7.094574</td>\n",
       "      <td>1.630070</td>\n",
       "      <td>5.418203</td>\n",
       "      <td>Africa</td>\n",
       "    </tr>\n",
       "    <tr>\n",
       "      <th>29148</th>\n",
       "      <td>Antigua and Barbuda</td>\n",
       "      <td>all_energy_types</td>\n",
       "      <td>2001</td>\n",
       "      <td>0.007289</td>\n",
       "      <td>0.000000</td>\n",
       "      <td>1.35164</td>\n",
       "      <td>77.098</td>\n",
       "      <td>94.545930</td>\n",
       "      <td>5.392932</td>\n",
       "      <td>0.500000</td>\n",
       "      <td>North America</td>\n",
       "    </tr>\n",
       "  </tbody>\n",
       "</table>\n",
       "</div>"
      ],
      "text/plain": [
       "                   Country       Energy_type  Year  Energy_consumption  \\\n",
       "29112          Afghanistan  all_energy_types  2001            0.015914   \n",
       "29118              Albania  all_energy_types  2001            0.092923   \n",
       "29124              Algeria  all_energy_types  2001            1.275579   \n",
       "29136               Angola  all_energy_types  2001            0.120223   \n",
       "29148  Antigua and Barbuda  all_energy_types  2001            0.007289   \n",
       "\n",
       "       Energy_production        GDP  Population  Energy_intensity_per_capita  \\\n",
       "29112           0.007509   19.42010   21607.000                     0.736543   \n",
       "29118           0.051361   19.39310    3129.700                    29.690815   \n",
       "29124           6.170157  286.09200   31451.500                    40.557011   \n",
       "29136           1.609219   73.75340   16945.800                     7.094574   \n",
       "29148           0.000000    1.35164      77.098                    94.545930   \n",
       "\n",
       "       Energy_intensity_by_GDP  CO2_emission      Continent  \n",
       "29112                 0.819486      1.153149           Asia  \n",
       "29118                 4.791567      3.264883         Europe  \n",
       "29124                 4.458632     70.059527         Africa  \n",
       "29136                 1.630070      5.418203         Africa  \n",
       "29148                 5.392932      0.500000  North America  "
      ]
     },
     "execution_count": 1681,
     "metadata": {},
     "output_type": "execute_result"
    }
   ],
   "source": [
    "countries.head()"
   ]
  },
  {
   "cell_type": "code",
   "execution_count": 1703,
   "metadata": {},
   "outputs": [
    {
     "data": {
      "image/png": "[encoded data removed]",
      "text/plain": [
       "<Figure size 864x576 with 1 Axes>"
      ]
     },
     "metadata": {},
     "output_type": "display_data"
    }
   ],
   "source": [
    "#Carbon Emissions of top countries from 1988-2019\n",
    "\n",
    "plt.figure(figsize = (12,8))\n",
    "\n",
    "sns.lineplot(countries[countries['Country'] == 'United States']['Year'], countries[countries['Country'] == 'United States']['CO2_emission'], label = 'United States')\n",
    "sns.lineplot(countries[countries['Country'] == 'China']['Year'], countries[countries['Country'] == 'China']['CO2_emission'], label = 'China')\n",
    "sns.lineplot(countries[countries['Country'] == 'Russia']['Year'], countries[countries['Country'] == 'Russia']['CO2_emission'], label = 'Russia')\n",
    "sns.lineplot(countries[countries['Country'] == 'Germany']['Year'], countries[countries['Country'] == 'Germany']['CO2_emission'], label = 'Germany')\n",
    "sns.lineplot(countries[countries['Country'] == 'United Kingdom']['Year'], countries[countries['Country'] == 'United Kingdom']['CO2_emission'], label = 'United Kingdom')\n",
    "\n",
    "plt.title('CO2 Emmisions of Top 5 Consumers from 1988-2019 ', size = 19)\n",
    "plt.ylabel('Carbon Emissions (kg)', size = 15)\n",
    "plt.xlabel('Years', size = 15);"
   ]
  },
  {
   "cell_type": "code",
   "execution_count": 1705,
   "metadata": {},
   "outputs": [
    {
     "data": {
      "image/png": "[encoded data removed]",
      "text/plain": [
       "<Figure size 864x576 with 1 Axes>"
      ]
     },
     "metadata": {},
     "output_type": "display_data"
    }
   ],
   "source": [
    "plt.figure(figsize = (12,8))\n",
    "\n",
    "sns.lineplot(countries[countries['Country'] == 'United States']['Year'], countries[countries['Country'] == 'United States']['GDP'], label = 'United States')\n",
    "sns.lineplot(countries[countries['Country'] == 'China']['Year'], countries[countries['Country'] == 'China']['GDP'], label = 'China')\n",
    "sns.lineplot(countries[countries['Country'] == 'Russia']['Year'], countries[countries['Country'] == 'Russia']['GDP'], label = 'Russia')\n",
    "sns.lineplot(countries[countries['Country'] == 'Germany']['Year'], countries[countries['Country'] == 'Germany']['GDP'], label = 'Germany')\n",
    "sns.lineplot(countries[countries['Country'] == 'United Kingdom']['Year'], countries[countries['Country'] == 'United Kingdom']['GDP'], label = 'United Kingdom')\n",
    "\n",
    "plt.title('GDP over the years of Top 5 Consumers', size = 19)\n",
    "plt.ylabel('GDP', size = 15)\n",
    "plt.xlabel('Years', size = 15);"
   ]
  },
  {
   "cell_type": "code",
   "execution_count": 1706,
   "metadata": {},
   "outputs": [
    {
     "data": {
      "image/png": "[encoded data removed]",
      "text/plain": [
       "<Figure size 864x576 with 1 Axes>"
      ]
     },
     "metadata": {},
     "output_type": "display_data"
    }
   ],
   "source": [
    "plt.figure(figsize = (12,8))\n",
    "\n",
    "sns.lineplot(countries[countries['Country'] == 'United States']['Year'], countries[countries['Country'] == 'United States']['Energy_intensity_by_GDP'], label = 'United States')\n",
    "sns.lineplot(countries[countries['Country'] == 'China']['Year'], countries[countries['Country'] == 'China']['Energy_intensity_by_GDP'], label = 'China')\n",
    "sns.lineplot(countries[countries['Country'] == 'Russia']['Year'], countries[countries['Country'] == 'Russia']['Energy_intensity_by_GDP'], label = 'Russia')\n",
    "sns.lineplot(countries[countries['Country'] == 'Germany']['Year'], countries[countries['Country'] == 'Germany']['Energy_intensity_by_GDP'], label = 'Germany')\n",
    "sns.lineplot(countries[countries['Country'] == 'United Kingdom']['Year'], countries[countries['Country'] == 'United Kingdom']['Energy_intensity_by_GDP'], label = 'United Kingdom')\n",
    "\n",
    "plt.title('Energy intensity by GDP of Top 5 Consumers', size = 19)\n",
    "plt.ylabel('GDP', size = 15)\n",
    "plt.xlabel('Years', size = 15);"
   ]
  },
  {
   "cell_type": "code",
   "execution_count": 1707,
   "metadata": {},
   "outputs": [
    {
     "data": {
      "image/png": "[encoded data removed]",
      "text/plain": [
       "<Figure size 864x576 with 1 Axes>"
      ]
     },
     "metadata": {},
     "output_type": "display_data"
    }
   ],
   "source": [
    "plt.figure(figsize = (12,8))\n",
    "\n",
    "sns.lineplot(countries[countries['Country'] == 'United States']['Year'], countries[countries['Country'] == 'United States']['Energy_intensity_per_capita'], label = 'United States')\n",
    "sns.lineplot(countries[countries['Country'] == 'China']['Year'], countries[countries['Country'] == 'China']['Energy_intensity_per_capita'], label = 'China')\n",
    "sns.lineplot(countries[countries['Country'] == 'Russia']['Year'], countries[countries['Country'] == 'Russia']['Energy_intensity_per_capita'], label = 'Russia')\n",
    "sns.lineplot(countries[countries['Country'] == 'Germany']['Year'], countries[countries['Country'] == 'Germany']['Energy_intensity_per_capita'], label = 'Germany')\n",
    "sns.lineplot(countries[countries['Country'] == 'United Kingdom']['Year'], countries[countries['Country'] == 'United Kingdom']['Energy_intensity_per_capita'], label = 'United Kingdom')\n",
    "\n",
    "plt.title('Energy intensity Per Capita of Top 5 Consumers', size = 19)\n",
    "plt.ylabel('GDP', size = 15)\n",
    "plt.xlabel('Years', size = 15);"
   ]
  },
  {
   "cell_type": "code",
   "execution_count": null,
   "metadata": {},
   "outputs": [],
   "source": []
  }
 ],
 "metadata": {
  "kernelspec": {
   "display_name": "base",
   "language": "python",
   "name": "python3"
  },
  "language_info": {
   "codemirror_mode": {
    "name": "ipython",
    "version": 3
   },
   "file_extension": ".py",
   "mimetype": "text/x-python",
   "name": "python",
   "nbconvert_exporter": "python",
   "pygments_lexer": "ipython3",
   "version": "3.8.3"
  },
  "orig_nbformat": 4,
  "vscode": {
   "interpreter": {
    "hash": "7906ef4e2a83e79236346c62748e6d68f2f046a16da314390fe379e115e57e5c"
   }
  }
 },
 "nbformat": 4,
 "nbformat_minor": 2
}
