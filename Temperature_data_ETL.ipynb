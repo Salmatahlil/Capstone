{
 "cells": [
  {
   "attachments": {},
   "cell_type": "markdown",
   "metadata": {},
   "source": [
    "# Temperature Data ETL"
   ]
  },
  {
   "cell_type": "code",
   "execution_count": 141,
   "metadata": {},
   "outputs": [],
   "source": [
    "import pandas as pd\n",
    "import numpy as np\n",
    "from datetime import datetime\n",
    "import matplotlib.pyplot as plt"
   ]
  },
  {
   "attachments": {},
   "cell_type": "markdown",
   "metadata": {},
   "source": [
    "### State Temperature Dataset"
   ]
  },
  {
   "attachments": {},
   "cell_type": "markdown",
   "metadata": {},
   "source": [
    "Begin by loading in the data, and displaying it. This data shows us monthly average temperatures for each US state (excluding Alaska and Hawaii) going back until 1950. Additionally, it also contains a column that has the monthly mean from 1901 to 2000 as well. This column is good for comparisons to how the monthly mean has changed over time. Additionally, there is also information on longitude and latitude if needed as well."
   ]
  },
  {
   "cell_type": "code",
   "execution_count": 142,
   "metadata": {},
   "outputs": [
    {
     "data": {
      "text/html": [
       "<div>\n",
       "<style scoped>\n",
       "    .dataframe tbody tr th:only-of-type {\n",
       "        vertical-align: middle;\n",
       "    }\n",
       "\n",
       "    .dataframe tbody tr th {\n",
       "        vertical-align: top;\n",
       "    }\n",
       "\n",
       "    .dataframe thead th {\n",
       "        text-align: right;\n",
       "    }\n",
       "</style>\n",
       "<table border=\"1\" class=\"dataframe\">\n",
       "  <thead>\n",
       "    <tr style=\"text-align: right;\">\n",
       "      <th></th>\n",
       "      <th>Unnamed: 0</th>\n",
       "      <th>month</th>\n",
       "      <th>year</th>\n",
       "      <th>state</th>\n",
       "      <th>average_temp</th>\n",
       "      <th>monthly_mean_from_1901_to_2000</th>\n",
       "      <th>centroid_lon</th>\n",
       "      <th>centroid_lat</th>\n",
       "    </tr>\n",
       "  </thead>\n",
       "  <tbody>\n",
       "    <tr>\n",
       "      <th>0</th>\n",
       "      <td>0</td>\n",
       "      <td>1</td>\n",
       "      <td>1950</td>\n",
       "      <td>Alabama</td>\n",
       "      <td>53.8</td>\n",
       "      <td>45.9</td>\n",
       "      <td>-86.828372</td>\n",
       "      <td>32.789832</td>\n",
       "    </tr>\n",
       "    <tr>\n",
       "      <th>1</th>\n",
       "      <td>1</td>\n",
       "      <td>1</td>\n",
       "      <td>1950</td>\n",
       "      <td>Arizona</td>\n",
       "      <td>39.6</td>\n",
       "      <td>41.1</td>\n",
       "      <td>-111.664418</td>\n",
       "      <td>34.293110</td>\n",
       "    </tr>\n",
       "    <tr>\n",
       "      <th>2</th>\n",
       "      <td>2</td>\n",
       "      <td>1</td>\n",
       "      <td>1950</td>\n",
       "      <td>Arkansas</td>\n",
       "      <td>45.6</td>\n",
       "      <td>40.4</td>\n",
       "      <td>-92.439268</td>\n",
       "      <td>34.899745</td>\n",
       "    </tr>\n",
       "    <tr>\n",
       "      <th>3</th>\n",
       "      <td>3</td>\n",
       "      <td>1</td>\n",
       "      <td>1950</td>\n",
       "      <td>California</td>\n",
       "      <td>39.4</td>\n",
       "      <td>42.7</td>\n",
       "      <td>-119.610699</td>\n",
       "      <td>37.246071</td>\n",
       "    </tr>\n",
       "    <tr>\n",
       "      <th>4</th>\n",
       "      <td>4</td>\n",
       "      <td>1</td>\n",
       "      <td>1950</td>\n",
       "      <td>Colorado</td>\n",
       "      <td>25.2</td>\n",
       "      <td>24.5</td>\n",
       "      <td>-105.547825</td>\n",
       "      <td>38.998552</td>\n",
       "    </tr>\n",
       "  </tbody>\n",
       "</table>\n",
       "</div>"
      ],
      "text/plain": [
       "   Unnamed: 0  month  year       state  average_temp  \\\n",
       "0           0      1  1950     Alabama          53.8   \n",
       "1           1      1  1950     Arizona          39.6   \n",
       "2           2      1  1950    Arkansas          45.6   \n",
       "3           3      1  1950  California          39.4   \n",
       "4           4      1  1950    Colorado          25.2   \n",
       "\n",
       "   monthly_mean_from_1901_to_2000  centroid_lon  centroid_lat  \n",
       "0                            45.9    -86.828372     32.789832  \n",
       "1                            41.1   -111.664418     34.293110  \n",
       "2                            40.4    -92.439268     34.899745  \n",
       "3                            42.7   -119.610699     37.246071  \n",
       "4                            24.5   -105.547825     38.998552  "
      ]
     },
     "execution_count": 142,
     "metadata": {},
     "output_type": "execute_result"
    }
   ],
   "source": [
    "temperatures = pd.read_csv('average_monthly_temperature_by_state_1950-2022.csv')\n",
    "temperatures.head()"
   ]
  },
  {
   "cell_type": "code",
   "execution_count": 143,
   "metadata": {},
   "outputs": [
    {
     "data": {
      "text/plain": [
       "Unnamed: 0                        0\n",
       "month                             0\n",
       "year                              0\n",
       "state                             0\n",
       "average_temp                      0\n",
       "monthly_mean_from_1901_to_2000    0\n",
       "centroid_lon                      0\n",
       "centroid_lat                      0\n",
       "dtype: int64"
      ]
     },
     "execution_count": 143,
     "metadata": {},
     "output_type": "execute_result"
    }
   ],
   "source": [
    "# check for nulls\n",
    "temperatures.isnull().sum(axis=0)"
   ]
  },
  {
   "attachments": {},
   "cell_type": "markdown",
   "metadata": {},
   "source": [
    "Since there is no missing data, the cleaning process is quite relaxed. We began by sorting the values into a logical order. To do this we sorted first by state, then by year, and then finally by month. Next, we drop the unnecessary Unnamed: 0 column and reset the index, so the new order dictates the index id. After this step we added a column called net difference that compares the months average temperature to the historical mean of that month. Our final cleaning step was to rename some columns for ease of use."
   ]
  },
  {
   "cell_type": "code",
   "execution_count": 144,
   "metadata": {},
   "outputs": [
    {
     "data": {
      "text/html": [
       "<div>\n",
       "<style scoped>\n",
       "    .dataframe tbody tr th:only-of-type {\n",
       "        vertical-align: middle;\n",
       "    }\n",
       "\n",
       "    .dataframe tbody tr th {\n",
       "        vertical-align: top;\n",
       "    }\n",
       "\n",
       "    .dataframe thead th {\n",
       "        text-align: right;\n",
       "    }\n",
       "</style>\n",
       "<table border=\"1\" class=\"dataframe\">\n",
       "  <thead>\n",
       "    <tr style=\"text-align: right;\">\n",
       "      <th></th>\n",
       "      <th>month</th>\n",
       "      <th>year</th>\n",
       "      <th>state</th>\n",
       "      <th>average_temp</th>\n",
       "      <th>average_historic</th>\n",
       "      <th>longitude</th>\n",
       "      <th>latitude</th>\n",
       "      <th>net_difference</th>\n",
       "    </tr>\n",
       "  </thead>\n",
       "  <tbody>\n",
       "    <tr>\n",
       "      <th>0</th>\n",
       "      <td>1</td>\n",
       "      <td>1950</td>\n",
       "      <td>Alabama</td>\n",
       "      <td>53.8</td>\n",
       "      <td>45.9</td>\n",
       "      <td>-86.828372</td>\n",
       "      <td>32.789832</td>\n",
       "      <td>7.9</td>\n",
       "    </tr>\n",
       "    <tr>\n",
       "      <th>1</th>\n",
       "      <td>2</td>\n",
       "      <td>1950</td>\n",
       "      <td>Alabama</td>\n",
       "      <td>56.0</td>\n",
       "      <td>46.5</td>\n",
       "      <td>-86.828372</td>\n",
       "      <td>32.789832</td>\n",
       "      <td>9.5</td>\n",
       "    </tr>\n",
       "    <tr>\n",
       "      <th>2</th>\n",
       "      <td>3</td>\n",
       "      <td>1950</td>\n",
       "      <td>Alabama</td>\n",
       "      <td>52.7</td>\n",
       "      <td>51.6</td>\n",
       "      <td>-86.828372</td>\n",
       "      <td>32.789832</td>\n",
       "      <td>1.1</td>\n",
       "    </tr>\n",
       "    <tr>\n",
       "      <th>3</th>\n",
       "      <td>4</td>\n",
       "      <td>1950</td>\n",
       "      <td>Alabama</td>\n",
       "      <td>55.7</td>\n",
       "      <td>59.0</td>\n",
       "      <td>-86.828372</td>\n",
       "      <td>32.789832</td>\n",
       "      <td>-3.3</td>\n",
       "    </tr>\n",
       "    <tr>\n",
       "      <th>4</th>\n",
       "      <td>5</td>\n",
       "      <td>1950</td>\n",
       "      <td>Alabama</td>\n",
       "      <td>66.4</td>\n",
       "      <td>66.7</td>\n",
       "      <td>-86.828372</td>\n",
       "      <td>32.789832</td>\n",
       "      <td>-0.3</td>\n",
       "    </tr>\n",
       "  </tbody>\n",
       "</table>\n",
       "</div>"
      ],
      "text/plain": [
       "   month  year    state  average_temp  average_historic  longitude   latitude  \\\n",
       "0      1  1950  Alabama          53.8              45.9 -86.828372  32.789832   \n",
       "1      2  1950  Alabama          56.0              46.5 -86.828372  32.789832   \n",
       "2      3  1950  Alabama          52.7              51.6 -86.828372  32.789832   \n",
       "3      4  1950  Alabama          55.7              59.0 -86.828372  32.789832   \n",
       "4      5  1950  Alabama          66.4              66.7 -86.828372  32.789832   \n",
       "\n",
       "   net_difference  \n",
       "0             7.9  \n",
       "1             9.5  \n",
       "2             1.1  \n",
       "3            -3.3  \n",
       "4            -0.3  "
      ]
     },
     "execution_count": 144,
     "metadata": {},
     "output_type": "execute_result"
    }
   ],
   "source": [
    "\n",
    "temperatures.sort_values(by= [\"state\", \"year\", \"month\"], inplace=True)\n",
    "temperatures = temperatures.drop(\"Unnamed: 0\", axis = 1)\n",
    "temperatures.reset_index(inplace=True, drop= True)\n",
    "\n",
    "\n",
    "temperatures[\"net_difference\"] = temperatures[\"average_temp\"] - temperatures[\"monthly_mean_from_1901_to_2000\"]\n",
    "\n",
    "\n",
    "temperatures.rename(columns={\n",
    "    \"monthly_mean_from_1901_to_2000\":         \"average_historic\",\n",
    "    \"centroid_lon\":            \"longitude\",\n",
    "    \"centroid_lat\":       \"latitude\"\n",
    "}, inplace=True)\n",
    "\n",
    "\n",
    "temperatures.head()"
   ]
  },
  {
   "attachments": {},
   "cell_type": "markdown",
   "metadata": {},
   "source": [
    "Now that the data is in a good format, we can load our cleaned dataset elsewhere to perform analysis and create visualizations."
   ]
  },
  {
   "cell_type": "code",
   "execution_count": 145,
   "metadata": {},
   "outputs": [],
   "source": [
    "temperatures.to_csv('cleaned_temperature_data_States.csv')"
   ]
  },
  {
   "attachments": {},
   "cell_type": "markdown",
   "metadata": {},
   "source": [
    "### Overall US Temperature Dataset"
   ]
  },
  {
   "attachments": {},
   "cell_type": "markdown",
   "metadata": {},
   "source": [
    "The previous dataset contained values for all of the states. However, we also may want a dataset that has all of this info aggregated for US Overall. So, we will create that dataset as well."
   ]
  },
  {
   "attachments": {},
   "cell_type": "markdown",
   "metadata": {},
   "source": [
    "We begin by storing the previous temperatures dataframe into a new variable. Then, we grouped the data by month and year. Additionally, we took all of the columns (excluding longitude and latitude) and aggreagated them using the mean method. Following this, we used drop level and reset index to get rid of the multi-index on the dataframe. Then, we sorted the values by year and then month, which meant we needed to reset the index one final time."
   ]
  },
  {
   "cell_type": "code",
   "execution_count": 146,
   "metadata": {},
   "outputs": [],
   "source": [
    "overall = temperatures\n",
    "\n",
    "\n",
    "overall = overall.groupby([\"month\", \"year\"])[[\"month\", \"year\", \"average_temp\", \"average_historic\", \"net_difference\"]].mean()\n",
    "overall = overall.droplevel(level=[\"year\"])\n",
    "overall.reset_index(drop=True, inplace=True)\n",
    "overall.sort_values([\"year\", \"month\"], inplace=True)\n",
    "overall.reset_index(drop=True, inplace=True)"
   ]
  },
  {
   "attachments": {},
   "cell_type": "markdown",
   "metadata": {},
   "source": [
    "Then we were ready to load this data into it's own data set."
   ]
  },
  {
   "cell_type": "code",
   "execution_count": 147,
   "metadata": {},
   "outputs": [],
   "source": [
    "overall.to_csv('cleaned_temperature_data_US.csv')"
   ]
  }
 ],
 "metadata": {
  "kernelspec": {
   "display_name": "base",
   "language": "python",
   "name": "python3"
  },
  "language_info": {
   "codemirror_mode": {
    "name": "ipython",
    "version": 3
   },
   "file_extension": ".py",
   "mimetype": "text/x-python",
   "name": "python",
   "nbconvert_exporter": "python",
   "pygments_lexer": "ipython3",
   "version": "3.9.13"
  },
  "orig_nbformat": 4,
  "vscode": {
   "interpreter": {
    "hash": "4c123d1500cdb8cbe2a8545c34a13a84347cdb19a3d76d8a899ec4bb94a03c15"
   }
  }
 },
 "nbformat": 4,
 "nbformat_minor": 2
}
